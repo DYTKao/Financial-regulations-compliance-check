{
 "cells": [
  {
   "cell_type": "code",
   "execution_count": null,
   "metadata": {
    "id": "5nKRg3oT16FE"
   },
   "outputs": [],
   "source": [
    "### Part I: Knowledge Graph (KG) consturction ###"
   ]
  },
  {
   "cell_type": "code",
   "execution_count": 1,
   "metadata": {
    "colab": {
     "base_uri": "https://localhost:8080/"
    },
    "executionInfo": {
     "elapsed": 7251,
     "status": "ok",
     "timestamp": 1742911053584,
     "user": {
      "displayName": "Diana Kao",
      "userId": "15819315298964528389"
     },
     "user_tz": 240
    },
    "id": "NgwS-l7FsMr1",
    "outputId": "29146922-3b74-495a-8dc4-97536ff226b2"
   },
   "outputs": [
    {
     "name": "stdout",
     "output_type": "stream",
     "text": [
      "Requirement already satisfied: gliner in /usr/local/lib/python3.11/dist-packages (0.2.17)\n",
      "Requirement already satisfied: torch>=2.0.0 in /usr/local/lib/python3.11/dist-packages (from gliner) (2.6.0+cu124)\n",
      "Requirement already satisfied: transformers>=4.38.2 in /usr/local/lib/python3.11/dist-packages (from gliner) (4.49.0)\n",
      "Requirement already satisfied: huggingface_hub>=0.21.4 in /usr/local/lib/python3.11/dist-packages (from gliner) (0.29.3)\n",
      "Requirement already satisfied: tqdm in /usr/local/lib/python3.11/dist-packages (from gliner) (4.67.1)\n",
      "Requirement already satisfied: onnxruntime in /usr/local/lib/python3.11/dist-packages (from gliner) (1.21.0)\n",
      "Requirement already satisfied: sentencepiece in /usr/local/lib/python3.11/dist-packages (from gliner) (0.2.0)\n",
      "Requirement already satisfied: filelock in /usr/local/lib/python3.11/dist-packages (from huggingface_hub>=0.21.4->gliner) (3.18.0)\n",
      "Requirement already satisfied: fsspec>=2023.5.0 in /usr/local/lib/python3.11/dist-packages (from huggingface_hub>=0.21.4->gliner) (2025.3.0)\n",
      "Requirement already satisfied: packaging>=20.9 in /usr/local/lib/python3.11/dist-packages (from huggingface_hub>=0.21.4->gliner) (24.2)\n",
      "Requirement already satisfied: pyyaml>=5.1 in /usr/local/lib/python3.11/dist-packages (from huggingface_hub>=0.21.4->gliner) (6.0.2)\n",
      "Requirement already satisfied: requests in /usr/local/lib/python3.11/dist-packages (from huggingface_hub>=0.21.4->gliner) (2.32.3)\n",
      "Requirement already satisfied: typing-extensions>=3.7.4.3 in /usr/local/lib/python3.11/dist-packages (from huggingface_hub>=0.21.4->gliner) (4.12.2)\n",
      "Requirement already satisfied: networkx in /usr/local/lib/python3.11/dist-packages (from torch>=2.0.0->gliner) (3.4.2)\n",
      "Requirement already satisfied: jinja2 in /usr/local/lib/python3.11/dist-packages (from torch>=2.0.0->gliner) (3.1.6)\n",
      "Requirement already satisfied: nvidia-cuda-nvrtc-cu12==12.4.127 in /usr/local/lib/python3.11/dist-packages (from torch>=2.0.0->gliner) (12.4.127)\n",
      "Requirement already satisfied: nvidia-cuda-runtime-cu12==12.4.127 in /usr/local/lib/python3.11/dist-packages (from torch>=2.0.0->gliner) (12.4.127)\n",
      "Requirement already satisfied: nvidia-cuda-cupti-cu12==12.4.127 in /usr/local/lib/python3.11/dist-packages (from torch>=2.0.0->gliner) (12.4.127)\n",
      "Requirement already satisfied: nvidia-cudnn-cu12==9.1.0.70 in /usr/local/lib/python3.11/dist-packages (from torch>=2.0.0->gliner) (9.1.0.70)\n",
      "Requirement already satisfied: nvidia-cublas-cu12==12.4.5.8 in /usr/local/lib/python3.11/dist-packages (from torch>=2.0.0->gliner) (12.4.5.8)\n",
      "Requirement already satisfied: nvidia-cufft-cu12==11.2.1.3 in /usr/local/lib/python3.11/dist-packages (from torch>=2.0.0->gliner) (11.2.1.3)\n",
      "Requirement already satisfied: nvidia-curand-cu12==10.3.5.147 in /usr/local/lib/python3.11/dist-packages (from torch>=2.0.0->gliner) (10.3.5.147)\n",
      "Requirement already satisfied: nvidia-cusolver-cu12==11.6.1.9 in /usr/local/lib/python3.11/dist-packages (from torch>=2.0.0->gliner) (11.6.1.9)\n",
      "Requirement already satisfied: nvidia-cusparse-cu12==12.3.1.170 in /usr/local/lib/python3.11/dist-packages (from torch>=2.0.0->gliner) (12.3.1.170)\n",
      "Requirement already satisfied: nvidia-cusparselt-cu12==0.6.2 in /usr/local/lib/python3.11/dist-packages (from torch>=2.0.0->gliner) (0.6.2)\n",
      "Requirement already satisfied: nvidia-nccl-cu12==2.21.5 in /usr/local/lib/python3.11/dist-packages (from torch>=2.0.0->gliner) (2.21.5)\n",
      "Requirement already satisfied: nvidia-nvtx-cu12==12.4.127 in /usr/local/lib/python3.11/dist-packages (from torch>=2.0.0->gliner) (12.4.127)\n",
      "Requirement already satisfied: nvidia-nvjitlink-cu12==12.4.127 in /usr/local/lib/python3.11/dist-packages (from torch>=2.0.0->gliner) (12.4.127)\n",
      "Requirement already satisfied: triton==3.2.0 in /usr/local/lib/python3.11/dist-packages (from torch>=2.0.0->gliner) (3.2.0)\n",
      "Requirement already satisfied: sympy==1.13.1 in /usr/local/lib/python3.11/dist-packages (from torch>=2.0.0->gliner) (1.13.1)\n",
      "Requirement already satisfied: mpmath<1.4,>=1.1.0 in /usr/local/lib/python3.11/dist-packages (from sympy==1.13.1->torch>=2.0.0->gliner) (1.3.0)\n",
      "Requirement already satisfied: numpy>=1.17 in /usr/local/lib/python3.11/dist-packages (from transformers>=4.38.2->gliner) (2.0.2)\n",
      "Requirement already satisfied: regex!=2019.12.17 in /usr/local/lib/python3.11/dist-packages (from transformers>=4.38.2->gliner) (2024.11.6)\n",
      "Requirement already satisfied: tokenizers<0.22,>=0.21 in /usr/local/lib/python3.11/dist-packages (from transformers>=4.38.2->gliner) (0.21.1)\n",
      "Requirement already satisfied: safetensors>=0.4.1 in /usr/local/lib/python3.11/dist-packages (from transformers>=4.38.2->gliner) (0.5.3)\n",
      "Requirement already satisfied: coloredlogs in /usr/local/lib/python3.11/dist-packages (from onnxruntime->gliner) (15.0.1)\n",
      "Requirement already satisfied: flatbuffers in /usr/local/lib/python3.11/dist-packages (from onnxruntime->gliner) (25.2.10)\n",
      "Requirement already satisfied: protobuf in /usr/local/lib/python3.11/dist-packages (from onnxruntime->gliner) (5.29.4)\n",
      "Requirement already satisfied: humanfriendly>=9.1 in /usr/local/lib/python3.11/dist-packages (from coloredlogs->onnxruntime->gliner) (10.0)\n",
      "Requirement already satisfied: MarkupSafe>=2.0 in /usr/local/lib/python3.11/dist-packages (from jinja2->torch>=2.0.0->gliner) (3.0.2)\n",
      "Requirement already satisfied: charset-normalizer<4,>=2 in /usr/local/lib/python3.11/dist-packages (from requests->huggingface_hub>=0.21.4->gliner) (3.4.1)\n",
      "Requirement already satisfied: idna<4,>=2.5 in /usr/local/lib/python3.11/dist-packages (from requests->huggingface_hub>=0.21.4->gliner) (3.10)\n",
      "Requirement already satisfied: urllib3<3,>=1.21.1 in /usr/local/lib/python3.11/dist-packages (from requests->huggingface_hub>=0.21.4->gliner) (2.3.0)\n",
      "Requirement already satisfied: certifi>=2017.4.17 in /usr/local/lib/python3.11/dist-packages (from requests->huggingface_hub>=0.21.4->gliner) (2025.1.31)\n"
     ]
    }
   ],
   "source": [
    "# Install GLiNER\n",
    "!pip install gliner"
   ]
  },
  {
   "cell_type": "code",
   "execution_count": 2,
   "metadata": {
    "colab": {
     "base_uri": "https://localhost:8080/",
     "height": 208,
     "referenced_widgets": [
      "f683ac7fb45a4c08b7014be535b9ce68",
      "571336ed807440fea550d75aea2a0731",
      "398a56e9fbb04f8180d9a02499b729b8",
      "36639dc6b41c4d76a61d08ab0818a9b1",
      "c0e77d99dc0d4ca9868662169d67f676",
      "9953aeb42e6e465b9fa8cff1074ab29d",
      "d5ba51f7141e4b4baec411851d3b7d3c",
      "5828ee7c4e644f8890eed61cefb7d333",
      "5a0eaa8cb0f541018d2f347109ea60bf",
      "1b465a75c3324cf8ae32e2df351b19eb",
      "5ea21fb2446147bca1e962a3cb4ca1c9"
     ]
    },
    "executionInfo": {
     "elapsed": 75172,
     "status": "ok",
     "timestamp": 1742911141360,
     "user": {
      "displayName": "Diana Kao",
      "userId": "15819315298964528389"
     },
     "user_tz": 240
    },
    "id": "tdQKvfbbxfxV",
    "outputId": "1b81e28f-872d-4274-e2ab-9c6c26d4f02f"
   },
   "outputs": [
    {
     "name": "stderr",
     "output_type": "stream",
     "text": [
      "/usr/local/lib/python3.11/dist-packages/huggingface_hub/utils/_auth.py:94: UserWarning: \n",
      "The secret `HF_TOKEN` does not exist in your Colab secrets.\n",
      "To authenticate with the Hugging Face Hub, create a token in your settings tab (https://huggingface.co/settings/tokens), set it as secret in your Google Colab and restart your session.\n",
      "You will be able to reuse this secret in all of your notebooks.\n",
      "Please note that authentication is recommended but still optional to access public models or datasets.\n",
      "  warnings.warn(\n"
     ]
    },
    {
     "data": {
      "application/vnd.jupyter.widget-view+json": {
       "model_id": "f683ac7fb45a4c08b7014be535b9ce68",
       "version_major": 2,
       "version_minor": 0
      },
      "text/plain": [
       "Fetching 7 files:   0%|          | 0/7 [00:00<?, ?it/s]"
      ]
     },
     "metadata": {},
     "output_type": "display_data"
    },
    {
     "name": "stderr",
     "output_type": "stream",
     "text": [
      "/usr/local/lib/python3.11/dist-packages/transformers/convert_slow_tokenizer.py:561: UserWarning: The sentencepiece tokenizer that you are converting to a fast tokenizer uses the byte fallback option which is not implemented in the fast tokenizers. In practice this means that the fast version of the tokenizer can produce unknown tokens whereas the sentencepiece version would have converted these unknown tokens into a sequence of byte tokens matching the original piece of text.\n",
      "  warnings.warn(\n"
     ]
    }
   ],
   "source": [
    "# Define entities\n",
    "from gliner import GLiNER\n",
    "\n",
    "def merge_entities(entities):\n",
    "    if not entities:\n",
    "        return []\n",
    "    merged = []\n",
    "    current = entities[0]\n",
    "    for next_entity in entities[1:]:\n",
    "        if next_entity['label'] == current['label'] and (next_entity['start'] == current['end'] + 1 or next_entity['start'] == current['end']):\n",
    "            current['text'] = text[current['start']: next_entity['end']].strip()\n",
    "            current['end'] = next_entity['end']\n",
    "        else:\n",
    "            merged.append(current)\n",
    "            current = next_entity\n",
    "    # Append the last entity\n",
    "    merged.append(current)\n",
    "    return merged\n",
    "\n",
    "# model = GLiNER.from_pretrained(\"numind/NuNerZero\")\n",
    "model = GLiNER.from_pretrained(\"numind/NuZero_token\")\n"
   ]
  },
  {
   "cell_type": "code",
   "execution_count": 3,
   "metadata": {
    "colab": {
     "base_uri": "https://localhost:8080/"
    },
    "executionInfo": {
     "elapsed": 3887,
     "status": "ok",
     "timestamp": 1742911248780,
     "user": {
      "displayName": "Diana Kao",
      "userId": "15819315298964528389"
     },
     "user_tz": 240
    },
    "id": "rAV4bTbdxjUI",
    "outputId": "8ee0a3b2-f52b-4d80-8fa7-0f7c0a85bea5"
   },
   "outputs": [
    {
     "name": "stderr",
     "output_type": "stream",
     "text": [
      "Asking to truncate to max_length but no maximum length is provided and the model has no predefined maximum length. Default to no truncation.\n"
     ]
    },
    {
     "name": "stdout",
     "output_type": "stream",
     "text": [
      "Primary => credit card\n",
      "Additional credit card => credit card\n",
      "lost => loss\n",
      "stolen => theft\n",
      "mutilated => theft\n",
      "Credit Card => credit card\n",
      "used => misuse\n",
      "lost => loss\n",
      "Add-On card => credit card\n",
      "Primary Card => credit card\n",
      "Add-on card => credit card\n",
      "primary card => credit card\n",
      "lost => loss\n",
      "Add-on card => credit card\n",
      "lost => loss\n",
      "primary Card => credit card\n",
      "Add-on => credit card\n"
     ]
    }
   ],
   "source": [
    "# Test entities\n",
    "labels = [\"credit card\",\"loss\",\"theft\",\"misuse\"]\n",
    "labels = [l.lower() for l in labels]\n",
    "\n",
    "text = \"\"\"A)\tThe Cardmember must notify the 24 Hour Call Center immediately if the Primary or any Additional credit card\n",
    "is misplaced, lost, stolen, mutilated, not received when due or if he/she suspects that the Credit Card is being used\n",
    "without Cardmember’s permission. Once a card is reported lost, it should not, under any circumstance be used if found\n",
    "by the Cardmember subsequently. As the Add-On card is an extended facility given on the Primary Card Account,\n",
    "the Add-on card is rendered invalid when the primary card is reported lost. Similarly, if the Add-on card is reported lost,\n",
    "the primary Card Account and other Add-on cards are invalidated.\n",
    "\"\"\"\n",
    "\n",
    "entities = model.predict_entities(text, labels, threshold=0.4)\n",
    "\n",
    "entities = merge_entities(entities)\n",
    "\n",
    "for entity in entities:\n",
    "    print(entity[\"text\"], \"=>\", entity[\"label\"])"
   ]
  },
  {
   "cell_type": "code",
   "execution_count": 4,
   "metadata": {
    "colab": {
     "base_uri": "https://localhost:8080/"
    },
    "executionInfo": {
     "elapsed": 9772,
     "status": "ok",
     "timestamp": 1742911271169,
     "user": {
      "displayName": "Diana Kao",
      "userId": "15819315298964528389"
     },
     "user_tz": 240
    },
    "id": "7jPMNkTVyuXk",
    "outputId": "42b54d7b-caff-4e60-bd8d-987fd21a2100"
   },
   "outputs": [
    {
     "name": "stdout",
     "output_type": "stream",
     "text": [
      "Requirement already satisfied: pypdf in /usr/local/lib/python3.11/dist-packages (5.4.0)\n",
      "Requirement already satisfied: python-dotenv in /usr/local/lib/python3.11/dist-packages (1.1.0)\n",
      "Requirement already satisfied: pyvis in /usr/local/lib/python3.11/dist-packages (0.3.2)\n",
      "Requirement already satisfied: ipython>=5.3.0 in /usr/local/lib/python3.11/dist-packages (from pyvis) (7.34.0)\n",
      "Requirement already satisfied: jinja2>=2.9.6 in /usr/local/lib/python3.11/dist-packages (from pyvis) (3.1.6)\n",
      "Requirement already satisfied: jsonpickle>=1.4.1 in /usr/local/lib/python3.11/dist-packages (from pyvis) (4.0.2)\n",
      "Requirement already satisfied: networkx>=1.11 in /usr/local/lib/python3.11/dist-packages (from pyvis) (3.4.2)\n",
      "Requirement already satisfied: setuptools>=18.5 in /usr/local/lib/python3.11/dist-packages (from ipython>=5.3.0->pyvis) (75.1.0)\n",
      "Requirement already satisfied: jedi>=0.16 in /usr/local/lib/python3.11/dist-packages (from ipython>=5.3.0->pyvis) (0.19.2)\n",
      "Requirement already satisfied: decorator in /usr/local/lib/python3.11/dist-packages (from ipython>=5.3.0->pyvis) (4.4.2)\n",
      "Requirement already satisfied: pickleshare in /usr/local/lib/python3.11/dist-packages (from ipython>=5.3.0->pyvis) (0.7.5)\n",
      "Requirement already satisfied: traitlets>=4.2 in /usr/local/lib/python3.11/dist-packages (from ipython>=5.3.0->pyvis) (5.7.1)\n",
      "Requirement already satisfied: prompt-toolkit!=3.0.0,!=3.0.1,<3.1.0,>=2.0.0 in /usr/local/lib/python3.11/dist-packages (from ipython>=5.3.0->pyvis) (3.0.50)\n",
      "Requirement already satisfied: pygments in /usr/local/lib/python3.11/dist-packages (from ipython>=5.3.0->pyvis) (2.18.0)\n",
      "Requirement already satisfied: backcall in /usr/local/lib/python3.11/dist-packages (from ipython>=5.3.0->pyvis) (0.2.0)\n",
      "Requirement already satisfied: matplotlib-inline in /usr/local/lib/python3.11/dist-packages (from ipython>=5.3.0->pyvis) (0.1.7)\n",
      "Requirement already satisfied: pexpect>4.3 in /usr/local/lib/python3.11/dist-packages (from ipython>=5.3.0->pyvis) (4.9.0)\n",
      "Requirement already satisfied: MarkupSafe>=2.0 in /usr/local/lib/python3.11/dist-packages (from jinja2>=2.9.6->pyvis) (3.0.2)\n",
      "Requirement already satisfied: parso<0.9.0,>=0.8.4 in /usr/local/lib/python3.11/dist-packages (from jedi>=0.16->ipython>=5.3.0->pyvis) (0.8.4)\n",
      "Requirement already satisfied: ptyprocess>=0.5 in /usr/local/lib/python3.11/dist-packages (from pexpect>4.3->ipython>=5.3.0->pyvis) (0.7.0)\n",
      "Requirement already satisfied: wcwidth in /usr/local/lib/python3.11/dist-packages (from prompt-toolkit!=3.0.0,!=3.0.1,<3.1.0,>=2.0.0->ipython>=5.3.0->pyvis) (0.2.13)\n"
     ]
    }
   ],
   "source": [
    "# Install libraries\n",
    "!pip install pypdf\n",
    "!pip install python-dotenv\n",
    "!pip install pyvis # pyvis creates interactive network visualizations using JavaScript's vis.js. It provides an easy-to-use interface for building and displaying complex graphs in Jupyter notebooks or web apps."
   ]
  },
  {
   "cell_type": "code",
   "execution_count": 5,
   "metadata": {
    "colab": {
     "base_uri": "https://localhost:8080/"
    },
    "executionInfo": {
     "elapsed": 28311,
     "status": "ok",
     "timestamp": 1742911310327,
     "user": {
      "displayName": "Diana Kao",
      "userId": "15819315298964528389"
     },
     "user_tz": 240
    },
    "id": "vBB0Gn55yvP2",
    "outputId": "1aab7288-673e-4c72-8992-77ce16b9e188"
   },
   "outputs": [
    {
     "name": "stdout",
     "output_type": "stream",
     "text": [
      "Requirement already satisfied: llama-index in /usr/local/lib/python3.11/dist-packages (0.12.25)\n",
      "Requirement already satisfied: llama-index-agent-openai<0.5.0,>=0.4.0 in /usr/local/lib/python3.11/dist-packages (from llama-index) (0.4.6)\n",
      "Requirement already satisfied: llama-index-cli<0.5.0,>=0.4.1 in /usr/local/lib/python3.11/dist-packages (from llama-index) (0.4.1)\n",
      "Requirement already satisfied: llama-index-core<0.13.0,>=0.12.25 in /usr/local/lib/python3.11/dist-packages (from llama-index) (0.12.25)\n",
      "Requirement already satisfied: llama-index-embeddings-openai<0.4.0,>=0.3.0 in /usr/local/lib/python3.11/dist-packages (from llama-index) (0.3.1)\n",
      "Requirement already satisfied: llama-index-indices-managed-llama-cloud>=0.4.0 in /usr/local/lib/python3.11/dist-packages (from llama-index) (0.6.9)\n",
      "Requirement already satisfied: llama-index-llms-openai<0.4.0,>=0.3.0 in /usr/local/lib/python3.11/dist-packages (from llama-index) (0.3.27)\n",
      "Requirement already satisfied: llama-index-multi-modal-llms-openai<0.5.0,>=0.4.0 in /usr/local/lib/python3.11/dist-packages (from llama-index) (0.4.3)\n",
      "Requirement already satisfied: llama-index-program-openai<0.4.0,>=0.3.0 in /usr/local/lib/python3.11/dist-packages (from llama-index) (0.3.1)\n",
      "Requirement already satisfied: llama-index-question-gen-openai<0.4.0,>=0.3.0 in /usr/local/lib/python3.11/dist-packages (from llama-index) (0.3.0)\n",
      "Requirement already satisfied: llama-index-readers-file<0.5.0,>=0.4.0 in /usr/local/lib/python3.11/dist-packages (from llama-index) (0.4.7)\n",
      "Requirement already satisfied: llama-index-readers-llama-parse>=0.4.0 in /usr/local/lib/python3.11/dist-packages (from llama-index) (0.4.0)\n",
      "Requirement already satisfied: nltk>3.8.1 in /usr/local/lib/python3.11/dist-packages (from llama-index) (3.9.1)\n",
      "Requirement already satisfied: openai>=1.14.0 in /usr/local/lib/python3.11/dist-packages (from llama-index-agent-openai<0.5.0,>=0.4.0->llama-index) (1.66.5)\n",
      "Requirement already satisfied: PyYAML>=6.0.1 in /usr/local/lib/python3.11/dist-packages (from llama-index-core<0.13.0,>=0.12.25->llama-index) (6.0.2)\n",
      "Requirement already satisfied: SQLAlchemy>=1.4.49 in /usr/local/lib/python3.11/dist-packages (from SQLAlchemy[asyncio]>=1.4.49->llama-index-core<0.13.0,>=0.12.25->llama-index) (2.0.39)\n",
      "Requirement already satisfied: aiohttp<4.0.0,>=3.8.6 in /usr/local/lib/python3.11/dist-packages (from llama-index-core<0.13.0,>=0.12.25->llama-index) (3.11.14)\n",
      "Requirement already satisfied: dataclasses-json in /usr/local/lib/python3.11/dist-packages (from llama-index-core<0.13.0,>=0.12.25->llama-index) (0.6.7)\n",
      "Requirement already satisfied: deprecated>=1.2.9.3 in /usr/local/lib/python3.11/dist-packages (from llama-index-core<0.13.0,>=0.12.25->llama-index) (1.2.18)\n",
      "Requirement already satisfied: dirtyjson<2.0.0,>=1.0.8 in /usr/local/lib/python3.11/dist-packages (from llama-index-core<0.13.0,>=0.12.25->llama-index) (1.0.8)\n",
      "Requirement already satisfied: filetype<2.0.0,>=1.2.0 in /usr/local/lib/python3.11/dist-packages (from llama-index-core<0.13.0,>=0.12.25->llama-index) (1.2.0)\n",
      "Requirement already satisfied: fsspec>=2023.5.0 in /usr/local/lib/python3.11/dist-packages (from llama-index-core<0.13.0,>=0.12.25->llama-index) (2025.3.0)\n",
      "Requirement already satisfied: httpx in /usr/local/lib/python3.11/dist-packages (from llama-index-core<0.13.0,>=0.12.25->llama-index) (0.28.1)\n",
      "Requirement already satisfied: nest-asyncio<2.0.0,>=1.5.8 in /usr/local/lib/python3.11/dist-packages (from llama-index-core<0.13.0,>=0.12.25->llama-index) (1.6.0)\n",
      "Requirement already satisfied: networkx>=3.0 in /usr/local/lib/python3.11/dist-packages (from llama-index-core<0.13.0,>=0.12.25->llama-index) (3.4.2)\n",
      "Requirement already satisfied: numpy in /usr/local/lib/python3.11/dist-packages (from llama-index-core<0.13.0,>=0.12.25->llama-index) (2.0.2)\n",
      "Requirement already satisfied: pillow>=9.0.0 in /usr/local/lib/python3.11/dist-packages (from llama-index-core<0.13.0,>=0.12.25->llama-index) (11.1.0)\n",
      "Requirement already satisfied: pydantic>=2.8.0 in /usr/local/lib/python3.11/dist-packages (from llama-index-core<0.13.0,>=0.12.25->llama-index) (2.10.6)\n",
      "Requirement already satisfied: requests>=2.31.0 in /usr/local/lib/python3.11/dist-packages (from llama-index-core<0.13.0,>=0.12.25->llama-index) (2.32.3)\n",
      "Requirement already satisfied: tenacity!=8.4.0,<10.0.0,>=8.2.0 in /usr/local/lib/python3.11/dist-packages (from llama-index-core<0.13.0,>=0.12.25->llama-index) (9.0.0)\n",
      "Requirement already satisfied: tiktoken>=0.3.3 in /usr/local/lib/python3.11/dist-packages (from llama-index-core<0.13.0,>=0.12.25->llama-index) (0.9.0)\n",
      "Requirement already satisfied: tqdm<5.0.0,>=4.66.1 in /usr/local/lib/python3.11/dist-packages (from llama-index-core<0.13.0,>=0.12.25->llama-index) (4.67.1)\n",
      "Requirement already satisfied: typing-extensions>=4.5.0 in /usr/local/lib/python3.11/dist-packages (from llama-index-core<0.13.0,>=0.12.25->llama-index) (4.12.2)\n",
      "Requirement already satisfied: typing-inspect>=0.8.0 in /usr/local/lib/python3.11/dist-packages (from llama-index-core<0.13.0,>=0.12.25->llama-index) (0.9.0)\n",
      "Requirement already satisfied: wrapt in /usr/local/lib/python3.11/dist-packages (from llama-index-core<0.13.0,>=0.12.25->llama-index) (1.17.2)\n",
      "Requirement already satisfied: llama-cloud<0.2.0,>=0.1.13 in /usr/local/lib/python3.11/dist-packages (from llama-index-indices-managed-llama-cloud>=0.4.0->llama-index) (0.1.16)\n",
      "Requirement already satisfied: beautifulsoup4<5.0.0,>=4.12.3 in /usr/local/lib/python3.11/dist-packages (from llama-index-readers-file<0.5.0,>=0.4.0->llama-index) (4.13.3)\n",
      "Requirement already satisfied: pandas in /usr/local/lib/python3.11/dist-packages (from llama-index-readers-file<0.5.0,>=0.4.0->llama-index) (2.2.2)\n",
      "Requirement already satisfied: pypdf<6.0.0,>=5.1.0 in /usr/local/lib/python3.11/dist-packages (from llama-index-readers-file<0.5.0,>=0.4.0->llama-index) (5.4.0)\n",
      "Requirement already satisfied: striprtf<0.0.27,>=0.0.26 in /usr/local/lib/python3.11/dist-packages (from llama-index-readers-file<0.5.0,>=0.4.0->llama-index) (0.0.26)\n",
      "Requirement already satisfied: llama-parse>=0.5.0 in /usr/local/lib/python3.11/dist-packages (from llama-index-readers-llama-parse>=0.4.0->llama-index) (0.6.4.post1)\n",
      "Requirement already satisfied: click in /usr/local/lib/python3.11/dist-packages (from nltk>3.8.1->llama-index) (8.1.8)\n",
      "Requirement already satisfied: joblib in /usr/local/lib/python3.11/dist-packages (from nltk>3.8.1->llama-index) (1.4.2)\n",
      "Requirement already satisfied: regex>=2021.8.3 in /usr/local/lib/python3.11/dist-packages (from nltk>3.8.1->llama-index) (2024.11.6)\n",
      "Requirement already satisfied: aiohappyeyeballs>=2.3.0 in /usr/local/lib/python3.11/dist-packages (from aiohttp<4.0.0,>=3.8.6->llama-index-core<0.13.0,>=0.12.25->llama-index) (2.6.1)\n",
      "Requirement already satisfied: aiosignal>=1.1.2 in /usr/local/lib/python3.11/dist-packages (from aiohttp<4.0.0,>=3.8.6->llama-index-core<0.13.0,>=0.12.25->llama-index) (1.3.2)\n",
      "Requirement already satisfied: attrs>=17.3.0 in /usr/local/lib/python3.11/dist-packages (from aiohttp<4.0.0,>=3.8.6->llama-index-core<0.13.0,>=0.12.25->llama-index) (25.3.0)\n",
      "Requirement already satisfied: frozenlist>=1.1.1 in /usr/local/lib/python3.11/dist-packages (from aiohttp<4.0.0,>=3.8.6->llama-index-core<0.13.0,>=0.12.25->llama-index) (1.5.0)\n",
      "Requirement already satisfied: multidict<7.0,>=4.5 in /usr/local/lib/python3.11/dist-packages (from aiohttp<4.0.0,>=3.8.6->llama-index-core<0.13.0,>=0.12.25->llama-index) (6.2.0)\n",
      "Requirement already satisfied: propcache>=0.2.0 in /usr/local/lib/python3.11/dist-packages (from aiohttp<4.0.0,>=3.8.6->llama-index-core<0.13.0,>=0.12.25->llama-index) (0.3.0)\n",
      "Requirement already satisfied: yarl<2.0,>=1.17.0 in /usr/local/lib/python3.11/dist-packages (from aiohttp<4.0.0,>=3.8.6->llama-index-core<0.13.0,>=0.12.25->llama-index) (1.18.3)\n",
      "Requirement already satisfied: soupsieve>1.2 in /usr/local/lib/python3.11/dist-packages (from beautifulsoup4<5.0.0,>=4.12.3->llama-index-readers-file<0.5.0,>=0.4.0->llama-index) (2.6)\n",
      "Requirement already satisfied: certifi>=2024.7.4 in /usr/local/lib/python3.11/dist-packages (from llama-cloud<0.2.0,>=0.1.13->llama-index-indices-managed-llama-cloud>=0.4.0->llama-index) (2025.1.31)\n",
      "Requirement already satisfied: anyio in /usr/local/lib/python3.11/dist-packages (from httpx->llama-index-core<0.13.0,>=0.12.25->llama-index) (4.9.0)\n",
      "Requirement already satisfied: httpcore==1.* in /usr/local/lib/python3.11/dist-packages (from httpx->llama-index-core<0.13.0,>=0.12.25->llama-index) (1.0.7)\n",
      "Requirement already satisfied: idna in /usr/local/lib/python3.11/dist-packages (from httpx->llama-index-core<0.13.0,>=0.12.25->llama-index) (3.10)\n",
      "Requirement already satisfied: h11<0.15,>=0.13 in /usr/local/lib/python3.11/dist-packages (from httpcore==1.*->httpx->llama-index-core<0.13.0,>=0.12.25->llama-index) (0.14.0)\n",
      "Requirement already satisfied: llama-cloud-services>=0.6.4 in /usr/local/lib/python3.11/dist-packages (from llama-parse>=0.5.0->llama-index-readers-llama-parse>=0.4.0->llama-index) (0.6.8)\n",
      "Requirement already satisfied: distro<2,>=1.7.0 in /usr/local/lib/python3.11/dist-packages (from openai>=1.14.0->llama-index-agent-openai<0.5.0,>=0.4.0->llama-index) (1.9.0)\n",
      "Requirement already satisfied: jiter<1,>=0.4.0 in /usr/local/lib/python3.11/dist-packages (from openai>=1.14.0->llama-index-agent-openai<0.5.0,>=0.4.0->llama-index) (0.9.0)\n",
      "Requirement already satisfied: sniffio in /usr/local/lib/python3.11/dist-packages (from openai>=1.14.0->llama-index-agent-openai<0.5.0,>=0.4.0->llama-index) (1.3.1)\n",
      "Requirement already satisfied: annotated-types>=0.6.0 in /usr/local/lib/python3.11/dist-packages (from pydantic>=2.8.0->llama-index-core<0.13.0,>=0.12.25->llama-index) (0.7.0)\n",
      "Requirement already satisfied: pydantic-core==2.27.2 in /usr/local/lib/python3.11/dist-packages (from pydantic>=2.8.0->llama-index-core<0.13.0,>=0.12.25->llama-index) (2.27.2)\n",
      "Requirement already satisfied: charset-normalizer<4,>=2 in /usr/local/lib/python3.11/dist-packages (from requests>=2.31.0->llama-index-core<0.13.0,>=0.12.25->llama-index) (3.4.1)\n",
      "Requirement already satisfied: urllib3<3,>=1.21.1 in /usr/local/lib/python3.11/dist-packages (from requests>=2.31.0->llama-index-core<0.13.0,>=0.12.25->llama-index) (2.3.0)\n",
      "Requirement already satisfied: greenlet!=0.4.17 in /usr/local/lib/python3.11/dist-packages (from SQLAlchemy>=1.4.49->SQLAlchemy[asyncio]>=1.4.49->llama-index-core<0.13.0,>=0.12.25->llama-index) (3.1.1)\n",
      "Requirement already satisfied: mypy-extensions>=0.3.0 in /usr/local/lib/python3.11/dist-packages (from typing-inspect>=0.8.0->llama-index-core<0.13.0,>=0.12.25->llama-index) (1.0.0)\n",
      "Requirement already satisfied: marshmallow<4.0.0,>=3.18.0 in /usr/local/lib/python3.11/dist-packages (from dataclasses-json->llama-index-core<0.13.0,>=0.12.25->llama-index) (3.26.1)\n",
      "Requirement already satisfied: python-dateutil>=2.8.2 in /usr/local/lib/python3.11/dist-packages (from pandas->llama-index-readers-file<0.5.0,>=0.4.0->llama-index) (2.8.2)\n",
      "Requirement already satisfied: pytz>=2020.1 in /usr/local/lib/python3.11/dist-packages (from pandas->llama-index-readers-file<0.5.0,>=0.4.0->llama-index) (2025.1)\n",
      "Requirement already satisfied: tzdata>=2022.7 in /usr/local/lib/python3.11/dist-packages (from pandas->llama-index-readers-file<0.5.0,>=0.4.0->llama-index) (2025.1)\n",
      "Requirement already satisfied: python-dotenv<2.0.0,>=1.0.1 in /usr/local/lib/python3.11/dist-packages (from llama-cloud-services>=0.6.4->llama-parse>=0.5.0->llama-index-readers-llama-parse>=0.4.0->llama-index) (1.1.0)\n",
      "Requirement already satisfied: packaging>=17.0 in /usr/local/lib/python3.11/dist-packages (from marshmallow<4.0.0,>=3.18.0->dataclasses-json->llama-index-core<0.13.0,>=0.12.25->llama-index) (24.2)\n",
      "Requirement already satisfied: six>=1.5 in /usr/local/lib/python3.11/dist-packages (from python-dateutil>=2.8.2->pandas->llama-index-readers-file<0.5.0,>=0.4.0->llama-index) (1.17.0)\n",
      "Requirement already satisfied: llama-index-llms-huggingface in /usr/local/lib/python3.11/dist-packages (0.4.2)\n",
      "Requirement already satisfied: huggingface-hub>=0.23.0 in /usr/local/lib/python3.11/dist-packages (from llama-index-llms-huggingface) (0.29.3)\n",
      "Requirement already satisfied: llama-index-core<0.13.0,>=0.12.0 in /usr/local/lib/python3.11/dist-packages (from llama-index-llms-huggingface) (0.12.25)\n",
      "Requirement already satisfied: text-generation<0.8.0,>=0.7.0 in /usr/local/lib/python3.11/dist-packages (from llama-index-llms-huggingface) (0.7.0)\n",
      "Requirement already satisfied: torch<3.0.0,>=2.1.2 in /usr/local/lib/python3.11/dist-packages (from llama-index-llms-huggingface) (2.6.0+cu124)\n",
      "Requirement already satisfied: transformers<5.0.0,>=4.37.0 in /usr/local/lib/python3.11/dist-packages (from transformers[torch]<5.0.0,>=4.37.0->llama-index-llms-huggingface) (4.49.0)\n",
      "Requirement already satisfied: filelock in /usr/local/lib/python3.11/dist-packages (from huggingface-hub>=0.23.0->llama-index-llms-huggingface) (3.18.0)\n",
      "Requirement already satisfied: fsspec>=2023.5.0 in /usr/local/lib/python3.11/dist-packages (from huggingface-hub>=0.23.0->llama-index-llms-huggingface) (2025.3.0)\n",
      "Requirement already satisfied: packaging>=20.9 in /usr/local/lib/python3.11/dist-packages (from huggingface-hub>=0.23.0->llama-index-llms-huggingface) (24.2)\n",
      "Requirement already satisfied: pyyaml>=5.1 in /usr/local/lib/python3.11/dist-packages (from huggingface-hub>=0.23.0->llama-index-llms-huggingface) (6.0.2)\n",
      "Requirement already satisfied: requests in /usr/local/lib/python3.11/dist-packages (from huggingface-hub>=0.23.0->llama-index-llms-huggingface) (2.32.3)\n",
      "Requirement already satisfied: tqdm>=4.42.1 in /usr/local/lib/python3.11/dist-packages (from huggingface-hub>=0.23.0->llama-index-llms-huggingface) (4.67.1)\n",
      "Requirement already satisfied: typing-extensions>=3.7.4.3 in /usr/local/lib/python3.11/dist-packages (from huggingface-hub>=0.23.0->llama-index-llms-huggingface) (4.12.2)\n",
      "Requirement already satisfied: SQLAlchemy>=1.4.49 in /usr/local/lib/python3.11/dist-packages (from SQLAlchemy[asyncio]>=1.4.49->llama-index-core<0.13.0,>=0.12.0->llama-index-llms-huggingface) (2.0.39)\n",
      "Requirement already satisfied: aiohttp<4.0.0,>=3.8.6 in /usr/local/lib/python3.11/dist-packages (from llama-index-core<0.13.0,>=0.12.0->llama-index-llms-huggingface) (3.11.14)\n",
      "Requirement already satisfied: dataclasses-json in /usr/local/lib/python3.11/dist-packages (from llama-index-core<0.13.0,>=0.12.0->llama-index-llms-huggingface) (0.6.7)\n",
      "Requirement already satisfied: deprecated>=1.2.9.3 in /usr/local/lib/python3.11/dist-packages (from llama-index-core<0.13.0,>=0.12.0->llama-index-llms-huggingface) (1.2.18)\n",
      "Requirement already satisfied: dirtyjson<2.0.0,>=1.0.8 in /usr/local/lib/python3.11/dist-packages (from llama-index-core<0.13.0,>=0.12.0->llama-index-llms-huggingface) (1.0.8)\n",
      "Requirement already satisfied: filetype<2.0.0,>=1.2.0 in /usr/local/lib/python3.11/dist-packages (from llama-index-core<0.13.0,>=0.12.0->llama-index-llms-huggingface) (1.2.0)\n",
      "Requirement already satisfied: httpx in /usr/local/lib/python3.11/dist-packages (from llama-index-core<0.13.0,>=0.12.0->llama-index-llms-huggingface) (0.28.1)\n",
      "Requirement already satisfied: nest-asyncio<2.0.0,>=1.5.8 in /usr/local/lib/python3.11/dist-packages (from llama-index-core<0.13.0,>=0.12.0->llama-index-llms-huggingface) (1.6.0)\n",
      "Requirement already satisfied: networkx>=3.0 in /usr/local/lib/python3.11/dist-packages (from llama-index-core<0.13.0,>=0.12.0->llama-index-llms-huggingface) (3.4.2)\n",
      "Requirement already satisfied: nltk>3.8.1 in /usr/local/lib/python3.11/dist-packages (from llama-index-core<0.13.0,>=0.12.0->llama-index-llms-huggingface) (3.9.1)\n",
      "Requirement already satisfied: numpy in /usr/local/lib/python3.11/dist-packages (from llama-index-core<0.13.0,>=0.12.0->llama-index-llms-huggingface) (2.0.2)\n",
      "Requirement already satisfied: pillow>=9.0.0 in /usr/local/lib/python3.11/dist-packages (from llama-index-core<0.13.0,>=0.12.0->llama-index-llms-huggingface) (11.1.0)\n",
      "Requirement already satisfied: pydantic>=2.8.0 in /usr/local/lib/python3.11/dist-packages (from llama-index-core<0.13.0,>=0.12.0->llama-index-llms-huggingface) (2.10.6)\n",
      "Requirement already satisfied: tenacity!=8.4.0,<10.0.0,>=8.2.0 in /usr/local/lib/python3.11/dist-packages (from llama-index-core<0.13.0,>=0.12.0->llama-index-llms-huggingface) (9.0.0)\n",
      "Requirement already satisfied: tiktoken>=0.3.3 in /usr/local/lib/python3.11/dist-packages (from llama-index-core<0.13.0,>=0.12.0->llama-index-llms-huggingface) (0.9.0)\n",
      "Requirement already satisfied: typing-inspect>=0.8.0 in /usr/local/lib/python3.11/dist-packages (from llama-index-core<0.13.0,>=0.12.0->llama-index-llms-huggingface) (0.9.0)\n",
      "Requirement already satisfied: wrapt in /usr/local/lib/python3.11/dist-packages (from llama-index-core<0.13.0,>=0.12.0->llama-index-llms-huggingface) (1.17.2)\n",
      "Requirement already satisfied: jinja2 in /usr/local/lib/python3.11/dist-packages (from torch<3.0.0,>=2.1.2->llama-index-llms-huggingface) (3.1.6)\n",
      "Requirement already satisfied: nvidia-cuda-nvrtc-cu12==12.4.127 in /usr/local/lib/python3.11/dist-packages (from torch<3.0.0,>=2.1.2->llama-index-llms-huggingface) (12.4.127)\n",
      "Requirement already satisfied: nvidia-cuda-runtime-cu12==12.4.127 in /usr/local/lib/python3.11/dist-packages (from torch<3.0.0,>=2.1.2->llama-index-llms-huggingface) (12.4.127)\n",
      "Requirement already satisfied: nvidia-cuda-cupti-cu12==12.4.127 in /usr/local/lib/python3.11/dist-packages (from torch<3.0.0,>=2.1.2->llama-index-llms-huggingface) (12.4.127)\n",
      "Requirement already satisfied: nvidia-cudnn-cu12==9.1.0.70 in /usr/local/lib/python3.11/dist-packages (from torch<3.0.0,>=2.1.2->llama-index-llms-huggingface) (9.1.0.70)\n",
      "Requirement already satisfied: nvidia-cublas-cu12==12.4.5.8 in /usr/local/lib/python3.11/dist-packages (from torch<3.0.0,>=2.1.2->llama-index-llms-huggingface) (12.4.5.8)\n",
      "Requirement already satisfied: nvidia-cufft-cu12==11.2.1.3 in /usr/local/lib/python3.11/dist-packages (from torch<3.0.0,>=2.1.2->llama-index-llms-huggingface) (11.2.1.3)\n",
      "Requirement already satisfied: nvidia-curand-cu12==10.3.5.147 in /usr/local/lib/python3.11/dist-packages (from torch<3.0.0,>=2.1.2->llama-index-llms-huggingface) (10.3.5.147)\n",
      "Requirement already satisfied: nvidia-cusolver-cu12==11.6.1.9 in /usr/local/lib/python3.11/dist-packages (from torch<3.0.0,>=2.1.2->llama-index-llms-huggingface) (11.6.1.9)\n",
      "Requirement already satisfied: nvidia-cusparse-cu12==12.3.1.170 in /usr/local/lib/python3.11/dist-packages (from torch<3.0.0,>=2.1.2->llama-index-llms-huggingface) (12.3.1.170)\n",
      "Requirement already satisfied: nvidia-cusparselt-cu12==0.6.2 in /usr/local/lib/python3.11/dist-packages (from torch<3.0.0,>=2.1.2->llama-index-llms-huggingface) (0.6.2)\n",
      "Requirement already satisfied: nvidia-nccl-cu12==2.21.5 in /usr/local/lib/python3.11/dist-packages (from torch<3.0.0,>=2.1.2->llama-index-llms-huggingface) (2.21.5)\n",
      "Requirement already satisfied: nvidia-nvtx-cu12==12.4.127 in /usr/local/lib/python3.11/dist-packages (from torch<3.0.0,>=2.1.2->llama-index-llms-huggingface) (12.4.127)\n",
      "Requirement already satisfied: nvidia-nvjitlink-cu12==12.4.127 in /usr/local/lib/python3.11/dist-packages (from torch<3.0.0,>=2.1.2->llama-index-llms-huggingface) (12.4.127)\n",
      "Requirement already satisfied: triton==3.2.0 in /usr/local/lib/python3.11/dist-packages (from torch<3.0.0,>=2.1.2->llama-index-llms-huggingface) (3.2.0)\n",
      "Requirement already satisfied: sympy==1.13.1 in /usr/local/lib/python3.11/dist-packages (from torch<3.0.0,>=2.1.2->llama-index-llms-huggingface) (1.13.1)\n",
      "Requirement already satisfied: mpmath<1.4,>=1.1.0 in /usr/local/lib/python3.11/dist-packages (from sympy==1.13.1->torch<3.0.0,>=2.1.2->llama-index-llms-huggingface) (1.3.0)\n",
      "Requirement already satisfied: regex!=2019.12.17 in /usr/local/lib/python3.11/dist-packages (from transformers<5.0.0,>=4.37.0->transformers[torch]<5.0.0,>=4.37.0->llama-index-llms-huggingface) (2024.11.6)\n",
      "Requirement already satisfied: tokenizers<0.22,>=0.21 in /usr/local/lib/python3.11/dist-packages (from transformers<5.0.0,>=4.37.0->transformers[torch]<5.0.0,>=4.37.0->llama-index-llms-huggingface) (0.21.1)\n",
      "Requirement already satisfied: safetensors>=0.4.1 in /usr/local/lib/python3.11/dist-packages (from transformers<5.0.0,>=4.37.0->transformers[torch]<5.0.0,>=4.37.0->llama-index-llms-huggingface) (0.5.3)\n",
      "Requirement already satisfied: accelerate>=0.26.0 in /usr/local/lib/python3.11/dist-packages (from transformers[torch]<5.0.0,>=4.37.0->llama-index-llms-huggingface) (1.5.2)\n",
      "Requirement already satisfied: psutil in /usr/local/lib/python3.11/dist-packages (from accelerate>=0.26.0->transformers[torch]<5.0.0,>=4.37.0->llama-index-llms-huggingface) (5.9.5)\n",
      "Requirement already satisfied: aiohappyeyeballs>=2.3.0 in /usr/local/lib/python3.11/dist-packages (from aiohttp<4.0.0,>=3.8.6->llama-index-core<0.13.0,>=0.12.0->llama-index-llms-huggingface) (2.6.1)\n",
      "Requirement already satisfied: aiosignal>=1.1.2 in /usr/local/lib/python3.11/dist-packages (from aiohttp<4.0.0,>=3.8.6->llama-index-core<0.13.0,>=0.12.0->llama-index-llms-huggingface) (1.3.2)\n",
      "Requirement already satisfied: attrs>=17.3.0 in /usr/local/lib/python3.11/dist-packages (from aiohttp<4.0.0,>=3.8.6->llama-index-core<0.13.0,>=0.12.0->llama-index-llms-huggingface) (25.3.0)\n",
      "Requirement already satisfied: frozenlist>=1.1.1 in /usr/local/lib/python3.11/dist-packages (from aiohttp<4.0.0,>=3.8.6->llama-index-core<0.13.0,>=0.12.0->llama-index-llms-huggingface) (1.5.0)\n",
      "Requirement already satisfied: multidict<7.0,>=4.5 in /usr/local/lib/python3.11/dist-packages (from aiohttp<4.0.0,>=3.8.6->llama-index-core<0.13.0,>=0.12.0->llama-index-llms-huggingface) (6.2.0)\n",
      "Requirement already satisfied: propcache>=0.2.0 in /usr/local/lib/python3.11/dist-packages (from aiohttp<4.0.0,>=3.8.6->llama-index-core<0.13.0,>=0.12.0->llama-index-llms-huggingface) (0.3.0)\n",
      "Requirement already satisfied: yarl<2.0,>=1.17.0 in /usr/local/lib/python3.11/dist-packages (from aiohttp<4.0.0,>=3.8.6->llama-index-core<0.13.0,>=0.12.0->llama-index-llms-huggingface) (1.18.3)\n",
      "Requirement already satisfied: click in /usr/local/lib/python3.11/dist-packages (from nltk>3.8.1->llama-index-core<0.13.0,>=0.12.0->llama-index-llms-huggingface) (8.1.8)\n",
      "Requirement already satisfied: joblib in /usr/local/lib/python3.11/dist-packages (from nltk>3.8.1->llama-index-core<0.13.0,>=0.12.0->llama-index-llms-huggingface) (1.4.2)\n",
      "Requirement already satisfied: annotated-types>=0.6.0 in /usr/local/lib/python3.11/dist-packages (from pydantic>=2.8.0->llama-index-core<0.13.0,>=0.12.0->llama-index-llms-huggingface) (0.7.0)\n",
      "Requirement already satisfied: pydantic-core==2.27.2 in /usr/local/lib/python3.11/dist-packages (from pydantic>=2.8.0->llama-index-core<0.13.0,>=0.12.0->llama-index-llms-huggingface) (2.27.2)\n",
      "Requirement already satisfied: charset-normalizer<4,>=2 in /usr/local/lib/python3.11/dist-packages (from requests->huggingface-hub>=0.23.0->llama-index-llms-huggingface) (3.4.1)\n",
      "Requirement already satisfied: idna<4,>=2.5 in /usr/local/lib/python3.11/dist-packages (from requests->huggingface-hub>=0.23.0->llama-index-llms-huggingface) (3.10)\n",
      "Requirement already satisfied: urllib3<3,>=1.21.1 in /usr/local/lib/python3.11/dist-packages (from requests->huggingface-hub>=0.23.0->llama-index-llms-huggingface) (2.3.0)\n",
      "Requirement already satisfied: certifi>=2017.4.17 in /usr/local/lib/python3.11/dist-packages (from requests->huggingface-hub>=0.23.0->llama-index-llms-huggingface) (2025.1.31)\n",
      "Requirement already satisfied: greenlet!=0.4.17 in /usr/local/lib/python3.11/dist-packages (from SQLAlchemy>=1.4.49->SQLAlchemy[asyncio]>=1.4.49->llama-index-core<0.13.0,>=0.12.0->llama-index-llms-huggingface) (3.1.1)\n",
      "Requirement already satisfied: mypy-extensions>=0.3.0 in /usr/local/lib/python3.11/dist-packages (from typing-inspect>=0.8.0->llama-index-core<0.13.0,>=0.12.0->llama-index-llms-huggingface) (1.0.0)\n",
      "Requirement already satisfied: marshmallow<4.0.0,>=3.18.0 in /usr/local/lib/python3.11/dist-packages (from dataclasses-json->llama-index-core<0.13.0,>=0.12.0->llama-index-llms-huggingface) (3.26.1)\n",
      "Requirement already satisfied: anyio in /usr/local/lib/python3.11/dist-packages (from httpx->llama-index-core<0.13.0,>=0.12.0->llama-index-llms-huggingface) (4.9.0)\n",
      "Requirement already satisfied: httpcore==1.* in /usr/local/lib/python3.11/dist-packages (from httpx->llama-index-core<0.13.0,>=0.12.0->llama-index-llms-huggingface) (1.0.7)\n",
      "Requirement already satisfied: h11<0.15,>=0.13 in /usr/local/lib/python3.11/dist-packages (from httpcore==1.*->httpx->llama-index-core<0.13.0,>=0.12.0->llama-index-llms-huggingface) (0.14.0)\n",
      "Requirement already satisfied: MarkupSafe>=2.0 in /usr/local/lib/python3.11/dist-packages (from jinja2->torch<3.0.0,>=2.1.2->llama-index-llms-huggingface) (3.0.2)\n",
      "Requirement already satisfied: sniffio>=1.1 in /usr/local/lib/python3.11/dist-packages (from anyio->httpx->llama-index-core<0.13.0,>=0.12.0->llama-index-llms-huggingface) (1.3.1)\n",
      "Requirement already satisfied: llama-index-embeddings-langchain in /usr/local/lib/python3.11/dist-packages (0.3.0)\n",
      "Requirement already satisfied: llama-index-core<0.13.0,>=0.12.0 in /usr/local/lib/python3.11/dist-packages (from llama-index-embeddings-langchain) (0.12.25)\n",
      "Requirement already satisfied: PyYAML>=6.0.1 in /usr/local/lib/python3.11/dist-packages (from llama-index-core<0.13.0,>=0.12.0->llama-index-embeddings-langchain) (6.0.2)\n",
      "Requirement already satisfied: SQLAlchemy>=1.4.49 in /usr/local/lib/python3.11/dist-packages (from SQLAlchemy[asyncio]>=1.4.49->llama-index-core<0.13.0,>=0.12.0->llama-index-embeddings-langchain) (2.0.39)\n",
      "Requirement already satisfied: aiohttp<4.0.0,>=3.8.6 in /usr/local/lib/python3.11/dist-packages (from llama-index-core<0.13.0,>=0.12.0->llama-index-embeddings-langchain) (3.11.14)\n",
      "Requirement already satisfied: dataclasses-json in /usr/local/lib/python3.11/dist-packages (from llama-index-core<0.13.0,>=0.12.0->llama-index-embeddings-langchain) (0.6.7)\n",
      "Requirement already satisfied: deprecated>=1.2.9.3 in /usr/local/lib/python3.11/dist-packages (from llama-index-core<0.13.0,>=0.12.0->llama-index-embeddings-langchain) (1.2.18)\n",
      "Requirement already satisfied: dirtyjson<2.0.0,>=1.0.8 in /usr/local/lib/python3.11/dist-packages (from llama-index-core<0.13.0,>=0.12.0->llama-index-embeddings-langchain) (1.0.8)\n",
      "Requirement already satisfied: filetype<2.0.0,>=1.2.0 in /usr/local/lib/python3.11/dist-packages (from llama-index-core<0.13.0,>=0.12.0->llama-index-embeddings-langchain) (1.2.0)\n",
      "Requirement already satisfied: fsspec>=2023.5.0 in /usr/local/lib/python3.11/dist-packages (from llama-index-core<0.13.0,>=0.12.0->llama-index-embeddings-langchain) (2025.3.0)\n",
      "Requirement already satisfied: httpx in /usr/local/lib/python3.11/dist-packages (from llama-index-core<0.13.0,>=0.12.0->llama-index-embeddings-langchain) (0.28.1)\n",
      "Requirement already satisfied: nest-asyncio<2.0.0,>=1.5.8 in /usr/local/lib/python3.11/dist-packages (from llama-index-core<0.13.0,>=0.12.0->llama-index-embeddings-langchain) (1.6.0)\n",
      "Requirement already satisfied: networkx>=3.0 in /usr/local/lib/python3.11/dist-packages (from llama-index-core<0.13.0,>=0.12.0->llama-index-embeddings-langchain) (3.4.2)\n",
      "Requirement already satisfied: nltk>3.8.1 in /usr/local/lib/python3.11/dist-packages (from llama-index-core<0.13.0,>=0.12.0->llama-index-embeddings-langchain) (3.9.1)\n",
      "Requirement already satisfied: numpy in /usr/local/lib/python3.11/dist-packages (from llama-index-core<0.13.0,>=0.12.0->llama-index-embeddings-langchain) (2.0.2)\n",
      "Requirement already satisfied: pillow>=9.0.0 in /usr/local/lib/python3.11/dist-packages (from llama-index-core<0.13.0,>=0.12.0->llama-index-embeddings-langchain) (11.1.0)\n",
      "Requirement already satisfied: pydantic>=2.8.0 in /usr/local/lib/python3.11/dist-packages (from llama-index-core<0.13.0,>=0.12.0->llama-index-embeddings-langchain) (2.10.6)\n",
      "Requirement already satisfied: requests>=2.31.0 in /usr/local/lib/python3.11/dist-packages (from llama-index-core<0.13.0,>=0.12.0->llama-index-embeddings-langchain) (2.32.3)\n",
      "Requirement already satisfied: tenacity!=8.4.0,<10.0.0,>=8.2.0 in /usr/local/lib/python3.11/dist-packages (from llama-index-core<0.13.0,>=0.12.0->llama-index-embeddings-langchain) (9.0.0)\n",
      "Requirement already satisfied: tiktoken>=0.3.3 in /usr/local/lib/python3.11/dist-packages (from llama-index-core<0.13.0,>=0.12.0->llama-index-embeddings-langchain) (0.9.0)\n",
      "Requirement already satisfied: tqdm<5.0.0,>=4.66.1 in /usr/local/lib/python3.11/dist-packages (from llama-index-core<0.13.0,>=0.12.0->llama-index-embeddings-langchain) (4.67.1)\n",
      "Requirement already satisfied: typing-extensions>=4.5.0 in /usr/local/lib/python3.11/dist-packages (from llama-index-core<0.13.0,>=0.12.0->llama-index-embeddings-langchain) (4.12.2)\n",
      "Requirement already satisfied: typing-inspect>=0.8.0 in /usr/local/lib/python3.11/dist-packages (from llama-index-core<0.13.0,>=0.12.0->llama-index-embeddings-langchain) (0.9.0)\n",
      "Requirement already satisfied: wrapt in /usr/local/lib/python3.11/dist-packages (from llama-index-core<0.13.0,>=0.12.0->llama-index-embeddings-langchain) (1.17.2)\n",
      "Requirement already satisfied: aiohappyeyeballs>=2.3.0 in /usr/local/lib/python3.11/dist-packages (from aiohttp<4.0.0,>=3.8.6->llama-index-core<0.13.0,>=0.12.0->llama-index-embeddings-langchain) (2.6.1)\n",
      "Requirement already satisfied: aiosignal>=1.1.2 in /usr/local/lib/python3.11/dist-packages (from aiohttp<4.0.0,>=3.8.6->llama-index-core<0.13.0,>=0.12.0->llama-index-embeddings-langchain) (1.3.2)\n",
      "Requirement already satisfied: attrs>=17.3.0 in /usr/local/lib/python3.11/dist-packages (from aiohttp<4.0.0,>=3.8.6->llama-index-core<0.13.0,>=0.12.0->llama-index-embeddings-langchain) (25.3.0)\n",
      "Requirement already satisfied: frozenlist>=1.1.1 in /usr/local/lib/python3.11/dist-packages (from aiohttp<4.0.0,>=3.8.6->llama-index-core<0.13.0,>=0.12.0->llama-index-embeddings-langchain) (1.5.0)\n",
      "Requirement already satisfied: multidict<7.0,>=4.5 in /usr/local/lib/python3.11/dist-packages (from aiohttp<4.0.0,>=3.8.6->llama-index-core<0.13.0,>=0.12.0->llama-index-embeddings-langchain) (6.2.0)\n",
      "Requirement already satisfied: propcache>=0.2.0 in /usr/local/lib/python3.11/dist-packages (from aiohttp<4.0.0,>=3.8.6->llama-index-core<0.13.0,>=0.12.0->llama-index-embeddings-langchain) (0.3.0)\n",
      "Requirement already satisfied: yarl<2.0,>=1.17.0 in /usr/local/lib/python3.11/dist-packages (from aiohttp<4.0.0,>=3.8.6->llama-index-core<0.13.0,>=0.12.0->llama-index-embeddings-langchain) (1.18.3)\n",
      "Requirement already satisfied: click in /usr/local/lib/python3.11/dist-packages (from nltk>3.8.1->llama-index-core<0.13.0,>=0.12.0->llama-index-embeddings-langchain) (8.1.8)\n",
      "Requirement already satisfied: joblib in /usr/local/lib/python3.11/dist-packages (from nltk>3.8.1->llama-index-core<0.13.0,>=0.12.0->llama-index-embeddings-langchain) (1.4.2)\n",
      "Requirement already satisfied: regex>=2021.8.3 in /usr/local/lib/python3.11/dist-packages (from nltk>3.8.1->llama-index-core<0.13.0,>=0.12.0->llama-index-embeddings-langchain) (2024.11.6)\n",
      "Requirement already satisfied: annotated-types>=0.6.0 in /usr/local/lib/python3.11/dist-packages (from pydantic>=2.8.0->llama-index-core<0.13.0,>=0.12.0->llama-index-embeddings-langchain) (0.7.0)\n",
      "Requirement already satisfied: pydantic-core==2.27.2 in /usr/local/lib/python3.11/dist-packages (from pydantic>=2.8.0->llama-index-core<0.13.0,>=0.12.0->llama-index-embeddings-langchain) (2.27.2)\n",
      "Requirement already satisfied: charset-normalizer<4,>=2 in /usr/local/lib/python3.11/dist-packages (from requests>=2.31.0->llama-index-core<0.13.0,>=0.12.0->llama-index-embeddings-langchain) (3.4.1)\n",
      "Requirement already satisfied: idna<4,>=2.5 in /usr/local/lib/python3.11/dist-packages (from requests>=2.31.0->llama-index-core<0.13.0,>=0.12.0->llama-index-embeddings-langchain) (3.10)\n",
      "Requirement already satisfied: urllib3<3,>=1.21.1 in /usr/local/lib/python3.11/dist-packages (from requests>=2.31.0->llama-index-core<0.13.0,>=0.12.0->llama-index-embeddings-langchain) (2.3.0)\n",
      "Requirement already satisfied: certifi>=2017.4.17 in /usr/local/lib/python3.11/dist-packages (from requests>=2.31.0->llama-index-core<0.13.0,>=0.12.0->llama-index-embeddings-langchain) (2025.1.31)\n",
      "Requirement already satisfied: greenlet!=0.4.17 in /usr/local/lib/python3.11/dist-packages (from SQLAlchemy>=1.4.49->SQLAlchemy[asyncio]>=1.4.49->llama-index-core<0.13.0,>=0.12.0->llama-index-embeddings-langchain) (3.1.1)\n",
      "Requirement already satisfied: mypy-extensions>=0.3.0 in /usr/local/lib/python3.11/dist-packages (from typing-inspect>=0.8.0->llama-index-core<0.13.0,>=0.12.0->llama-index-embeddings-langchain) (1.0.0)\n",
      "Requirement already satisfied: marshmallow<4.0.0,>=3.18.0 in /usr/local/lib/python3.11/dist-packages (from dataclasses-json->llama-index-core<0.13.0,>=0.12.0->llama-index-embeddings-langchain) (3.26.1)\n",
      "Requirement already satisfied: anyio in /usr/local/lib/python3.11/dist-packages (from httpx->llama-index-core<0.13.0,>=0.12.0->llama-index-embeddings-langchain) (4.9.0)\n",
      "Requirement already satisfied: httpcore==1.* in /usr/local/lib/python3.11/dist-packages (from httpx->llama-index-core<0.13.0,>=0.12.0->llama-index-embeddings-langchain) (1.0.7)\n",
      "Requirement already satisfied: h11<0.15,>=0.13 in /usr/local/lib/python3.11/dist-packages (from httpcore==1.*->httpx->llama-index-core<0.13.0,>=0.12.0->llama-index-embeddings-langchain) (0.14.0)\n",
      "Requirement already satisfied: packaging>=17.0 in /usr/local/lib/python3.11/dist-packages (from marshmallow<4.0.0,>=3.18.0->dataclasses-json->llama-index-core<0.13.0,>=0.12.0->llama-index-embeddings-langchain) (24.2)\n",
      "Requirement already satisfied: sniffio>=1.1 in /usr/local/lib/python3.11/dist-packages (from anyio->httpx->llama-index-core<0.13.0,>=0.12.0->llama-index-embeddings-langchain) (1.3.1)\n",
      "Requirement already satisfied: llama-index-embeddings-huggingface in /usr/local/lib/python3.11/dist-packages (0.5.2)\n",
      "Requirement already satisfied: huggingface-hub>=0.19.0 in /usr/local/lib/python3.11/dist-packages (from huggingface-hub[inference]>=0.19.0->llama-index-embeddings-huggingface) (0.29.3)\n",
      "Requirement already satisfied: llama-index-core<0.13.0,>=0.12.0 in /usr/local/lib/python3.11/dist-packages (from llama-index-embeddings-huggingface) (0.12.25)\n",
      "Requirement already satisfied: sentence-transformers>=2.6.1 in /usr/local/lib/python3.11/dist-packages (from llama-index-embeddings-huggingface) (3.4.1)\n",
      "Requirement already satisfied: filelock in /usr/local/lib/python3.11/dist-packages (from huggingface-hub>=0.19.0->huggingface-hub[inference]>=0.19.0->llama-index-embeddings-huggingface) (3.18.0)\n",
      "Requirement already satisfied: fsspec>=2023.5.0 in /usr/local/lib/python3.11/dist-packages (from huggingface-hub>=0.19.0->huggingface-hub[inference]>=0.19.0->llama-index-embeddings-huggingface) (2025.3.0)\n",
      "Requirement already satisfied: packaging>=20.9 in /usr/local/lib/python3.11/dist-packages (from huggingface-hub>=0.19.0->huggingface-hub[inference]>=0.19.0->llama-index-embeddings-huggingface) (24.2)\n",
      "Requirement already satisfied: pyyaml>=5.1 in /usr/local/lib/python3.11/dist-packages (from huggingface-hub>=0.19.0->huggingface-hub[inference]>=0.19.0->llama-index-embeddings-huggingface) (6.0.2)\n",
      "Requirement already satisfied: requests in /usr/local/lib/python3.11/dist-packages (from huggingface-hub>=0.19.0->huggingface-hub[inference]>=0.19.0->llama-index-embeddings-huggingface) (2.32.3)\n",
      "Requirement already satisfied: tqdm>=4.42.1 in /usr/local/lib/python3.11/dist-packages (from huggingface-hub>=0.19.0->huggingface-hub[inference]>=0.19.0->llama-index-embeddings-huggingface) (4.67.1)\n",
      "Requirement already satisfied: typing-extensions>=3.7.4.3 in /usr/local/lib/python3.11/dist-packages (from huggingface-hub>=0.19.0->huggingface-hub[inference]>=0.19.0->llama-index-embeddings-huggingface) (4.12.2)\n",
      "Requirement already satisfied: aiohttp in /usr/local/lib/python3.11/dist-packages (from huggingface-hub[inference]>=0.19.0->llama-index-embeddings-huggingface) (3.11.14)\n",
      "Requirement already satisfied: SQLAlchemy>=1.4.49 in /usr/local/lib/python3.11/dist-packages (from SQLAlchemy[asyncio]>=1.4.49->llama-index-core<0.13.0,>=0.12.0->llama-index-embeddings-huggingface) (2.0.39)\n",
      "Requirement already satisfied: dataclasses-json in /usr/local/lib/python3.11/dist-packages (from llama-index-core<0.13.0,>=0.12.0->llama-index-embeddings-huggingface) (0.6.7)\n",
      "Requirement already satisfied: deprecated>=1.2.9.3 in /usr/local/lib/python3.11/dist-packages (from llama-index-core<0.13.0,>=0.12.0->llama-index-embeddings-huggingface) (1.2.18)\n",
      "Requirement already satisfied: dirtyjson<2.0.0,>=1.0.8 in /usr/local/lib/python3.11/dist-packages (from llama-index-core<0.13.0,>=0.12.0->llama-index-embeddings-huggingface) (1.0.8)\n",
      "Requirement already satisfied: filetype<2.0.0,>=1.2.0 in /usr/local/lib/python3.11/dist-packages (from llama-index-core<0.13.0,>=0.12.0->llama-index-embeddings-huggingface) (1.2.0)\n",
      "Requirement already satisfied: httpx in /usr/local/lib/python3.11/dist-packages (from llama-index-core<0.13.0,>=0.12.0->llama-index-embeddings-huggingface) (0.28.1)\n",
      "Requirement already satisfied: nest-asyncio<2.0.0,>=1.5.8 in /usr/local/lib/python3.11/dist-packages (from llama-index-core<0.13.0,>=0.12.0->llama-index-embeddings-huggingface) (1.6.0)\n",
      "Requirement already satisfied: networkx>=3.0 in /usr/local/lib/python3.11/dist-packages (from llama-index-core<0.13.0,>=0.12.0->llama-index-embeddings-huggingface) (3.4.2)\n",
      "Requirement already satisfied: nltk>3.8.1 in /usr/local/lib/python3.11/dist-packages (from llama-index-core<0.13.0,>=0.12.0->llama-index-embeddings-huggingface) (3.9.1)\n",
      "Requirement already satisfied: numpy in /usr/local/lib/python3.11/dist-packages (from llama-index-core<0.13.0,>=0.12.0->llama-index-embeddings-huggingface) (2.0.2)\n",
      "Requirement already satisfied: pillow>=9.0.0 in /usr/local/lib/python3.11/dist-packages (from llama-index-core<0.13.0,>=0.12.0->llama-index-embeddings-huggingface) (11.1.0)\n",
      "Requirement already satisfied: pydantic>=2.8.0 in /usr/local/lib/python3.11/dist-packages (from llama-index-core<0.13.0,>=0.12.0->llama-index-embeddings-huggingface) (2.10.6)\n",
      "Requirement already satisfied: tenacity!=8.4.0,<10.0.0,>=8.2.0 in /usr/local/lib/python3.11/dist-packages (from llama-index-core<0.13.0,>=0.12.0->llama-index-embeddings-huggingface) (9.0.0)\n",
      "Requirement already satisfied: tiktoken>=0.3.3 in /usr/local/lib/python3.11/dist-packages (from llama-index-core<0.13.0,>=0.12.0->llama-index-embeddings-huggingface) (0.9.0)\n",
      "Requirement already satisfied: typing-inspect>=0.8.0 in /usr/local/lib/python3.11/dist-packages (from llama-index-core<0.13.0,>=0.12.0->llama-index-embeddings-huggingface) (0.9.0)\n",
      "Requirement already satisfied: wrapt in /usr/local/lib/python3.11/dist-packages (from llama-index-core<0.13.0,>=0.12.0->llama-index-embeddings-huggingface) (1.17.2)\n",
      "Requirement already satisfied: transformers<5.0.0,>=4.41.0 in /usr/local/lib/python3.11/dist-packages (from sentence-transformers>=2.6.1->llama-index-embeddings-huggingface) (4.49.0)\n",
      "Requirement already satisfied: torch>=1.11.0 in /usr/local/lib/python3.11/dist-packages (from sentence-transformers>=2.6.1->llama-index-embeddings-huggingface) (2.6.0+cu124)\n",
      "Requirement already satisfied: scikit-learn in /usr/local/lib/python3.11/dist-packages (from sentence-transformers>=2.6.1->llama-index-embeddings-huggingface) (1.6.1)\n",
      "Requirement already satisfied: scipy in /usr/local/lib/python3.11/dist-packages (from sentence-transformers>=2.6.1->llama-index-embeddings-huggingface) (1.14.1)\n",
      "Requirement already satisfied: aiohappyeyeballs>=2.3.0 in /usr/local/lib/python3.11/dist-packages (from aiohttp->huggingface-hub[inference]>=0.19.0->llama-index-embeddings-huggingface) (2.6.1)\n",
      "Requirement already satisfied: aiosignal>=1.1.2 in /usr/local/lib/python3.11/dist-packages (from aiohttp->huggingface-hub[inference]>=0.19.0->llama-index-embeddings-huggingface) (1.3.2)\n",
      "Requirement already satisfied: attrs>=17.3.0 in /usr/local/lib/python3.11/dist-packages (from aiohttp->huggingface-hub[inference]>=0.19.0->llama-index-embeddings-huggingface) (25.3.0)\n",
      "Requirement already satisfied: frozenlist>=1.1.1 in /usr/local/lib/python3.11/dist-packages (from aiohttp->huggingface-hub[inference]>=0.19.0->llama-index-embeddings-huggingface) (1.5.0)\n",
      "Requirement already satisfied: multidict<7.0,>=4.5 in /usr/local/lib/python3.11/dist-packages (from aiohttp->huggingface-hub[inference]>=0.19.0->llama-index-embeddings-huggingface) (6.2.0)\n",
      "Requirement already satisfied: propcache>=0.2.0 in /usr/local/lib/python3.11/dist-packages (from aiohttp->huggingface-hub[inference]>=0.19.0->llama-index-embeddings-huggingface) (0.3.0)\n",
      "Requirement already satisfied: yarl<2.0,>=1.17.0 in /usr/local/lib/python3.11/dist-packages (from aiohttp->huggingface-hub[inference]>=0.19.0->llama-index-embeddings-huggingface) (1.18.3)\n",
      "Requirement already satisfied: click in /usr/local/lib/python3.11/dist-packages (from nltk>3.8.1->llama-index-core<0.13.0,>=0.12.0->llama-index-embeddings-huggingface) (8.1.8)\n",
      "Requirement already satisfied: joblib in /usr/local/lib/python3.11/dist-packages (from nltk>3.8.1->llama-index-core<0.13.0,>=0.12.0->llama-index-embeddings-huggingface) (1.4.2)\n",
      "Requirement already satisfied: regex>=2021.8.3 in /usr/local/lib/python3.11/dist-packages (from nltk>3.8.1->llama-index-core<0.13.0,>=0.12.0->llama-index-embeddings-huggingface) (2024.11.6)\n",
      "Requirement already satisfied: annotated-types>=0.6.0 in /usr/local/lib/python3.11/dist-packages (from pydantic>=2.8.0->llama-index-core<0.13.0,>=0.12.0->llama-index-embeddings-huggingface) (0.7.0)\n",
      "Requirement already satisfied: pydantic-core==2.27.2 in /usr/local/lib/python3.11/dist-packages (from pydantic>=2.8.0->llama-index-core<0.13.0,>=0.12.0->llama-index-embeddings-huggingface) (2.27.2)\n",
      "Requirement already satisfied: charset-normalizer<4,>=2 in /usr/local/lib/python3.11/dist-packages (from requests->huggingface-hub>=0.19.0->huggingface-hub[inference]>=0.19.0->llama-index-embeddings-huggingface) (3.4.1)\n",
      "Requirement already satisfied: idna<4,>=2.5 in /usr/local/lib/python3.11/dist-packages (from requests->huggingface-hub>=0.19.0->huggingface-hub[inference]>=0.19.0->llama-index-embeddings-huggingface) (3.10)\n",
      "Requirement already satisfied: urllib3<3,>=1.21.1 in /usr/local/lib/python3.11/dist-packages (from requests->huggingface-hub>=0.19.0->huggingface-hub[inference]>=0.19.0->llama-index-embeddings-huggingface) (2.3.0)\n",
      "Requirement already satisfied: certifi>=2017.4.17 in /usr/local/lib/python3.11/dist-packages (from requests->huggingface-hub>=0.19.0->huggingface-hub[inference]>=0.19.0->llama-index-embeddings-huggingface) (2025.1.31)\n",
      "Requirement already satisfied: greenlet!=0.4.17 in /usr/local/lib/python3.11/dist-packages (from SQLAlchemy>=1.4.49->SQLAlchemy[asyncio]>=1.4.49->llama-index-core<0.13.0,>=0.12.0->llama-index-embeddings-huggingface) (3.1.1)\n",
      "Requirement already satisfied: jinja2 in /usr/local/lib/python3.11/dist-packages (from torch>=1.11.0->sentence-transformers>=2.6.1->llama-index-embeddings-huggingface) (3.1.6)\n",
      "Requirement already satisfied: nvidia-cuda-nvrtc-cu12==12.4.127 in /usr/local/lib/python3.11/dist-packages (from torch>=1.11.0->sentence-transformers>=2.6.1->llama-index-embeddings-huggingface) (12.4.127)\n",
      "Requirement already satisfied: nvidia-cuda-runtime-cu12==12.4.127 in /usr/local/lib/python3.11/dist-packages (from torch>=1.11.0->sentence-transformers>=2.6.1->llama-index-embeddings-huggingface) (12.4.127)\n",
      "Requirement already satisfied: nvidia-cuda-cupti-cu12==12.4.127 in /usr/local/lib/python3.11/dist-packages (from torch>=1.11.0->sentence-transformers>=2.6.1->llama-index-embeddings-huggingface) (12.4.127)\n",
      "Requirement already satisfied: nvidia-cudnn-cu12==9.1.0.70 in /usr/local/lib/python3.11/dist-packages (from torch>=1.11.0->sentence-transformers>=2.6.1->llama-index-embeddings-huggingface) (9.1.0.70)\n",
      "Requirement already satisfied: nvidia-cublas-cu12==12.4.5.8 in /usr/local/lib/python3.11/dist-packages (from torch>=1.11.0->sentence-transformers>=2.6.1->llama-index-embeddings-huggingface) (12.4.5.8)\n",
      "Requirement already satisfied: nvidia-cufft-cu12==11.2.1.3 in /usr/local/lib/python3.11/dist-packages (from torch>=1.11.0->sentence-transformers>=2.6.1->llama-index-embeddings-huggingface) (11.2.1.3)\n",
      "Requirement already satisfied: nvidia-curand-cu12==10.3.5.147 in /usr/local/lib/python3.11/dist-packages (from torch>=1.11.0->sentence-transformers>=2.6.1->llama-index-embeddings-huggingface) (10.3.5.147)\n",
      "Requirement already satisfied: nvidia-cusolver-cu12==11.6.1.9 in /usr/local/lib/python3.11/dist-packages (from torch>=1.11.0->sentence-transformers>=2.6.1->llama-index-embeddings-huggingface) (11.6.1.9)\n",
      "Requirement already satisfied: nvidia-cusparse-cu12==12.3.1.170 in /usr/local/lib/python3.11/dist-packages (from torch>=1.11.0->sentence-transformers>=2.6.1->llama-index-embeddings-huggingface) (12.3.1.170)\n",
      "Requirement already satisfied: nvidia-cusparselt-cu12==0.6.2 in /usr/local/lib/python3.11/dist-packages (from torch>=1.11.0->sentence-transformers>=2.6.1->llama-index-embeddings-huggingface) (0.6.2)\n",
      "Requirement already satisfied: nvidia-nccl-cu12==2.21.5 in /usr/local/lib/python3.11/dist-packages (from torch>=1.11.0->sentence-transformers>=2.6.1->llama-index-embeddings-huggingface) (2.21.5)\n",
      "Requirement already satisfied: nvidia-nvtx-cu12==12.4.127 in /usr/local/lib/python3.11/dist-packages (from torch>=1.11.0->sentence-transformers>=2.6.1->llama-index-embeddings-huggingface) (12.4.127)\n",
      "Requirement already satisfied: nvidia-nvjitlink-cu12==12.4.127 in /usr/local/lib/python3.11/dist-packages (from torch>=1.11.0->sentence-transformers>=2.6.1->llama-index-embeddings-huggingface) (12.4.127)\n",
      "Requirement already satisfied: triton==3.2.0 in /usr/local/lib/python3.11/dist-packages (from torch>=1.11.0->sentence-transformers>=2.6.1->llama-index-embeddings-huggingface) (3.2.0)\n",
      "Requirement already satisfied: sympy==1.13.1 in /usr/local/lib/python3.11/dist-packages (from torch>=1.11.0->sentence-transformers>=2.6.1->llama-index-embeddings-huggingface) (1.13.1)\n",
      "Requirement already satisfied: mpmath<1.4,>=1.1.0 in /usr/local/lib/python3.11/dist-packages (from sympy==1.13.1->torch>=1.11.0->sentence-transformers>=2.6.1->llama-index-embeddings-huggingface) (1.3.0)\n",
      "Requirement already satisfied: tokenizers<0.22,>=0.21 in /usr/local/lib/python3.11/dist-packages (from transformers<5.0.0,>=4.41.0->sentence-transformers>=2.6.1->llama-index-embeddings-huggingface) (0.21.1)\n",
      "Requirement already satisfied: safetensors>=0.4.1 in /usr/local/lib/python3.11/dist-packages (from transformers<5.0.0,>=4.41.0->sentence-transformers>=2.6.1->llama-index-embeddings-huggingface) (0.5.3)\n",
      "Requirement already satisfied: mypy-extensions>=0.3.0 in /usr/local/lib/python3.11/dist-packages (from typing-inspect>=0.8.0->llama-index-core<0.13.0,>=0.12.0->llama-index-embeddings-huggingface) (1.0.0)\n",
      "Requirement already satisfied: marshmallow<4.0.0,>=3.18.0 in /usr/local/lib/python3.11/dist-packages (from dataclasses-json->llama-index-core<0.13.0,>=0.12.0->llama-index-embeddings-huggingface) (3.26.1)\n",
      "Requirement already satisfied: anyio in /usr/local/lib/python3.11/dist-packages (from httpx->llama-index-core<0.13.0,>=0.12.0->llama-index-embeddings-huggingface) (4.9.0)\n",
      "Requirement already satisfied: httpcore==1.* in /usr/local/lib/python3.11/dist-packages (from httpx->llama-index-core<0.13.0,>=0.12.0->llama-index-embeddings-huggingface) (1.0.7)\n",
      "Requirement already satisfied: h11<0.15,>=0.13 in /usr/local/lib/python3.11/dist-packages (from httpcore==1.*->httpx->llama-index-core<0.13.0,>=0.12.0->llama-index-embeddings-huggingface) (0.14.0)\n",
      "Requirement already satisfied: threadpoolctl>=3.1.0 in /usr/local/lib/python3.11/dist-packages (from scikit-learn->sentence-transformers>=2.6.1->llama-index-embeddings-huggingface) (3.6.0)\n",
      "Requirement already satisfied: sniffio>=1.1 in /usr/local/lib/python3.11/dist-packages (from anyio->httpx->llama-index-core<0.13.0,>=0.12.0->llama-index-embeddings-huggingface) (1.3.1)\n",
      "Requirement already satisfied: MarkupSafe>=2.0 in /usr/local/lib/python3.11/dist-packages (from jinja2->torch>=1.11.0->sentence-transformers>=2.6.1->llama-index-embeddings-huggingface) (3.0.2)\n"
     ]
    }
   ],
   "source": [
    "!pip install llama-index\n",
    "!pip install llama-index-llms-huggingface\n",
    "!pip install llama-index-embeddings-langchain\n",
    "!pip install llama-index-embeddings-huggingface"
   ]
  },
  {
   "cell_type": "code",
   "execution_count": 6,
   "metadata": {
    "executionInfo": {
     "elapsed": 13,
     "status": "ok",
     "timestamp": 1742911335930,
     "user": {
      "displayName": "Diana Kao",
      "userId": "15819315298964528389"
     },
     "user_tz": 240
    },
    "id": "QeCSbfKQyxo1"
   },
   "outputs": [],
   "source": [
    "# Import tqdm that helps visualize the progress of loops, iterations, and processes in a simple and efficient way.\n",
    "from tqdm import tqdm"
   ]
  },
  {
   "cell_type": "code",
   "execution_count": 7,
   "metadata": {
    "colab": {
     "base_uri": "https://localhost:8080/"
    },
    "executionInfo": {
     "elapsed": 6291,
     "status": "ok",
     "timestamp": 1742911345778,
     "user": {
      "displayName": "Diana Kao",
      "userId": "15819315298964528389"
     },
     "user_tz": 240
    },
    "id": "qtifro96zFQC",
    "outputId": "43a127c0-d67d-46f0-a625-046c055abd92"
   },
   "outputs": [
    {
     "name": "stdout",
     "output_type": "stream",
     "text": [
      "Requirement already satisfied: pandas in /usr/local/lib/python3.11/dist-packages (2.2.2)\n",
      "Requirement already satisfied: numpy>=1.23.2 in /usr/local/lib/python3.11/dist-packages (from pandas) (2.0.2)\n",
      "Requirement already satisfied: python-dateutil>=2.8.2 in /usr/local/lib/python3.11/dist-packages (from pandas) (2.8.2)\n",
      "Requirement already satisfied: pytz>=2020.1 in /usr/local/lib/python3.11/dist-packages (from pandas) (2025.1)\n",
      "Requirement already satisfied: tzdata>=2022.7 in /usr/local/lib/python3.11/dist-packages (from pandas) (2025.1)\n",
      "Requirement already satisfied: six>=1.5 in /usr/local/lib/python3.11/dist-packages (from python-dateutil>=2.8.2->pandas) (1.17.0)\n"
     ]
    }
   ],
   "source": [
    "# Install Pandas\n",
    "!pip install pandas"
   ]
  },
  {
   "cell_type": "code",
   "execution_count": 8,
   "metadata": {
    "colab": {
     "base_uri": "https://localhost:8080/"
    },
    "executionInfo": {
     "elapsed": 6559,
     "status": "ok",
     "timestamp": 1742911384276,
     "user": {
      "displayName": "Diana Kao",
      "userId": "15819315298964528389"
     },
     "user_tz": 240
    },
    "id": "x1uQkL9lzJ6p",
    "outputId": "ef806c84-d991-4fa1-8f38-aa18f2761509"
   },
   "outputs": [
    {
     "name": "stdout",
     "output_type": "stream",
     "text": [
      "Requirement already satisfied: python-docx in /usr/local/lib/python3.11/dist-packages (1.1.2)\n",
      "Requirement already satisfied: lxml>=3.1.0 in /usr/local/lib/python3.11/dist-packages (from python-docx) (5.3.1)\n",
      "Requirement already satisfied: typing-extensions>=4.9.0 in /usr/local/lib/python3.11/dist-packages (from python-docx) (4.12.2)\n"
     ]
    }
   ],
   "source": [
    "# Install Python-Docx\n",
    "!pip install python-docx"
   ]
  },
  {
   "cell_type": "code",
   "execution_count": 9,
   "metadata": {
    "colab": {
     "base_uri": "https://localhost:8080/"
    },
    "executionInfo": {
     "elapsed": 338,
     "status": "ok",
     "timestamp": 1742911441787,
     "user": {
      "displayName": "Diana Kao",
      "userId": "15819315298964528389"
     },
     "user_tz": 240
    },
    "id": "GUMWiQLczOd6",
    "outputId": "ea41d71e-1a98-4834-940c-73cb2637db83"
   },
   "outputs": [
    {
     "name": "stdout",
     "output_type": "stream",
     "text": [
      "Fees and Charges\n",
      "Fees payable on the Credit Card by the Cardmember\n",
      "\n",
      "\n",
      "The fees may vary for each Cardmember, and\n",
      "\n",
      "       \n",
      "to the Cardmember at the time of applying for the Credit Card. The above fees as applicable are billed to the card account and are stated in the card statement of the month in which it is charged.\n",
      "Cash Advance Fees\n",
      "The Cardmember can use the Card to access cash in an emergency from ATMs in India or abroad. A transaction fee of 2.5% (Minimum\n",
      "` \n",
      "the amount withdrawn and would be billed to the Cardmember in the next statement. The transaction fee is subject to change at the discretion of HDFC Bank. All cash advances\n",
      "\n",
      "       \n",
      "on revolving credit (please refer schedule of charges) from the date of withdrawal until the\n",
      "\n",
      "       \n",
      "subject to change at the discretion of HDFC Bank.\n",
      "Charges\n",
      "Charges and fees, as may be applicable from time to time, are payable by Cardmembers for\n",
      "\n",
      "\n",
      "Cardmember or for defaults committed by the Cardmember with reference to his card account.\n",
      "HDFC Bank retains the right to alter any charges or fees from time to time or to introduce any new charges or fees, as it may deem appropriate, with due intimation to customer.\n",
      "For interest rates, pre-closure and cancellation charges on Loan on Credit Cards, Please Visit : https://www.hdfcbank.com/personal/ products/loans/loan-on-credit-card\n",
      "\n",
      "of Rs 10,000 on the Easy EMI Credit Card will be automatically converted to Easy EMI with\n",
      "9 months tenure by default at 20% Rate of Interest, without any further consent from the customer. Processing Fee of Rs 99/- (Exclusive of GST for all loan amounts) is applicable for all Easy EMI loan conversion. Fuel, gold and jewelry transactions are excluding from auto conversion.\n",
      "Interest Free Period\n",
      "The interest free credit period could range from 20 to 50 days subject to the scheme applicable\n",
      "    \n",
      "Schedule of Charges) and the submission of\n",
      "    \n",
      "Schedule of Charges) and the submission of claims by the merchant. However, this is not\n",
      "applicable if the Previous month’s balance has not been cleared in full or if the Cardmember has availed of cash from ATM. For instance, the HDFC Bank International Platinum Plus Card has an interest-free credit period of up to 50 days. This means that a customer who has a billing date of 4th of the month can spend on his Card from 5th April to 4th May, his bill will be generated on 4th May and his Payment Due Date will be 24th May. Hence a purchase made on 14th April will have a credit period of 41 days, while a purchase made on 2nd May will have a credit period of 23 days. This period will be free of interest only if all previous dues are paid in full and there is no unpaid balance carried over from previous months\n",
      "Insta card related charges\n",
      "For your security, a daily ecommerce (net) limit is placed on the card until the card is delivered to you in person. Furthermore any wallet loading transaction done through the credit card would incur charges of 2.5% of load value\n",
      "Limits\n",
      "HDFC Bank at its sole discretion will determine the Cardmember’s credit limit and cash withdrawal limit. (Add-on Cardmembers share the same limit). These limits are communicated to the Cardmember at the time of card delivery and in the monthly statements. The available credit limit at the time of the statement generation is provided as a part of the monthly statement. HDFC Bank will review the Cardmember account periodically, may decrease the Cardmember credit limit based on internal criteria. In such an instance the Bank will inform immediately including  the  reason  thereof,  by  SMS  or\n",
      "\n",
      " \t \t\t\n",
      "Cardmembers seeking to have their credit limit increased can do so by writing to the Bank and\n",
      "\n",
      "    \n",
      "income. The Bank, at its sole discretion and based on such new documents provided, may increase the credit limit of the Cardmember.\n",
      "\n",
      "\n",
      "Default\n",
      "In the event of default, the Cardmember will be sent reminders from time to time for settlement of any outstanding on the card account, by post, fax, telephone, e-mail, SMS messaging and/ or engaging third parties to remind, follow up and collect dues. Any third party so appointed, shall adhere fully to the code of conduct on debt collection.\n",
      "Right of Lien\n",
      "The bank, at any time and without notice, will\n",
      "\n",
      "        \n",
      "belonging to the Cardmember and/or add on Cardmember standing to their credit in any account/custody of the bank, if upon demand by the bank, the balance amount on the card account is not repaid within the prescribed time.\n",
      "During settlement of redemption in case available Reward Points balance is lesser than\n",
      "\n",
      "\n",
      "on the Customers Card/Account.\n",
      "Termination/Revocation of the Card Membership\n",
      "\n",
      "Bank International Credit Card(s) shall be strictly in accordance with exchange control regulations, law of the land or of the Regulatory authorities as applicable from time to time, the card will not be used for transactions involving Forex trading, lottery, betting, gambling, dating which\n",
      "keep myself/ourself updated of and in the event action under the Foreign exchange management enhancement thereof.\n",
      "The  Cardmember  may  terminate  the  card\n",
      "membership at any time by writing to HDFC Bank at the following address: Manager HDFC\n",
      "\n",
      "\n",
      "diagonally to pieces, all the cards including the add-on cards will be terminated basis the written\n",
      "\n",
      "      \n",
      "receipt of the cut cards and payment of all amounts outstanding to the card account. No annual, joining or renewal fees shall be refunded on a pro-rata basis.\n",
      "In case the Bank notices unusual and abnormal transaction patterns in the use of the Card, the Bank will try to establish contact with the customer on the registered phone number of the customer available on its records to verify\n",
      "\n",
      "  \n",
      "on the part of the Bank to establish contact with the customer, the Bank may restrict/terminate the use of the Card without any further notice,\n",
      "if the Bank reasonably believes it necessary in the interest of the Cardholder and for security reasons.\n",
      "HDFC Bank can suspend the facility on the Credit Card, if the Cardmember defaults on payment due or exceeds the credit limit extended. The Credit Card must not be used after the Agreement has ended or if the card account is suspended.\n",
      "\n",
      "         \n",
      "being used as per the regulatory guidelines, Terms and Conditions and applicable policies of the Bank, Bank shall have a right to run periodic checks on the Credit Card usage to identify whether there is excessive utilization of credit limit beyond the sanctioned limit in one statement cycle, unusual or excessive utilization at few select merchants, possible collusion with merchant and/or usage towards non-personal/\n",
      "\n",
      "  \n",
      "accumulation of undue reward points/ cash\n",
      "\n",
      "  \n",
      "the usage patterns, if any of these is suspected by the Bank, Bank may take restrictive action on the Credit Card. Such action can be with\n",
      "\n",
      "\n",
      "as complete termination of the Credit Card. If any such action is taken by the Bank onus will be on customer to provide satisfactory proof of\n",
      "\n",
      "\n",
      "In such a situation, the Cardmember must\n",
      "\n",
      "  \n",
      "by law) immediately pay HDFC Bank the total outstanding balance on the Account. This includes all amounts due to HDFC Bank under the Agreement, including all transactions and other amounts not yet charged to the Account. The card will not be considered as closed until the Cardmember has paid all such due amounts.\n",
      "The death or in capacitance of a Cardmember insolvency / dissolution / bankruptcy or winding up of a corporate body of a Cardmember shall automatically cancel the card issued to the Cardmember as well as any Add-on Cardmembers. The Card Account would also be liable to be suspended on instructions from any government regulatory body. All amounts outstanding on the Card Account shall be deemed to have immediately become due on death or incapacitance, insolvency, bankruptcy, winding up or instruction from government/regulatory bodies, as the case may be, and Bank shall be entitled to recover the same in accordance with the relevant laws in force without prejudice to the obligation of the Cardmember to forth with pay all outstanding amounts.\n",
      "\n",
      "Loss / theft / misuse of Card\n",
      "The Cardmember must notify the 24 Hour Call Center immediately if the Primary or any Additional credit card is misplaced, lost, stolen, mutilated, not received when due or if he/she suspects that the Credit Card is being used without Cardmember’s permission. Once a card is reported lost, it should not, under any circumstance be used if found by the Cardmember subsequently. As the Add-On card is an extended facility given on the Primary Card Account, the Add-on card is rendered invalid when the primary card is reported lost. Similarly, if the Add-on card is reported lost, the primary Card Account and other Add-on cards are invalidated.\n",
      "The Bank is not liable or responsible for any transaction incurred on the card account prior to time of reporting of the loss of the card, and the Cardmember will be wholly liable for the same. Card swipe transactions may get processed by merchants without PIN / additional authentication, when it is initiated on merchants located outside India as it may not be a mandate in those countries. Cardmember is wholly liable for all transactions prior to reporting of loss of the card. After the receipt of proper  of the loss by the bank, the Cardmember’s subsequent liability is zero. In addition to notifying HDFC Bank about the loss or theft of the card, the Cardmember must report any theft of cards to the Police and lodge a Police Complaint and provide a copy of Police complaint to the Bank.\n",
      "The Cardmember will be liable for all losses in case of misuse of the card by someone who obtained the PIN or the card with the consent of Cardmember or an Additional Cardmember.\n",
      "If the Cardmember has acted fraudulently the Cardmember will be liable for all losses. If the Cardmember acts without reasonable care, the Cardmember may be liable for all losses incurred.\n",
      "HDFC Bank may, without referring to the Cardmember or any additional Cardmember, give the police or other relevant authorities any information that HDFC Bank consider relevant about the loss, theft, misuse of a Card or PIN.\n",
      "An optional insurance product may be availed of by the card members, at his/her own discretion, to cover the liability arising in the event of any fraudulent transactions on the Credit Card. For further details and terms and conditions of such Insurance cover, kindly contact our representative of the Bank.\n",
      "HDFC Bank Contactless Cards allows you to pay with a simple tap. To make a transaction of ₹5,000 or less, just tap to pay with your contactless card and you won't need to sign or enter any PIN.\n",
      "\n",
      "Contactless transactions are as secured as any chip or PIN based transactions. The Bank is not liable or responsible for any transactions incurred on the Card Account prior to time of reporting or delay in reporting of the loss or misuse of the card and the Card member will be wholly liable for the same. Terms and Conditions mentioned in the card member agreement is applicable for all contact-less cards and contact-less transactions.\n",
      "Reward Points\n",
      "Reward Points will be earned for transaction amounts in multiples of `150, residual amounts or transactions below `150 will not earn Reward Points. For InterMiles Credit Card variants, InterMiles miles will be earned for transaction amounts in multiples of `150, residual amounts or transactions below `150 will not earn InterMiles miles. For Silver cards and Freedom Plus Cards, Reward Points are earned on transactions amounts in multiple of\n",
      "`200, residual amounts or transactions below\n",
      "`200 will not earn Reward Points.\n",
      "Reward Point Validity\n",
      "Reward Points are valid only for 2 years from the date of accumulation. e.g.:- if you have received Reward Points in the month of May 2015, then the same will expire in May 2017, except for Infinia / Diners Black for which reward points are valid for 3years, and EasyEMI cards on which cash points are valid for 1 year.\n",
      "Important notice for Customers who have been card members on or before 30th June 2015:\n",
      "W.e.f. 18th March, 2020, when you receive a new credit card due to upgrade/migration, replacement, renewal or re-issuance, etc, the reward points already accumulated earlier, will have limited validity between 1 to 3 years from the date of transfer, depending on the card variant.\n",
      " EasyEMI cards, the Cash points accrued earlier will be valid for 1 year from the date of card upgrade / migration, replacement, renewal or re-issuance,\n",
      " Infinia / Diners Black cards, the Reward points will be valid for 3 years from the date of card upgrade/migration, replacement, renew- al or re-issuance,\n",
      " all other card variants the Reward points/Cash points accrued (as per feature), will be valid for 2 years from the date of card upgrade/migration, replacement, renewal or re-issuance,\n",
      "E.g., Customer was issued a Regalia First credit card on Feb, 2014. His/her card which\n",
      "\n",
      "has  accumulated  50,000\treward  points is\th.\tFor flight and hotel bookings, Credit Card mem-\n",
      "\n",
      "being replaced (due to lost card, renewal, etc) in May 2020.\n",
      "Post replacement, his/her reward points balance of 50,000 will now have a validity of 2 years from the date of transfer i.e.,these points would expire on May 2022 if not utilized.\n",
      "For all future Reward points/Cash points that will be accrued after 18th Mar 2020, the above valid- ity norms will be applicable as per the card variant.\n",
      "Customers who have received their upgraded, replaced, renewal or re-issued cards before 18th Mar 2020 and have also been a card\ti. member on or before 30th June 2015: then their accrued reward/cash points will continue to be valid till the date of the next card upgrade/migra- tion, replacement, renewal or re-issuance. Post which the reward/cash points will have limited validity as per card variants explained above.\n",
      "EasyEMI and e-wallet loading transactions will not accrue Reward Points / InterMiles\n",
      "bers can redeem up to a maximum of 70% of the booking value through Reward Points. Rest of the transaction amount will have to be paid via the Credit Card limit. This applies to Infinia and Diners Black cards w.e.f. 25th July 2020. This is applicable to retail and business card variants of Regalia, Regalia First and other Diners card variants (ClubMiles, Rewardz, Privi- lege, Premium) since 25th Nov 2019. This condition applies for transactions done on HDFC Bank Smartbuy or the dedicated website portals of the bank for the respective card variants.\n",
      "For flight and hotel bookings, Credit Card mem- bers can redeem up to a maximum of 50% of booking value through Reward Points. Rest of the transaction amount will have to be paid via the Credit Card limit. This condition applies to all cards other than those mentioned in above point (i). The cards are grouped as Regular, Cashback, Premium, Premium Travel, Profes- sional, Co-branded and Business cards on the bank’s website. This condition applies for trans-\n",
      "\n",
      "Reward Points / InterMiles accrued will be reversed if a retail transaction is converted into SmartEMI.\n",
      "W.e.f. 20th\tDec 2019, Reward\tPoints /\n",
      "actions done on HDFC Bank Smartbuy. This is\n",
      "in effect from 10th June 2019.\n",
      "j.\tIf the Credit card is blocked (Blocks N/R/M/O) due to hotlisting i.e. lost, stolen, etc (or) Card is\n",
      "\n",
      "InterMiles accrued for insurance transactions will have a maximum cap of 5000 per day for Infinia & Diners Black credit cards and 2000 per day for all other credit cards.\n",
      "If the Credit Card is not used for more than 365 days, Reward Points accrued will be \n",
      "The Bank reserves the right to cancel or suspend Reward Points accrued on the Credit Card if it is in arrears, suspension or default or if the Card Account is or is reasonably suspected to be operated fraudulently. Reward Points earned but not redeemed at the time of death of the Cardmember shall be forfeited.\n",
      "When the Cardmember obtains a refund or reimbursement for transactions previously incurred (for example, for returned merchandise or a cancelled transaction) a credit will be issued to the Card Account in the amount of reimbursement granted. Such credits posted to the Card Account including but not limited to those arising from returned goods or services or cancelled transactions, will reduce the\n",
      "\n",
      "\n",
      "\n",
      "\n",
      "\n",
      "\n",
      "k.\n",
      "\n",
      "\n",
      "\n",
      "\n",
      "\n",
      "\n",
      "\n",
      "\n",
      "\n",
      "RTO i.e. not delivered due to address change, etc (or) resident card holder holding a Non-resi- dent account (or) de-activation of card till card holder authorization and is not re-activated within 6 months from block placement - For such cases RPs accrued in the card will be nullified.\n",
      "Customers can earn cashback through redemp- tion of reward points towards cashback.\n",
      "Cashback credits will not be considered as payment for the last statement. Customers need to effect payment towards the previous statement outstanding.\n",
      "Cashback amount credited to the card account will be adjusted towards the next statement balance.\n",
      "Grievance Cell\n",
      "In the rare event of not being  with the response from any of the recent contacts with the Bank, you can write to - The Manager, Grievance Cell, HDFC Bank Credit Cards Division. 8, Lattice Bridge Road. Thiruvanrniyur, Chennai - 600 041, or reach us on phone 04423625600 between 09.30am to 05.30pm Monday to Friday.\n",
      "\n",
      "Reward Points accrued to the Card Account as per the adjustments. Incase of cancellation of Evouchers that were availed by redeeming reward points, the restoration of reward points, if allowed at the discretion of the Bank, would be allowed at same rate at which the Evouchers redeemed at.\n"
     ]
    }
   ],
   "source": [
    "from docx import Document\n",
    "\n",
    "doc = Document('/content/HDFC_subset.docx')  # Update with your filename\n",
    "for para in doc.paragraphs:\n",
    "    print(para.text)"
   ]
  },
  {
   "cell_type": "code",
   "execution_count": 10,
   "metadata": {
    "executionInfo": {
     "elapsed": 93,
     "status": "ok",
     "timestamp": 1742911455040,
     "user": {
      "displayName": "Diana Kao",
      "userId": "15819315298964528389"
     },
     "user_tz": 240
    },
    "id": "5Ruy7UJdzQ-i"
   },
   "outputs": [],
   "source": [
    "# Get the full text content by iterating through paragraphs\n",
    "full_text = \"\\n\".join([para.text for para in doc.paragraphs])"
   ]
  },
  {
   "cell_type": "code",
   "execution_count": 11,
   "metadata": {
    "executionInfo": {
     "elapsed": 284,
     "status": "ok",
     "timestamp": 1742911456850,
     "user": {
      "displayName": "Diana Kao",
      "userId": "15819315298964528389"
     },
     "user_tz": 240
    },
    "id": "fQA0UPjbzUBY"
   },
   "outputs": [],
   "source": [
    "from langchain_text_splitters import RecursiveCharacterTextSplitter"
   ]
  },
  {
   "cell_type": "code",
   "execution_count": 12,
   "metadata": {
    "colab": {
     "base_uri": "https://localhost:8080/"
    },
    "executionInfo": {
     "elapsed": 6,
     "status": "ok",
     "timestamp": 1742911458536,
     "user": {
      "displayName": "Diana Kao",
      "userId": "15819315298964528389"
     },
     "user_tz": 240
    },
    "id": "uYerhoXyzVhB",
    "outputId": "c9ff798a-9381-4b51-84a0-39ff8fb8c87d"
   },
   "outputs": [
    {
     "data": {
      "text/plain": [
       "80"
      ]
     },
     "execution_count": 12,
     "metadata": {},
     "output_type": "execute_result"
    }
   ],
   "source": [
    "# Now use the full_text with the text splitter\n",
    "text_splitter = RecursiveCharacterTextSplitter(\n",
    "    chunk_size=200,\n",
    "    chunk_overlap=20,\n",
    "    separators=[\"\\n\\n\", \"\\n\"]\n",
    ")\n",
    "\n",
    "chunks = text_splitter.split_text(full_text)\n",
    "len(chunks)"
   ]
  },
  {
   "cell_type": "code",
   "execution_count": 13,
   "metadata": {
    "colab": {
     "base_uri": "https://localhost:8080/"
    },
    "executionInfo": {
     "elapsed": 10,
     "status": "ok",
     "timestamp": 1742911460427,
     "user": {
      "displayName": "Diana Kao",
      "userId": "15819315298964528389"
     },
     "user_tz": 240
    },
    "id": "5Xxa81fqzX1d",
    "outputId": "cdbc264a-5a20-4571-b457-c2adf75b9592"
   },
   "outputs": [
    {
     "data": {
      "text/plain": [
       "111"
      ]
     },
     "execution_count": 13,
     "metadata": {},
     "output_type": "execute_result"
    }
   ],
   "source": [
    "len(chunks[0])"
   ]
  },
  {
   "cell_type": "code",
   "execution_count": 14,
   "metadata": {
    "executionInfo": {
     "elapsed": 5,
     "status": "ok",
     "timestamp": 1742911461699,
     "user": {
      "displayName": "Diana Kao",
      "userId": "15819315298964528389"
     },
     "user_tz": 240
    },
    "id": "pgtXN9pXzeX1"
   },
   "outputs": [],
   "source": [
    "labels = ['CreditCard', 'CashFees', 'Charges', 'InterestFree', 'Limits', 'Revocation',\n",
    "'Loss', 'RewardPoints','Grievance']"
   ]
  },
  {
   "cell_type": "code",
   "execution_count": 15,
   "metadata": {
    "colab": {
     "base_uri": "https://localhost:8080/"
    },
    "executionInfo": {
     "elapsed": 218241,
     "status": "ok",
     "timestamp": 1742911681457,
     "user": {
      "displayName": "Diana Kao",
      "userId": "15819315298964528389"
     },
     "user_tz": 240
    },
    "id": "Lz5gdIiBze36",
    "outputId": "a922f775-a55b-4c8d-d6e8-2c9c1e45f599"
   },
   "outputs": [
    {
     "name": "stderr",
     "output_type": "stream",
     "text": [
      "100%|██████████| 80/80 [03:38<00:00,  2.73s/it]\n"
     ]
    }
   ],
   "source": [
    "chunks_entities = []\n",
    "entity_list = []\n",
    "duplicates = set()\n",
    "for text in tqdm(chunks):\n",
    "    entities = model.predict_entities(text, labels, threshold=0.7)\n",
    "    entities = merge_entities(entities)\n",
    "    chunk_entities = set()\n",
    "    for entity in entities:\n",
    "        # print(entity[\"text\"], \"=>\", entity[\"label\"])\n",
    "        chunk_entities.add(entity[\"text\"])\n",
    "        if entity[\"text\"] in duplicates:\n",
    "            continue\n",
    "        duplicates.add(entity[\"text\"])\n",
    "        entity_list.append((entity[\"text\"], \"=>\", entity[\"label\"]))\n",
    "\n",
    "    chunks_entities.append(list(chunk_entities))"
   ]
  },
  {
   "cell_type": "code",
   "execution_count": 16,
   "metadata": {
    "colab": {
     "base_uri": "https://localhost:8080/",
     "height": 53
    },
    "executionInfo": {
     "elapsed": 11,
     "status": "ok",
     "timestamp": 1742911688582,
     "user": {
      "displayName": "Diana Kao",
      "userId": "15819315298964528389"
     },
     "user_tz": 240
    },
    "id": "jvVPG3BNzhvj",
    "outputId": "4c917eac-c2a6-4302-935a-1f869c72aaf7"
   },
   "outputs": [
    {
     "data": {
      "application/vnd.google.colaboratory.intrinsic+json": {
       "type": "string"
      },
      "text/plain": [
       "'receipt of the cut cards and payment of all amounts outstanding to the card account. No annual, joining or renewal fees shall be refunded on a pro-rata basis.'"
      ]
     },
     "execution_count": 16,
     "metadata": {},
     "output_type": "execute_result"
    }
   ],
   "source": [
    "chunks[30]"
   ]
  },
  {
   "cell_type": "code",
   "execution_count": 17,
   "metadata": {
    "colab": {
     "base_uri": "https://localhost:8080/"
    },
    "executionInfo": {
     "elapsed": 15,
     "status": "ok",
     "timestamp": 1742911690359,
     "user": {
      "displayName": "Diana Kao",
      "userId": "15819315298964528389"
     },
     "user_tz": 240
    },
    "id": "qnsqK0s2zjvu",
    "outputId": "f6607921-f4ce-4aa8-f072-4a2374d65104"
   },
   "outputs": [
    {
     "data": {
      "text/plain": [
       "[('Fees', '=>', 'Charges'),\n",
       " ('Charges\\nFees', '=>', 'Charges'),\n",
       " ('Credit Card', '=>', 'CreditCard'),\n",
       " ('fees', '=>', 'Charges'),\n",
       " ('Card', '=>', 'CreditCard'),\n",
       " ('transaction fee', '=>', 'Charges'),\n",
       " ('revolving credit', '=>', 'CreditCard'),\n",
       " ('charges', '=>', 'Charges'),\n",
       " ('Charges\\nCharges', '=>', 'Charges'),\n",
       " ('cancellation charges', '=>', 'Charges'),\n",
       " ('Loan on Credit Cards', '=>', 'CreditCard'),\n",
       " ('Easy EMI Credit Card', '=>', 'CreditCard'),\n",
       " ('Easy EMI', '=>', 'CreditCard'),\n",
       " ('20% Rate of Interest', '=>', 'InterestFree'),\n",
       " ('Processing Fee', '=>', 'Charges'),\n",
       " ('EMI', '=>', 'CreditCard'),\n",
       " ('Interest Free', '=>', 'InterestFree'),\n",
       " ('interest free', '=>', 'InterestFree'),\n",
       " ('Schedule of Charges', '=>', 'Charges'),\n",
       " ('HDFC Bank International Platinum Plus Card', '=>', 'CreditCard')]"
      ]
     },
     "execution_count": 17,
     "metadata": {},
     "output_type": "execute_result"
    }
   ],
   "source": [
    "entity_list[:20]"
   ]
  },
  {
   "cell_type": "code",
   "execution_count": 18,
   "metadata": {
    "executionInfo": {
     "elapsed": 6,
     "status": "ok",
     "timestamp": 1742911692459,
     "user": {
      "displayName": "Diana Kao",
      "userId": "15819315298964528389"
     },
     "user_tz": 240
    },
    "id": "9vdb43rqzlMk"
   },
   "outputs": [],
   "source": [
    "credit = []\n",
    "cash = []\n",
    "charges = []\n",
    "interest = []\n",
    "limits = []\n",
    "revocation = []\n",
    "loss = []\n",
    "rewards = []\n",
    "grievance = []\n",
    "\n",
    "for e in entity_list:\n",
    "    s,p, o = e\n",
    "    if o == 'CreditCard':\n",
    "        credit.append(s.lower())\n",
    "    elif o == 'CashFees':\n",
    "        cash.append(s.lower())\n",
    "    elif o == 'Charges':\n",
    "        charges.append(s.lower())\n",
    "    elif o == 'InterestFree':\n",
    "        interest.append(s.lower())\n",
    "    elif o == 'Limits':\n",
    "        limits.append(s.lower())\n",
    "    elif o == 'Revocation':\n",
    "        revocation.append(s.lower())\n",
    "    elif o == 'Loss':\n",
    "        loss.append(s.lower())\n",
    "    elif o == 'RewardPoints':\n",
    "        rewards.append(s.lower())\n",
    "    elif o == 'Grievance':\n",
    "        grievance.append(s.lower())"
   ]
  },
  {
   "cell_type": "code",
   "execution_count": 19,
   "metadata": {
    "colab": {
     "base_uri": "https://localhost:8080/"
    },
    "executionInfo": {
     "elapsed": 7,
     "status": "ok",
     "timestamp": 1742911694755,
     "user": {
      "displayName": "Diana Kao",
      "userId": "15819315298964528389"
     },
     "user_tz": 240
    },
    "id": "ECXfIrWWzofJ",
    "outputId": "c884b4bf-b8a5-4639-9fc8-fc662999cc3e"
   },
   "outputs": [
    {
     "data": {
      "text/plain": [
       "['credit card',\n",
       " 'card',\n",
       " 'revolving credit',\n",
       " 'loan on credit cards',\n",
       " 'easy emi credit card',\n",
       " 'easy emi',\n",
       " 'emi',\n",
       " 'hdfc bank international platinum plus card',\n",
       " 'insta',\n",
       " 'card',\n",
       " 'credit card',\n",
       " 'cardmembers',\n",
       " 'customers card/account',\n",
       " 'bank international credit card',\n",
       " 'cards',\n",
       " 'primary',\n",
       " 'additional credit card',\n",
       " 'credit',\n",
       " 'add-on card',\n",
       " 'add-on card',\n",
       " 'primary',\n",
       " 'intermiles credit card',\n",
       " 'silver cards',\n",
       " 'freedom plus cards',\n",
       " 'infinia / diners black',\n",
       " 'easyemi cards',\n",
       " 'infinia / diners black cards',\n",
       " 'regalia first credit card',\n",
       " 'infinia',\n",
       " 'diners black',\n",
       " 'regalia',\n",
       " 'regalia first',\n",
       " 'credit card',\n",
       " 'card account']"
      ]
     },
     "execution_count": 19,
     "metadata": {},
     "output_type": "execute_result"
    }
   ],
   "source": [
    "credit"
   ]
  },
  {
   "cell_type": "code",
   "execution_count": 20,
   "metadata": {
    "colab": {
     "base_uri": "https://localhost:8080/"
    },
    "executionInfo": {
     "elapsed": 24,
     "status": "ok",
     "timestamp": 1742911696880,
     "user": {
      "displayName": "Diana Kao",
      "userId": "15819315298964528389"
     },
     "user_tz": 240
    },
    "id": "sWc-rx4Dzqsc",
    "outputId": "444dac5e-b169-43de-be05-e5b8183b2992"
   },
   "outputs": [
    {
     "data": {
      "text/plain": [
       "['reward points',\n",
       " 'reward points',\n",
       " 'reward',\n",
       " 'intermiles miles',\n",
       " 'intermiles',\n",
       " 'cash points',\n",
       " 'reward points',\n",
       " 'reward points/cash points',\n",
       " '50,000\\treward',\n",
       " 'points',\n",
       " 'reward/cash points',\n",
       " 'rps',\n",
       " 'points',\n",
       " 'evouchers']"
      ]
     },
     "execution_count": 20,
     "metadata": {},
     "output_type": "execute_result"
    }
   ],
   "source": [
    "rewards"
   ]
  },
  {
   "cell_type": "code",
   "execution_count": 21,
   "metadata": {
    "colab": {
     "base_uri": "https://localhost:8080/"
    },
    "executionInfo": {
     "elapsed": 7,
     "status": "ok",
     "timestamp": 1742911698425,
     "user": {
      "displayName": "Diana Kao",
      "userId": "15819315298964528389"
     },
     "user_tz": 240
    },
    "id": "T7uOWLgDztKB",
    "outputId": "29b46de3-ff37-4558-c553-e6b0681e9ebf"
   },
   "outputs": [
    {
     "data": {
      "text/plain": [
       "['fees',\n",
       " 'charges\\nfees',\n",
       " 'fees',\n",
       " 'transaction fee',\n",
       " 'charges',\n",
       " 'charges\\ncharges',\n",
       " 'cancellation charges',\n",
       " 'processing fee',\n",
       " 'schedule of charges',\n",
       " 'related charges',\n",
       " 'annual',\n",
       " 'joining',\n",
       " 'renewal fees']"
      ]
     },
     "execution_count": 21,
     "metadata": {},
     "output_type": "execute_result"
    }
   ],
   "source": [
    "charges"
   ]
  },
  {
   "cell_type": "code",
   "execution_count": 22,
   "metadata": {
    "colab": {
     "base_uri": "https://localhost:8080/"
    },
    "executionInfo": {
     "elapsed": 3658,
     "status": "ok",
     "timestamp": 1742911704592,
     "user": {
      "displayName": "Diana Kao",
      "userId": "15819315298964528389"
     },
     "user_tz": 240
    },
    "id": "MrsYQWg5zu84",
    "outputId": "6d42ed5b-2cb8-47ee-da5b-ad055f59b317"
   },
   "outputs": [
    {
     "name": "stdout",
     "output_type": "stream",
     "text": [
      "Requirement already satisfied: SPARQLWrapper in /usr/local/lib/python3.11/dist-packages (2.0.0)\n",
      "Requirement already satisfied: rdflib>=6.1.1 in /usr/local/lib/python3.11/dist-packages (from SPARQLWrapper) (7.1.3)\n",
      "Requirement already satisfied: pyparsing<4,>=2.1.0 in /usr/local/lib/python3.11/dist-packages (from rdflib>=6.1.1->SPARQLWrapper) (3.2.1)\n"
     ]
    }
   ],
   "source": [
    "# Install SPARQLWrapper to simplify querying SPARQL endpoints, which are used to interact with RDF databases and the Semantic Web.\n",
    "# It acts as a wrapper around SPARQL queries, making it easier to send requests and process responses.\n",
    "!pip install SPARQLWrapper"
   ]
  },
  {
   "cell_type": "code",
   "execution_count": 23,
   "metadata": {
    "colab": {
     "base_uri": "https://localhost:8080/"
    },
    "executionInfo": {
     "elapsed": 774,
     "status": "ok",
     "timestamp": 1742911708061,
     "user": {
      "displayName": "Diana Kao",
      "userId": "15819315298964528389"
     },
     "user_tz": 240
    },
    "id": "BR53CBxPz_Ff",
    "outputId": "7e414f1c-ae14-4cf5-f1b4-989e999fb0e7"
   },
   "outputs": [
    {
     "name": "stdout",
     "output_type": "stream",
     "text": [
      "http://dbpedia.org/resource/Category:Tom_Hanks http://www.w3.org/1999/02/22-rdf-syntax-ns#type http://www.w3.org/2004/02/skos/core#Concept\n",
      "http://dbpedia.org/resource/Tom_Hanks http://www.w3.org/1999/02/22-rdf-syntax-ns#type http://www.w3.org/2002/07/owl#Thing\n",
      "http://dbpedia.org/resource/Tom_Hanks http://www.w3.org/1999/02/22-rdf-syntax-ns#type http://xmlns.com/foaf/0.1/Person\n",
      "http://dbpedia.org/resource/Tom_Hanks http://www.w3.org/1999/02/22-rdf-syntax-ns#type http://dbpedia.org/ontology/Person\n",
      "http://dbpedia.org/resource/Tom_Hanks http://www.w3.org/1999/02/22-rdf-syntax-ns#type http://www.ontologydesignpatterns.org/ont/dul/DUL.owl#NaturalPerson\n",
      "http://dbpedia.org/resource/Tom_Hanks http://www.w3.org/1999/02/22-rdf-syntax-ns#type http://www.wikidata.org/entity/Q19088\n",
      "http://dbpedia.org/resource/Tom_Hanks http://www.w3.org/1999/02/22-rdf-syntax-ns#type http://www.wikidata.org/entity/Q215627\n",
      "http://dbpedia.org/resource/Tom_Hanks http://www.w3.org/1999/02/22-rdf-syntax-ns#type http://www.wikidata.org/entity/Q5\n",
      "http://dbpedia.org/resource/Tom_Hanks http://www.w3.org/1999/02/22-rdf-syntax-ns#type http://www.wikidata.org/entity/Q729\n",
      "http://dbpedia.org/resource/Tom_Hanks http://www.w3.org/1999/02/22-rdf-syntax-ns#type http://dbpedia.org/class/yago/WikicatAmericanActors\n",
      "http://dbpedia.org/resource/Tom_Hanks http://www.w3.org/1999/02/22-rdf-syntax-ns#type http://dbpedia.org/class/yago/WikicatAmericanFilmDirectors\n",
      "http://dbpedia.org/resource/Tom_Hanks http://www.w3.org/1999/02/22-rdf-syntax-ns#type http://dbpedia.org/class/yago/WikicatAmericanFilmProducers\n",
      "http://dbpedia.org/resource/Tom_Hanks http://www.w3.org/1999/02/22-rdf-syntax-ns#type http://dbpedia.org/class/yago/WikicatAmericanMaleFilmActors\n",
      "http://dbpedia.org/resource/Tom_Hanks http://www.w3.org/1999/02/22-rdf-syntax-ns#type http://dbpedia.org/class/yago/WikicatAmericanMaleTelevisionActors\n",
      "http://dbpedia.org/resource/Tom_Hanks http://www.w3.org/1999/02/22-rdf-syntax-ns#type http://dbpedia.org/class/yago/WikicatAmericanMaleVoiceActors\n",
      "http://dbpedia.org/resource/Tom_Hanks http://www.w3.org/1999/02/22-rdf-syntax-ns#type http://dbpedia.org/class/yago/WikicatAmericanPeople\n",
      "http://dbpedia.org/resource/Tom_Hanks http://www.w3.org/1999/02/22-rdf-syntax-ns#type http://dbpedia.org/class/yago/WikicatAmericanPeopleOfBritishDescent\n",
      "http://dbpedia.org/resource/Tom_Hanks http://www.w3.org/1999/02/22-rdf-syntax-ns#type http://dbpedia.org/class/yago/WikicatAmericanPeopleOfEnglishDescent\n",
      "http://dbpedia.org/resource/Tom_Hanks http://www.w3.org/1999/02/22-rdf-syntax-ns#type http://dbpedia.org/class/yago/WikicatAmericanPeopleOfGermanDescent\n",
      "http://dbpedia.org/resource/Tom_Hanks http://www.w3.org/1999/02/22-rdf-syntax-ns#type http://dbpedia.org/class/yago/WikicatAmericanPeopleOfPortugueseDescent\n",
      "http://dbpedia.org/resource/Tom_Hanks http://www.w3.org/1999/02/22-rdf-syntax-ns#type http://dbpedia.org/class/yago/WikicatAmericanScreenwriters\n",
      "http://dbpedia.org/resource/Tom_Hanks http://www.w3.org/1999/02/22-rdf-syntax-ns#type http://dbpedia.org/class/yago/WikicatAmericanTelevisionActors\n",
      "http://dbpedia.org/resource/Tom_Hanks http://www.w3.org/1999/02/22-rdf-syntax-ns#type http://dbpedia.org/class/yago/WikicatAmericanTelevisionActresses\n",
      "http://dbpedia.org/resource/Tom_Hanks http://www.w3.org/1999/02/22-rdf-syntax-ns#type http://dbpedia.org/class/yago/WikicatAmericanVoiceActors\n",
      "http://dbpedia.org/resource/Tom_Hanks http://www.w3.org/1999/02/22-rdf-syntax-ns#type http://dbpedia.org/ontology/Animal\n",
      "http://dbpedia.org/resource/Tom_Hanks http://www.w3.org/1999/02/22-rdf-syntax-ns#type http://dbpedia.org/ontology/Eukaryote\n",
      "http://dbpedia.org/resource/Tom_Hanks http://www.w3.org/1999/02/22-rdf-syntax-ns#type http://dbpedia.org/ontology/Species\n",
      "http://dbpedia.org/resource/Tom_Hanks http://www.w3.org/1999/02/22-rdf-syntax-ns#type http://dbpedia.org/class/yago/WikicatCaliforniaStateUniversity,SacramentoAlumni\n",
      "http://dbpedia.org/resource/Tom_Hanks http://www.w3.org/1999/02/22-rdf-syntax-ns#type http://dbpedia.org/class/yago/WikicatChabotCollegeAlumni\n",
      "http://dbpedia.org/resource/Tom_Hanks http://www.w3.org/1999/02/22-rdf-syntax-ns#type http://schema.org/Person\n",
      "http://dbpedia.org/resource/Tom_Hanks http://www.w3.org/1999/02/22-rdf-syntax-ns#type http://dbpedia.org/class/yago/WikicatLGBTRightsActivistsFromTheUnitedStates\n",
      "http://dbpedia.org/resource/Tom_Hanks http://www.w3.org/1999/02/22-rdf-syntax-ns#type http://dbpedia.org/class/yago/WikicatLivingPeople\n",
      "http://dbpedia.org/resource/Tom_Hanks http://www.w3.org/1999/02/22-rdf-syntax-ns#type http://dbpedia.org/class/yago/WikicatWritersFromLosAngeles,California\n",
      "http://dbpedia.org/resource/Tom_Hanks http://www.w3.org/1999/02/22-rdf-syntax-ns#type http://dbpedia.org/class/yago/WikicatPeopleFromCalifornia\n",
      "http://dbpedia.org/resource/Tom_Hanks http://www.w3.org/1999/02/22-rdf-syntax-ns#type http://dbpedia.org/class/yago/WikicatPeopleFromConcord,California\n",
      "http://dbpedia.org/resource/Tom_Hanks http://www.w3.org/1999/02/22-rdf-syntax-ns#type http://dbpedia.org/class/yago/WikicatPeopleFromOakland,California\n",
      "http://dbpedia.org/resource/Tom_Hanks http://www.w3.org/1999/02/22-rdf-syntax-ns#type http://dbpedia.org/class/yago/WikicatSpaceAdvocates\n",
      "http://dbpedia.org/resource/Tom_Hanks http://www.w3.org/1999/02/22-rdf-syntax-ns#type http://dbpedia.org/class/yago/Actor109765278\n",
      "http://dbpedia.org/resource/Tom_Hanks http://www.w3.org/1999/02/22-rdf-syntax-ns#type http://dbpedia.org/class/yago/Actress109767700\n",
      "http://dbpedia.org/resource/Tom_Hanks http://www.w3.org/1999/02/22-rdf-syntax-ns#type http://dbpedia.org/class/yago/Advocate109774783\n",
      "http://dbpedia.org/resource/Tom_Hanks http://www.w3.org/1999/02/22-rdf-syntax-ns#type http://dbpedia.org/class/yago/Alumnus109786338\n",
      "http://dbpedia.org/resource/Tom_Hanks http://www.w3.org/1999/02/22-rdf-syntax-ns#type http://dbpedia.org/class/yago/CausalAgent100007347\n",
      "http://dbpedia.org/resource/Tom_Hanks http://www.w3.org/1999/02/22-rdf-syntax-ns#type http://dbpedia.org/class/yago/Communicator109610660\n",
      "http://dbpedia.org/resource/Tom_Hanks http://www.w3.org/1999/02/22-rdf-syntax-ns#type http://dbpedia.org/class/yago/Creator109614315\n",
      "http://dbpedia.org/resource/Tom_Hanks http://www.w3.org/1999/02/22-rdf-syntax-ns#type http://dbpedia.org/class/yago/Disputant109615465\n",
      "http://dbpedia.org/resource/Tom_Hanks http://www.w3.org/1999/02/22-rdf-syntax-ns#type http://dbpedia.org/class/yago/Emigrant110051975\n",
      "http://dbpedia.org/resource/Tom_Hanks http://www.w3.org/1999/02/22-rdf-syntax-ns#type http://dbpedia.org/class/yago/Entertainer109616922\n",
      "http://dbpedia.org/resource/Tom_Hanks http://www.w3.org/1999/02/22-rdf-syntax-ns#type http://dbpedia.org/class/yago/FilmDirector110088200\n",
      "http://dbpedia.org/resource/Tom_Hanks http://www.w3.org/1999/02/22-rdf-syntax-ns#type http://dbpedia.org/class/yago/FilmMaker110088390\n",
      "http://dbpedia.org/resource/Tom_Hanks http://www.w3.org/1999/02/22-rdf-syntax-ns#type http://dbpedia.org/class/yago/Intellectual109621545\n",
      "http://dbpedia.org/resource/Tom_Hanks http://www.w3.org/1999/02/22-rdf-syntax-ns#type http://dbpedia.org/class/yago/LivingThing100004258\n",
      "http://dbpedia.org/resource/Tom_Hanks http://www.w3.org/1999/02/22-rdf-syntax-ns#type http://dbpedia.org/class/yago/Migrant110314952\n",
      "http://dbpedia.org/resource/Tom_Hanks http://www.w3.org/1999/02/22-rdf-syntax-ns#type http://dbpedia.org/class/yago/Militant110315837\n",
      "http://dbpedia.org/resource/Tom_Hanks http://www.w3.org/1999/02/22-rdf-syntax-ns#type http://dbpedia.org/class/yago/Object100002684\n",
      "http://dbpedia.org/resource/Tom_Hanks http://www.w3.org/1999/02/22-rdf-syntax-ns#type http://dbpedia.org/class/yago/Organism100004475\n",
      "http://dbpedia.org/resource/Tom_Hanks http://www.w3.org/1999/02/22-rdf-syntax-ns#type http://dbpedia.org/class/yago/Performer110415638\n",
      "http://dbpedia.org/resource/Tom_Hanks http://www.w3.org/1999/02/22-rdf-syntax-ns#type http://dbpedia.org/class/yago/Person100007846\n",
      "http://dbpedia.org/resource/Tom_Hanks http://www.w3.org/1999/02/22-rdf-syntax-ns#type http://dbpedia.org/class/yago/PhysicalEntity100001930\n",
      "http://dbpedia.org/resource/Tom_Hanks http://www.w3.org/1999/02/22-rdf-syntax-ns#type http://dbpedia.org/class/yago/Producer110480018\n",
      "http://dbpedia.org/resource/Tom_Hanks http://www.w3.org/1999/02/22-rdf-syntax-ns#type http://dbpedia.org/class/yago/Reformer110515194\n",
      "http://dbpedia.org/resource/Tom_Hanks http://www.w3.org/1999/02/22-rdf-syntax-ns#type http://dbpedia.org/class/yago/Writer110794014\n",
      "http://dbpedia.org/resource/Tom_Hanks http://www.w3.org/1999/02/22-rdf-syntax-ns#type http://dbpedia.org/class/yago/YagoLegalActor\n",
      "http://dbpedia.org/resource/Tom_Hanks http://www.w3.org/1999/02/22-rdf-syntax-ns#type http://dbpedia.org/class/yago/YagoLegalActorGeo\n",
      "http://dbpedia.org/resource/Tom_Hanks http://www.w3.org/1999/02/22-rdf-syntax-ns#type http://dbpedia.org/class/yago/Scholar110557854\n",
      "http://dbpedia.org/resource/Tom_Hanks http://www.w3.org/1999/02/22-rdf-syntax-ns#type http://dbpedia.org/class/yago/Screenwriter110564400\n",
      "http://dbpedia.org/resource/Tom_Hanks http://www.w3.org/1999/02/22-rdf-syntax-ns#type http://dbpedia.org/class/yago/Scriptwriter110564905\n",
      "http://dbpedia.org/resource/Tom_Hanks http://www.w3.org/1999/02/22-rdf-syntax-ns#type http://dbpedia.org/class/yago/Traveler109629752\n",
      "http://dbpedia.org/resource/Tom_Hanks http://www.w3.org/1999/02/22-rdf-syntax-ns#type http://dbpedia.org/class/yago/Whole100003553\n",
      "http://dbpedia.org/resource/Tom_Hanks http://www.w3.org/1999/02/22-rdf-syntax-ns#type http://dbpedia.org/class/yago/Wikicat20th-centuryActors\n",
      "http://dbpedia.org/resource/Tom_Hanks http://www.w3.org/1999/02/22-rdf-syntax-ns#type http://dbpedia.org/class/yago/Wikicat20th-centuryAmericanActors\n",
      "http://dbpedia.org/resource/Tom_Hanks http://www.w3.org/1999/02/22-rdf-syntax-ns#type http://dbpedia.org/class/yago/Wikicat20th-centuryAmericanMaleActors\n",
      "http://dbpedia.org/resource/Tom_Hanks http://www.w3.org/1999/02/22-rdf-syntax-ns#type http://dbpedia.org/class/yago/Wikicat21st-centuryActors\n",
      "http://dbpedia.org/resource/Tom_Hanks http://www.w3.org/1999/02/22-rdf-syntax-ns#type http://dbpedia.org/class/yago/Wikicat21st-centuryAmericanActors\n",
      "http://dbpedia.org/resource/Tom_Hanks http://www.w3.org/1999/02/22-rdf-syntax-ns#type http://dbpedia.org/class/yago/Wikicat21st-centuryAmericanMaleActors\n",
      "http://dbpedia.org/resource/Tom_Hanks http://www.w3.org/1999/02/22-rdf-syntax-ns#type http://dbpedia.org/class/yago/WikicatActors\n",
      "http://dbpedia.org/resource/Tom_Hanks http://www.w3.org/1999/02/22-rdf-syntax-ns#type http://dbpedia.org/class/yago/WikicatActorsFromCalifornia\n",
      "http://dbpedia.org/resource/Tom_Hanks http://www.w3.org/1999/02/22-rdf-syntax-ns#type http://dbpedia.org/class/yago/WikicatActressesFromSacramento,California\n",
      "http://dbpedia.org/resource/Tom_Hanks http://www.w3.org/1999/02/22-rdf-syntax-ns#type http://dbpedia.org/class/yago/WikicatFilmDirectorsFromCalifornia\n",
      "http://dbpedia.org/resource/Tom_Hanks http://www.w3.org/1999/02/22-rdf-syntax-ns#type http://dbpedia.org/class/yago/WikicatFilmProducers\n",
      "http://dbpedia.org/resource/Tom_Hanks http://www.w3.org/1999/02/22-rdf-syntax-ns#type http://dbpedia.org/class/yago/WikicatPortugueseEmigrantsToTheUnitedStates\n",
      "http://dbpedia.org/resource/Category:Tom_Hanks http://www.w3.org/2000/01/rdf-schema#label Tom Hanks\n",
      "http://dbpedia.org/resource/Tom_Hanks http://www.w3.org/2000/01/rdf-schema#label Tom Hanks\n",
      "http://dbpedia.org/resource/Tom_Hanks http://www.w3.org/2000/01/rdf-schema#label توم هانكس\n",
      "http://dbpedia.org/resource/Tom_Hanks http://www.w3.org/2000/01/rdf-schema#label Tom Hanks\n",
      "http://dbpedia.org/resource/Tom_Hanks http://www.w3.org/2000/01/rdf-schema#label Tom Hanks\n",
      "http://dbpedia.org/resource/Tom_Hanks http://www.w3.org/2000/01/rdf-schema#label Tom Hanks\n",
      "http://dbpedia.org/resource/Tom_Hanks http://www.w3.org/2000/01/rdf-schema#label Τομ Χανκς\n",
      "http://dbpedia.org/resource/Tom_Hanks http://www.w3.org/2000/01/rdf-schema#label Tom Hanks\n",
      "http://dbpedia.org/resource/Tom_Hanks http://www.w3.org/2000/01/rdf-schema#label Tom Hanks\n",
      "http://dbpedia.org/resource/Tom_Hanks http://www.w3.org/2000/01/rdf-schema#label Tom Hanks\n",
      "http://dbpedia.org/resource/Tom_Hanks http://www.w3.org/2000/01/rdf-schema#label Tom Hanks\n",
      "http://dbpedia.org/resource/Tom_Hanks http://www.w3.org/2000/01/rdf-schema#label Tom Hanks\n",
      "http://dbpedia.org/resource/Tom_Hanks http://www.w3.org/2000/01/rdf-schema#label Tom Hanks\n",
      "http://dbpedia.org/resource/Tom_Hanks http://www.w3.org/2000/01/rdf-schema#label Tom Hanks\n",
      "http://dbpedia.org/resource/Tom_Hanks http://www.w3.org/2000/01/rdf-schema#label 톰 행크스\n",
      "http://dbpedia.org/resource/Tom_Hanks http://www.w3.org/2000/01/rdf-schema#label Tom Hanks\n",
      "http://dbpedia.org/resource/Tom_Hanks http://www.w3.org/2000/01/rdf-schema#label トム・ハンクス\n",
      "http://dbpedia.org/resource/Tom_Hanks http://www.w3.org/2000/01/rdf-schema#label Tom Hanks\n",
      "http://dbpedia.org/resource/Tom_Hanks http://www.w3.org/2000/01/rdf-schema#label Tom Hanks\n",
      "http://dbpedia.org/resource/Tom_Hanks http://www.w3.org/2000/01/rdf-schema#label Tom Hanks\n"
     ]
    }
   ],
   "source": [
    "from SPARQLWrapper import SPARQLWrapper, JSON\n",
    "\n",
    "# Define the SPARQL endpoint\n",
    "sparql = SPARQLWrapper(\"http://dbpedia.org/sparql\")\n",
    "\n",
    "# Define the SPARQL query\n",
    "query = \"\"\"\n",
    "PREFIX rdfs: <http://www.w3.org/2000/01/rdf-schema#>\n",
    "\n",
    "SELECT ?subject ?predicate ?object\n",
    "WHERE {\n",
    "  {\n",
    "    ?subject ?predicate ?object .\n",
    "    ?subject rdfs:label \"Tom Hanks\"@en .\n",
    "  }\n",
    "  UNION\n",
    "  {\n",
    "    ?subject ?predicate ?object .\n",
    "    ?subject rdfs:label \"Killing Lincoln\"@en .\n",
    "  }\n",
    "}\n",
    "LIMIT 100\n",
    "\"\"\"\n",
    "\n",
    "# Set the query\n",
    "sparql.setQuery(query)\n",
    "\n",
    "# Set the return format to JSON\n",
    "sparql.setReturnFormat(JSON)\n",
    "\n",
    "# Execute the query and convert the result to a Python dictionary\n",
    "results = sparql.query().convert()\n",
    "\n",
    "# Process and print the results\n",
    "for result in results[\"results\"][\"bindings\"]:\n",
    "    print(f\"{result['subject']['value']} {result['predicate']['value']} {result['object']['value']}\")"
   ]
  },
  {
   "cell_type": "code",
   "execution_count": 26,
   "metadata": {
    "colab": {
     "base_uri": "https://localhost:8080/"
    },
    "executionInfo": {
     "elapsed": 7006,
     "status": "ok",
     "timestamp": 1742911736527,
     "user": {
      "displayName": "Diana Kao",
      "userId": "15819315298964528389"
     },
     "user_tz": 240
    },
    "id": "px7GFRaEzxWA",
    "outputId": "f33f18a6-b7cd-453c-96e3-fa3460d148af"
   },
   "outputs": [
    {
     "name": "stdout",
     "output_type": "stream",
     "text": [
      "Requirement already satisfied: litellm in /usr/local/lib/python3.11/dist-packages (1.63.14)\n",
      "Requirement already satisfied: aiohttp in /usr/local/lib/python3.11/dist-packages (from litellm) (3.11.14)\n",
      "Requirement already satisfied: click in /usr/local/lib/python3.11/dist-packages (from litellm) (8.1.8)\n",
      "Requirement already satisfied: httpx>=0.23.0 in /usr/local/lib/python3.11/dist-packages (from litellm) (0.28.1)\n",
      "Requirement already satisfied: importlib-metadata>=6.8.0 in /usr/local/lib/python3.11/dist-packages (from litellm) (8.6.1)\n",
      "Requirement already satisfied: jinja2<4.0.0,>=3.1.2 in /usr/local/lib/python3.11/dist-packages (from litellm) (3.1.6)\n",
      "Requirement already satisfied: jsonschema<5.0.0,>=4.22.0 in /usr/local/lib/python3.11/dist-packages (from litellm) (4.23.0)\n",
      "Requirement already satisfied: openai>=1.66.1 in /usr/local/lib/python3.11/dist-packages (from litellm) (1.66.5)\n",
      "Requirement already satisfied: pydantic<3.0.0,>=2.0.0 in /usr/local/lib/python3.11/dist-packages (from litellm) (2.10.6)\n",
      "Requirement already satisfied: python-dotenv>=0.2.0 in /usr/local/lib/python3.11/dist-packages (from litellm) (1.1.0)\n",
      "Requirement already satisfied: tiktoken>=0.7.0 in /usr/local/lib/python3.11/dist-packages (from litellm) (0.9.0)\n",
      "Requirement already satisfied: tokenizers in /usr/local/lib/python3.11/dist-packages (from litellm) (0.21.1)\n",
      "Requirement already satisfied: anyio in /usr/local/lib/python3.11/dist-packages (from httpx>=0.23.0->litellm) (4.9.0)\n",
      "Requirement already satisfied: certifi in /usr/local/lib/python3.11/dist-packages (from httpx>=0.23.0->litellm) (2025.1.31)\n",
      "Requirement already satisfied: httpcore==1.* in /usr/local/lib/python3.11/dist-packages (from httpx>=0.23.0->litellm) (1.0.7)\n",
      "Requirement already satisfied: idna in /usr/local/lib/python3.11/dist-packages (from httpx>=0.23.0->litellm) (3.10)\n",
      "Requirement already satisfied: h11<0.15,>=0.13 in /usr/local/lib/python3.11/dist-packages (from httpcore==1.*->httpx>=0.23.0->litellm) (0.14.0)\n",
      "Requirement already satisfied: zipp>=3.20 in /usr/local/lib/python3.11/dist-packages (from importlib-metadata>=6.8.0->litellm) (3.21.0)\n",
      "Requirement already satisfied: MarkupSafe>=2.0 in /usr/local/lib/python3.11/dist-packages (from jinja2<4.0.0,>=3.1.2->litellm) (3.0.2)\n",
      "Requirement already satisfied: attrs>=22.2.0 in /usr/local/lib/python3.11/dist-packages (from jsonschema<5.0.0,>=4.22.0->litellm) (25.3.0)\n",
      "Requirement already satisfied: jsonschema-specifications>=2023.03.6 in /usr/local/lib/python3.11/dist-packages (from jsonschema<5.0.0,>=4.22.0->litellm) (2024.10.1)\n",
      "Requirement already satisfied: referencing>=0.28.4 in /usr/local/lib/python3.11/dist-packages (from jsonschema<5.0.0,>=4.22.0->litellm) (0.36.2)\n",
      "Requirement already satisfied: rpds-py>=0.7.1 in /usr/local/lib/python3.11/dist-packages (from jsonschema<5.0.0,>=4.22.0->litellm) (0.23.1)\n",
      "Requirement already satisfied: distro<2,>=1.7.0 in /usr/local/lib/python3.11/dist-packages (from openai>=1.66.1->litellm) (1.9.0)\n",
      "Requirement already satisfied: jiter<1,>=0.4.0 in /usr/local/lib/python3.11/dist-packages (from openai>=1.66.1->litellm) (0.9.0)\n",
      "Requirement already satisfied: sniffio in /usr/local/lib/python3.11/dist-packages (from openai>=1.66.1->litellm) (1.3.1)\n",
      "Requirement already satisfied: tqdm>4 in /usr/local/lib/python3.11/dist-packages (from openai>=1.66.1->litellm) (4.67.1)\n",
      "Requirement already satisfied: typing-extensions<5,>=4.11 in /usr/local/lib/python3.11/dist-packages (from openai>=1.66.1->litellm) (4.12.2)\n",
      "Requirement already satisfied: annotated-types>=0.6.0 in /usr/local/lib/python3.11/dist-packages (from pydantic<3.0.0,>=2.0.0->litellm) (0.7.0)\n",
      "Requirement already satisfied: pydantic-core==2.27.2 in /usr/local/lib/python3.11/dist-packages (from pydantic<3.0.0,>=2.0.0->litellm) (2.27.2)\n",
      "Requirement already satisfied: regex>=2022.1.18 in /usr/local/lib/python3.11/dist-packages (from tiktoken>=0.7.0->litellm) (2024.11.6)\n",
      "Requirement already satisfied: requests>=2.26.0 in /usr/local/lib/python3.11/dist-packages (from tiktoken>=0.7.0->litellm) (2.32.3)\n",
      "Requirement already satisfied: aiohappyeyeballs>=2.3.0 in /usr/local/lib/python3.11/dist-packages (from aiohttp->litellm) (2.6.1)\n",
      "Requirement already satisfied: aiosignal>=1.1.2 in /usr/local/lib/python3.11/dist-packages (from aiohttp->litellm) (1.3.2)\n",
      "Requirement already satisfied: frozenlist>=1.1.1 in /usr/local/lib/python3.11/dist-packages (from aiohttp->litellm) (1.5.0)\n",
      "Requirement already satisfied: multidict<7.0,>=4.5 in /usr/local/lib/python3.11/dist-packages (from aiohttp->litellm) (6.2.0)\n",
      "Requirement already satisfied: propcache>=0.2.0 in /usr/local/lib/python3.11/dist-packages (from aiohttp->litellm) (0.3.0)\n",
      "Requirement already satisfied: yarl<2.0,>=1.17.0 in /usr/local/lib/python3.11/dist-packages (from aiohttp->litellm) (1.18.3)\n",
      "Requirement already satisfied: huggingface-hub<1.0,>=0.16.4 in /usr/local/lib/python3.11/dist-packages (from tokenizers->litellm) (0.29.3)\n",
      "Requirement already satisfied: filelock in /usr/local/lib/python3.11/dist-packages (from huggingface-hub<1.0,>=0.16.4->tokenizers->litellm) (3.18.0)\n",
      "Requirement already satisfied: fsspec>=2023.5.0 in /usr/local/lib/python3.11/dist-packages (from huggingface-hub<1.0,>=0.16.4->tokenizers->litellm) (2025.3.0)\n",
      "Requirement already satisfied: packaging>=20.9 in /usr/local/lib/python3.11/dist-packages (from huggingface-hub<1.0,>=0.16.4->tokenizers->litellm) (24.2)\n",
      "Requirement already satisfied: pyyaml>=5.1 in /usr/local/lib/python3.11/dist-packages (from huggingface-hub<1.0,>=0.16.4->tokenizers->litellm) (6.0.2)\n",
      "Requirement already satisfied: charset-normalizer<4,>=2 in /usr/local/lib/python3.11/dist-packages (from requests>=2.26.0->tiktoken>=0.7.0->litellm) (3.4.1)\n",
      "Requirement already satisfied: urllib3<3,>=1.21.1 in /usr/local/lib/python3.11/dist-packages (from requests>=2.26.0->tiktoken>=0.7.0->litellm) (2.3.0)\n"
     ]
    }
   ],
   "source": [
    "# Install litellm, which acts as a universal API wrapper for multiple Large Language Models (LLMs), including OpenAI, Anthropic, Mistral, Llama, and more.\n",
    "# It provides a simple interface to interact with different LLM providers using a single API call.\n",
    "!pip install litellm"
   ]
  },
  {
   "cell_type": "code",
   "execution_count": 27,
   "metadata": {
    "executionInfo": {
     "elapsed": 6457,
     "status": "ok",
     "timestamp": 1742911759385,
     "user": {
      "displayName": "Diana Kao",
      "userId": "15819315298964528389"
     },
     "user_tz": 240
    },
    "id": "Pd041WQe0e7C"
   },
   "outputs": [],
   "source": [
    "from litellm import completion\n",
    "from typing import List\n",
    "import json"
   ]
  },
  {
   "cell_type": "code",
   "execution_count": 28,
   "metadata": {
    "executionInfo": {
     "elapsed": 5,
     "status": "ok",
     "timestamp": 1742911778750,
     "user": {
      "displayName": "Diana Kao",
      "userId": "15819315298964528389"
     },
     "user_tz": 240
    },
    "id": "DOVE6YCs0fZZ"
   },
   "outputs": [],
   "source": [
    "def format_entities(ent_list:List[str]) -> str:\n",
    "    return \"\\n\\n\".join([e for e in ent_list])"
   ]
  },
  {
   "cell_type": "code",
   "execution_count": null,
   "metadata": {
    "colab": {
     "base_uri": "https://localhost:8080/"
    },
    "executionInfo": {
     "elapsed": 1623,
     "status": "ok",
     "timestamp": 1742911782237,
     "user": {
      "displayName": "Diana Kao",
      "userId": "15819315298964528389"
     },
     "user_tz": 240
    },
    "id": "STlRAdOT0iFn",
    "outputId": "2b57c6e4-93c4-4acc-b31f-346b087980b1"
   },
   "outputs": [
    {
     "name": "stderr",
     "output_type": "stream",
     "text": [
      "\u001b[92m14:09:42 - LiteLLM:WARNING\u001b[0m: model_param_helper.py:147 - Error getting transcription kwargs cannot import name 'TranscriptionCreateParamsNonStreaming' from 'openai.types.audio.transcription_create_params' (/usr/local/lib/python3.11/dist-packages/openai/types/audio/transcription_create_params.py)\n"
     ]
    },
    {
     "data": {
      "text/plain": [
       "[{'subject': 'transaction fee',\n",
       "  'relationship': 'is',\n",
       "  'object': 'subject to change'},\n",
       " {'subject': 'transaction fee',\n",
       "  'relationship': 'is',\n",
       "  'object': 'billed to the Cardmember'},\n",
       " {'subject': 'transaction fee', 'relationship': 'is', 'object': 'withdrawn'},\n",
       " {'subject': 'transaction fee',\n",
       "  'relationship': 'is',\n",
       "  'object': 'at the discretion of HDFC Bank'}]"
      ]
     },
     "execution_count": 29,
     "metadata": {},
     "output_type": "execute_result"
    },
    {
     "name": "stderr",
     "output_type": "stream",
     "text": [
      "WARNING:LiteLLM:Error getting transcription kwargs cannot import name 'TranscriptionCreateParamsNonStreaming' from 'openai.types.audio.transcription_create_params' (/usr/local/lib/python3.11/dist-packages/openai/types/audio/transcription_create_params.py)\n",
      "\u001b[92m14:09:42 - LiteLLM:WARNING\u001b[0m: model_param_helper.py:147 - Error getting transcription kwargs cannot import name 'TranscriptionCreateParamsNonStreaming' from 'openai.types.audio.transcription_create_params' (/usr/local/lib/python3.11/dist-packages/openai/types/audio/transcription_create_params.py)\n",
      "WARNING:LiteLLM:Error getting transcription kwargs cannot import name 'TranscriptionCreateParamsNonStreaming' from 'openai.types.audio.transcription_create_params' (/usr/local/lib/python3.11/dist-packages/openai/types/audio/transcription_create_params.py)\n"
     ]
    }
   ],
   "source": [
    "system_message = \"\"\"Extract all the relationships between the following entities ONLY based on the given context.\n",
    "Return a list of JSON objects. For example:\n",
    "\n",
    "<Examples>\n",
    "    [{{\"subject\": \"John\", \"relationship\": \"lives in\", \"object\": \"US\"}},\n",
    "    {{\"subject\": \"Eifel towel\", \"relationship\": \"is located in\", \"object\": \"Paris\"}},\n",
    "    {{\"subject\": \"Hayao Miyazaki\", \"relationship\": \"is\", \"object\": \"Japanese animator\"}}]\n",
    "</Examples>\n",
    "\n",
    "- ONLY return triples and nothing else. None of 'subject', 'relationship' and 'object' can be empty.\n",
    "\n",
    "Entities: \\n\\n{entities}\n",
    "\n",
    "\"\"\"\n",
    "# example for a particular set of entities\n",
    "i = 3\n",
    "\n",
    "ents = format_entities(chunks_entities[i])\n",
    "text = chunks[i]\n",
    "\n",
    "user_message = \"Context: {text}\\n\\nTriples:\"\n",
    "response = completion(\n",
    "  api_key=\"\", #Enter your own API Key here\n",
    "  model=\"gpt-3.5-turbo\",\n",
    "  messages=[{\"content\": system_message.format(entities=ents),\"role\": \"system\"}, {\"content\": user_message.format(text=text),\"role\": \"user\"}],\n",
    "  max_tokens=1000,\n",
    "  format = \"json\"\n",
    ")\n",
    "\n",
    "triples = json.loads(response.choices[0].message.content)\n",
    "triples"
   ]
  },
  {
   "cell_type": "code",
   "execution_count": null,
   "metadata": {
    "colab": {
     "base_uri": "https://localhost:8080/"
    },
    "executionInfo": {
     "elapsed": 354528,
     "status": "ok",
     "timestamp": 1742912152003,
     "user": {
      "displayName": "Diana Kao",
      "userId": "15819315298964528389"
     },
     "user_tz": 240
    },
    "id": "I4fSwcJU0lmt",
    "outputId": "c4fe370b-946b-4a91-e97d-25d4bdcbf683"
   },
   "outputs": [
    {
     "name": "stderr",
     "output_type": "stream",
     "text": [
      "\r  0%|          | 0/80 [00:00<?, ?it/s]\u001b[92m14:09:58 - LiteLLM:WARNING\u001b[0m: model_param_helper.py:147 - Error getting transcription kwargs cannot import name 'TranscriptionCreateParamsNonStreaming' from 'openai.types.audio.transcription_create_params' (/usr/local/lib/python3.11/dist-packages/openai/types/audio/transcription_create_params.py)\n",
      "WARNING:LiteLLM:Error getting transcription kwargs cannot import name 'TranscriptionCreateParamsNonStreaming' from 'openai.types.audio.transcription_create_params' (/usr/local/lib/python3.11/dist-packages/openai/types/audio/transcription_create_params.py)\n",
      "\u001b[92m14:09:58 - LiteLLM:WARNING\u001b[0m: model_param_helper.py:147 - Error getting transcription kwargs cannot import name 'TranscriptionCreateParamsNonStreaming' from 'openai.types.audio.transcription_create_params' (/usr/local/lib/python3.11/dist-packages/openai/types/audio/transcription_create_params.py)\n",
      "WARNING:LiteLLM:Error getting transcription kwargs cannot import name 'TranscriptionCreateParamsNonStreaming' from 'openai.types.audio.transcription_create_params' (/usr/local/lib/python3.11/dist-packages/openai/types/audio/transcription_create_params.py)\n",
      "  1%|▏         | 1/80 [00:04<06:10,  4.69s/it]\u001b[92m14:10:02 - LiteLLM:WARNING\u001b[0m: model_param_helper.py:147 - Error getting transcription kwargs cannot import name 'TranscriptionCreateParamsNonStreaming' from 'openai.types.audio.transcription_create_params' (/usr/local/lib/python3.11/dist-packages/openai/types/audio/transcription_create_params.py)\n",
      "WARNING:LiteLLM:Error getting transcription kwargs cannot import name 'TranscriptionCreateParamsNonStreaming' from 'openai.types.audio.transcription_create_params' (/usr/local/lib/python3.11/dist-packages/openai/types/audio/transcription_create_params.py)\n",
      "\u001b[92m14:10:02 - LiteLLM:WARNING\u001b[0m: model_param_helper.py:147 - Error getting transcription kwargs cannot import name 'TranscriptionCreateParamsNonStreaming' from 'openai.types.audio.transcription_create_params' (/usr/local/lib/python3.11/dist-packages/openai/types/audio/transcription_create_params.py)\n",
      "WARNING:LiteLLM:Error getting transcription kwargs cannot import name 'TranscriptionCreateParamsNonStreaming' from 'openai.types.audio.transcription_create_params' (/usr/local/lib/python3.11/dist-packages/openai/types/audio/transcription_create_params.py)\n",
      "  2%|▎         | 2/80 [00:08<05:32,  4.26s/it]\u001b[92m14:10:08 - LiteLLM:WARNING\u001b[0m: model_param_helper.py:147 - Error getting transcription kwargs cannot import name 'TranscriptionCreateParamsNonStreaming' from 'openai.types.audio.transcription_create_params' (/usr/local/lib/python3.11/dist-packages/openai/types/audio/transcription_create_params.py)\n",
      "WARNING:LiteLLM:Error getting transcription kwargs cannot import name 'TranscriptionCreateParamsNonStreaming' from 'openai.types.audio.transcription_create_params' (/usr/local/lib/python3.11/dist-packages/openai/types/audio/transcription_create_params.py)\n",
      "\u001b[92m14:10:08 - LiteLLM:WARNING\u001b[0m: model_param_helper.py:147 - Error getting transcription kwargs cannot import name 'TranscriptionCreateParamsNonStreaming' from 'openai.types.audio.transcription_create_params' (/usr/local/lib/python3.11/dist-packages/openai/types/audio/transcription_create_params.py)\n",
      "WARNING:LiteLLM:Error getting transcription kwargs cannot import name 'TranscriptionCreateParamsNonStreaming' from 'openai.types.audio.transcription_create_params' (/usr/local/lib/python3.11/dist-packages/openai/types/audio/transcription_create_params.py)\n",
      "  4%|▍         | 3/80 [00:13<05:57,  4.65s/it]\u001b[92m14:10:12 - LiteLLM:WARNING\u001b[0m: model_param_helper.py:147 - Error getting transcription kwargs cannot import name 'TranscriptionCreateParamsNonStreaming' from 'openai.types.audio.transcription_create_params' (/usr/local/lib/python3.11/dist-packages/openai/types/audio/transcription_create_params.py)\n",
      "WARNING:LiteLLM:Error getting transcription kwargs cannot import name 'TranscriptionCreateParamsNonStreaming' from 'openai.types.audio.transcription_create_params' (/usr/local/lib/python3.11/dist-packages/openai/types/audio/transcription_create_params.py)\n",
      "\u001b[92m14:10:12 - LiteLLM:WARNING\u001b[0m: model_param_helper.py:147 - Error getting transcription kwargs cannot import name 'TranscriptionCreateParamsNonStreaming' from 'openai.types.audio.transcription_create_params' (/usr/local/lib/python3.11/dist-packages/openai/types/audio/transcription_create_params.py)\n",
      "WARNING:LiteLLM:Error getting transcription kwargs cannot import name 'TranscriptionCreateParamsNonStreaming' from 'openai.types.audio.transcription_create_params' (/usr/local/lib/python3.11/dist-packages/openai/types/audio/transcription_create_params.py)\n",
      "  5%|▌         | 4/80 [00:17<05:39,  4.46s/it]\u001b[92m14:10:15 - LiteLLM:WARNING\u001b[0m: model_param_helper.py:147 - Error getting transcription kwargs cannot import name 'TranscriptionCreateParamsNonStreaming' from 'openai.types.audio.transcription_create_params' (/usr/local/lib/python3.11/dist-packages/openai/types/audio/transcription_create_params.py)\n",
      "WARNING:LiteLLM:Error getting transcription kwargs cannot import name 'TranscriptionCreateParamsNonStreaming' from 'openai.types.audio.transcription_create_params' (/usr/local/lib/python3.11/dist-packages/openai/types/audio/transcription_create_params.py)\n",
      "\u001b[92m14:10:15 - LiteLLM:WARNING\u001b[0m: model_param_helper.py:147 - Error getting transcription kwargs cannot import name 'TranscriptionCreateParamsNonStreaming' from 'openai.types.audio.transcription_create_params' (/usr/local/lib/python3.11/dist-packages/openai/types/audio/transcription_create_params.py)\n",
      "WARNING:LiteLLM:Error getting transcription kwargs cannot import name 'TranscriptionCreateParamsNonStreaming' from 'openai.types.audio.transcription_create_params' (/usr/local/lib/python3.11/dist-packages/openai/types/audio/transcription_create_params.py)\n",
      "  6%|▋         | 5/80 [00:21<05:08,  4.11s/it]\u001b[92m14:10:20 - LiteLLM:WARNING\u001b[0m: model_param_helper.py:147 - Error getting transcription kwargs cannot import name 'TranscriptionCreateParamsNonStreaming' from 'openai.types.audio.transcription_create_params' (/usr/local/lib/python3.11/dist-packages/openai/types/audio/transcription_create_params.py)\n",
      "WARNING:LiteLLM:Error getting transcription kwargs cannot import name 'TranscriptionCreateParamsNonStreaming' from 'openai.types.audio.transcription_create_params' (/usr/local/lib/python3.11/dist-packages/openai/types/audio/transcription_create_params.py)\n",
      "\u001b[92m14:10:20 - LiteLLM:WARNING\u001b[0m: model_param_helper.py:147 - Error getting transcription kwargs cannot import name 'TranscriptionCreateParamsNonStreaming' from 'openai.types.audio.transcription_create_params' (/usr/local/lib/python3.11/dist-packages/openai/types/audio/transcription_create_params.py)\n",
      "WARNING:LiteLLM:Error getting transcription kwargs cannot import name 'TranscriptionCreateParamsNonStreaming' from 'openai.types.audio.transcription_create_params' (/usr/local/lib/python3.11/dist-packages/openai/types/audio/transcription_create_params.py)\n",
      "  8%|▊         | 6/80 [00:26<05:16,  4.28s/it]\u001b[92m14:10:23 - LiteLLM:WARNING\u001b[0m: model_param_helper.py:147 - Error getting transcription kwargs cannot import name 'TranscriptionCreateParamsNonStreaming' from 'openai.types.audio.transcription_create_params' (/usr/local/lib/python3.11/dist-packages/openai/types/audio/transcription_create_params.py)\n",
      "WARNING:LiteLLM:Error getting transcription kwargs cannot import name 'TranscriptionCreateParamsNonStreaming' from 'openai.types.audio.transcription_create_params' (/usr/local/lib/python3.11/dist-packages/openai/types/audio/transcription_create_params.py)\n",
      "\u001b[92m14:10:23 - LiteLLM:WARNING\u001b[0m: model_param_helper.py:147 - Error getting transcription kwargs cannot import name 'TranscriptionCreateParamsNonStreaming' from 'openai.types.audio.transcription_create_params' (/usr/local/lib/python3.11/dist-packages/openai/types/audio/transcription_create_params.py)\n",
      "WARNING:LiteLLM:Error getting transcription kwargs cannot import name 'TranscriptionCreateParamsNonStreaming' from 'openai.types.audio.transcription_create_params' (/usr/local/lib/python3.11/dist-packages/openai/types/audio/transcription_create_params.py)\n",
      "  9%|▉         | 7/80 [00:29<04:54,  4.03s/it]\u001b[92m14:10:28 - LiteLLM:WARNING\u001b[0m: model_param_helper.py:147 - Error getting transcription kwargs cannot import name 'TranscriptionCreateParamsNonStreaming' from 'openai.types.audio.transcription_create_params' (/usr/local/lib/python3.11/dist-packages/openai/types/audio/transcription_create_params.py)\n",
      "WARNING:LiteLLM:Error getting transcription kwargs cannot import name 'TranscriptionCreateParamsNonStreaming' from 'openai.types.audio.transcription_create_params' (/usr/local/lib/python3.11/dist-packages/openai/types/audio/transcription_create_params.py)\n",
      "\u001b[92m14:10:28 - LiteLLM:WARNING\u001b[0m: model_param_helper.py:147 - Error getting transcription kwargs cannot import name 'TranscriptionCreateParamsNonStreaming' from 'openai.types.audio.transcription_create_params' (/usr/local/lib/python3.11/dist-packages/openai/types/audio/transcription_create_params.py)\n",
      "WARNING:LiteLLM:Error getting transcription kwargs cannot import name 'TranscriptionCreateParamsNonStreaming' from 'openai.types.audio.transcription_create_params' (/usr/local/lib/python3.11/dist-packages/openai/types/audio/transcription_create_params.py)\n",
      " 10%|█         | 8/80 [00:34<05:05,  4.25s/it]\u001b[92m14:10:32 - LiteLLM:WARNING\u001b[0m: model_param_helper.py:147 - Error getting transcription kwargs cannot import name 'TranscriptionCreateParamsNonStreaming' from 'openai.types.audio.transcription_create_params' (/usr/local/lib/python3.11/dist-packages/openai/types/audio/transcription_create_params.py)\n",
      "WARNING:LiteLLM:Error getting transcription kwargs cannot import name 'TranscriptionCreateParamsNonStreaming' from 'openai.types.audio.transcription_create_params' (/usr/local/lib/python3.11/dist-packages/openai/types/audio/transcription_create_params.py)\n",
      "\u001b[92m14:10:32 - LiteLLM:WARNING\u001b[0m: model_param_helper.py:147 - Error getting transcription kwargs cannot import name 'TranscriptionCreateParamsNonStreaming' from 'openai.types.audio.transcription_create_params' (/usr/local/lib/python3.11/dist-packages/openai/types/audio/transcription_create_params.py)\n",
      "WARNING:LiteLLM:Error getting transcription kwargs cannot import name 'TranscriptionCreateParamsNonStreaming' from 'openai.types.audio.transcription_create_params' (/usr/local/lib/python3.11/dist-packages/openai/types/audio/transcription_create_params.py)\n",
      " 11%|█▏        | 9/80 [00:38<04:58,  4.21s/it]\u001b[92m14:10:38 - LiteLLM:WARNING\u001b[0m: model_param_helper.py:147 - Error getting transcription kwargs cannot import name 'TranscriptionCreateParamsNonStreaming' from 'openai.types.audio.transcription_create_params' (/usr/local/lib/python3.11/dist-packages/openai/types/audio/transcription_create_params.py)\n",
      "WARNING:LiteLLM:Error getting transcription kwargs cannot import name 'TranscriptionCreateParamsNonStreaming' from 'openai.types.audio.transcription_create_params' (/usr/local/lib/python3.11/dist-packages/openai/types/audio/transcription_create_params.py)\n",
      "\u001b[92m14:10:38 - LiteLLM:WARNING\u001b[0m: model_param_helper.py:147 - Error getting transcription kwargs cannot import name 'TranscriptionCreateParamsNonStreaming' from 'openai.types.audio.transcription_create_params' (/usr/local/lib/python3.11/dist-packages/openai/types/audio/transcription_create_params.py)\n",
      "WARNING:LiteLLM:Error getting transcription kwargs cannot import name 'TranscriptionCreateParamsNonStreaming' from 'openai.types.audio.transcription_create_params' (/usr/local/lib/python3.11/dist-packages/openai/types/audio/transcription_create_params.py)\n",
      " 12%|█▎        | 10/80 [00:44<05:32,  4.75s/it]\u001b[92m14:10:42 - LiteLLM:WARNING\u001b[0m: model_param_helper.py:147 - Error getting transcription kwargs cannot import name 'TranscriptionCreateParamsNonStreaming' from 'openai.types.audio.transcription_create_params' (/usr/local/lib/python3.11/dist-packages/openai/types/audio/transcription_create_params.py)\n",
      "WARNING:LiteLLM:Error getting transcription kwargs cannot import name 'TranscriptionCreateParamsNonStreaming' from 'openai.types.audio.transcription_create_params' (/usr/local/lib/python3.11/dist-packages/openai/types/audio/transcription_create_params.py)\n",
      "\u001b[92m14:10:42 - LiteLLM:WARNING\u001b[0m: model_param_helper.py:147 - Error getting transcription kwargs cannot import name 'TranscriptionCreateParamsNonStreaming' from 'openai.types.audio.transcription_create_params' (/usr/local/lib/python3.11/dist-packages/openai/types/audio/transcription_create_params.py)\n",
      "WARNING:LiteLLM:Error getting transcription kwargs cannot import name 'TranscriptionCreateParamsNonStreaming' from 'openai.types.audio.transcription_create_params' (/usr/local/lib/python3.11/dist-packages/openai/types/audio/transcription_create_params.py)\n",
      " 14%|█▍        | 11/80 [00:48<05:12,  4.52s/it]\u001b[92m14:10:46 - LiteLLM:WARNING\u001b[0m: model_param_helper.py:147 - Error getting transcription kwargs cannot import name 'TranscriptionCreateParamsNonStreaming' from 'openai.types.audio.transcription_create_params' (/usr/local/lib/python3.11/dist-packages/openai/types/audio/transcription_create_params.py)\n",
      "WARNING:LiteLLM:Error getting transcription kwargs cannot import name 'TranscriptionCreateParamsNonStreaming' from 'openai.types.audio.transcription_create_params' (/usr/local/lib/python3.11/dist-packages/openai/types/audio/transcription_create_params.py)\n",
      "\u001b[92m14:10:46 - LiteLLM:WARNING\u001b[0m: model_param_helper.py:147 - Error getting transcription kwargs cannot import name 'TranscriptionCreateParamsNonStreaming' from 'openai.types.audio.transcription_create_params' (/usr/local/lib/python3.11/dist-packages/openai/types/audio/transcription_create_params.py)\n",
      "WARNING:LiteLLM:Error getting transcription kwargs cannot import name 'TranscriptionCreateParamsNonStreaming' from 'openai.types.audio.transcription_create_params' (/usr/local/lib/python3.11/dist-packages/openai/types/audio/transcription_create_params.py)\n",
      " 15%|█▌        | 12/80 [00:52<05:04,  4.47s/it]\u001b[92m14:10:50 - LiteLLM:WARNING\u001b[0m: model_param_helper.py:147 - Error getting transcription kwargs cannot import name 'TranscriptionCreateParamsNonStreaming' from 'openai.types.audio.transcription_create_params' (/usr/local/lib/python3.11/dist-packages/openai/types/audio/transcription_create_params.py)\n",
      "WARNING:LiteLLM:Error getting transcription kwargs cannot import name 'TranscriptionCreateParamsNonStreaming' from 'openai.types.audio.transcription_create_params' (/usr/local/lib/python3.11/dist-packages/openai/types/audio/transcription_create_params.py)\n",
      "\u001b[92m14:10:50 - LiteLLM:WARNING\u001b[0m: model_param_helper.py:147 - Error getting transcription kwargs cannot import name 'TranscriptionCreateParamsNonStreaming' from 'openai.types.audio.transcription_create_params' (/usr/local/lib/python3.11/dist-packages/openai/types/audio/transcription_create_params.py)\n",
      "WARNING:LiteLLM:Error getting transcription kwargs cannot import name 'TranscriptionCreateParamsNonStreaming' from 'openai.types.audio.transcription_create_params' (/usr/local/lib/python3.11/dist-packages/openai/types/audio/transcription_create_params.py)\n",
      " 16%|█▋        | 13/80 [00:56<04:35,  4.12s/it]\u001b[92m14:10:56 - LiteLLM:WARNING\u001b[0m: model_param_helper.py:147 - Error getting transcription kwargs cannot import name 'TranscriptionCreateParamsNonStreaming' from 'openai.types.audio.transcription_create_params' (/usr/local/lib/python3.11/dist-packages/openai/types/audio/transcription_create_params.py)\n",
      "WARNING:LiteLLM:Error getting transcription kwargs cannot import name 'TranscriptionCreateParamsNonStreaming' from 'openai.types.audio.transcription_create_params' (/usr/local/lib/python3.11/dist-packages/openai/types/audio/transcription_create_params.py)\n",
      "\u001b[92m14:10:56 - LiteLLM:WARNING\u001b[0m: model_param_helper.py:147 - Error getting transcription kwargs cannot import name 'TranscriptionCreateParamsNonStreaming' from 'openai.types.audio.transcription_create_params' (/usr/local/lib/python3.11/dist-packages/openai/types/audio/transcription_create_params.py)\n",
      "WARNING:LiteLLM:Error getting transcription kwargs cannot import name 'TranscriptionCreateParamsNonStreaming' from 'openai.types.audio.transcription_create_params' (/usr/local/lib/python3.11/dist-packages/openai/types/audio/transcription_create_params.py)\n",
      " 18%|█▊        | 14/80 [01:01<05:05,  4.63s/it]\u001b[92m14:11:00 - LiteLLM:WARNING\u001b[0m: model_param_helper.py:147 - Error getting transcription kwargs cannot import name 'TranscriptionCreateParamsNonStreaming' from 'openai.types.audio.transcription_create_params' (/usr/local/lib/python3.11/dist-packages/openai/types/audio/transcription_create_params.py)\n",
      "WARNING:LiteLLM:Error getting transcription kwargs cannot import name 'TranscriptionCreateParamsNonStreaming' from 'openai.types.audio.transcription_create_params' (/usr/local/lib/python3.11/dist-packages/openai/types/audio/transcription_create_params.py)\n",
      "\u001b[92m14:11:00 - LiteLLM:WARNING\u001b[0m: model_param_helper.py:147 - Error getting transcription kwargs cannot import name 'TranscriptionCreateParamsNonStreaming' from 'openai.types.audio.transcription_create_params' (/usr/local/lib/python3.11/dist-packages/openai/types/audio/transcription_create_params.py)\n",
      "WARNING:LiteLLM:Error getting transcription kwargs cannot import name 'TranscriptionCreateParamsNonStreaming' from 'openai.types.audio.transcription_create_params' (/usr/local/lib/python3.11/dist-packages/openai/types/audio/transcription_create_params.py)\n",
      " 19%|█▉        | 15/80 [01:05<04:47,  4.43s/it]\u001b[92m14:11:04 - LiteLLM:WARNING\u001b[0m: model_param_helper.py:147 - Error getting transcription kwargs cannot import name 'TranscriptionCreateParamsNonStreaming' from 'openai.types.audio.transcription_create_params' (/usr/local/lib/python3.11/dist-packages/openai/types/audio/transcription_create_params.py)\n",
      "WARNING:LiteLLM:Error getting transcription kwargs cannot import name 'TranscriptionCreateParamsNonStreaming' from 'openai.types.audio.transcription_create_params' (/usr/local/lib/python3.11/dist-packages/openai/types/audio/transcription_create_params.py)\n",
      "\u001b[92m14:11:04 - LiteLLM:WARNING\u001b[0m: model_param_helper.py:147 - Error getting transcription kwargs cannot import name 'TranscriptionCreateParamsNonStreaming' from 'openai.types.audio.transcription_create_params' (/usr/local/lib/python3.11/dist-packages/openai/types/audio/transcription_create_params.py)\n",
      "WARNING:LiteLLM:Error getting transcription kwargs cannot import name 'TranscriptionCreateParamsNonStreaming' from 'openai.types.audio.transcription_create_params' (/usr/local/lib/python3.11/dist-packages/openai/types/audio/transcription_create_params.py)\n",
      " 20%|██        | 16/80 [01:10<04:43,  4.44s/it]\u001b[92m14:11:07 - LiteLLM:WARNING\u001b[0m: model_param_helper.py:147 - Error getting transcription kwargs cannot import name 'TranscriptionCreateParamsNonStreaming' from 'openai.types.audio.transcription_create_params' (/usr/local/lib/python3.11/dist-packages/openai/types/audio/transcription_create_params.py)\n",
      "WARNING:LiteLLM:Error getting transcription kwargs cannot import name 'TranscriptionCreateParamsNonStreaming' from 'openai.types.audio.transcription_create_params' (/usr/local/lib/python3.11/dist-packages/openai/types/audio/transcription_create_params.py)\n",
      "\u001b[92m14:11:07 - LiteLLM:WARNING\u001b[0m: model_param_helper.py:147 - Error getting transcription kwargs cannot import name 'TranscriptionCreateParamsNonStreaming' from 'openai.types.audio.transcription_create_params' (/usr/local/lib/python3.11/dist-packages/openai/types/audio/transcription_create_params.py)\n",
      "WARNING:LiteLLM:Error getting transcription kwargs cannot import name 'TranscriptionCreateParamsNonStreaming' from 'openai.types.audio.transcription_create_params' (/usr/local/lib/python3.11/dist-packages/openai/types/audio/transcription_create_params.py)\n",
      " 21%|██▏       | 17/80 [01:13<04:17,  4.09s/it]\u001b[92m14:11:13 - LiteLLM:WARNING\u001b[0m: model_param_helper.py:147 - Error getting transcription kwargs cannot import name 'TranscriptionCreateParamsNonStreaming' from 'openai.types.audio.transcription_create_params' (/usr/local/lib/python3.11/dist-packages/openai/types/audio/transcription_create_params.py)\n",
      "WARNING:LiteLLM:Error getting transcription kwargs cannot import name 'TranscriptionCreateParamsNonStreaming' from 'openai.types.audio.transcription_create_params' (/usr/local/lib/python3.11/dist-packages/openai/types/audio/transcription_create_params.py)\n",
      "\u001b[92m14:11:13 - LiteLLM:WARNING\u001b[0m: model_param_helper.py:147 - Error getting transcription kwargs cannot import name 'TranscriptionCreateParamsNonStreaming' from 'openai.types.audio.transcription_create_params' (/usr/local/lib/python3.11/dist-packages/openai/types/audio/transcription_create_params.py)\n",
      "WARNING:LiteLLM:Error getting transcription kwargs cannot import name 'TranscriptionCreateParamsNonStreaming' from 'openai.types.audio.transcription_create_params' (/usr/local/lib/python3.11/dist-packages/openai/types/audio/transcription_create_params.py)\n",
      " 22%|██▎       | 18/80 [01:19<04:47,  4.64s/it]\u001b[92m14:11:17 - LiteLLM:WARNING\u001b[0m: model_param_helper.py:147 - Error getting transcription kwargs cannot import name 'TranscriptionCreateParamsNonStreaming' from 'openai.types.audio.transcription_create_params' (/usr/local/lib/python3.11/dist-packages/openai/types/audio/transcription_create_params.py)\n",
      "WARNING:LiteLLM:Error getting transcription kwargs cannot import name 'TranscriptionCreateParamsNonStreaming' from 'openai.types.audio.transcription_create_params' (/usr/local/lib/python3.11/dist-packages/openai/types/audio/transcription_create_params.py)\n",
      "\u001b[92m14:11:17 - LiteLLM:WARNING\u001b[0m: model_param_helper.py:147 - Error getting transcription kwargs cannot import name 'TranscriptionCreateParamsNonStreaming' from 'openai.types.audio.transcription_create_params' (/usr/local/lib/python3.11/dist-packages/openai/types/audio/transcription_create_params.py)\n",
      "WARNING:LiteLLM:Error getting transcription kwargs cannot import name 'TranscriptionCreateParamsNonStreaming' from 'openai.types.audio.transcription_create_params' (/usr/local/lib/python3.11/dist-packages/openai/types/audio/transcription_create_params.py)\n",
      " 24%|██▍       | 19/80 [01:23<04:32,  4.46s/it]\u001b[92m14:11:21 - LiteLLM:WARNING\u001b[0m: model_param_helper.py:147 - Error getting transcription kwargs cannot import name 'TranscriptionCreateParamsNonStreaming' from 'openai.types.audio.transcription_create_params' (/usr/local/lib/python3.11/dist-packages/openai/types/audio/transcription_create_params.py)\n",
      "WARNING:LiteLLM:Error getting transcription kwargs cannot import name 'TranscriptionCreateParamsNonStreaming' from 'openai.types.audio.transcription_create_params' (/usr/local/lib/python3.11/dist-packages/openai/types/audio/transcription_create_params.py)\n",
      "\u001b[92m14:11:21 - LiteLLM:WARNING\u001b[0m: model_param_helper.py:147 - Error getting transcription kwargs cannot import name 'TranscriptionCreateParamsNonStreaming' from 'openai.types.audio.transcription_create_params' (/usr/local/lib/python3.11/dist-packages/openai/types/audio/transcription_create_params.py)\n",
      "WARNING:LiteLLM:Error getting transcription kwargs cannot import name 'TranscriptionCreateParamsNonStreaming' from 'openai.types.audio.transcription_create_params' (/usr/local/lib/python3.11/dist-packages/openai/types/audio/transcription_create_params.py)\n",
      " 25%|██▌       | 20/80 [01:27<04:20,  4.34s/it]\u001b[92m14:11:25 - LiteLLM:WARNING\u001b[0m: model_param_helper.py:147 - Error getting transcription kwargs cannot import name 'TranscriptionCreateParamsNonStreaming' from 'openai.types.audio.transcription_create_params' (/usr/local/lib/python3.11/dist-packages/openai/types/audio/transcription_create_params.py)\n",
      "WARNING:LiteLLM:Error getting transcription kwargs cannot import name 'TranscriptionCreateParamsNonStreaming' from 'openai.types.audio.transcription_create_params' (/usr/local/lib/python3.11/dist-packages/openai/types/audio/transcription_create_params.py)\n",
      "\u001b[92m14:11:25 - LiteLLM:WARNING\u001b[0m: model_param_helper.py:147 - Error getting transcription kwargs cannot import name 'TranscriptionCreateParamsNonStreaming' from 'openai.types.audio.transcription_create_params' (/usr/local/lib/python3.11/dist-packages/openai/types/audio/transcription_create_params.py)\n",
      "WARNING:LiteLLM:Error getting transcription kwargs cannot import name 'TranscriptionCreateParamsNonStreaming' from 'openai.types.audio.transcription_create_params' (/usr/local/lib/python3.11/dist-packages/openai/types/audio/transcription_create_params.py)\n",
      " 26%|██▋       | 21/80 [01:31<04:04,  4.15s/it]\u001b[92m14:11:30 - LiteLLM:WARNING\u001b[0m: model_param_helper.py:147 - Error getting transcription kwargs cannot import name 'TranscriptionCreateParamsNonStreaming' from 'openai.types.audio.transcription_create_params' (/usr/local/lib/python3.11/dist-packages/openai/types/audio/transcription_create_params.py)\n",
      "WARNING:LiteLLM:Error getting transcription kwargs cannot import name 'TranscriptionCreateParamsNonStreaming' from 'openai.types.audio.transcription_create_params' (/usr/local/lib/python3.11/dist-packages/openai/types/audio/transcription_create_params.py)\n",
      "\u001b[92m14:11:30 - LiteLLM:WARNING\u001b[0m: model_param_helper.py:147 - Error getting transcription kwargs cannot import name 'TranscriptionCreateParamsNonStreaming' from 'openai.types.audio.transcription_create_params' (/usr/local/lib/python3.11/dist-packages/openai/types/audio/transcription_create_params.py)\n",
      "WARNING:LiteLLM:Error getting transcription kwargs cannot import name 'TranscriptionCreateParamsNonStreaming' from 'openai.types.audio.transcription_create_params' (/usr/local/lib/python3.11/dist-packages/openai/types/audio/transcription_create_params.py)\n",
      " 28%|██▊       | 22/80 [01:35<04:08,  4.29s/it]\u001b[92m14:11:33 - LiteLLM:WARNING\u001b[0m: model_param_helper.py:147 - Error getting transcription kwargs cannot import name 'TranscriptionCreateParamsNonStreaming' from 'openai.types.audio.transcription_create_params' (/usr/local/lib/python3.11/dist-packages/openai/types/audio/transcription_create_params.py)\n",
      "WARNING:LiteLLM:Error getting transcription kwargs cannot import name 'TranscriptionCreateParamsNonStreaming' from 'openai.types.audio.transcription_create_params' (/usr/local/lib/python3.11/dist-packages/openai/types/audio/transcription_create_params.py)\n",
      "\u001b[92m14:11:33 - LiteLLM:WARNING\u001b[0m: model_param_helper.py:147 - Error getting transcription kwargs cannot import name 'TranscriptionCreateParamsNonStreaming' from 'openai.types.audio.transcription_create_params' (/usr/local/lib/python3.11/dist-packages/openai/types/audio/transcription_create_params.py)\n",
      "WARNING:LiteLLM:Error getting transcription kwargs cannot import name 'TranscriptionCreateParamsNonStreaming' from 'openai.types.audio.transcription_create_params' (/usr/local/lib/python3.11/dist-packages/openai/types/audio/transcription_create_params.py)\n",
      " 29%|██▉       | 23/80 [01:39<03:46,  3.97s/it]\u001b[92m14:11:36 - LiteLLM:WARNING\u001b[0m: model_param_helper.py:147 - Error getting transcription kwargs cannot import name 'TranscriptionCreateParamsNonStreaming' from 'openai.types.audio.transcription_create_params' (/usr/local/lib/python3.11/dist-packages/openai/types/audio/transcription_create_params.py)\n",
      "WARNING:LiteLLM:Error getting transcription kwargs cannot import name 'TranscriptionCreateParamsNonStreaming' from 'openai.types.audio.transcription_create_params' (/usr/local/lib/python3.11/dist-packages/openai/types/audio/transcription_create_params.py)\n",
      "\u001b[92m14:11:36 - LiteLLM:WARNING\u001b[0m: model_param_helper.py:147 - Error getting transcription kwargs cannot import name 'TranscriptionCreateParamsNonStreaming' from 'openai.types.audio.transcription_create_params' (/usr/local/lib/python3.11/dist-packages/openai/types/audio/transcription_create_params.py)\n",
      "WARNING:LiteLLM:Error getting transcription kwargs cannot import name 'TranscriptionCreateParamsNonStreaming' from 'openai.types.audio.transcription_create_params' (/usr/local/lib/python3.11/dist-packages/openai/types/audio/transcription_create_params.py)\n",
      " 30%|███       | 24/80 [01:42<03:31,  3.78s/it]\u001b[92m14:11:40 - LiteLLM:WARNING\u001b[0m: model_param_helper.py:147 - Error getting transcription kwargs cannot import name 'TranscriptionCreateParamsNonStreaming' from 'openai.types.audio.transcription_create_params' (/usr/local/lib/python3.11/dist-packages/openai/types/audio/transcription_create_params.py)\n",
      "WARNING:LiteLLM:Error getting transcription kwargs cannot import name 'TranscriptionCreateParamsNonStreaming' from 'openai.types.audio.transcription_create_params' (/usr/local/lib/python3.11/dist-packages/openai/types/audio/transcription_create_params.py)\n",
      "\u001b[92m14:11:40 - LiteLLM:WARNING\u001b[0m: model_param_helper.py:147 - Error getting transcription kwargs cannot import name 'TranscriptionCreateParamsNonStreaming' from 'openai.types.audio.transcription_create_params' (/usr/local/lib/python3.11/dist-packages/openai/types/audio/transcription_create_params.py)\n",
      "WARNING:LiteLLM:Error getting transcription kwargs cannot import name 'TranscriptionCreateParamsNonStreaming' from 'openai.types.audio.transcription_create_params' (/usr/local/lib/python3.11/dist-packages/openai/types/audio/transcription_create_params.py)\n",
      " 31%|███▏      | 25/80 [01:45<03:22,  3.69s/it]\u001b[92m14:11:44 - LiteLLM:WARNING\u001b[0m: model_param_helper.py:147 - Error getting transcription kwargs cannot import name 'TranscriptionCreateParamsNonStreaming' from 'openai.types.audio.transcription_create_params' (/usr/local/lib/python3.11/dist-packages/openai/types/audio/transcription_create_params.py)\n",
      "WARNING:LiteLLM:Error getting transcription kwargs cannot import name 'TranscriptionCreateParamsNonStreaming' from 'openai.types.audio.transcription_create_params' (/usr/local/lib/python3.11/dist-packages/openai/types/audio/transcription_create_params.py)\n",
      "\u001b[92m14:11:44 - LiteLLM:WARNING\u001b[0m: model_param_helper.py:147 - Error getting transcription kwargs cannot import name 'TranscriptionCreateParamsNonStreaming' from 'openai.types.audio.transcription_create_params' (/usr/local/lib/python3.11/dist-packages/openai/types/audio/transcription_create_params.py)\n",
      "WARNING:LiteLLM:Error getting transcription kwargs cannot import name 'TranscriptionCreateParamsNonStreaming' from 'openai.types.audio.transcription_create_params' (/usr/local/lib/python3.11/dist-packages/openai/types/audio/transcription_create_params.py)\n",
      " 32%|███▎      | 26/80 [01:49<03:23,  3.76s/it]\u001b[92m14:11:49 - LiteLLM:WARNING\u001b[0m: model_param_helper.py:147 - Error getting transcription kwargs cannot import name 'TranscriptionCreateParamsNonStreaming' from 'openai.types.audio.transcription_create_params' (/usr/local/lib/python3.11/dist-packages/openai/types/audio/transcription_create_params.py)\n",
      "WARNING:LiteLLM:Error getting transcription kwargs cannot import name 'TranscriptionCreateParamsNonStreaming' from 'openai.types.audio.transcription_create_params' (/usr/local/lib/python3.11/dist-packages/openai/types/audio/transcription_create_params.py)\n",
      "\u001b[92m14:11:49 - LiteLLM:WARNING\u001b[0m: model_param_helper.py:147 - Error getting transcription kwargs cannot import name 'TranscriptionCreateParamsNonStreaming' from 'openai.types.audio.transcription_create_params' (/usr/local/lib/python3.11/dist-packages/openai/types/audio/transcription_create_params.py)\n",
      "WARNING:LiteLLM:Error getting transcription kwargs cannot import name 'TranscriptionCreateParamsNonStreaming' from 'openai.types.audio.transcription_create_params' (/usr/local/lib/python3.11/dist-packages/openai/types/audio/transcription_create_params.py)\n",
      " 34%|███▍      | 27/80 [01:55<03:50,  4.36s/it]\u001b[92m14:11:53 - LiteLLM:WARNING\u001b[0m: model_param_helper.py:147 - Error getting transcription kwargs cannot import name 'TranscriptionCreateParamsNonStreaming' from 'openai.types.audio.transcription_create_params' (/usr/local/lib/python3.11/dist-packages/openai/types/audio/transcription_create_params.py)\n",
      "WARNING:LiteLLM:Error getting transcription kwargs cannot import name 'TranscriptionCreateParamsNonStreaming' from 'openai.types.audio.transcription_create_params' (/usr/local/lib/python3.11/dist-packages/openai/types/audio/transcription_create_params.py)\n",
      "\u001b[92m14:11:53 - LiteLLM:WARNING\u001b[0m: model_param_helper.py:147 - Error getting transcription kwargs cannot import name 'TranscriptionCreateParamsNonStreaming' from 'openai.types.audio.transcription_create_params' (/usr/local/lib/python3.11/dist-packages/openai/types/audio/transcription_create_params.py)\n",
      "WARNING:LiteLLM:Error getting transcription kwargs cannot import name 'TranscriptionCreateParamsNonStreaming' from 'openai.types.audio.transcription_create_params' (/usr/local/lib/python3.11/dist-packages/openai/types/audio/transcription_create_params.py)\n",
      " 35%|███▌      | 28/80 [01:58<03:29,  4.04s/it]\u001b[92m14:11:56 - LiteLLM:WARNING\u001b[0m: model_param_helper.py:147 - Error getting transcription kwargs cannot import name 'TranscriptionCreateParamsNonStreaming' from 'openai.types.audio.transcription_create_params' (/usr/local/lib/python3.11/dist-packages/openai/types/audio/transcription_create_params.py)\n",
      "WARNING:LiteLLM:Error getting transcription kwargs cannot import name 'TranscriptionCreateParamsNonStreaming' from 'openai.types.audio.transcription_create_params' (/usr/local/lib/python3.11/dist-packages/openai/types/audio/transcription_create_params.py)\n",
      "\u001b[92m14:11:56 - LiteLLM:WARNING\u001b[0m: model_param_helper.py:147 - Error getting transcription kwargs cannot import name 'TranscriptionCreateParamsNonStreaming' from 'openai.types.audio.transcription_create_params' (/usr/local/lib/python3.11/dist-packages/openai/types/audio/transcription_create_params.py)\n",
      "WARNING:LiteLLM:Error getting transcription kwargs cannot import name 'TranscriptionCreateParamsNonStreaming' from 'openai.types.audio.transcription_create_params' (/usr/local/lib/python3.11/dist-packages/openai/types/audio/transcription_create_params.py)\n",
      " 36%|███▋      | 29/80 [02:02<03:18,  3.89s/it]\u001b[92m14:12:00 - LiteLLM:WARNING\u001b[0m: model_param_helper.py:147 - Error getting transcription kwargs cannot import name 'TranscriptionCreateParamsNonStreaming' from 'openai.types.audio.transcription_create_params' (/usr/local/lib/python3.11/dist-packages/openai/types/audio/transcription_create_params.py)\n",
      "WARNING:LiteLLM:Error getting transcription kwargs cannot import name 'TranscriptionCreateParamsNonStreaming' from 'openai.types.audio.transcription_create_params' (/usr/local/lib/python3.11/dist-packages/openai/types/audio/transcription_create_params.py)\n",
      "\u001b[92m14:12:00 - LiteLLM:WARNING\u001b[0m: model_param_helper.py:147 - Error getting transcription kwargs cannot import name 'TranscriptionCreateParamsNonStreaming' from 'openai.types.audio.transcription_create_params' (/usr/local/lib/python3.11/dist-packages/openai/types/audio/transcription_create_params.py)\n",
      "WARNING:LiteLLM:Error getting transcription kwargs cannot import name 'TranscriptionCreateParamsNonStreaming' from 'openai.types.audio.transcription_create_params' (/usr/local/lib/python3.11/dist-packages/openai/types/audio/transcription_create_params.py)\n",
      " 38%|███▊      | 30/80 [02:06<03:13,  3.87s/it]\u001b[92m14:12:04 - LiteLLM:WARNING\u001b[0m: model_param_helper.py:147 - Error getting transcription kwargs cannot import name 'TranscriptionCreateParamsNonStreaming' from 'openai.types.audio.transcription_create_params' (/usr/local/lib/python3.11/dist-packages/openai/types/audio/transcription_create_params.py)\n",
      "WARNING:LiteLLM:Error getting transcription kwargs cannot import name 'TranscriptionCreateParamsNonStreaming' from 'openai.types.audio.transcription_create_params' (/usr/local/lib/python3.11/dist-packages/openai/types/audio/transcription_create_params.py)\n",
      "\u001b[92m14:12:04 - LiteLLM:WARNING\u001b[0m: model_param_helper.py:147 - Error getting transcription kwargs cannot import name 'TranscriptionCreateParamsNonStreaming' from 'openai.types.audio.transcription_create_params' (/usr/local/lib/python3.11/dist-packages/openai/types/audio/transcription_create_params.py)\n",
      "WARNING:LiteLLM:Error getting transcription kwargs cannot import name 'TranscriptionCreateParamsNonStreaming' from 'openai.types.audio.transcription_create_params' (/usr/local/lib/python3.11/dist-packages/openai/types/audio/transcription_create_params.py)\n",
      " 39%|███▉      | 31/80 [02:10<03:13,  3.95s/it]\u001b[92m14:12:08 - LiteLLM:WARNING\u001b[0m: model_param_helper.py:147 - Error getting transcription kwargs cannot import name 'TranscriptionCreateParamsNonStreaming' from 'openai.types.audio.transcription_create_params' (/usr/local/lib/python3.11/dist-packages/openai/types/audio/transcription_create_params.py)\n",
      "WARNING:LiteLLM:Error getting transcription kwargs cannot import name 'TranscriptionCreateParamsNonStreaming' from 'openai.types.audio.transcription_create_params' (/usr/local/lib/python3.11/dist-packages/openai/types/audio/transcription_create_params.py)\n",
      "\u001b[92m14:12:08 - LiteLLM:WARNING\u001b[0m: model_param_helper.py:147 - Error getting transcription kwargs cannot import name 'TranscriptionCreateParamsNonStreaming' from 'openai.types.audio.transcription_create_params' (/usr/local/lib/python3.11/dist-packages/openai/types/audio/transcription_create_params.py)\n",
      "WARNING:LiteLLM:Error getting transcription kwargs cannot import name 'TranscriptionCreateParamsNonStreaming' from 'openai.types.audio.transcription_create_params' (/usr/local/lib/python3.11/dist-packages/openai/types/audio/transcription_create_params.py)\n",
      " 40%|████      | 32/80 [02:14<03:14,  4.04s/it]\u001b[92m14:12:12 - LiteLLM:WARNING\u001b[0m: model_param_helper.py:147 - Error getting transcription kwargs cannot import name 'TranscriptionCreateParamsNonStreaming' from 'openai.types.audio.transcription_create_params' (/usr/local/lib/python3.11/dist-packages/openai/types/audio/transcription_create_params.py)\n",
      "WARNING:LiteLLM:Error getting transcription kwargs cannot import name 'TranscriptionCreateParamsNonStreaming' from 'openai.types.audio.transcription_create_params' (/usr/local/lib/python3.11/dist-packages/openai/types/audio/transcription_create_params.py)\n",
      "\u001b[92m14:12:12 - LiteLLM:WARNING\u001b[0m: model_param_helper.py:147 - Error getting transcription kwargs cannot import name 'TranscriptionCreateParamsNonStreaming' from 'openai.types.audio.transcription_create_params' (/usr/local/lib/python3.11/dist-packages/openai/types/audio/transcription_create_params.py)\n",
      "WARNING:LiteLLM:Error getting transcription kwargs cannot import name 'TranscriptionCreateParamsNonStreaming' from 'openai.types.audio.transcription_create_params' (/usr/local/lib/python3.11/dist-packages/openai/types/audio/transcription_create_params.py)\n",
      " 41%|████▏     | 33/80 [02:18<03:07,  3.99s/it]\u001b[92m14:12:16 - LiteLLM:WARNING\u001b[0m: model_param_helper.py:147 - Error getting transcription kwargs cannot import name 'TranscriptionCreateParamsNonStreaming' from 'openai.types.audio.transcription_create_params' (/usr/local/lib/python3.11/dist-packages/openai/types/audio/transcription_create_params.py)\n",
      "WARNING:LiteLLM:Error getting transcription kwargs cannot import name 'TranscriptionCreateParamsNonStreaming' from 'openai.types.audio.transcription_create_params' (/usr/local/lib/python3.11/dist-packages/openai/types/audio/transcription_create_params.py)\n",
      "\u001b[92m14:12:16 - LiteLLM:WARNING\u001b[0m: model_param_helper.py:147 - Error getting transcription kwargs cannot import name 'TranscriptionCreateParamsNonStreaming' from 'openai.types.audio.transcription_create_params' (/usr/local/lib/python3.11/dist-packages/openai/types/audio/transcription_create_params.py)\n",
      "WARNING:LiteLLM:Error getting transcription kwargs cannot import name 'TranscriptionCreateParamsNonStreaming' from 'openai.types.audio.transcription_create_params' (/usr/local/lib/python3.11/dist-packages/openai/types/audio/transcription_create_params.py)\n",
      " 42%|████▎     | 34/80 [02:22<03:06,  4.05s/it]\u001b[92m14:12:21 - LiteLLM:WARNING\u001b[0m: model_param_helper.py:147 - Error getting transcription kwargs cannot import name 'TranscriptionCreateParamsNonStreaming' from 'openai.types.audio.transcription_create_params' (/usr/local/lib/python3.11/dist-packages/openai/types/audio/transcription_create_params.py)\n",
      "WARNING:LiteLLM:Error getting transcription kwargs cannot import name 'TranscriptionCreateParamsNonStreaming' from 'openai.types.audio.transcription_create_params' (/usr/local/lib/python3.11/dist-packages/openai/types/audio/transcription_create_params.py)\n",
      "\u001b[92m14:12:21 - LiteLLM:WARNING\u001b[0m: model_param_helper.py:147 - Error getting transcription kwargs cannot import name 'TranscriptionCreateParamsNonStreaming' from 'openai.types.audio.transcription_create_params' (/usr/local/lib/python3.11/dist-packages/openai/types/audio/transcription_create_params.py)\n",
      "WARNING:LiteLLM:Error getting transcription kwargs cannot import name 'TranscriptionCreateParamsNonStreaming' from 'openai.types.audio.transcription_create_params' (/usr/local/lib/python3.11/dist-packages/openai/types/audio/transcription_create_params.py)\n",
      " 44%|████▍     | 35/80 [02:27<03:06,  4.14s/it]\u001b[92m14:12:26 - LiteLLM:WARNING\u001b[0m: model_param_helper.py:147 - Error getting transcription kwargs cannot import name 'TranscriptionCreateParamsNonStreaming' from 'openai.types.audio.transcription_create_params' (/usr/local/lib/python3.11/dist-packages/openai/types/audio/transcription_create_params.py)\n",
      "WARNING:LiteLLM:Error getting transcription kwargs cannot import name 'TranscriptionCreateParamsNonStreaming' from 'openai.types.audio.transcription_create_params' (/usr/local/lib/python3.11/dist-packages/openai/types/audio/transcription_create_params.py)\n",
      "\u001b[92m14:12:26 - LiteLLM:WARNING\u001b[0m: model_param_helper.py:147 - Error getting transcription kwargs cannot import name 'TranscriptionCreateParamsNonStreaming' from 'openai.types.audio.transcription_create_params' (/usr/local/lib/python3.11/dist-packages/openai/types/audio/transcription_create_params.py)\n",
      "WARNING:LiteLLM:Error getting transcription kwargs cannot import name 'TranscriptionCreateParamsNonStreaming' from 'openai.types.audio.transcription_create_params' (/usr/local/lib/python3.11/dist-packages/openai/types/audio/transcription_create_params.py)\n",
      " 45%|████▌     | 36/80 [02:32<03:20,  4.56s/it]\u001b[92m14:12:37 - LiteLLM:WARNING\u001b[0m: model_param_helper.py:147 - Error getting transcription kwargs cannot import name 'TranscriptionCreateParamsNonStreaming' from 'openai.types.audio.transcription_create_params' (/usr/local/lib/python3.11/dist-packages/openai/types/audio/transcription_create_params.py)\n",
      "WARNING:LiteLLM:Error getting transcription kwargs cannot import name 'TranscriptionCreateParamsNonStreaming' from 'openai.types.audio.transcription_create_params' (/usr/local/lib/python3.11/dist-packages/openai/types/audio/transcription_create_params.py)\n",
      "\u001b[92m14:12:37 - LiteLLM:WARNING\u001b[0m: model_param_helper.py:147 - Error getting transcription kwargs cannot import name 'TranscriptionCreateParamsNonStreaming' from 'openai.types.audio.transcription_create_params' (/usr/local/lib/python3.11/dist-packages/openai/types/audio/transcription_create_params.py)\n",
      "WARNING:LiteLLM:Error getting transcription kwargs cannot import name 'TranscriptionCreateParamsNonStreaming' from 'openai.types.audio.transcription_create_params' (/usr/local/lib/python3.11/dist-packages/openai/types/audio/transcription_create_params.py)\n",
      " 46%|████▋     | 37/80 [02:43<04:33,  6.36s/it]\u001b[92m14:12:41 - LiteLLM:WARNING\u001b[0m: model_param_helper.py:147 - Error getting transcription kwargs cannot import name 'TranscriptionCreateParamsNonStreaming' from 'openai.types.audio.transcription_create_params' (/usr/local/lib/python3.11/dist-packages/openai/types/audio/transcription_create_params.py)\n",
      "WARNING:LiteLLM:Error getting transcription kwargs cannot import name 'TranscriptionCreateParamsNonStreaming' from 'openai.types.audio.transcription_create_params' (/usr/local/lib/python3.11/dist-packages/openai/types/audio/transcription_create_params.py)\n",
      "\u001b[92m14:12:41 - LiteLLM:WARNING\u001b[0m: model_param_helper.py:147 - Error getting transcription kwargs cannot import name 'TranscriptionCreateParamsNonStreaming' from 'openai.types.audio.transcription_create_params' (/usr/local/lib/python3.11/dist-packages/openai/types/audio/transcription_create_params.py)\n",
      "WARNING:LiteLLM:Error getting transcription kwargs cannot import name 'TranscriptionCreateParamsNonStreaming' from 'openai.types.audio.transcription_create_params' (/usr/local/lib/python3.11/dist-packages/openai/types/audio/transcription_create_params.py)\n",
      " 48%|████▊     | 38/80 [02:47<03:56,  5.63s/it]\u001b[92m14:12:45 - LiteLLM:WARNING\u001b[0m: model_param_helper.py:147 - Error getting transcription kwargs cannot import name 'TranscriptionCreateParamsNonStreaming' from 'openai.types.audio.transcription_create_params' (/usr/local/lib/python3.11/dist-packages/openai/types/audio/transcription_create_params.py)\n",
      "WARNING:LiteLLM:Error getting transcription kwargs cannot import name 'TranscriptionCreateParamsNonStreaming' from 'openai.types.audio.transcription_create_params' (/usr/local/lib/python3.11/dist-packages/openai/types/audio/transcription_create_params.py)\n",
      "\u001b[92m14:12:45 - LiteLLM:WARNING\u001b[0m: model_param_helper.py:147 - Error getting transcription kwargs cannot import name 'TranscriptionCreateParamsNonStreaming' from 'openai.types.audio.transcription_create_params' (/usr/local/lib/python3.11/dist-packages/openai/types/audio/transcription_create_params.py)\n",
      "WARNING:LiteLLM:Error getting transcription kwargs cannot import name 'TranscriptionCreateParamsNonStreaming' from 'openai.types.audio.transcription_create_params' (/usr/local/lib/python3.11/dist-packages/openai/types/audio/transcription_create_params.py)\n",
      " 49%|████▉     | 39/80 [02:51<03:37,  5.30s/it]\u001b[92m14:12:58 - LiteLLM:WARNING\u001b[0m: model_param_helper.py:147 - Error getting transcription kwargs cannot import name 'TranscriptionCreateParamsNonStreaming' from 'openai.types.audio.transcription_create_params' (/usr/local/lib/python3.11/dist-packages/openai/types/audio/transcription_create_params.py)\n",
      "WARNING:LiteLLM:Error getting transcription kwargs cannot import name 'TranscriptionCreateParamsNonStreaming' from 'openai.types.audio.transcription_create_params' (/usr/local/lib/python3.11/dist-packages/openai/types/audio/transcription_create_params.py)\n",
      "\u001b[92m14:12:58 - LiteLLM:WARNING\u001b[0m: model_param_helper.py:147 - Error getting transcription kwargs cannot import name 'TranscriptionCreateParamsNonStreaming' from 'openai.types.audio.transcription_create_params' (/usr/local/lib/python3.11/dist-packages/openai/types/audio/transcription_create_params.py)\n",
      "WARNING:LiteLLM:Error getting transcription kwargs cannot import name 'TranscriptionCreateParamsNonStreaming' from 'openai.types.audio.transcription_create_params' (/usr/local/lib/python3.11/dist-packages/openai/types/audio/transcription_create_params.py)\n",
      " 50%|█████     | 40/80 [03:04<05:05,  7.63s/it]\u001b[92m14:13:02 - LiteLLM:WARNING\u001b[0m: model_param_helper.py:147 - Error getting transcription kwargs cannot import name 'TranscriptionCreateParamsNonStreaming' from 'openai.types.audio.transcription_create_params' (/usr/local/lib/python3.11/dist-packages/openai/types/audio/transcription_create_params.py)\n",
      "WARNING:LiteLLM:Error getting transcription kwargs cannot import name 'TranscriptionCreateParamsNonStreaming' from 'openai.types.audio.transcription_create_params' (/usr/local/lib/python3.11/dist-packages/openai/types/audio/transcription_create_params.py)\n",
      "\u001b[92m14:13:02 - LiteLLM:WARNING\u001b[0m: model_param_helper.py:147 - Error getting transcription kwargs cannot import name 'TranscriptionCreateParamsNonStreaming' from 'openai.types.audio.transcription_create_params' (/usr/local/lib/python3.11/dist-packages/openai/types/audio/transcription_create_params.py)\n",
      "WARNING:LiteLLM:Error getting transcription kwargs cannot import name 'TranscriptionCreateParamsNonStreaming' from 'openai.types.audio.transcription_create_params' (/usr/local/lib/python3.11/dist-packages/openai/types/audio/transcription_create_params.py)\n",
      " 51%|█████▏    | 41/80 [03:08<04:15,  6.55s/it]\u001b[92m14:13:07 - LiteLLM:WARNING\u001b[0m: model_param_helper.py:147 - Error getting transcription kwargs cannot import name 'TranscriptionCreateParamsNonStreaming' from 'openai.types.audio.transcription_create_params' (/usr/local/lib/python3.11/dist-packages/openai/types/audio/transcription_create_params.py)\n",
      "WARNING:LiteLLM:Error getting transcription kwargs cannot import name 'TranscriptionCreateParamsNonStreaming' from 'openai.types.audio.transcription_create_params' (/usr/local/lib/python3.11/dist-packages/openai/types/audio/transcription_create_params.py)\n",
      "\u001b[92m14:13:07 - LiteLLM:WARNING\u001b[0m: model_param_helper.py:147 - Error getting transcription kwargs cannot import name 'TranscriptionCreateParamsNonStreaming' from 'openai.types.audio.transcription_create_params' (/usr/local/lib/python3.11/dist-packages/openai/types/audio/transcription_create_params.py)\n",
      "WARNING:LiteLLM:Error getting transcription kwargs cannot import name 'TranscriptionCreateParamsNonStreaming' from 'openai.types.audio.transcription_create_params' (/usr/local/lib/python3.11/dist-packages/openai/types/audio/transcription_create_params.py)\n",
      " 52%|█████▎    | 42/80 [03:13<03:50,  6.07s/it]\u001b[92m14:13:12 - LiteLLM:WARNING\u001b[0m: model_param_helper.py:147 - Error getting transcription kwargs cannot import name 'TranscriptionCreateParamsNonStreaming' from 'openai.types.audio.transcription_create_params' (/usr/local/lib/python3.11/dist-packages/openai/types/audio/transcription_create_params.py)\n",
      "WARNING:LiteLLM:Error getting transcription kwargs cannot import name 'TranscriptionCreateParamsNonStreaming' from 'openai.types.audio.transcription_create_params' (/usr/local/lib/python3.11/dist-packages/openai/types/audio/transcription_create_params.py)\n",
      "\u001b[92m14:13:12 - LiteLLM:WARNING\u001b[0m: model_param_helper.py:147 - Error getting transcription kwargs cannot import name 'TranscriptionCreateParamsNonStreaming' from 'openai.types.audio.transcription_create_params' (/usr/local/lib/python3.11/dist-packages/openai/types/audio/transcription_create_params.py)\n",
      "WARNING:LiteLLM:Error getting transcription kwargs cannot import name 'TranscriptionCreateParamsNonStreaming' from 'openai.types.audio.transcription_create_params' (/usr/local/lib/python3.11/dist-packages/openai/types/audio/transcription_create_params.py)\n",
      " 54%|█████▍    | 43/80 [03:18<03:27,  5.60s/it]\u001b[92m14:13:16 - LiteLLM:WARNING\u001b[0m: model_param_helper.py:147 - Error getting transcription kwargs cannot import name 'TranscriptionCreateParamsNonStreaming' from 'openai.types.audio.transcription_create_params' (/usr/local/lib/python3.11/dist-packages/openai/types/audio/transcription_create_params.py)\n",
      "WARNING:LiteLLM:Error getting transcription kwargs cannot import name 'TranscriptionCreateParamsNonStreaming' from 'openai.types.audio.transcription_create_params' (/usr/local/lib/python3.11/dist-packages/openai/types/audio/transcription_create_params.py)\n",
      "\u001b[92m14:13:16 - LiteLLM:WARNING\u001b[0m: model_param_helper.py:147 - Error getting transcription kwargs cannot import name 'TranscriptionCreateParamsNonStreaming' from 'openai.types.audio.transcription_create_params' (/usr/local/lib/python3.11/dist-packages/openai/types/audio/transcription_create_params.py)\n",
      "WARNING:LiteLLM:Error getting transcription kwargs cannot import name 'TranscriptionCreateParamsNonStreaming' from 'openai.types.audio.transcription_create_params' (/usr/local/lib/python3.11/dist-packages/openai/types/audio/transcription_create_params.py)\n",
      " 55%|█████▌    | 44/80 [03:22<03:04,  5.12s/it]\u001b[92m14:13:20 - LiteLLM:WARNING\u001b[0m: model_param_helper.py:147 - Error getting transcription kwargs cannot import name 'TranscriptionCreateParamsNonStreaming' from 'openai.types.audio.transcription_create_params' (/usr/local/lib/python3.11/dist-packages/openai/types/audio/transcription_create_params.py)\n",
      "WARNING:LiteLLM:Error getting transcription kwargs cannot import name 'TranscriptionCreateParamsNonStreaming' from 'openai.types.audio.transcription_create_params' (/usr/local/lib/python3.11/dist-packages/openai/types/audio/transcription_create_params.py)\n",
      "\u001b[92m14:13:20 - LiteLLM:WARNING\u001b[0m: model_param_helper.py:147 - Error getting transcription kwargs cannot import name 'TranscriptionCreateParamsNonStreaming' from 'openai.types.audio.transcription_create_params' (/usr/local/lib/python3.11/dist-packages/openai/types/audio/transcription_create_params.py)\n",
      "WARNING:LiteLLM:Error getting transcription kwargs cannot import name 'TranscriptionCreateParamsNonStreaming' from 'openai.types.audio.transcription_create_params' (/usr/local/lib/python3.11/dist-packages/openai/types/audio/transcription_create_params.py)\n",
      " 56%|█████▋    | 45/80 [03:26<02:48,  4.81s/it]\u001b[92m14:13:26 - LiteLLM:WARNING\u001b[0m: model_param_helper.py:147 - Error getting transcription kwargs cannot import name 'TranscriptionCreateParamsNonStreaming' from 'openai.types.audio.transcription_create_params' (/usr/local/lib/python3.11/dist-packages/openai/types/audio/transcription_create_params.py)\n",
      "WARNING:LiteLLM:Error getting transcription kwargs cannot import name 'TranscriptionCreateParamsNonStreaming' from 'openai.types.audio.transcription_create_params' (/usr/local/lib/python3.11/dist-packages/openai/types/audio/transcription_create_params.py)\n",
      "\u001b[92m14:13:26 - LiteLLM:WARNING\u001b[0m: model_param_helper.py:147 - Error getting transcription kwargs cannot import name 'TranscriptionCreateParamsNonStreaming' from 'openai.types.audio.transcription_create_params' (/usr/local/lib/python3.11/dist-packages/openai/types/audio/transcription_create_params.py)\n",
      "WARNING:LiteLLM:Error getting transcription kwargs cannot import name 'TranscriptionCreateParamsNonStreaming' from 'openai.types.audio.transcription_create_params' (/usr/local/lib/python3.11/dist-packages/openai/types/audio/transcription_create_params.py)\n",
      " 57%|█████▊    | 46/80 [03:31<02:51,  5.06s/it]\u001b[92m14:13:30 - LiteLLM:WARNING\u001b[0m: model_param_helper.py:147 - Error getting transcription kwargs cannot import name 'TranscriptionCreateParamsNonStreaming' from 'openai.types.audio.transcription_create_params' (/usr/local/lib/python3.11/dist-packages/openai/types/audio/transcription_create_params.py)\n",
      "WARNING:LiteLLM:Error getting transcription kwargs cannot import name 'TranscriptionCreateParamsNonStreaming' from 'openai.types.audio.transcription_create_params' (/usr/local/lib/python3.11/dist-packages/openai/types/audio/transcription_create_params.py)\n",
      "\u001b[92m14:13:30 - LiteLLM:WARNING\u001b[0m: model_param_helper.py:147 - Error getting transcription kwargs cannot import name 'TranscriptionCreateParamsNonStreaming' from 'openai.types.audio.transcription_create_params' (/usr/local/lib/python3.11/dist-packages/openai/types/audio/transcription_create_params.py)\n",
      "WARNING:LiteLLM:Error getting transcription kwargs cannot import name 'TranscriptionCreateParamsNonStreaming' from 'openai.types.audio.transcription_create_params' (/usr/local/lib/python3.11/dist-packages/openai/types/audio/transcription_create_params.py)\n",
      " 59%|█████▉    | 47/80 [03:36<02:38,  4.79s/it]\u001b[92m14:13:36 - LiteLLM:WARNING\u001b[0m: model_param_helper.py:147 - Error getting transcription kwargs cannot import name 'TranscriptionCreateParamsNonStreaming' from 'openai.types.audio.transcription_create_params' (/usr/local/lib/python3.11/dist-packages/openai/types/audio/transcription_create_params.py)\n",
      "WARNING:LiteLLM:Error getting transcription kwargs cannot import name 'TranscriptionCreateParamsNonStreaming' from 'openai.types.audio.transcription_create_params' (/usr/local/lib/python3.11/dist-packages/openai/types/audio/transcription_create_params.py)\n",
      "\u001b[92m14:13:36 - LiteLLM:WARNING\u001b[0m: model_param_helper.py:147 - Error getting transcription kwargs cannot import name 'TranscriptionCreateParamsNonStreaming' from 'openai.types.audio.transcription_create_params' (/usr/local/lib/python3.11/dist-packages/openai/types/audio/transcription_create_params.py)\n",
      "WARNING:LiteLLM:Error getting transcription kwargs cannot import name 'TranscriptionCreateParamsNonStreaming' from 'openai.types.audio.transcription_create_params' (/usr/local/lib/python3.11/dist-packages/openai/types/audio/transcription_create_params.py)\n",
      " 60%|██████    | 48/80 [03:42<02:49,  5.29s/it]\u001b[92m14:13:41 - LiteLLM:WARNING\u001b[0m: model_param_helper.py:147 - Error getting transcription kwargs cannot import name 'TranscriptionCreateParamsNonStreaming' from 'openai.types.audio.transcription_create_params' (/usr/local/lib/python3.11/dist-packages/openai/types/audio/transcription_create_params.py)\n",
      "WARNING:LiteLLM:Error getting transcription kwargs cannot import name 'TranscriptionCreateParamsNonStreaming' from 'openai.types.audio.transcription_create_params' (/usr/local/lib/python3.11/dist-packages/openai/types/audio/transcription_create_params.py)\n",
      "\u001b[92m14:13:41 - LiteLLM:WARNING\u001b[0m: model_param_helper.py:147 - Error getting transcription kwargs cannot import name 'TranscriptionCreateParamsNonStreaming' from 'openai.types.audio.transcription_create_params' (/usr/local/lib/python3.11/dist-packages/openai/types/audio/transcription_create_params.py)\n",
      "WARNING:LiteLLM:Error getting transcription kwargs cannot import name 'TranscriptionCreateParamsNonStreaming' from 'openai.types.audio.transcription_create_params' (/usr/local/lib/python3.11/dist-packages/openai/types/audio/transcription_create_params.py)\n",
      " 61%|██████▏   | 49/80 [03:47<02:40,  5.19s/it]\u001b[92m14:13:46 - LiteLLM:WARNING\u001b[0m: model_param_helper.py:147 - Error getting transcription kwargs cannot import name 'TranscriptionCreateParamsNonStreaming' from 'openai.types.audio.transcription_create_params' (/usr/local/lib/python3.11/dist-packages/openai/types/audio/transcription_create_params.py)\n",
      "WARNING:LiteLLM:Error getting transcription kwargs cannot import name 'TranscriptionCreateParamsNonStreaming' from 'openai.types.audio.transcription_create_params' (/usr/local/lib/python3.11/dist-packages/openai/types/audio/transcription_create_params.py)\n",
      "\u001b[92m14:13:46 - LiteLLM:WARNING\u001b[0m: model_param_helper.py:147 - Error getting transcription kwargs cannot import name 'TranscriptionCreateParamsNonStreaming' from 'openai.types.audio.transcription_create_params' (/usr/local/lib/python3.11/dist-packages/openai/types/audio/transcription_create_params.py)\n",
      " 62%|██████▎   | 50/80 [03:48<02:01,  4.06s/it]WARNING:LiteLLM:Error getting transcription kwargs cannot import name 'TranscriptionCreateParamsNonStreaming' from 'openai.types.audio.transcription_create_params' (/usr/local/lib/python3.11/dist-packages/openai/types/audio/transcription_create_params.py)\n"
     ]
    },
    {
     "name": "stdout",
     "output_type": "stream",
     "text": [
      "Error for chunk 49, Expecting value: line 1 column 1 (char 0)\n"
     ]
    },
    {
     "name": "stderr",
     "output_type": "stream",
     "text": [
      "\u001b[92m14:13:47 - LiteLLM:WARNING\u001b[0m: model_param_helper.py:147 - Error getting transcription kwargs cannot import name 'TranscriptionCreateParamsNonStreaming' from 'openai.types.audio.transcription_create_params' (/usr/local/lib/python3.11/dist-packages/openai/types/audio/transcription_create_params.py)\n",
      "WARNING:LiteLLM:Error getting transcription kwargs cannot import name 'TranscriptionCreateParamsNonStreaming' from 'openai.types.audio.transcription_create_params' (/usr/local/lib/python3.11/dist-packages/openai/types/audio/transcription_create_params.py)\n",
      "\u001b[92m14:13:47 - LiteLLM:WARNING\u001b[0m: model_param_helper.py:147 - Error getting transcription kwargs cannot import name 'TranscriptionCreateParamsNonStreaming' from 'openai.types.audio.transcription_create_params' (/usr/local/lib/python3.11/dist-packages/openai/types/audio/transcription_create_params.py)\n",
      "WARNING:LiteLLM:Error getting transcription kwargs cannot import name 'TranscriptionCreateParamsNonStreaming' from 'openai.types.audio.transcription_create_params' (/usr/local/lib/python3.11/dist-packages/openai/types/audio/transcription_create_params.py)\n",
      " 64%|██████▍   | 51/80 [03:53<02:01,  4.19s/it]\u001b[92m14:13:51 - LiteLLM:WARNING\u001b[0m: model_param_helper.py:147 - Error getting transcription kwargs cannot import name 'TranscriptionCreateParamsNonStreaming' from 'openai.types.audio.transcription_create_params' (/usr/local/lib/python3.11/dist-packages/openai/types/audio/transcription_create_params.py)\n",
      "WARNING:LiteLLM:Error getting transcription kwargs cannot import name 'TranscriptionCreateParamsNonStreaming' from 'openai.types.audio.transcription_create_params' (/usr/local/lib/python3.11/dist-packages/openai/types/audio/transcription_create_params.py)\n",
      "\u001b[92m14:13:51 - LiteLLM:WARNING\u001b[0m: model_param_helper.py:147 - Error getting transcription kwargs cannot import name 'TranscriptionCreateParamsNonStreaming' from 'openai.types.audio.transcription_create_params' (/usr/local/lib/python3.11/dist-packages/openai/types/audio/transcription_create_params.py)\n",
      "WARNING:LiteLLM:Error getting transcription kwargs cannot import name 'TranscriptionCreateParamsNonStreaming' from 'openai.types.audio.transcription_create_params' (/usr/local/lib/python3.11/dist-packages/openai/types/audio/transcription_create_params.py)\n",
      " 65%|██████▌   | 52/80 [03:57<01:52,  4.03s/it]\u001b[92m14:13:55 - LiteLLM:WARNING\u001b[0m: model_param_helper.py:147 - Error getting transcription kwargs cannot import name 'TranscriptionCreateParamsNonStreaming' from 'openai.types.audio.transcription_create_params' (/usr/local/lib/python3.11/dist-packages/openai/types/audio/transcription_create_params.py)\n",
      "WARNING:LiteLLM:Error getting transcription kwargs cannot import name 'TranscriptionCreateParamsNonStreaming' from 'openai.types.audio.transcription_create_params' (/usr/local/lib/python3.11/dist-packages/openai/types/audio/transcription_create_params.py)\n",
      "\u001b[92m14:13:55 - LiteLLM:WARNING\u001b[0m: model_param_helper.py:147 - Error getting transcription kwargs cannot import name 'TranscriptionCreateParamsNonStreaming' from 'openai.types.audio.transcription_create_params' (/usr/local/lib/python3.11/dist-packages/openai/types/audio/transcription_create_params.py)\n",
      "WARNING:LiteLLM:Error getting transcription kwargs cannot import name 'TranscriptionCreateParamsNonStreaming' from 'openai.types.audio.transcription_create_params' (/usr/local/lib/python3.11/dist-packages/openai/types/audio/transcription_create_params.py)\n",
      " 66%|██████▋   | 53/80 [04:01<01:53,  4.20s/it]\u001b[92m14:13:59 - LiteLLM:WARNING\u001b[0m: model_param_helper.py:147 - Error getting transcription kwargs cannot import name 'TranscriptionCreateParamsNonStreaming' from 'openai.types.audio.transcription_create_params' (/usr/local/lib/python3.11/dist-packages/openai/types/audio/transcription_create_params.py)\n",
      "WARNING:LiteLLM:Error getting transcription kwargs cannot import name 'TranscriptionCreateParamsNonStreaming' from 'openai.types.audio.transcription_create_params' (/usr/local/lib/python3.11/dist-packages/openai/types/audio/transcription_create_params.py)\n",
      "\u001b[92m14:13:59 - LiteLLM:WARNING\u001b[0m: model_param_helper.py:147 - Error getting transcription kwargs cannot import name 'TranscriptionCreateParamsNonStreaming' from 'openai.types.audio.transcription_create_params' (/usr/local/lib/python3.11/dist-packages/openai/types/audio/transcription_create_params.py)\n",
      "WARNING:LiteLLM:Error getting transcription kwargs cannot import name 'TranscriptionCreateParamsNonStreaming' from 'openai.types.audio.transcription_create_params' (/usr/local/lib/python3.11/dist-packages/openai/types/audio/transcription_create_params.py)\n",
      " 68%|██████▊   | 54/80 [04:05<01:43,  3.97s/it]\u001b[92m14:14:03 - LiteLLM:WARNING\u001b[0m: model_param_helper.py:147 - Error getting transcription kwargs cannot import name 'TranscriptionCreateParamsNonStreaming' from 'openai.types.audio.transcription_create_params' (/usr/local/lib/python3.11/dist-packages/openai/types/audio/transcription_create_params.py)\n",
      "WARNING:LiteLLM:Error getting transcription kwargs cannot import name 'TranscriptionCreateParamsNonStreaming' from 'openai.types.audio.transcription_create_params' (/usr/local/lib/python3.11/dist-packages/openai/types/audio/transcription_create_params.py)\n",
      "\u001b[92m14:14:03 - LiteLLM:WARNING\u001b[0m: model_param_helper.py:147 - Error getting transcription kwargs cannot import name 'TranscriptionCreateParamsNonStreaming' from 'openai.types.audio.transcription_create_params' (/usr/local/lib/python3.11/dist-packages/openai/types/audio/transcription_create_params.py)\n",
      "WARNING:LiteLLM:Error getting transcription kwargs cannot import name 'TranscriptionCreateParamsNonStreaming' from 'openai.types.audio.transcription_create_params' (/usr/local/lib/python3.11/dist-packages/openai/types/audio/transcription_create_params.py)\n",
      " 69%|██████▉   | 55/80 [04:09<01:40,  4.04s/it]\u001b[92m14:14:08 - LiteLLM:WARNING\u001b[0m: model_param_helper.py:147 - Error getting transcription kwargs cannot import name 'TranscriptionCreateParamsNonStreaming' from 'openai.types.audio.transcription_create_params' (/usr/local/lib/python3.11/dist-packages/openai/types/audio/transcription_create_params.py)\n",
      "WARNING:LiteLLM:Error getting transcription kwargs cannot import name 'TranscriptionCreateParamsNonStreaming' from 'openai.types.audio.transcription_create_params' (/usr/local/lib/python3.11/dist-packages/openai/types/audio/transcription_create_params.py)\n",
      "\u001b[92m14:14:08 - LiteLLM:WARNING\u001b[0m: model_param_helper.py:147 - Error getting transcription kwargs cannot import name 'TranscriptionCreateParamsNonStreaming' from 'openai.types.audio.transcription_create_params' (/usr/local/lib/python3.11/dist-packages/openai/types/audio/transcription_create_params.py)\n",
      "WARNING:LiteLLM:Error getting transcription kwargs cannot import name 'TranscriptionCreateParamsNonStreaming' from 'openai.types.audio.transcription_create_params' (/usr/local/lib/python3.11/dist-packages/openai/types/audio/transcription_create_params.py)\n",
      " 70%|███████   | 56/80 [04:14<01:42,  4.25s/it]\u001b[92m14:14:13 - LiteLLM:WARNING\u001b[0m: model_param_helper.py:147 - Error getting transcription kwargs cannot import name 'TranscriptionCreateParamsNonStreaming' from 'openai.types.audio.transcription_create_params' (/usr/local/lib/python3.11/dist-packages/openai/types/audio/transcription_create_params.py)\n",
      "WARNING:LiteLLM:Error getting transcription kwargs cannot import name 'TranscriptionCreateParamsNonStreaming' from 'openai.types.audio.transcription_create_params' (/usr/local/lib/python3.11/dist-packages/openai/types/audio/transcription_create_params.py)\n",
      "\u001b[92m14:14:13 - LiteLLM:WARNING\u001b[0m: model_param_helper.py:147 - Error getting transcription kwargs cannot import name 'TranscriptionCreateParamsNonStreaming' from 'openai.types.audio.transcription_create_params' (/usr/local/lib/python3.11/dist-packages/openai/types/audio/transcription_create_params.py)\n",
      "WARNING:LiteLLM:Error getting transcription kwargs cannot import name 'TranscriptionCreateParamsNonStreaming' from 'openai.types.audio.transcription_create_params' (/usr/local/lib/python3.11/dist-packages/openai/types/audio/transcription_create_params.py)\n",
      " 71%|███████▏  | 57/80 [04:18<01:41,  4.39s/it]\u001b[92m14:14:17 - LiteLLM:WARNING\u001b[0m: model_param_helper.py:147 - Error getting transcription kwargs cannot import name 'TranscriptionCreateParamsNonStreaming' from 'openai.types.audio.transcription_create_params' (/usr/local/lib/python3.11/dist-packages/openai/types/audio/transcription_create_params.py)\n",
      "WARNING:LiteLLM:Error getting transcription kwargs cannot import name 'TranscriptionCreateParamsNonStreaming' from 'openai.types.audio.transcription_create_params' (/usr/local/lib/python3.11/dist-packages/openai/types/audio/transcription_create_params.py)\n",
      "\u001b[92m14:14:17 - LiteLLM:WARNING\u001b[0m: model_param_helper.py:147 - Error getting transcription kwargs cannot import name 'TranscriptionCreateParamsNonStreaming' from 'openai.types.audio.transcription_create_params' (/usr/local/lib/python3.11/dist-packages/openai/types/audio/transcription_create_params.py)\n",
      "WARNING:LiteLLM:Error getting transcription kwargs cannot import name 'TranscriptionCreateParamsNonStreaming' from 'openai.types.audio.transcription_create_params' (/usr/local/lib/python3.11/dist-packages/openai/types/audio/transcription_create_params.py)\n",
      " 72%|███████▎  | 58/80 [04:23<01:35,  4.35s/it]\u001b[92m14:14:21 - LiteLLM:WARNING\u001b[0m: model_param_helper.py:147 - Error getting transcription kwargs cannot import name 'TranscriptionCreateParamsNonStreaming' from 'openai.types.audio.transcription_create_params' (/usr/local/lib/python3.11/dist-packages/openai/types/audio/transcription_create_params.py)\n",
      "WARNING:LiteLLM:Error getting transcription kwargs cannot import name 'TranscriptionCreateParamsNonStreaming' from 'openai.types.audio.transcription_create_params' (/usr/local/lib/python3.11/dist-packages/openai/types/audio/transcription_create_params.py)\n",
      "\u001b[92m14:14:21 - LiteLLM:WARNING\u001b[0m: model_param_helper.py:147 - Error getting transcription kwargs cannot import name 'TranscriptionCreateParamsNonStreaming' from 'openai.types.audio.transcription_create_params' (/usr/local/lib/python3.11/dist-packages/openai/types/audio/transcription_create_params.py)\n",
      "WARNING:LiteLLM:Error getting transcription kwargs cannot import name 'TranscriptionCreateParamsNonStreaming' from 'openai.types.audio.transcription_create_params' (/usr/local/lib/python3.11/dist-packages/openai/types/audio/transcription_create_params.py)\n",
      " 74%|███████▍  | 59/80 [04:26<01:29,  4.24s/it]\u001b[92m14:14:25 - LiteLLM:WARNING\u001b[0m: model_param_helper.py:147 - Error getting transcription kwargs cannot import name 'TranscriptionCreateParamsNonStreaming' from 'openai.types.audio.transcription_create_params' (/usr/local/lib/python3.11/dist-packages/openai/types/audio/transcription_create_params.py)\n",
      "WARNING:LiteLLM:Error getting transcription kwargs cannot import name 'TranscriptionCreateParamsNonStreaming' from 'openai.types.audio.transcription_create_params' (/usr/local/lib/python3.11/dist-packages/openai/types/audio/transcription_create_params.py)\n",
      "\u001b[92m14:14:25 - LiteLLM:WARNING\u001b[0m: model_param_helper.py:147 - Error getting transcription kwargs cannot import name 'TranscriptionCreateParamsNonStreaming' from 'openai.types.audio.transcription_create_params' (/usr/local/lib/python3.11/dist-packages/openai/types/audio/transcription_create_params.py)\n",
      "WARNING:LiteLLM:Error getting transcription kwargs cannot import name 'TranscriptionCreateParamsNonStreaming' from 'openai.types.audio.transcription_create_params' (/usr/local/lib/python3.11/dist-packages/openai/types/audio/transcription_create_params.py)\n",
      " 75%|███████▌  | 60/80 [04:30<01:22,  4.11s/it]\u001b[92m14:14:28 - LiteLLM:WARNING\u001b[0m: model_param_helper.py:147 - Error getting transcription kwargs cannot import name 'TranscriptionCreateParamsNonStreaming' from 'openai.types.audio.transcription_create_params' (/usr/local/lib/python3.11/dist-packages/openai/types/audio/transcription_create_params.py)\n",
      "WARNING:LiteLLM:Error getting transcription kwargs cannot import name 'TranscriptionCreateParamsNonStreaming' from 'openai.types.audio.transcription_create_params' (/usr/local/lib/python3.11/dist-packages/openai/types/audio/transcription_create_params.py)\n",
      "\u001b[92m14:14:28 - LiteLLM:WARNING\u001b[0m: model_param_helper.py:147 - Error getting transcription kwargs cannot import name 'TranscriptionCreateParamsNonStreaming' from 'openai.types.audio.transcription_create_params' (/usr/local/lib/python3.11/dist-packages/openai/types/audio/transcription_create_params.py)\n",
      "WARNING:LiteLLM:Error getting transcription kwargs cannot import name 'TranscriptionCreateParamsNonStreaming' from 'openai.types.audio.transcription_create_params' (/usr/local/lib/python3.11/dist-packages/openai/types/audio/transcription_create_params.py)\n",
      " 76%|███████▋  | 61/80 [04:34<01:13,  3.85s/it]\u001b[92m14:14:32 - LiteLLM:WARNING\u001b[0m: model_param_helper.py:147 - Error getting transcription kwargs cannot import name 'TranscriptionCreateParamsNonStreaming' from 'openai.types.audio.transcription_create_params' (/usr/local/lib/python3.11/dist-packages/openai/types/audio/transcription_create_params.py)\n",
      "WARNING:LiteLLM:Error getting transcription kwargs cannot import name 'TranscriptionCreateParamsNonStreaming' from 'openai.types.audio.transcription_create_params' (/usr/local/lib/python3.11/dist-packages/openai/types/audio/transcription_create_params.py)\n",
      "\u001b[92m14:14:32 - LiteLLM:WARNING\u001b[0m: model_param_helper.py:147 - Error getting transcription kwargs cannot import name 'TranscriptionCreateParamsNonStreaming' from 'openai.types.audio.transcription_create_params' (/usr/local/lib/python3.11/dist-packages/openai/types/audio/transcription_create_params.py)\n",
      "WARNING:LiteLLM:Error getting transcription kwargs cannot import name 'TranscriptionCreateParamsNonStreaming' from 'openai.types.audio.transcription_create_params' (/usr/local/lib/python3.11/dist-packages/openai/types/audio/transcription_create_params.py)\n",
      " 78%|███████▊  | 62/80 [04:38<01:10,  3.90s/it]\u001b[92m14:14:36 - LiteLLM:WARNING\u001b[0m: model_param_helper.py:147 - Error getting transcription kwargs cannot import name 'TranscriptionCreateParamsNonStreaming' from 'openai.types.audio.transcription_create_params' (/usr/local/lib/python3.11/dist-packages/openai/types/audio/transcription_create_params.py)\n",
      "WARNING:LiteLLM:Error getting transcription kwargs cannot import name 'TranscriptionCreateParamsNonStreaming' from 'openai.types.audio.transcription_create_params' (/usr/local/lib/python3.11/dist-packages/openai/types/audio/transcription_create_params.py)\n",
      "\u001b[92m14:14:36 - LiteLLM:WARNING\u001b[0m: model_param_helper.py:147 - Error getting transcription kwargs cannot import name 'TranscriptionCreateParamsNonStreaming' from 'openai.types.audio.transcription_create_params' (/usr/local/lib/python3.11/dist-packages/openai/types/audio/transcription_create_params.py)\n",
      "WARNING:LiteLLM:Error getting transcription kwargs cannot import name 'TranscriptionCreateParamsNonStreaming' from 'openai.types.audio.transcription_create_params' (/usr/local/lib/python3.11/dist-packages/openai/types/audio/transcription_create_params.py)\n",
      " 79%|███████▉  | 63/80 [04:42<01:06,  3.93s/it]\u001b[92m14:14:41 - LiteLLM:WARNING\u001b[0m: model_param_helper.py:147 - Error getting transcription kwargs cannot import name 'TranscriptionCreateParamsNonStreaming' from 'openai.types.audio.transcription_create_params' (/usr/local/lib/python3.11/dist-packages/openai/types/audio/transcription_create_params.py)\n",
      "WARNING:LiteLLM:Error getting transcription kwargs cannot import name 'TranscriptionCreateParamsNonStreaming' from 'openai.types.audio.transcription_create_params' (/usr/local/lib/python3.11/dist-packages/openai/types/audio/transcription_create_params.py)\n",
      "\u001b[92m14:14:41 - LiteLLM:WARNING\u001b[0m: model_param_helper.py:147 - Error getting transcription kwargs cannot import name 'TranscriptionCreateParamsNonStreaming' from 'openai.types.audio.transcription_create_params' (/usr/local/lib/python3.11/dist-packages/openai/types/audio/transcription_create_params.py)\n",
      "WARNING:LiteLLM:Error getting transcription kwargs cannot import name 'TranscriptionCreateParamsNonStreaming' from 'openai.types.audio.transcription_create_params' (/usr/local/lib/python3.11/dist-packages/openai/types/audio/transcription_create_params.py)\n",
      " 80%|████████  | 64/80 [04:47<01:08,  4.30s/it]\u001b[92m14:14:45 - LiteLLM:WARNING\u001b[0m: model_param_helper.py:147 - Error getting transcription kwargs cannot import name 'TranscriptionCreateParamsNonStreaming' from 'openai.types.audio.transcription_create_params' (/usr/local/lib/python3.11/dist-packages/openai/types/audio/transcription_create_params.py)\n",
      "WARNING:LiteLLM:Error getting transcription kwargs cannot import name 'TranscriptionCreateParamsNonStreaming' from 'openai.types.audio.transcription_create_params' (/usr/local/lib/python3.11/dist-packages/openai/types/audio/transcription_create_params.py)\n",
      "\u001b[92m14:14:45 - LiteLLM:WARNING\u001b[0m: model_param_helper.py:147 - Error getting transcription kwargs cannot import name 'TranscriptionCreateParamsNonStreaming' from 'openai.types.audio.transcription_create_params' (/usr/local/lib/python3.11/dist-packages/openai/types/audio/transcription_create_params.py)\n",
      "WARNING:LiteLLM:Error getting transcription kwargs cannot import name 'TranscriptionCreateParamsNonStreaming' from 'openai.types.audio.transcription_create_params' (/usr/local/lib/python3.11/dist-packages/openai/types/audio/transcription_create_params.py)\n",
      " 81%|████████▏ | 65/80 [04:51<01:04,  4.31s/it]\u001b[92m14:14:52 - LiteLLM:WARNING\u001b[0m: model_param_helper.py:147 - Error getting transcription kwargs cannot import name 'TranscriptionCreateParamsNonStreaming' from 'openai.types.audio.transcription_create_params' (/usr/local/lib/python3.11/dist-packages/openai/types/audio/transcription_create_params.py)\n",
      "WARNING:LiteLLM:Error getting transcription kwargs cannot import name 'TranscriptionCreateParamsNonStreaming' from 'openai.types.audio.transcription_create_params' (/usr/local/lib/python3.11/dist-packages/openai/types/audio/transcription_create_params.py)\n",
      "\u001b[92m14:14:52 - LiteLLM:WARNING\u001b[0m: model_param_helper.py:147 - Error getting transcription kwargs cannot import name 'TranscriptionCreateParamsNonStreaming' from 'openai.types.audio.transcription_create_params' (/usr/local/lib/python3.11/dist-packages/openai/types/audio/transcription_create_params.py)\n",
      "WARNING:LiteLLM:Error getting transcription kwargs cannot import name 'TranscriptionCreateParamsNonStreaming' from 'openai.types.audio.transcription_create_params' (/usr/local/lib/python3.11/dist-packages/openai/types/audio/transcription_create_params.py)\n",
      " 82%|████████▎ | 66/80 [04:57<01:08,  4.87s/it]\u001b[92m14:14:56 - LiteLLM:WARNING\u001b[0m: model_param_helper.py:147 - Error getting transcription kwargs cannot import name 'TranscriptionCreateParamsNonStreaming' from 'openai.types.audio.transcription_create_params' (/usr/local/lib/python3.11/dist-packages/openai/types/audio/transcription_create_params.py)\n",
      "WARNING:LiteLLM:Error getting transcription kwargs cannot import name 'TranscriptionCreateParamsNonStreaming' from 'openai.types.audio.transcription_create_params' (/usr/local/lib/python3.11/dist-packages/openai/types/audio/transcription_create_params.py)\n",
      "\u001b[92m14:14:56 - LiteLLM:WARNING\u001b[0m: model_param_helper.py:147 - Error getting transcription kwargs cannot import name 'TranscriptionCreateParamsNonStreaming' from 'openai.types.audio.transcription_create_params' (/usr/local/lib/python3.11/dist-packages/openai/types/audio/transcription_create_params.py)\n",
      "WARNING:LiteLLM:Error getting transcription kwargs cannot import name 'TranscriptionCreateParamsNonStreaming' from 'openai.types.audio.transcription_create_params' (/usr/local/lib/python3.11/dist-packages/openai/types/audio/transcription_create_params.py)\n",
      " 84%|████████▍ | 67/80 [05:02<01:01,  4.71s/it]\u001b[92m14:15:00 - LiteLLM:WARNING\u001b[0m: model_param_helper.py:147 - Error getting transcription kwargs cannot import name 'TranscriptionCreateParamsNonStreaming' from 'openai.types.audio.transcription_create_params' (/usr/local/lib/python3.11/dist-packages/openai/types/audio/transcription_create_params.py)\n",
      "WARNING:LiteLLM:Error getting transcription kwargs cannot import name 'TranscriptionCreateParamsNonStreaming' from 'openai.types.audio.transcription_create_params' (/usr/local/lib/python3.11/dist-packages/openai/types/audio/transcription_create_params.py)\n",
      "\u001b[92m14:15:00 - LiteLLM:WARNING\u001b[0m: model_param_helper.py:147 - Error getting transcription kwargs cannot import name 'TranscriptionCreateParamsNonStreaming' from 'openai.types.audio.transcription_create_params' (/usr/local/lib/python3.11/dist-packages/openai/types/audio/transcription_create_params.py)\n",
      "WARNING:LiteLLM:Error getting transcription kwargs cannot import name 'TranscriptionCreateParamsNonStreaming' from 'openai.types.audio.transcription_create_params' (/usr/local/lib/python3.11/dist-packages/openai/types/audio/transcription_create_params.py)\n",
      " 85%|████████▌ | 68/80 [05:06<00:55,  4.59s/it]\u001b[92m14:15:04 - LiteLLM:WARNING\u001b[0m: model_param_helper.py:147 - Error getting transcription kwargs cannot import name 'TranscriptionCreateParamsNonStreaming' from 'openai.types.audio.transcription_create_params' (/usr/local/lib/python3.11/dist-packages/openai/types/audio/transcription_create_params.py)\n",
      "WARNING:LiteLLM:Error getting transcription kwargs cannot import name 'TranscriptionCreateParamsNonStreaming' from 'openai.types.audio.transcription_create_params' (/usr/local/lib/python3.11/dist-packages/openai/types/audio/transcription_create_params.py)\n",
      "\u001b[92m14:15:04 - LiteLLM:WARNING\u001b[0m: model_param_helper.py:147 - Error getting transcription kwargs cannot import name 'TranscriptionCreateParamsNonStreaming' from 'openai.types.audio.transcription_create_params' (/usr/local/lib/python3.11/dist-packages/openai/types/audio/transcription_create_params.py)\n",
      "WARNING:LiteLLM:Error getting transcription kwargs cannot import name 'TranscriptionCreateParamsNonStreaming' from 'openai.types.audio.transcription_create_params' (/usr/local/lib/python3.11/dist-packages/openai/types/audio/transcription_create_params.py)\n",
      " 86%|████████▋ | 69/80 [05:10<00:48,  4.45s/it]\u001b[92m14:15:10 - LiteLLM:WARNING\u001b[0m: model_param_helper.py:147 - Error getting transcription kwargs cannot import name 'TranscriptionCreateParamsNonStreaming' from 'openai.types.audio.transcription_create_params' (/usr/local/lib/python3.11/dist-packages/openai/types/audio/transcription_create_params.py)\n",
      "WARNING:LiteLLM:Error getting transcription kwargs cannot import name 'TranscriptionCreateParamsNonStreaming' from 'openai.types.audio.transcription_create_params' (/usr/local/lib/python3.11/dist-packages/openai/types/audio/transcription_create_params.py)\n",
      "\u001b[92m14:15:10 - LiteLLM:WARNING\u001b[0m: model_param_helper.py:147 - Error getting transcription kwargs cannot import name 'TranscriptionCreateParamsNonStreaming' from 'openai.types.audio.transcription_create_params' (/usr/local/lib/python3.11/dist-packages/openai/types/audio/transcription_create_params.py)\n",
      "WARNING:LiteLLM:Error getting transcription kwargs cannot import name 'TranscriptionCreateParamsNonStreaming' from 'openai.types.audio.transcription_create_params' (/usr/local/lib/python3.11/dist-packages/openai/types/audio/transcription_create_params.py)\n",
      " 88%|████████▊ | 70/80 [05:16<00:48,  4.80s/it]\u001b[92m14:15:14 - LiteLLM:WARNING\u001b[0m: model_param_helper.py:147 - Error getting transcription kwargs cannot import name 'TranscriptionCreateParamsNonStreaming' from 'openai.types.audio.transcription_create_params' (/usr/local/lib/python3.11/dist-packages/openai/types/audio/transcription_create_params.py)\n",
      " 89%|████████▉ | 71/80 [05:16<00:32,  3.58s/it]WARNING:LiteLLM:Error getting transcription kwargs cannot import name 'TranscriptionCreateParamsNonStreaming' from 'openai.types.audio.transcription_create_params' (/usr/local/lib/python3.11/dist-packages/openai/types/audio/transcription_create_params.py)\n",
      "\u001b[92m14:15:14 - LiteLLM:WARNING\u001b[0m: model_param_helper.py:147 - Error getting transcription kwargs cannot import name 'TranscriptionCreateParamsNonStreaming' from 'openai.types.audio.transcription_create_params' (/usr/local/lib/python3.11/dist-packages/openai/types/audio/transcription_create_params.py)\n",
      "WARNING:LiteLLM:Error getting transcription kwargs cannot import name 'TranscriptionCreateParamsNonStreaming' from 'openai.types.audio.transcription_create_params' (/usr/local/lib/python3.11/dist-packages/openai/types/audio/transcription_create_params.py)\n"
     ]
    },
    {
     "name": "stdout",
     "output_type": "stream",
     "text": [
      "Error for chunk 70, Expecting value: line 1 column 1 (char 0)\n"
     ]
    },
    {
     "name": "stderr",
     "output_type": "stream",
     "text": [
      "\u001b[92m14:15:15 - LiteLLM:WARNING\u001b[0m: model_param_helper.py:147 - Error getting transcription kwargs cannot import name 'TranscriptionCreateParamsNonStreaming' from 'openai.types.audio.transcription_create_params' (/usr/local/lib/python3.11/dist-packages/openai/types/audio/transcription_create_params.py)\n",
      "WARNING:LiteLLM:Error getting transcription kwargs cannot import name 'TranscriptionCreateParamsNonStreaming' from 'openai.types.audio.transcription_create_params' (/usr/local/lib/python3.11/dist-packages/openai/types/audio/transcription_create_params.py)\n",
      "\u001b[92m14:15:15 - LiteLLM:WARNING\u001b[0m: model_param_helper.py:147 - Error getting transcription kwargs cannot import name 'TranscriptionCreateParamsNonStreaming' from 'openai.types.audio.transcription_create_params' (/usr/local/lib/python3.11/dist-packages/openai/types/audio/transcription_create_params.py)\n",
      "WARNING:LiteLLM:Error getting transcription kwargs cannot import name 'TranscriptionCreateParamsNonStreaming' from 'openai.types.audio.transcription_create_params' (/usr/local/lib/python3.11/dist-packages/openai/types/audio/transcription_create_params.py)\n",
      " 90%|█████████ | 72/80 [05:21<00:31,  3.91s/it]\u001b[92m14:15:20 - LiteLLM:WARNING\u001b[0m: model_param_helper.py:147 - Error getting transcription kwargs cannot import name 'TranscriptionCreateParamsNonStreaming' from 'openai.types.audio.transcription_create_params' (/usr/local/lib/python3.11/dist-packages/openai/types/audio/transcription_create_params.py)\n",
      "WARNING:LiteLLM:Error getting transcription kwargs cannot import name 'TranscriptionCreateParamsNonStreaming' from 'openai.types.audio.transcription_create_params' (/usr/local/lib/python3.11/dist-packages/openai/types/audio/transcription_create_params.py)\n",
      "\u001b[92m14:15:20 - LiteLLM:WARNING\u001b[0m: model_param_helper.py:147 - Error getting transcription kwargs cannot import name 'TranscriptionCreateParamsNonStreaming' from 'openai.types.audio.transcription_create_params' (/usr/local/lib/python3.11/dist-packages/openai/types/audio/transcription_create_params.py)\n",
      "WARNING:LiteLLM:Error getting transcription kwargs cannot import name 'TranscriptionCreateParamsNonStreaming' from 'openai.types.audio.transcription_create_params' (/usr/local/lib/python3.11/dist-packages/openai/types/audio/transcription_create_params.py)\n",
      " 91%|█████████▏| 73/80 [05:25<00:28,  4.07s/it]\u001b[92m14:15:23 - LiteLLM:WARNING\u001b[0m: model_param_helper.py:147 - Error getting transcription kwargs cannot import name 'TranscriptionCreateParamsNonStreaming' from 'openai.types.audio.transcription_create_params' (/usr/local/lib/python3.11/dist-packages/openai/types/audio/transcription_create_params.py)\n",
      "WARNING:LiteLLM:Error getting transcription kwargs cannot import name 'TranscriptionCreateParamsNonStreaming' from 'openai.types.audio.transcription_create_params' (/usr/local/lib/python3.11/dist-packages/openai/types/audio/transcription_create_params.py)\n",
      "\u001b[92m14:15:23 - LiteLLM:WARNING\u001b[0m: model_param_helper.py:147 - Error getting transcription kwargs cannot import name 'TranscriptionCreateParamsNonStreaming' from 'openai.types.audio.transcription_create_params' (/usr/local/lib/python3.11/dist-packages/openai/types/audio/transcription_create_params.py)\n",
      "WARNING:LiteLLM:Error getting transcription kwargs cannot import name 'TranscriptionCreateParamsNonStreaming' from 'openai.types.audio.transcription_create_params' (/usr/local/lib/python3.11/dist-packages/openai/types/audio/transcription_create_params.py)\n",
      " 92%|█████████▎| 74/80 [05:29<00:23,  3.89s/it]\u001b[92m14:15:27 - LiteLLM:WARNING\u001b[0m: model_param_helper.py:147 - Error getting transcription kwargs cannot import name 'TranscriptionCreateParamsNonStreaming' from 'openai.types.audio.transcription_create_params' (/usr/local/lib/python3.11/dist-packages/openai/types/audio/transcription_create_params.py)\n",
      "WARNING:LiteLLM:Error getting transcription kwargs cannot import name 'TranscriptionCreateParamsNonStreaming' from 'openai.types.audio.transcription_create_params' (/usr/local/lib/python3.11/dist-packages/openai/types/audio/transcription_create_params.py)\n",
      "\u001b[92m14:15:27 - LiteLLM:WARNING\u001b[0m: model_param_helper.py:147 - Error getting transcription kwargs cannot import name 'TranscriptionCreateParamsNonStreaming' from 'openai.types.audio.transcription_create_params' (/usr/local/lib/python3.11/dist-packages/openai/types/audio/transcription_create_params.py)\n",
      "WARNING:LiteLLM:Error getting transcription kwargs cannot import name 'TranscriptionCreateParamsNonStreaming' from 'openai.types.audio.transcription_create_params' (/usr/local/lib/python3.11/dist-packages/openai/types/audio/transcription_create_params.py)\n",
      " 94%|█████████▍| 75/80 [05:33<00:19,  3.98s/it]\u001b[92m14:15:31 - LiteLLM:WARNING\u001b[0m: model_param_helper.py:147 - Error getting transcription kwargs cannot import name 'TranscriptionCreateParamsNonStreaming' from 'openai.types.audio.transcription_create_params' (/usr/local/lib/python3.11/dist-packages/openai/types/audio/transcription_create_params.py)\n",
      "WARNING:LiteLLM:Error getting transcription kwargs cannot import name 'TranscriptionCreateParamsNonStreaming' from 'openai.types.audio.transcription_create_params' (/usr/local/lib/python3.11/dist-packages/openai/types/audio/transcription_create_params.py)\n",
      "\u001b[92m14:15:31 - LiteLLM:WARNING\u001b[0m: model_param_helper.py:147 - Error getting transcription kwargs cannot import name 'TranscriptionCreateParamsNonStreaming' from 'openai.types.audio.transcription_create_params' (/usr/local/lib/python3.11/dist-packages/openai/types/audio/transcription_create_params.py)\n",
      "WARNING:LiteLLM:Error getting transcription kwargs cannot import name 'TranscriptionCreateParamsNonStreaming' from 'openai.types.audio.transcription_create_params' (/usr/local/lib/python3.11/dist-packages/openai/types/audio/transcription_create_params.py)\n",
      " 95%|█████████▌| 76/80 [05:37<00:15,  3.95s/it]\u001b[92m14:15:36 - LiteLLM:WARNING\u001b[0m: model_param_helper.py:147 - Error getting transcription kwargs cannot import name 'TranscriptionCreateParamsNonStreaming' from 'openai.types.audio.transcription_create_params' (/usr/local/lib/python3.11/dist-packages/openai/types/audio/transcription_create_params.py)\n",
      "WARNING:LiteLLM:Error getting transcription kwargs cannot import name 'TranscriptionCreateParamsNonStreaming' from 'openai.types.audio.transcription_create_params' (/usr/local/lib/python3.11/dist-packages/openai/types/audio/transcription_create_params.py)\n",
      "\u001b[92m14:15:36 - LiteLLM:WARNING\u001b[0m: model_param_helper.py:147 - Error getting transcription kwargs cannot import name 'TranscriptionCreateParamsNonStreaming' from 'openai.types.audio.transcription_create_params' (/usr/local/lib/python3.11/dist-packages/openai/types/audio/transcription_create_params.py)\n",
      "WARNING:LiteLLM:Error getting transcription kwargs cannot import name 'TranscriptionCreateParamsNonStreaming' from 'openai.types.audio.transcription_create_params' (/usr/local/lib/python3.11/dist-packages/openai/types/audio/transcription_create_params.py)\n",
      " 96%|█████████▋| 77/80 [05:42<00:12,  4.11s/it]\u001b[92m14:15:40 - LiteLLM:WARNING\u001b[0m: model_param_helper.py:147 - Error getting transcription kwargs cannot import name 'TranscriptionCreateParamsNonStreaming' from 'openai.types.audio.transcription_create_params' (/usr/local/lib/python3.11/dist-packages/openai/types/audio/transcription_create_params.py)\n",
      "WARNING:LiteLLM:Error getting transcription kwargs cannot import name 'TranscriptionCreateParamsNonStreaming' from 'openai.types.audio.transcription_create_params' (/usr/local/lib/python3.11/dist-packages/openai/types/audio/transcription_create_params.py)\n",
      "\u001b[92m14:15:40 - LiteLLM:WARNING\u001b[0m: model_param_helper.py:147 - Error getting transcription kwargs cannot import name 'TranscriptionCreateParamsNonStreaming' from 'openai.types.audio.transcription_create_params' (/usr/local/lib/python3.11/dist-packages/openai/types/audio/transcription_create_params.py)\n",
      "WARNING:LiteLLM:Error getting transcription kwargs cannot import name 'TranscriptionCreateParamsNonStreaming' from 'openai.types.audio.transcription_create_params' (/usr/local/lib/python3.11/dist-packages/openai/types/audio/transcription_create_params.py)\n",
      " 98%|█████████▊| 78/80 [05:45<00:07,  4.00s/it]\u001b[92m14:15:44 - LiteLLM:WARNING\u001b[0m: model_param_helper.py:147 - Error getting transcription kwargs cannot import name 'TranscriptionCreateParamsNonStreaming' from 'openai.types.audio.transcription_create_params' (/usr/local/lib/python3.11/dist-packages/openai/types/audio/transcription_create_params.py)\n",
      "WARNING:LiteLLM:Error getting transcription kwargs cannot import name 'TranscriptionCreateParamsNonStreaming' from 'openai.types.audio.transcription_create_params' (/usr/local/lib/python3.11/dist-packages/openai/types/audio/transcription_create_params.py)\n",
      "\u001b[92m14:15:44 - LiteLLM:WARNING\u001b[0m: model_param_helper.py:147 - Error getting transcription kwargs cannot import name 'TranscriptionCreateParamsNonStreaming' from 'openai.types.audio.transcription_create_params' (/usr/local/lib/python3.11/dist-packages/openai/types/audio/transcription_create_params.py)\n",
      "WARNING:LiteLLM:Error getting transcription kwargs cannot import name 'TranscriptionCreateParamsNonStreaming' from 'openai.types.audio.transcription_create_params' (/usr/local/lib/python3.11/dist-packages/openai/types/audio/transcription_create_params.py)\n",
      " 99%|█████████▉| 79/80 [05:49<00:04,  4.07s/it]\u001b[92m14:15:48 - LiteLLM:WARNING\u001b[0m: model_param_helper.py:147 - Error getting transcription kwargs cannot import name 'TranscriptionCreateParamsNonStreaming' from 'openai.types.audio.transcription_create_params' (/usr/local/lib/python3.11/dist-packages/openai/types/audio/transcription_create_params.py)\n",
      "WARNING:LiteLLM:Error getting transcription kwargs cannot import name 'TranscriptionCreateParamsNonStreaming' from 'openai.types.audio.transcription_create_params' (/usr/local/lib/python3.11/dist-packages/openai/types/audio/transcription_create_params.py)\n",
      "\u001b[92m14:15:48 - LiteLLM:WARNING\u001b[0m: model_param_helper.py:147 - Error getting transcription kwargs cannot import name 'TranscriptionCreateParamsNonStreaming' from 'openai.types.audio.transcription_create_params' (/usr/local/lib/python3.11/dist-packages/openai/types/audio/transcription_create_params.py)\n",
      "WARNING:LiteLLM:Error getting transcription kwargs cannot import name 'TranscriptionCreateParamsNonStreaming' from 'openai.types.audio.transcription_create_params' (/usr/local/lib/python3.11/dist-packages/openai/types/audio/transcription_create_params.py)\n",
      "100%|██████████| 80/80 [05:54<00:00,  4.43s/it]\n"
     ]
    }
   ],
   "source": [
    "import time\n",
    "\n",
    "errors = []\n",
    "all_triples = []\n",
    "for i in tqdm(range(len(chunks_entities))):\n",
    "    try:\n",
    "        ents = format_entities(chunks_entities[i])\n",
    "        text = chunks[i]\n",
    "\n",
    "        user_message = \"Context: {text}\\n\\nTriples:\"\n",
    "        response = completion(\n",
    "             api_key=\"\", #Enter your API Key here\n",
    "            # model=\"ollama/adrienbrault/nous-hermes2pro-llama3-8b:q8_0\",\n",
    "            # model=\"ollama/llama3\",\n",
    "            model=\"gpt-3.5-turbo\",\n",
    "            messages=[{\"content\": system_message.format(entities=ents),\"role\": \"system\"}, {\"content\": user_message.format(text=text),\"role\": \"user\"}],\n",
    "            max_tokens=1000,\n",
    "            format=\"json\"\n",
    "        )\n",
    "        triples = json.loads(response.choices[0].message.content)\n",
    "        all_triples.append(triples)\n",
    "        time.sleep(3)\n",
    "    except Exception as e:\n",
    "        print(f\"Error for chunk {i}, {e}\")\n",
    "        errors.append(response.choices[0].message.content)\n",
    "        all_triples.append([])"
   ]
  },
  {
   "cell_type": "code",
   "execution_count": 31,
   "metadata": {
    "executionInfo": {
     "elapsed": 41,
     "status": "ok",
     "timestamp": 1742912164809,
     "user": {
      "displayName": "Diana Kao",
      "userId": "15819315298964528389"
     },
     "user_tz": 240
    },
    "id": "I9wZQn090sC3"
   },
   "outputs": [],
   "source": [
    "output_file = \"triples.json\"\n",
    "json_data = json.dumps(all_triples, indent=4)\n",
    "with open(output_file, \"w\") as file:\n",
    "  file.write(json_data)"
   ]
  },
  {
   "cell_type": "code",
   "execution_count": 32,
   "metadata": {
    "colab": {
     "base_uri": "https://localhost:8080/"
    },
    "executionInfo": {
     "elapsed": 8,
     "status": "ok",
     "timestamp": 1742912166358,
     "user": {
      "displayName": "Diana Kao",
      "userId": "15819315298964528389"
     },
     "user_tz": 240
    },
    "id": "xtLT2jKU0uzO",
    "outputId": "289ca088-6de9-407c-941a-a11bc8c76e7e"
   },
   "outputs": [
    {
     "data": {
      "text/plain": [
       "[{'subject': 'Fees', 'relationship': 'payable on', 'object': 'Credit Card'},\n",
       " {'subject': 'Fees',\n",
       "  'relationship': 'may vary for',\n",
       "  'object': 'each Cardmember'}]"
      ]
     },
     "execution_count": 32,
     "metadata": {},
     "output_type": "execute_result"
    }
   ],
   "source": [
    "input_file = \"triples.json\"\n",
    "with open(input_file, \"r\") as file:\n",
    "    all_triples = json.load(file)\n",
    "\n",
    "all_triples[0]"
   ]
  },
  {
   "cell_type": "code",
   "execution_count": 33,
   "metadata": {
    "executionInfo": {
     "elapsed": 13,
     "status": "ok",
     "timestamp": 1742912169775,
     "user": {
      "displayName": "Diana Kao",
      "userId": "15819315298964528389"
     },
     "user_tz": 240
    },
    "id": "JFN54E-a0yt4"
   },
   "outputs": [],
   "source": [
    "def get_color(n: str) -> str:\n",
    "    type_to_color = {\n",
    "        \"CreditCard\": \"#6495ED\",\n",
    "        \"Rewards\": \"#3CB371\",\n",
    "        \"Charges\": \"#F4A460\",\n",
    "    }\n",
    "    if n.lower() in credit:\n",
    "        return type_to_color[\"CreditCard\"]\n",
    "    if n.lower() in rewards:\n",
    "        return type_to_color[\"Rewards\"]\n",
    "    if n.lower() in charges:\n",
    "        return type_to_color[\"Charges\"]\n",
    "    return \"red\"\n",
    "\n",
    "def get_size(n: str) -> int:\n",
    "    type_to_size = {\n",
    "        \"CreditCard\": 50,\n",
    "        \"Rewards\": 30,\n",
    "        \"Charges\": 20\n",
    "    }\n",
    "    if n.lower() in credit:\n",
    "        return type_to_size[\"CreditCard\"]\n",
    "    if n.lower() in rewards:\n",
    "        return type_to_size[\"Rewards\"]\n",
    "    if n.lower() in charges:\n",
    "        return type_to_size[\"Charges\"]\n",
    "\n",
    "    return 10"
   ]
  },
  {
   "cell_type": "code",
   "execution_count": 34,
   "metadata": {
    "executionInfo": {
     "elapsed": 350,
     "status": "ok",
     "timestamp": 1742912175656,
     "user": {
      "displayName": "Diana Kao",
      "userId": "15819315298964528389"
     },
     "user_tz": 240
    },
    "id": "QuGC_14N1San"
   },
   "outputs": [],
   "source": [
    "from pyvis.network import Network\n",
    "import networkx as nx\n",
    "\n",
    "G = nx.Graph()\n",
    "\n",
    "for items in all_triples:\n",
    "    for item in items:\n",
    "        try:\n",
    "            node_1 = item[\"subject\"]\n",
    "            node_2 = item[\"object\"]\n",
    "            G.add_node(node_1, title=node_1, color=get_color(node_1), size=get_size(node_1), label=node_1)\n",
    "            G.add_node(node_2, title=node_2, color=get_color(node_2), size=get_size(node_2), label=node_2)\n",
    "            G.add_edge(node_1, node_2, title=item[\"relationship\"], weight=4)\n",
    "        except Exception as e:\n",
    "            print(f\"Error in item: {item}\")"
   ]
  },
  {
   "cell_type": "code",
   "execution_count": 35,
   "metadata": {
    "colab": {
     "base_uri": "https://localhost:8080/",
     "height": 839
    },
    "executionInfo": {
     "elapsed": 68,
     "status": "ok",
     "timestamp": 1742912178086,
     "user": {
      "displayName": "Diana Kao",
      "userId": "15819315298964528389"
     },
     "user_tz": 240
    },
    "id": "ZEM-xqxz1UqR",
    "outputId": "71d4ec0f-54d7-4708-e0fd-c30c33390875"
   },
   "outputs": [
    {
     "name": "stdout",
     "output_type": "stream",
     "text": [
      "graph.html\n"
     ]
    },
    {
     "data": {
      "text/html": [
       "\n",
       "        <iframe\n",
       "            width=\"1000\"\n",
       "            height=\"800\"\n",
       "            src=\"graph.html\"\n",
       "            frameborder=\"0\"\n",
       "            allowfullscreen\n",
       "            \n",
       "        ></iframe>\n",
       "        "
      ],
      "text/plain": [
       "<IPython.lib.display.IFrame at 0x7b105718c950>"
      ]
     },
     "execution_count": 35,
     "metadata": {},
     "output_type": "execute_result"
    }
   ],
   "source": [
    "#nt =  Network(height=\"750px\", width=\"100%\")\n",
    "nt =  Network(height=\"750px\", width=\"100%\", bgcolor=\"#222222\", font_color=\"white\")\n",
    "\n",
    "nt.from_nx(G)\n",
    "nt.toggle_physics(True)\n",
    "nt.force_atlas_2based(central_gravity=0.015, gravity=-31)\n",
    "nt.show(\"graph.html\", notebook=False)\n",
    "# Generate the HTML\n",
    "html = nt.generate_html()\n",
    "\n",
    "# # Write the HTML to a file\n",
    "with open(\"graph.html\", \"w\") as file:\n",
    "    file.write(html)\n",
    "\n",
    "# # Display the graph in a Jupyter Notebook\n",
    "from IPython.display import IFrame\n",
    "IFrame(\"graph.html\", width=1000, height=800)"
   ]
  },
  {
   "cell_type": "code",
   "execution_count": 36,
   "metadata": {
    "colab": {
     "base_uri": "https://localhost:8080/"
    },
    "executionInfo": {
     "elapsed": 27,
     "status": "ok",
     "timestamp": 1742912183162,
     "user": {
      "displayName": "Diana Kao",
      "userId": "15819315298964528389"
     },
     "user_tz": 240
    },
    "id": "XrN1gl3B1W16",
    "outputId": "9498dced-94bb-4119-9a19-5ddac8ead5d1"
   },
   "outputs": [
    {
     "data": {
      "text/plain": [
       "[[{'subject': 'Fees', 'relationship': 'payable on', 'object': 'Credit Card'},\n",
       "  {'subject': 'Fees',\n",
       "   'relationship': 'may vary for',\n",
       "   'object': 'each Cardmember'}],\n",
       " [{'subject': 'Credit Card',\n",
       "   'relationship': 'is issued to',\n",
       "   'object': 'Cardmember'},\n",
       "  {'subject': 'Credit Card',\n",
       "   'relationship': 'bills',\n",
       "   'object': 'applicable fees'},\n",
       "  {'subject': 'applicable fees',\n",
       "   'relationship': 'are stated in',\n",
       "   'object': 'card statement'}],\n",
       " [{'subject': 'Cardmember', 'relationship': 'can use', 'object': 'Card'},\n",
       "  {'subject': 'Card', 'relationship': 'to access', 'object': 'cash'},\n",
       "  {'subject': 'Card',\n",
       "   'relationship': 'to access',\n",
       "   'object': 'cash in an emergency'},\n",
       "  {'subject': 'Card', 'relationship': 'to access', 'object': 'cash from ATMs'},\n",
       "  {'subject': 'Card',\n",
       "   'relationship': 'to access',\n",
       "   'object': 'cash from ATMs in India or abroad'},\n",
       "  {'subject': 'Card', 'relationship': 'incur', 'object': 'transaction fee'},\n",
       "  {'subject': 'transaction fee', 'relationship': 'of', 'object': '2.5%'},\n",
       "  {'subject': 'transaction fee', 'relationship': 'Minimum', 'object': 'None'}],\n",
       " [{'subject': 'transaction fee',\n",
       "   'relationship': 'is subject to',\n",
       "   'object': 'change'},\n",
       "  {'subject': 'transaction fee',\n",
       "   'relationship': 'is imposed on',\n",
       "   'object': 'cash advances'},\n",
       "  {'subject': 'transaction fee',\n",
       "   'relationship': 'is billed to',\n",
       "   'object': 'Cardmember'}],\n",
       " [{'subject': 'charges',\n",
       "   'relationship': 'apply on',\n",
       "   'object': 'revolving credit'}],\n",
       " [{'subject': 'Charges and fees',\n",
       "   'relationship': 'are payable by',\n",
       "   'object': 'Cardmembers'},\n",
       "  {'subject': 'Charges and fees',\n",
       "   'relationship': 'may be applicable from',\n",
       "   'object': 'time to time'},\n",
       "  {'subject': 'Charges and fees',\n",
       "   'relationship': 'are payable for',\n",
       "   'object': 'Cardmembers'}],\n",
       " [],\n",
       " [{'subject': 'HDFC Bank', 'relationship': 'retains', 'object': 'right'},\n",
       "  {'subject': 'HDFC Bank',\n",
       "   'relationship': 'alter',\n",
       "   'object': 'charges or fees'},\n",
       "  {'subject': 'HDFC Bank',\n",
       "   'relationship': 'introduce',\n",
       "   'object': 'new charges or fees'},\n",
       "  {'subject': 'HDFC Bank', 'relationship': 'deem', 'object': 'appropriate'},\n",
       "  {'subject': 'HDFC Bank',\n",
       "   'relationship': 'provide',\n",
       "   'object': 'intimation to customer'}],\n",
       " [{'subject': 'Loan on Credit Cards',\n",
       "   'relationship': 'has',\n",
       "   'object': 'interest rates'},\n",
       "  {'subject': 'Loan on Credit Cards',\n",
       "   'relationship': 'has',\n",
       "   'object': 'pre-closure charges'},\n",
       "  {'subject': 'Loan on Credit Cards',\n",
       "   'relationship': 'has',\n",
       "   'object': 'cancellation charges'}],\n",
       " [{'subject': 'Rs 10,000',\n",
       "   'relationship': 'will be automatically converted to',\n",
       "   'object': 'Easy EMI'},\n",
       "  {'subject': 'Easy EMI Credit Card',\n",
       "   'relationship': 'has',\n",
       "   'object': 'Easy EMI'}],\n",
       " [{'subject': 'Processing Fee',\n",
       "   'relationship': 'is applicable for',\n",
       "   'object': 'Easy EMI loan conversion'},\n",
       "  {'subject': 'EMI',\n",
       "   'relationship': 'is',\n",
       "   'object': 'Easy EMI loan conversion'},\n",
       "  {'subject': '20% Rate of Interest',\n",
       "   'relationship': 'is',\n",
       "   'object': 'default for 9 months tenure'}],\n",
       " [{'subject': 'Interest Free Period',\n",
       "   'relationship': 'could range from',\n",
       "   'object': '20 to 50 days'},\n",
       "  {'subject': 'Interest Free Period',\n",
       "   'relationship': 'subject to',\n",
       "   'object': 'the scheme applicable'},\n",
       "  {'subject': 'Interest Free Period',\n",
       "   'relationship': 'subject to',\n",
       "   'object': 'Schedule of Charges'},\n",
       "  {'subject': 'Interest Free Period',\n",
       "   'relationship': 'and the submission of',\n",
       "   'object': ''}],\n",
       " [],\n",
       " [{'subject': 'HDFC Bank International Platinum Plus Card',\n",
       "   'relationship': 'has',\n",
       "   'object': 'interest-free credit period of up to 50 days'},\n",
       "  {'subject': 'customer', 'relationship': 'can spend on', 'object': 'Card'},\n",
       "  {'subject': 'billing date',\n",
       "   'relationship': 'is',\n",
       "   'object': '4th of the month'},\n",
       "  {'subject': 'bill',\n",
       "   'relationship': 'will be generated on',\n",
       "   'object': '4th May'},\n",
       "  {'subject': 'Payment Due Date',\n",
       "   'relationship': 'will be',\n",
       "   'object': '24th May'},\n",
       "  {'subject': 'purchase',\n",
       "   'relationship': 'will have',\n",
       "   'object': 'credit period of 41 days if made on 14th April'},\n",
       "  {'subject': 'purchase',\n",
       "   'relationship': 'will have',\n",
       "   'object': 'credit period of 23 days if made on 2nd May'},\n",
       "  {'subject': 'period',\n",
       "   'relationship': 'will be',\n",
       "   'object': 'free of interest only if all previous dues are paid in full and there is no unpaid balance carried over from previous months'}],\n",
       " [{'subject': 'Insta card',\n",
       "   'relationship': 'has',\n",
       "   'object': 'related charges'}],\n",
       " [{'subject': 'daily ecommerce (net) limit',\n",
       "   'relationship': 'is placed on',\n",
       "   'object': 'card'},\n",
       "  {'subject': 'card',\n",
       "   'relationship': 'is delivered to',\n",
       "   'object': 'you in person'},\n",
       "  {'subject': 'wallet loading transaction',\n",
       "   'relationship': 'incur charges of',\n",
       "   'object': '2.5% of load value'}],\n",
       " [],\n",
       " [{'subject': 'HDFC Bank',\n",
       "   'relationship': 'determines',\n",
       "   'object': 'credit limit'},\n",
       "  {'subject': 'HDFC Bank',\n",
       "   'relationship': 'determines',\n",
       "   'object': 'cash withdrawal limit'},\n",
       "  {'subject': 'Add-on Cardmembers',\n",
       "   'relationship': 'share',\n",
       "   'object': 'credit limit'},\n",
       "  {'subject': 'Add-on Cardmembers',\n",
       "   'relationship': 'share',\n",
       "   'object': 'cash withdrawal limit'},\n",
       "  {'subject': 'HDFC Bank',\n",
       "   'relationship': 'communicates',\n",
       "   'object': 'credit limit'},\n",
       "  {'subject': 'HDFC Bank',\n",
       "   'relationship': 'communicates',\n",
       "   'object': 'cash withdrawal limit'},\n",
       "  {'subject': 'HDFC Bank',\n",
       "   'relationship': 'provides',\n",
       "   'object': 'available credit limit'},\n",
       "  {'subject': 'HDFC Bank',\n",
       "   'relationship': 'decreases',\n",
       "   'object': 'Cardmember credit limit'},\n",
       "  {'subject': 'HDFC Bank',\n",
       "   'relationship': 'informs',\n",
       "   'object': 'Cardmember immediately'},\n",
       "  {'subject': 'HDFC Bank',\n",
       "   'relationship': 'informs',\n",
       "   'object': 'reason for decrease'},\n",
       "  {'subject': 'HDFC Bank', 'relationship': 'informs', 'object': 'by SMS'}],\n",
       " [{'subject': 'Cardmembers',\n",
       "   'relationship': 'can have',\n",
       "   'object': 'credit limit increased'},\n",
       "  {'subject': 'Cardmembers',\n",
       "   'relationship': 'can write to',\n",
       "   'object': 'the Bank'}],\n",
       " [{'subject': 'Bank',\n",
       "   'relationship': 'may increase',\n",
       "   'object': 'credit limit'},\n",
       "  {'subject': 'Bank',\n",
       "   'relationship': 'is based on',\n",
       "   'object': 'new documents'},\n",
       "  {'subject': 'Bank', 'relationship': 'is at', 'object': 'sole discretion'},\n",
       "  {'subject': 'Cardmember', 'relationship': 'has', 'object': 'credit limit'}],\n",
       " [],\n",
       " [{'subject': 'Cardmember',\n",
       "   'relationship': 'will be sent reminders from',\n",
       "   'object': 'time to time for settlement of any outstanding on the card account'},\n",
       "  {'subject': 'Cardmember',\n",
       "   'relationship': 'will be sent reminders by',\n",
       "   'object': 'post, fax, telephone, e-mail, SMS messaging'},\n",
       "  {'subject': 'third party',\n",
       "   'relationship': 'will remind, follow up and collect dues on behalf of',\n",
       "   'object': 'Cardmember'},\n",
       "  {'subject': 'third party',\n",
       "   'relationship': 'appointed',\n",
       "   'object': 'shall adhere fully to the code of conduct on debt collection'}],\n",
       " [],\n",
       " [],\n",
       " [],\n",
       " [{'subject': 'Customers Card/Account',\n",
       "   'relationship': 'involves',\n",
       "   'object': 'Termination/Revocation'},\n",
       "  {'subject': 'Termination/Revocation',\n",
       "   'relationship': 'affects',\n",
       "   'object': 'Card Membership'}],\n",
       " [{'subject': 'Bank International Credit Card',\n",
       "   'relationship': 'shall be in accordance with',\n",
       "   'object': 'exchange control regulations'},\n",
       "  {'subject': 'Bank International Credit Card',\n",
       "   'relationship': 'shall be in accordance with',\n",
       "   'object': 'law of the land'},\n",
       "  {'subject': 'Bank International Credit Card',\n",
       "   'relationship': 'shall be in accordance with',\n",
       "   'object': 'Regulatory authorities'},\n",
       "  {'subject': 'card',\n",
       "   'relationship': 'will not be used for',\n",
       "   'object': 'transactions involving Forex trading'},\n",
       "  {'subject': 'card',\n",
       "   'relationship': 'will not be used for',\n",
       "   'object': 'lottery'},\n",
       "  {'subject': 'card',\n",
       "   'relationship': 'will not be used for',\n",
       "   'object': 'betting'},\n",
       "  {'subject': 'card',\n",
       "   'relationship': 'will not be used for',\n",
       "   'object': 'gambling'},\n",
       "  {'subject': 'card',\n",
       "   'relationship': 'will not be used for',\n",
       "   'object': 'dating'}],\n",
       " [],\n",
       " [],\n",
       " [{'subject': 'cards',\n",
       "   'relationship': 'will be terminated',\n",
       "   'object': 'basis the written'}],\n",
       " [{'subject': 'annual fees',\n",
       "   'relationship': 'shall be refunded on',\n",
       "   'object': 'pro-rata basis'},\n",
       "  {'subject': 'joining fees',\n",
       "   'relationship': 'shall be refunded on',\n",
       "   'object': 'pro-rata basis'},\n",
       "  {'subject': 'renewal fees',\n",
       "   'relationship': 'shall be refunded on',\n",
       "   'object': 'pro-rata basis'}],\n",
       " [{'subject': 'Bank',\n",
       "   'relationship': 'notices',\n",
       "   'object': 'unusual and abnormal transaction patterns'},\n",
       "  {'subject': 'Bank',\n",
       "   'relationship': 'establishes contact with',\n",
       "   'object': 'customer'},\n",
       "  {'subject': 'Bank', 'relationship': 'contacts', 'object': 'customer'},\n",
       "  {'subject': 'customer',\n",
       "   'relationship': 'has',\n",
       "   'object': 'registered phone number'},\n",
       "  {'subject': 'registered phone number',\n",
       "   'relationship': 'is available on',\n",
       "   'object': \"Bank's records\"}],\n",
       " [{'subject': 'Bank',\n",
       "   'relationship': 'may restrict/terminate the use of',\n",
       "   'object': 'Card'},\n",
       "  {'subject': 'Bank',\n",
       "   'relationship': 'establish contact with',\n",
       "   'object': 'customer'}],\n",
       " [{'subject': 'Bank', 'relationship': 'believes', 'object': 'it necessary'},\n",
       "  {'subject': 'Bank',\n",
       "   'relationship': 'believes',\n",
       "   'object': 'in the interest of the Cardholder'},\n",
       "  {'subject': 'Bank',\n",
       "   'relationship': 'believes',\n",
       "   'object': 'for security reasons'}],\n",
       " [{'subject': 'HDFC Bank',\n",
       "   'relationship': 'can suspend',\n",
       "   'object': 'Credit Card'},\n",
       "  {'subject': 'Credit Card',\n",
       "   'relationship': 'extended',\n",
       "   'object': 'credit limit'},\n",
       "  {'subject': 'Credit Card',\n",
       "   'relationship': 'must not be used after',\n",
       "   'object': 'Agreement has ended'},\n",
       "  {'subject': 'Credit Card',\n",
       "   'relationship': 'must not be used if',\n",
       "   'object': 'card account is suspended'}],\n",
       " [{'subject': 'Bank',\n",
       "   'relationship': 'shall have',\n",
       "   'object': 'right to run periodic checks on the Credit Card usage'},\n",
       "  {'subject': 'Credit Card',\n",
       "   'relationship': 'usage to identify',\n",
       "   'object': 'excessive utilization of credit limit beyond the sanctioned limit'},\n",
       "  {'subject': 'Credit Card',\n",
       "   'relationship': 'usage to identify',\n",
       "   'object': 'unusual or excessive utilization at few select merchants'},\n",
       "  {'subject': 'Credit Card',\n",
       "   'relationship': 'usage to identify',\n",
       "   'object': 'possible collusion with merchant'},\n",
       "  {'subject': 'Credit Card',\n",
       "   'relationship': 'usage towards',\n",
       "   'object': 'non-personal'}],\n",
       " [{'subject': 'Bank',\n",
       "   'relationship': 'may take restrictive action on',\n",
       "   'object': 'Credit Card'},\n",
       "  {'subject': 'Bank',\n",
       "   'relationship': 'may take restrictive action on',\n",
       "   'object': 'reward points'}],\n",
       " [{'subject': 'Bank',\n",
       "   'relationship': 'takes',\n",
       "   'object': 'complete termination action on Credit Card'},\n",
       "  {'subject': 'customer',\n",
       "   'relationship': 'has',\n",
       "   'object': 'onus to provide satisfactory proof'},\n",
       "  {'subject': 'Cardmember',\n",
       "   'relationship': 'must',\n",
       "   'object': 'provide satisfactory proof'}],\n",
       " [{'subject': 'Cardmember',\n",
       "   'relationship': 'has',\n",
       "   'object': 'outstanding balance'},\n",
       "  {'subject': 'Cardmember',\n",
       "   'relationship': 'needs to pay',\n",
       "   'object': 'HDFC Bank'},\n",
       "  {'subject': 'Cardmember',\n",
       "   'relationship': 'has to pay',\n",
       "   'object': 'total outstanding balance'},\n",
       "  {'subject': 'Cardmember',\n",
       "   'relationship': 'needs to pay',\n",
       "   'object': 'all amounts due to HDFC Bank'},\n",
       "  {'subject': 'Cardmember',\n",
       "   'relationship': 'needs to pay',\n",
       "   'object': 'all transactions and other amounts'},\n",
       "  {'subject': 'Cardmember',\n",
       "   'relationship': 'has to pay',\n",
       "   'object': 'due amounts'}],\n",
       " [{'subject': 'death or incapacitance of Cardmember',\n",
       "   'relationship': 'automatically cancels',\n",
       "   'object': 'card issued to Cardmember as well as any Add-on Cardmembers'},\n",
       "  {'subject': 'insolvency/dissolution/bankruptcy or winding up of a corporate body of Cardmember',\n",
       "   'relationship': 'automatically cancels',\n",
       "   'object': 'card issued to Cardmember as well as any Add-on Cardmembers'},\n",
       "  {'subject': 'Card Account',\n",
       "   'relationship': 'liable to be suspended',\n",
       "   'object': 'on instructions from any government regulatory body'},\n",
       "  {'subject': 'amounts outstanding on Card Account',\n",
       "   'relationship': 'deemed to have immediately become due',\n",
       "   'object': 'on death or incapacitance, insolvency, bankruptcy, winding up, or instruction from government/regulatory bodies'},\n",
       "  {'subject': 'Bank',\n",
       "   'relationship': 'entitled to recover',\n",
       "   'object': 'amounts outstanding on Card Account in accordance with relevant laws in force'}],\n",
       " [{'subject': 'Loss', 'relationship': 'results in', 'object': 'theft'},\n",
       "  {'subject': 'theft', 'relationship': 'can lead to', 'object': 'misuse'},\n",
       "  {'subject': 'misuse', 'relationship': 'involves', 'object': 'Card'}],\n",
       " [{'subject': 'Primary', 'relationship': 'is reported', 'object': 'lost'},\n",
       "  {'subject': 'Add-On card',\n",
       "   'relationship': 'is rendered invalid when',\n",
       "   'object': 'Primary card is reported lost'},\n",
       "  {'subject': 'Add-On card', 'relationship': 'is reported', 'object': 'lost'},\n",
       "  {'subject': 'Primary Card Account',\n",
       "   'relationship': 'is invalidated when',\n",
       "   'object': 'Add-on card is reported lost'},\n",
       "  {'subject': 'other Add-on cards',\n",
       "   'relationship': 'are invalidated when',\n",
       "   'object': 'Add-on card is reported lost'}],\n",
       " [{'subject': 'Cardmember',\n",
       "   'relationship': 'is wholly liable for',\n",
       "   'object': 'all transactions prior to reporting of loss of the card'},\n",
       "  {'subject': 'Cardmember',\n",
       "   'relationship': 'must report',\n",
       "   'object': 'any theft of cards to the Police'},\n",
       "  {'subject': 'Cardmember',\n",
       "   'relationship': 'must provide',\n",
       "   'object': 'a copy of Police complaint to the Bank'}],\n",
       " [{'subject': 'Cardmember',\n",
       "   'relationship': 'will be liable for',\n",
       "   'object': 'all losses'},\n",
       "  {'subject': 'someone',\n",
       "   'relationship': 'obtained',\n",
       "   'object': 'the PIN or the card'},\n",
       "  {'subject': 'someone',\n",
       "   'relationship': 'obtained',\n",
       "   'object': 'the PIN or the card with the consent of Cardmember or an Additional Cardmember'}],\n",
       " [{'subject': 'Cardmember',\n",
       "   'relationship': 'acted fraudulently',\n",
       "   'object': 'liable for all losses'},\n",
       "  {'subject': 'Cardmember',\n",
       "   'relationship': 'acts without reasonable care',\n",
       "   'object': 'liable for all losses incurred'}],\n",
       " [{'subject': 'HDFC Bank', 'relationship': 'may give', 'object': 'police'},\n",
       "  {'subject': 'HDFC Bank',\n",
       "   'relationship': 'may give',\n",
       "   'object': 'other relevant authorities'},\n",
       "  {'subject': 'HDFC Bank',\n",
       "   'relationship': 'consider',\n",
       "   'object': 'information'},\n",
       "  {'subject': 'information',\n",
       "   'relationship': 'is relevant about',\n",
       "   'object': 'loss'},\n",
       "  {'subject': 'information',\n",
       "   'relationship': 'is relevant about',\n",
       "   'object': 'theft'},\n",
       "  {'subject': 'information',\n",
       "   'relationship': 'is relevant about',\n",
       "   'object': 'misuse of a Card or PIN'}],\n",
       " [{'subject': 'Card member',\n",
       "   'relationship': 'may avail of',\n",
       "   'object': 'optional insurance product'},\n",
       "  {'subject': 'optional insurance product',\n",
       "   'relationship': 'covers',\n",
       "   'object': 'liability arising from fraudulent transactions on the Credit Card'},\n",
       "  {'subject': 'Bank representative',\n",
       "   'relationship': 'provides',\n",
       "   'object': 'details and terms and conditions of Insurance cover'}],\n",
       " [{'subject': 'HDFC Bank Contactless Cards',\n",
       "   'relationship': 'allows',\n",
       "   'object': 'pay with a simple tap'},\n",
       "  {'subject': 'transaction', 'relationship': 'is', 'object': '₹5,000 or less'},\n",
       "  {'subject': 'contactless card',\n",
       "   'relationship': 'is used to',\n",
       "   'object': 'tap to pay'},\n",
       "  {'subject': 'transaction',\n",
       "   'relationship': 'does not need',\n",
       "   'object': 'sign or enter any PIN'}],\n",
       " [{'subject': 'Contactless transactions',\n",
       "   'relationship': 'are',\n",
       "   'object': 'secured as any chip or PIN based transactions'},\n",
       "  {'subject': 'Bank',\n",
       "   'relationship': 'is',\n",
       "   'object': 'not liable or responsible for any transactions incurred on the Card Account prior to time of reporting or delay in reporting of the loss or misuse of the card'},\n",
       "  {'subject': 'Card member',\n",
       "   'relationship': 'will be',\n",
       "   'object': 'wholly liable for the same'},\n",
       "  {'subject': 'Terms and Conditions',\n",
       "   'relationship': 'is applicable for',\n",
       "   'object': 'all contact-less cards and contact-less transactions'}],\n",
       " [],\n",
       " [{'subject': 'Reward Points',\n",
       "   'relationship': 'will be earned for',\n",
       "   'object': 'transaction amounts in multiples of `150, residual amounts or transactions below `150 will not earn Reward Points'},\n",
       "  {'subject': 'InterMiles Credit Card variants',\n",
       "   'relationship': 'InterMiles miles will be earned for',\n",
       "   'object': 'transaction amounts in multiples of `150, residual amounts or transactions below `150 will not earn InterMiles miles'},\n",
       "  {'subject': 'Silver cards and Freedom Plus Cards',\n",
       "   'relationship': 'Reward Points are earned on',\n",
       "   'object': 'transactions amounts in multiple of'}],\n",
       " [],\n",
       " [{'subject': 'Reward Points',\n",
       "   'relationship': 'are valid for',\n",
       "   'object': '2 years'},\n",
       "  {'subject': 'Reward Points',\n",
       "   'relationship': 'expire in',\n",
       "   'object': '2 years from the date of accumulation'},\n",
       "  {'subject': 'Infinia / Diners Black',\n",
       "   'relationship': 'for which',\n",
       "   'object': 'reward points are valid for 3 years'},\n",
       "  {'subject': 'EasyEMI cards',\n",
       "   'relationship': 'on which',\n",
       "   'object': 'cash points are valid for 1 year'}],\n",
       " [],\n",
       " [{'subject': 'credit card', 'relationship': 'has', 'object': 'reward points'},\n",
       "  {'subject': 'reward points',\n",
       "   'relationship': 'have',\n",
       "   'object': 'limited validity'},\n",
       "  {'subject': 'limited validity',\n",
       "   'relationship': 'lasts for',\n",
       "   'object': '1 to 3 years'},\n",
       "  {'subject': 'limited validity',\n",
       "   'relationship': 'depends on',\n",
       "   'object': 'card variant'}],\n",
       " [{'subject': 'Cash points',\n",
       "   'relationship': 'are accrued for',\n",
       "   'object': 'EasyEMI cards'},\n",
       "  {'subject': 'Cash points',\n",
       "   'relationship': 'are valid for',\n",
       "   'object': '1 year'},\n",
       "  {'subject': 'Cash points',\n",
       "   'relationship': 'are valid from',\n",
       "   'object': 'date of card upgrade / migration, replacement, renewal or re-issuance'}],\n",
       " [{'subject': 'Infinia / Diners Black cards',\n",
       "   'relationship': 'has',\n",
       "   'object': 'Reward points'},\n",
       "  {'subject': 'Reward points',\n",
       "   'relationship': 'are valid for',\n",
       "   'object': '3 years'}],\n",
       " [{'subject': 'Reward points/Cash points',\n",
       "   'relationship': 'accrued',\n",
       "   'object': 'valid for 2 years'},\n",
       "  {'subject': 'Reward points/Cash points',\n",
       "   'relationship': 'are accrued',\n",
       "   'object': 'from the date of card upgrade/migration, replacement, renewal or re-issuance'}],\n",
       " [{'subject': 'Customer',\n",
       "   'relationship': 'was issued',\n",
       "   'object': 'Regalia First credit card'},\n",
       "  {'subject': 'Regalia First credit card',\n",
       "   'relationship': 'was issued on',\n",
       "   'object': 'Feb, 2014'}],\n",
       " [{'subject': 'Credit Card',\n",
       "   'relationship': 'has accumulated',\n",
       "   'object': '50,000 reward points'}],\n",
       " [],\n",
       " [{'subject': 'reward points',\n",
       "   'relationship': 'have',\n",
       "   'object': 'balance of 50,000'},\n",
       "  {'subject': 'reward points',\n",
       "   'relationship': 'have',\n",
       "   'object': 'validity of 2 years'},\n",
       "  {'subject': 'reward points',\n",
       "   'relationship': 'would expire on',\n",
       "   'object': 'May 2022'}],\n",
       " [{'subject': 'Reward points/Cash points',\n",
       "   'relationship': 'will be accrued after',\n",
       "   'object': '18th Mar 2020'},\n",
       "  {'subject': 'validity norms',\n",
       "   'relationship': 'will be applicable as per',\n",
       "   'object': 'the card variant'}],\n",
       " [{'subject': 'Customers',\n",
       "   'relationship': 'have',\n",
       "   'object': 'reward/cash points'},\n",
       "  {'subject': 'reward/cash points',\n",
       "   'relationship': 'continue to be valid until',\n",
       "   'object': 'the date of the next card upgrade/migration, replacement, renewal or re-issuance'},\n",
       "  {'subject': 'reward/cash points',\n",
       "   'relationship': 'have limited validity as per',\n",
       "   'object': 'card variants explained above'}],\n",
       " [{'subject': 'EasyEMI',\n",
       "   'relationship': 'will not accrue',\n",
       "   'object': 'Reward Points'},\n",
       "  {'subject': 'EasyEMI',\n",
       "   'relationship': 'will not accrue',\n",
       "   'object': 'InterMiles'},\n",
       "  {'subject': 'e-wallet loading transactions',\n",
       "   'relationship': 'will not accrue',\n",
       "   'object': 'Reward Points'},\n",
       "  {'subject': 'e-wallet loading transactions',\n",
       "   'relationship': 'will not accrue',\n",
       "   'object': 'InterMiles'}],\n",
       " [{'subject': 'members',\n",
       "   'relationship': 'can redeem',\n",
       "   'object': 'up to a maximum of 70% of the booking value through Reward Points'},\n",
       "  {'subject': 'transaction amount',\n",
       "   'relationship': 'will have to be paid via',\n",
       "   'object': 'the Credit Card limit'},\n",
       "  {'subject': 'condition',\n",
       "   'relationship': 'applies for',\n",
       "   'object': 'transactions done on HDFC Bank Smartbuy or the dedicated website portals of the bank for the respective card variants'},\n",
       "  {'subject': 'cards',\n",
       "   'relationship': 'applies to',\n",
       "   'object': 'Infinia and Diners Black cards w.e.f. 25th July 2020'},\n",
       "  {'subject': 'cards',\n",
       "   'relationship': 'applies to',\n",
       "   'object': 'retail and business card variants of Regalia, Regalia First and other Diners card variants (ClubMiles, Rewardz, Privilege, Premium) since 25th Nov 2019'}],\n",
       " [{'subject': 'Credit Card',\n",
       "   'relationship': 'can redeem',\n",
       "   'object': 'up to a maximum of 50% of booking value through Reward Points'},\n",
       "  {'subject': 'Credit Card',\n",
       "   'relationship': 'will have to be paid via',\n",
       "   'object': 'the Credit Card limit'},\n",
       "  {'subject': 'Credit Card',\n",
       "   'relationship': 'are grouped as',\n",
       "   'object': 'Regular, Cashback, Premium, Premium Travel, Professional, Co-branded, and Business cards on the bank’s website'}],\n",
       " [{'subject': 'Reward Points',\n",
       "   'relationship': 'accrued',\n",
       "   'object': 'InterMiles'},\n",
       "  {'subject': 'Reward Points',\n",
       "   'relationship': 'will be reversed',\n",
       "   'object': 'InterMiles'},\n",
       "  {'subject': 'retail transaction',\n",
       "   'relationship': 'is converted into',\n",
       "   'object': 'SmartEMI'},\n",
       "  {'subject': 'actions done on HDFC Bank Smartbuy',\n",
       "   'relationship': 'accrued',\n",
       "   'object': 'Reward Points'}],\n",
       " [{'subject': 'Credit card',\n",
       "   'relationship': 'is blocked due to',\n",
       "   'object': 'hotlisting i.e. lost, stolen, etc'},\n",
       "  {'subject': 'Credit card',\n",
       "   'relationship': 'is blocked due to',\n",
       "   'object': 'Blocks N/R/M/O'}],\n",
       " [{'subject': 'InterMiles',\n",
       "   'relationship': 'accrued for',\n",
       "   'object': 'insurance transactions'},\n",
       "  {'subject': 'InterMiles',\n",
       "   'relationship': 'has a maximum cap of',\n",
       "   'object': '5000 per day for Infinia & Diners Black credit cards'},\n",
       "  {'subject': 'InterMiles',\n",
       "   'relationship': 'has a maximum cap of',\n",
       "   'object': '2000 per day for all other credit cards'},\n",
       "  {'subject': 'Infinia', 'relationship': 'is', 'object': 'a credit card'},\n",
       "  {'subject': 'Diners Black',\n",
       "   'relationship': 'is',\n",
       "   'object': 'a credit card'}],\n",
       " [],\n",
       " [{'subject': 'Bank',\n",
       "   'relationship': 'reserves',\n",
       "   'object': 'right to cancel or suspend Reward Points'},\n",
       "  {'subject': 'Reward Points',\n",
       "   'relationship': 'accrued on',\n",
       "   'object': 'Credit Card'},\n",
       "  {'subject': 'Credit Card',\n",
       "   'relationship': 'is in',\n",
       "   'object': 'arrears, suspension or default'},\n",
       "  {'subject': 'Card Account',\n",
       "   'relationship': 'is or is suspected to be',\n",
       "   'object': 'operated fraudulently'},\n",
       "  {'subject': 'Reward Points',\n",
       "   'relationship': 'earned but not redeemed at the time of',\n",
       "   'object': 'death of the Cardmember'},\n",
       "  {'subject': 'Reward Points',\n",
       "   'relationship': 'shall be',\n",
       "   'object': 'forfeited'}],\n",
       " [{'subject': 'Cardmember',\n",
       "   'relationship': 'obtains',\n",
       "   'object': 'refund or reimbursement'},\n",
       "  {'subject': 'refund or reimbursement',\n",
       "   'relationship': 'will be issued to',\n",
       "   'object': 'Card Account'},\n",
       "  {'subject': 'credits',\n",
       "   'relationship': 'posted to',\n",
       "   'object': 'Card Account'},\n",
       "  {'subject': 'credits',\n",
       "   'relationship': 'will reduce',\n",
       "   'object': 'the Card Account'}],\n",
       " [],\n",
       " [{'subject': 'RPs', 'relationship': 'accrued in', 'object': 'the card'},\n",
       "  {'subject': 'RPs', 'relationship': 'will be', 'object': 'nullified'}],\n",
       " [{'subject': 'Customers', 'relationship': 'can earn', 'object': 'cashback'},\n",
       "  {'subject': 'reward points',\n",
       "   'relationship': 'can be redeemed towards',\n",
       "   'object': 'cashback'}],\n",
       " [{'subject': 'Cashback credits',\n",
       "   'relationship': 'will not be considered as',\n",
       "   'object': 'payment for the last statement'},\n",
       "  {'subject': 'Customers',\n",
       "   'relationship': 'need to effect payment towards',\n",
       "   'object': 'the previous statement outstanding'}],\n",
       " [{'subject': 'Cashback amount',\n",
       "   'relationship': 'credited to',\n",
       "   'object': 'card account'},\n",
       "  {'subject': 'card account',\n",
       "   'relationship': 'will be adjusted towards',\n",
       "   'object': 'next statement balance'}],\n",
       " [{'subject': 'Manager',\n",
       "   'relationship': 'is part of',\n",
       "   'object': 'Grievance Cell'},\n",
       "  {'subject': 'Grievance Cell',\n",
       "   'relationship': 'is located at',\n",
       "   'object': '8, Lattice Bridge Road, Thiruvanrniyur, Chennai - 600 041'},\n",
       "  {'subject': 'Manager',\n",
       "   'relationship': 'works for',\n",
       "   'object': 'HDFC Bank Credit Cards Division'}],\n",
       " [{'subject': 'Reward Points',\n",
       "   'relationship': 'accrued to',\n",
       "   'object': 'Card Account'},\n",
       "  {'subject': 'Evouchers',\n",
       "   'relationship': 'redeemed by',\n",
       "   'object': 'reward points'},\n",
       "  {'subject': 'Evouchers',\n",
       "   'relationship': 'cancelled for',\n",
       "   'object': 'reward points'},\n",
       "  {'subject': 'Bank',\n",
       "   'relationship': 'allows',\n",
       "   'object': 'restoration of reward points'},\n",
       "  {'subject': 'restoration of reward points',\n",
       "   'relationship': 'is allowed at',\n",
       "   'object': 'same rate as Evouchers redeemed at'}]]"
      ]
     },
     "execution_count": 36,
     "metadata": {},
     "output_type": "execute_result"
    }
   ],
   "source": [
    "all_triples"
   ]
  },
  {
   "cell_type": "code",
   "execution_count": 37,
   "metadata": {
    "colab": {
     "base_uri": "https://localhost:8080/"
    },
    "executionInfo": {
     "elapsed": 4027,
     "status": "ok",
     "timestamp": 1742912192600,
     "user": {
      "displayName": "Diana Kao",
      "userId": "15819315298964528389"
     },
     "user_tz": 240
    },
    "id": "EUvgmA601ZPe",
    "outputId": "e2277323-32bf-446d-f897-89ebef5c0b4e"
   },
   "outputs": [
    {
     "name": "stdout",
     "output_type": "stream",
     "text": [
      "Requirement already satisfied: openpyxl in /usr/local/lib/python3.11/dist-packages (3.1.5)\n",
      "Requirement already satisfied: et-xmlfile in /usr/local/lib/python3.11/dist-packages (from openpyxl) (2.0.0)\n"
     ]
    }
   ],
   "source": [
    "# Openpyxl is for reading, writing, and modifying Excel (.xlsx) files. It is widely used for data analysis, automation,\n",
    "# and reporting without requiring Microsoft Excel.\n",
    "!pip install openpyxl"
   ]
  },
  {
   "cell_type": "code",
   "execution_count": 38,
   "metadata": {
    "executionInfo": {
     "elapsed": 9,
     "status": "ok",
     "timestamp": 1742912202010,
     "user": {
      "displayName": "Diana Kao",
      "userId": "15819315298964528389"
     },
     "user_tz": 240
    },
    "id": "ML3mJIlW1qVL"
   },
   "outputs": [],
   "source": [
    "# Converting JSON file to Excel file, which will be stored in the vector database on Google Cloud\n",
    "import pandas as pd\n",
    "import json\n",
    "import csv\n",
    "\n",
    "# Assuming all_triples contains the desired data\n",
    "data = all_triples\n",
    "\n",
    "# Check if all_triples is empty or if any sublist is empty\n",
    "if not data or not any(sublist for sublist in data):\n",
    "    print(\"Error: 'all_triples' or its sublists are empty. Cannot proceed with CSV writing.\")\n",
    "else:\n",
    "    # Proceed with writing to CSV if data is available\n",
    "    with open(\"triples.csv\", mode=\"w\", newline=\"\") as file:\n",
    "        # Find the first non-empty sublist to get fieldnames\n",
    "        for sublist in data:\n",
    "            if sublist:  # Check if the sublist is not empty\n",
    "                fieldnames = sublist[0].keys()\n",
    "                break  # Exit the loop after finding the first non-empty sublist\n",
    "        else:\n",
    "            # If all sublists are empty, set fieldnames to a default value\n",
    "            fieldnames = [\"subject\", \"relationship\", \"object\"]  # Or any other suitable default\n",
    "            print(\"Warning: All sublists in 'all_triples' are empty. Using default fieldnames.\")\n",
    "\n",
    "        writer = csv.DictWriter(file, fieldnames=fieldnames)\n",
    "        writer.writeheader()\n",
    "\n",
    "        for items in data:\n",
    "            for row in items:  # Iterate through items in each sublist\n",
    "                writer.writerow(row)"
   ]
  },
  {
   "cell_type": "code",
   "execution_count": null,
   "metadata": {
    "id": "JNJTy5YD4OCa"
   },
   "outputs": [],
   "source": [
    "### Part II: Retrieval Augmented Generation (RAG) to SQL construction ###"
   ]
  },
  {
   "cell_type": "code",
   "execution_count": 39,
   "metadata": {
    "colab": {
     "base_uri": "https://localhost:8080/"
    },
    "executionInfo": {
     "elapsed": 26876,
     "status": "ok",
     "timestamp": 1742912235478,
     "user": {
      "displayName": "Diana Kao",
      "userId": "15819315298964528389"
     },
     "user_tz": 240
    },
    "id": "zAdEuagp1xqA",
    "outputId": "74e491cc-16aa-47ab-ddb0-a18c668a9dc1"
   },
   "outputs": [
    {
     "name": "stdout",
     "output_type": "stream",
     "text": [
      "Requirement already satisfied: langchain in /usr/local/lib/python3.11/dist-packages (0.3.21)\n",
      "Requirement already satisfied: langchain-core<1.0.0,>=0.3.45 in /usr/local/lib/python3.11/dist-packages (from langchain) (0.3.48)\n",
      "Requirement already satisfied: langchain-text-splitters<1.0.0,>=0.3.7 in /usr/local/lib/python3.11/dist-packages (from langchain) (0.3.7)\n",
      "Requirement already satisfied: langsmith<0.4,>=0.1.17 in /usr/local/lib/python3.11/dist-packages (from langchain) (0.3.18)\n",
      "Requirement already satisfied: pydantic<3.0.0,>=2.7.4 in /usr/local/lib/python3.11/dist-packages (from langchain) (2.10.6)\n",
      "Requirement already satisfied: SQLAlchemy<3,>=1.4 in /usr/local/lib/python3.11/dist-packages (from langchain) (2.0.39)\n",
      "Requirement already satisfied: requests<3,>=2 in /usr/local/lib/python3.11/dist-packages (from langchain) (2.32.3)\n",
      "Requirement already satisfied: PyYAML>=5.3 in /usr/local/lib/python3.11/dist-packages (from langchain) (6.0.2)\n",
      "Requirement already satisfied: tenacity!=8.4.0,<10.0.0,>=8.1.0 in /usr/local/lib/python3.11/dist-packages (from langchain-core<1.0.0,>=0.3.45->langchain) (9.0.0)\n",
      "Requirement already satisfied: jsonpatch<2.0,>=1.33 in /usr/local/lib/python3.11/dist-packages (from langchain-core<1.0.0,>=0.3.45->langchain) (1.33)\n",
      "Requirement already satisfied: packaging<25,>=23.2 in /usr/local/lib/python3.11/dist-packages (from langchain-core<1.0.0,>=0.3.45->langchain) (24.2)\n",
      "Requirement already satisfied: typing-extensions>=4.7 in /usr/local/lib/python3.11/dist-packages (from langchain-core<1.0.0,>=0.3.45->langchain) (4.12.2)\n",
      "Requirement already satisfied: httpx<1,>=0.23.0 in /usr/local/lib/python3.11/dist-packages (from langsmith<0.4,>=0.1.17->langchain) (0.28.1)\n",
      "Requirement already satisfied: orjson<4.0.0,>=3.9.14 in /usr/local/lib/python3.11/dist-packages (from langsmith<0.4,>=0.1.17->langchain) (3.10.15)\n",
      "Requirement already satisfied: requests-toolbelt<2.0.0,>=1.0.0 in /usr/local/lib/python3.11/dist-packages (from langsmith<0.4,>=0.1.17->langchain) (1.0.0)\n",
      "Requirement already satisfied: zstandard<0.24.0,>=0.23.0 in /usr/local/lib/python3.11/dist-packages (from langsmith<0.4,>=0.1.17->langchain) (0.23.0)\n",
      "Requirement already satisfied: annotated-types>=0.6.0 in /usr/local/lib/python3.11/dist-packages (from pydantic<3.0.0,>=2.7.4->langchain) (0.7.0)\n",
      "Requirement already satisfied: pydantic-core==2.27.2 in /usr/local/lib/python3.11/dist-packages (from pydantic<3.0.0,>=2.7.4->langchain) (2.27.2)\n",
      "Requirement already satisfied: charset-normalizer<4,>=2 in /usr/local/lib/python3.11/dist-packages (from requests<3,>=2->langchain) (3.4.1)\n",
      "Requirement already satisfied: idna<4,>=2.5 in /usr/local/lib/python3.11/dist-packages (from requests<3,>=2->langchain) (3.10)\n",
      "Requirement already satisfied: urllib3<3,>=1.21.1 in /usr/local/lib/python3.11/dist-packages (from requests<3,>=2->langchain) (2.3.0)\n",
      "Requirement already satisfied: certifi>=2017.4.17 in /usr/local/lib/python3.11/dist-packages (from requests<3,>=2->langchain) (2025.1.31)\n",
      "Requirement already satisfied: greenlet!=0.4.17 in /usr/local/lib/python3.11/dist-packages (from SQLAlchemy<3,>=1.4->langchain) (3.1.1)\n",
      "Requirement already satisfied: anyio in /usr/local/lib/python3.11/dist-packages (from httpx<1,>=0.23.0->langsmith<0.4,>=0.1.17->langchain) (4.9.0)\n",
      "Requirement already satisfied: httpcore==1.* in /usr/local/lib/python3.11/dist-packages (from httpx<1,>=0.23.0->langsmith<0.4,>=0.1.17->langchain) (1.0.7)\n",
      "Requirement already satisfied: h11<0.15,>=0.13 in /usr/local/lib/python3.11/dist-packages (from httpcore==1.*->httpx<1,>=0.23.0->langsmith<0.4,>=0.1.17->langchain) (0.14.0)\n",
      "Requirement already satisfied: jsonpointer>=1.9 in /usr/local/lib/python3.11/dist-packages (from jsonpatch<2.0,>=1.33->langchain-core<1.0.0,>=0.3.45->langchain) (3.0.0)\n",
      "Requirement already satisfied: sniffio>=1.1 in /usr/local/lib/python3.11/dist-packages (from anyio->httpx<1,>=0.23.0->langsmith<0.4,>=0.1.17->langchain) (1.3.1)\n",
      "Requirement already satisfied: chromadb in /usr/local/lib/python3.11/dist-packages (0.6.3)\n",
      "Requirement already satisfied: build>=1.0.3 in /usr/local/lib/python3.11/dist-packages (from chromadb) (1.2.2.post1)\n",
      "Requirement already satisfied: pydantic>=1.9 in /usr/local/lib/python3.11/dist-packages (from chromadb) (2.10.6)\n",
      "Requirement already satisfied: chroma-hnswlib==0.7.6 in /usr/local/lib/python3.11/dist-packages (from chromadb) (0.7.6)\n",
      "Requirement already satisfied: fastapi>=0.95.2 in /usr/local/lib/python3.11/dist-packages (from chromadb) (0.115.12)\n",
      "Requirement already satisfied: uvicorn>=0.18.3 in /usr/local/lib/python3.11/dist-packages (from uvicorn[standard]>=0.18.3->chromadb) (0.34.0)\n",
      "Requirement already satisfied: numpy>=1.22.5 in /usr/local/lib/python3.11/dist-packages (from chromadb) (2.0.2)\n",
      "Requirement already satisfied: posthog>=2.4.0 in /usr/local/lib/python3.11/dist-packages (from chromadb) (3.21.0)\n",
      "Requirement already satisfied: typing_extensions>=4.5.0 in /usr/local/lib/python3.11/dist-packages (from chromadb) (4.12.2)\n",
      "Requirement already satisfied: onnxruntime>=1.14.1 in /usr/local/lib/python3.11/dist-packages (from chromadb) (1.21.0)\n",
      "Requirement already satisfied: opentelemetry-api>=1.2.0 in /usr/local/lib/python3.11/dist-packages (from chromadb) (1.31.1)\n",
      "Requirement already satisfied: opentelemetry-exporter-otlp-proto-grpc>=1.2.0 in /usr/local/lib/python3.11/dist-packages (from chromadb) (1.31.1)\n",
      "Requirement already satisfied: opentelemetry-instrumentation-fastapi>=0.41b0 in /usr/local/lib/python3.11/dist-packages (from chromadb) (0.52b1)\n",
      "Requirement already satisfied: opentelemetry-sdk>=1.2.0 in /usr/local/lib/python3.11/dist-packages (from chromadb) (1.31.1)\n",
      "Requirement already satisfied: tokenizers>=0.13.2 in /usr/local/lib/python3.11/dist-packages (from chromadb) (0.21.1)\n",
      "Requirement already satisfied: pypika>=0.48.9 in /usr/local/lib/python3.11/dist-packages (from chromadb) (0.48.9)\n",
      "Requirement already satisfied: tqdm>=4.65.0 in /usr/local/lib/python3.11/dist-packages (from chromadb) (4.67.1)\n",
      "Requirement already satisfied: overrides>=7.3.1 in /usr/local/lib/python3.11/dist-packages (from chromadb) (7.7.0)\n",
      "Requirement already satisfied: importlib-resources in /usr/local/lib/python3.11/dist-packages (from chromadb) (6.5.2)\n",
      "Requirement already satisfied: grpcio>=1.58.0 in /usr/local/lib/python3.11/dist-packages (from chromadb) (1.71.0)\n",
      "Requirement already satisfied: bcrypt>=4.0.1 in /usr/local/lib/python3.11/dist-packages (from chromadb) (4.3.0)\n",
      "Requirement already satisfied: typer>=0.9.0 in /usr/local/lib/python3.11/dist-packages (from chromadb) (0.15.2)\n",
      "Requirement already satisfied: kubernetes>=28.1.0 in /usr/local/lib/python3.11/dist-packages (from chromadb) (32.0.1)\n",
      "Requirement already satisfied: tenacity>=8.2.3 in /usr/local/lib/python3.11/dist-packages (from chromadb) (9.0.0)\n",
      "Requirement already satisfied: PyYAML>=6.0.0 in /usr/local/lib/python3.11/dist-packages (from chromadb) (6.0.2)\n",
      "Requirement already satisfied: mmh3>=4.0.1 in /usr/local/lib/python3.11/dist-packages (from chromadb) (5.1.0)\n",
      "Requirement already satisfied: orjson>=3.9.12 in /usr/local/lib/python3.11/dist-packages (from chromadb) (3.10.15)\n",
      "Requirement already satisfied: httpx>=0.27.0 in /usr/local/lib/python3.11/dist-packages (from chromadb) (0.28.1)\n",
      "Requirement already satisfied: rich>=10.11.0 in /usr/local/lib/python3.11/dist-packages (from chromadb) (13.9.4)\n",
      "Requirement already satisfied: packaging>=19.1 in /usr/local/lib/python3.11/dist-packages (from build>=1.0.3->chromadb) (24.2)\n",
      "Requirement already satisfied: pyproject_hooks in /usr/local/lib/python3.11/dist-packages (from build>=1.0.3->chromadb) (1.2.0)\n",
      "Requirement already satisfied: starlette<0.47.0,>=0.40.0 in /usr/local/lib/python3.11/dist-packages (from fastapi>=0.95.2->chromadb) (0.46.1)\n",
      "Requirement already satisfied: anyio in /usr/local/lib/python3.11/dist-packages (from httpx>=0.27.0->chromadb) (4.9.0)\n",
      "Requirement already satisfied: certifi in /usr/local/lib/python3.11/dist-packages (from httpx>=0.27.0->chromadb) (2025.1.31)\n",
      "Requirement already satisfied: httpcore==1.* in /usr/local/lib/python3.11/dist-packages (from httpx>=0.27.0->chromadb) (1.0.7)\n",
      "Requirement already satisfied: idna in /usr/local/lib/python3.11/dist-packages (from httpx>=0.27.0->chromadb) (3.10)\n",
      "Requirement already satisfied: h11<0.15,>=0.13 in /usr/local/lib/python3.11/dist-packages (from httpcore==1.*->httpx>=0.27.0->chromadb) (0.14.0)\n",
      "Requirement already satisfied: six>=1.9.0 in /usr/local/lib/python3.11/dist-packages (from kubernetes>=28.1.0->chromadb) (1.17.0)\n",
      "Requirement already satisfied: python-dateutil>=2.5.3 in /usr/local/lib/python3.11/dist-packages (from kubernetes>=28.1.0->chromadb) (2.8.2)\n",
      "Requirement already satisfied: google-auth>=1.0.1 in /usr/local/lib/python3.11/dist-packages (from kubernetes>=28.1.0->chromadb) (2.38.0)\n",
      "Requirement already satisfied: websocket-client!=0.40.0,!=0.41.*,!=0.42.*,>=0.32.0 in /usr/local/lib/python3.11/dist-packages (from kubernetes>=28.1.0->chromadb) (1.8.0)\n",
      "Requirement already satisfied: requests in /usr/local/lib/python3.11/dist-packages (from kubernetes>=28.1.0->chromadb) (2.32.3)\n",
      "Requirement already satisfied: requests-oauthlib in /usr/local/lib/python3.11/dist-packages (from kubernetes>=28.1.0->chromadb) (2.0.0)\n",
      "Requirement already satisfied: oauthlib>=3.2.2 in /usr/local/lib/python3.11/dist-packages (from kubernetes>=28.1.0->chromadb) (3.2.2)\n",
      "Requirement already satisfied: urllib3>=1.24.2 in /usr/local/lib/python3.11/dist-packages (from kubernetes>=28.1.0->chromadb) (2.3.0)\n",
      "Requirement already satisfied: durationpy>=0.7 in /usr/local/lib/python3.11/dist-packages (from kubernetes>=28.1.0->chromadb) (0.9)\n",
      "Requirement already satisfied: coloredlogs in /usr/local/lib/python3.11/dist-packages (from onnxruntime>=1.14.1->chromadb) (15.0.1)\n",
      "Requirement already satisfied: flatbuffers in /usr/local/lib/python3.11/dist-packages (from onnxruntime>=1.14.1->chromadb) (25.2.10)\n",
      "Requirement already satisfied: protobuf in /usr/local/lib/python3.11/dist-packages (from onnxruntime>=1.14.1->chromadb) (5.29.4)\n",
      "Requirement already satisfied: sympy in /usr/local/lib/python3.11/dist-packages (from onnxruntime>=1.14.1->chromadb) (1.13.1)\n",
      "Requirement already satisfied: deprecated>=1.2.6 in /usr/local/lib/python3.11/dist-packages (from opentelemetry-api>=1.2.0->chromadb) (1.2.18)\n",
      "Requirement already satisfied: importlib-metadata<8.7.0,>=6.0 in /usr/local/lib/python3.11/dist-packages (from opentelemetry-api>=1.2.0->chromadb) (8.6.1)\n",
      "Requirement already satisfied: googleapis-common-protos~=1.52 in /usr/local/lib/python3.11/dist-packages (from opentelemetry-exporter-otlp-proto-grpc>=1.2.0->chromadb) (1.69.2)\n",
      "Requirement already satisfied: opentelemetry-exporter-otlp-proto-common==1.31.1 in /usr/local/lib/python3.11/dist-packages (from opentelemetry-exporter-otlp-proto-grpc>=1.2.0->chromadb) (1.31.1)\n",
      "Requirement already satisfied: opentelemetry-proto==1.31.1 in /usr/local/lib/python3.11/dist-packages (from opentelemetry-exporter-otlp-proto-grpc>=1.2.0->chromadb) (1.31.1)\n",
      "Requirement already satisfied: opentelemetry-instrumentation-asgi==0.52b1 in /usr/local/lib/python3.11/dist-packages (from opentelemetry-instrumentation-fastapi>=0.41b0->chromadb) (0.52b1)\n",
      "Requirement already satisfied: opentelemetry-instrumentation==0.52b1 in /usr/local/lib/python3.11/dist-packages (from opentelemetry-instrumentation-fastapi>=0.41b0->chromadb) (0.52b1)\n",
      "Requirement already satisfied: opentelemetry-semantic-conventions==0.52b1 in /usr/local/lib/python3.11/dist-packages (from opentelemetry-instrumentation-fastapi>=0.41b0->chromadb) (0.52b1)\n",
      "Requirement already satisfied: opentelemetry-util-http==0.52b1 in /usr/local/lib/python3.11/dist-packages (from opentelemetry-instrumentation-fastapi>=0.41b0->chromadb) (0.52b1)\n",
      "Requirement already satisfied: wrapt<2.0.0,>=1.0.0 in /usr/local/lib/python3.11/dist-packages (from opentelemetry-instrumentation==0.52b1->opentelemetry-instrumentation-fastapi>=0.41b0->chromadb) (1.17.2)\n",
      "Requirement already satisfied: asgiref~=3.0 in /usr/local/lib/python3.11/dist-packages (from opentelemetry-instrumentation-asgi==0.52b1->opentelemetry-instrumentation-fastapi>=0.41b0->chromadb) (3.8.1)\n",
      "Requirement already satisfied: monotonic>=1.5 in /usr/local/lib/python3.11/dist-packages (from posthog>=2.4.0->chromadb) (1.6)\n",
      "Requirement already satisfied: backoff>=1.10.0 in /usr/local/lib/python3.11/dist-packages (from posthog>=2.4.0->chromadb) (2.2.1)\n",
      "Requirement already satisfied: distro>=1.5.0 in /usr/local/lib/python3.11/dist-packages (from posthog>=2.4.0->chromadb) (1.9.0)\n",
      "Requirement already satisfied: annotated-types>=0.6.0 in /usr/local/lib/python3.11/dist-packages (from pydantic>=1.9->chromadb) (0.7.0)\n",
      "Requirement already satisfied: pydantic-core==2.27.2 in /usr/local/lib/python3.11/dist-packages (from pydantic>=1.9->chromadb) (2.27.2)\n",
      "Requirement already satisfied: markdown-it-py>=2.2.0 in /usr/local/lib/python3.11/dist-packages (from rich>=10.11.0->chromadb) (3.0.0)\n",
      "Requirement already satisfied: pygments<3.0.0,>=2.13.0 in /usr/local/lib/python3.11/dist-packages (from rich>=10.11.0->chromadb) (2.18.0)\n",
      "Requirement already satisfied: huggingface-hub<1.0,>=0.16.4 in /usr/local/lib/python3.11/dist-packages (from tokenizers>=0.13.2->chromadb) (0.29.3)\n",
      "Requirement already satisfied: click>=8.0.0 in /usr/local/lib/python3.11/dist-packages (from typer>=0.9.0->chromadb) (8.1.8)\n",
      "Requirement already satisfied: shellingham>=1.3.0 in /usr/local/lib/python3.11/dist-packages (from typer>=0.9.0->chromadb) (1.5.4)\n",
      "Requirement already satisfied: httptools>=0.6.3 in /usr/local/lib/python3.11/dist-packages (from uvicorn[standard]>=0.18.3->chromadb) (0.6.4)\n",
      "Requirement already satisfied: python-dotenv>=0.13 in /usr/local/lib/python3.11/dist-packages (from uvicorn[standard]>=0.18.3->chromadb) (1.1.0)\n",
      "Requirement already satisfied: uvloop!=0.15.0,!=0.15.1,>=0.14.0 in /usr/local/lib/python3.11/dist-packages (from uvicorn[standard]>=0.18.3->chromadb) (0.21.0)\n",
      "Requirement already satisfied: watchfiles>=0.13 in /usr/local/lib/python3.11/dist-packages (from uvicorn[standard]>=0.18.3->chromadb) (1.0.4)\n",
      "Requirement already satisfied: websockets>=10.4 in /usr/local/lib/python3.11/dist-packages (from uvicorn[standard]>=0.18.3->chromadb) (15.0.1)\n",
      "Requirement already satisfied: cachetools<6.0,>=2.0.0 in /usr/local/lib/python3.11/dist-packages (from google-auth>=1.0.1->kubernetes>=28.1.0->chromadb) (5.5.2)\n",
      "Requirement already satisfied: pyasn1-modules>=0.2.1 in /usr/local/lib/python3.11/dist-packages (from google-auth>=1.0.1->kubernetes>=28.1.0->chromadb) (0.4.1)\n",
      "Requirement already satisfied: rsa<5,>=3.1.4 in /usr/local/lib/python3.11/dist-packages (from google-auth>=1.0.1->kubernetes>=28.1.0->chromadb) (4.9)\n",
      "Requirement already satisfied: filelock in /usr/local/lib/python3.11/dist-packages (from huggingface-hub<1.0,>=0.16.4->tokenizers>=0.13.2->chromadb) (3.18.0)\n",
      "Requirement already satisfied: fsspec>=2023.5.0 in /usr/local/lib/python3.11/dist-packages (from huggingface-hub<1.0,>=0.16.4->tokenizers>=0.13.2->chromadb) (2025.3.0)\n",
      "Requirement already satisfied: zipp>=3.20 in /usr/local/lib/python3.11/dist-packages (from importlib-metadata<8.7.0,>=6.0->opentelemetry-api>=1.2.0->chromadb) (3.21.0)\n",
      "Requirement already satisfied: mdurl~=0.1 in /usr/local/lib/python3.11/dist-packages (from markdown-it-py>=2.2.0->rich>=10.11.0->chromadb) (0.1.2)\n",
      "Requirement already satisfied: charset-normalizer<4,>=2 in /usr/local/lib/python3.11/dist-packages (from requests->kubernetes>=28.1.0->chromadb) (3.4.1)\n",
      "Requirement already satisfied: sniffio>=1.1 in /usr/local/lib/python3.11/dist-packages (from anyio->httpx>=0.27.0->chromadb) (1.3.1)\n",
      "Requirement already satisfied: humanfriendly>=9.1 in /usr/local/lib/python3.11/dist-packages (from coloredlogs->onnxruntime>=1.14.1->chromadb) (10.0)\n",
      "Requirement already satisfied: mpmath<1.4,>=1.1.0 in /usr/local/lib/python3.11/dist-packages (from sympy->onnxruntime>=1.14.1->chromadb) (1.3.0)\n",
      "Requirement already satisfied: pyasn1<0.7.0,>=0.4.6 in /usr/local/lib/python3.11/dist-packages (from pyasn1-modules>=0.2.1->google-auth>=1.0.1->kubernetes>=28.1.0->chromadb) (0.6.1)\n",
      "Requirement already satisfied: google-cloud-bigquery[pandas] in /usr/local/lib/python3.11/dist-packages (3.29.0)\n",
      "Requirement already satisfied: google-api-core<3.0.0dev,>=2.11.1 in /usr/local/lib/python3.11/dist-packages (from google-api-core[grpc]<3.0.0dev,>=2.11.1->google-cloud-bigquery[pandas]) (2.24.2)\n",
      "Requirement already satisfied: google-auth<3.0.0dev,>=2.14.1 in /usr/local/lib/python3.11/dist-packages (from google-cloud-bigquery[pandas]) (2.38.0)\n",
      "Requirement already satisfied: google-cloud-core<3.0.0dev,>=2.4.1 in /usr/local/lib/python3.11/dist-packages (from google-cloud-bigquery[pandas]) (2.4.3)\n",
      "Requirement already satisfied: google-resumable-media<3.0dev,>=2.0.0 in /usr/local/lib/python3.11/dist-packages (from google-cloud-bigquery[pandas]) (2.7.2)\n",
      "Requirement already satisfied: packaging>=20.0.0 in /usr/local/lib/python3.11/dist-packages (from google-cloud-bigquery[pandas]) (24.2)\n",
      "Requirement already satisfied: python-dateutil<3.0dev,>=2.7.3 in /usr/local/lib/python3.11/dist-packages (from google-cloud-bigquery[pandas]) (2.8.2)\n",
      "Requirement already satisfied: requests<3.0.0dev,>=2.21.0 in /usr/local/lib/python3.11/dist-packages (from google-cloud-bigquery[pandas]) (2.32.3)\n",
      "Requirement already satisfied: pandas>=1.1.0 in /usr/local/lib/python3.11/dist-packages (from google-cloud-bigquery[pandas]) (2.2.2)\n",
      "Requirement already satisfied: pyarrow>=3.0.0 in /usr/local/lib/python3.11/dist-packages (from google-cloud-bigquery[pandas]) (18.1.0)\n",
      "Requirement already satisfied: db-dtypes<2.0.0dev,>=0.3.0 in /usr/local/lib/python3.11/dist-packages (from google-cloud-bigquery[pandas]) (1.4.2)\n",
      "Requirement already satisfied: numpy>=1.16.6 in /usr/local/lib/python3.11/dist-packages (from db-dtypes<2.0.0dev,>=0.3.0->google-cloud-bigquery[pandas]) (2.0.2)\n",
      "Requirement already satisfied: googleapis-common-protos<2.0.0,>=1.56.2 in /usr/local/lib/python3.11/dist-packages (from google-api-core<3.0.0dev,>=2.11.1->google-api-core[grpc]<3.0.0dev,>=2.11.1->google-cloud-bigquery[pandas]) (1.69.2)\n",
      "Requirement already satisfied: protobuf!=3.20.0,!=3.20.1,!=4.21.0,!=4.21.1,!=4.21.2,!=4.21.3,!=4.21.4,!=4.21.5,<7.0.0,>=3.19.5 in /usr/local/lib/python3.11/dist-packages (from google-api-core<3.0.0dev,>=2.11.1->google-api-core[grpc]<3.0.0dev,>=2.11.1->google-cloud-bigquery[pandas]) (5.29.4)\n",
      "Requirement already satisfied: proto-plus<2.0.0,>=1.22.3 in /usr/local/lib/python3.11/dist-packages (from google-api-core<3.0.0dev,>=2.11.1->google-api-core[grpc]<3.0.0dev,>=2.11.1->google-cloud-bigquery[pandas]) (1.26.1)\n",
      "Requirement already satisfied: grpcio<2.0dev,>=1.33.2 in /usr/local/lib/python3.11/dist-packages (from google-api-core[grpc]<3.0.0dev,>=2.11.1->google-cloud-bigquery[pandas]) (1.71.0)\n",
      "Requirement already satisfied: grpcio-status<2.0.dev0,>=1.33.2 in /usr/local/lib/python3.11/dist-packages (from google-api-core[grpc]<3.0.0dev,>=2.11.1->google-cloud-bigquery[pandas]) (1.71.0)\n",
      "Requirement already satisfied: cachetools<6.0,>=2.0.0 in /usr/local/lib/python3.11/dist-packages (from google-auth<3.0.0dev,>=2.14.1->google-cloud-bigquery[pandas]) (5.5.2)\n",
      "Requirement already satisfied: pyasn1-modules>=0.2.1 in /usr/local/lib/python3.11/dist-packages (from google-auth<3.0.0dev,>=2.14.1->google-cloud-bigquery[pandas]) (0.4.1)\n",
      "Requirement already satisfied: rsa<5,>=3.1.4 in /usr/local/lib/python3.11/dist-packages (from google-auth<3.0.0dev,>=2.14.1->google-cloud-bigquery[pandas]) (4.9)\n",
      "Requirement already satisfied: google-crc32c<2.0dev,>=1.0 in /usr/local/lib/python3.11/dist-packages (from google-resumable-media<3.0dev,>=2.0.0->google-cloud-bigquery[pandas]) (1.7.0)\n",
      "Requirement already satisfied: pytz>=2020.1 in /usr/local/lib/python3.11/dist-packages (from pandas>=1.1.0->google-cloud-bigquery[pandas]) (2025.1)\n",
      "Requirement already satisfied: tzdata>=2022.7 in /usr/local/lib/python3.11/dist-packages (from pandas>=1.1.0->google-cloud-bigquery[pandas]) (2025.1)\n",
      "Requirement already satisfied: six>=1.5 in /usr/local/lib/python3.11/dist-packages (from python-dateutil<3.0dev,>=2.7.3->google-cloud-bigquery[pandas]) (1.17.0)\n",
      "Requirement already satisfied: charset-normalizer<4,>=2 in /usr/local/lib/python3.11/dist-packages (from requests<3.0.0dev,>=2.21.0->google-cloud-bigquery[pandas]) (3.4.1)\n",
      "Requirement already satisfied: idna<4,>=2.5 in /usr/local/lib/python3.11/dist-packages (from requests<3.0.0dev,>=2.21.0->google-cloud-bigquery[pandas]) (3.10)\n",
      "Requirement already satisfied: urllib3<3,>=1.21.1 in /usr/local/lib/python3.11/dist-packages (from requests<3.0.0dev,>=2.21.0->google-cloud-bigquery[pandas]) (2.3.0)\n",
      "Requirement already satisfied: certifi>=2017.4.17 in /usr/local/lib/python3.11/dist-packages (from requests<3.0.0dev,>=2.21.0->google-cloud-bigquery[pandas]) (2025.1.31)\n",
      "Requirement already satisfied: pyasn1<0.7.0,>=0.4.6 in /usr/local/lib/python3.11/dist-packages (from pyasn1-modules>=0.2.1->google-auth<3.0.0dev,>=2.14.1->google-cloud-bigquery[pandas]) (0.6.1)\n",
      "Requirement already satisfied: google-cloud-aiplatform in /usr/local/lib/python3.11/dist-packages (1.85.0)\n",
      "Requirement already satisfied: google-api-core!=2.0.*,!=2.1.*,!=2.2.*,!=2.3.*,!=2.4.*,!=2.5.*,!=2.6.*,!=2.7.*,<3.0.0,>=1.34.1 in /usr/local/lib/python3.11/dist-packages (from google-api-core[grpc]!=2.0.*,!=2.1.*,!=2.2.*,!=2.3.*,!=2.4.*,!=2.5.*,!=2.6.*,!=2.7.*,<3.0.0,>=1.34.1->google-cloud-aiplatform) (2.24.2)\n",
      "Requirement already satisfied: google-auth<3.0.0,>=2.14.1 in /usr/local/lib/python3.11/dist-packages (from google-cloud-aiplatform) (2.38.0)\n",
      "Requirement already satisfied: proto-plus<2.0.0,>=1.22.3 in /usr/local/lib/python3.11/dist-packages (from google-cloud-aiplatform) (1.26.1)\n",
      "Requirement already satisfied: protobuf!=4.21.0,!=4.21.1,!=4.21.2,!=4.21.3,!=4.21.4,!=4.21.5,<6.0.0,>=3.20.2 in /usr/local/lib/python3.11/dist-packages (from google-cloud-aiplatform) (5.29.4)\n",
      "Requirement already satisfied: packaging>=14.3 in /usr/local/lib/python3.11/dist-packages (from google-cloud-aiplatform) (24.2)\n",
      "Requirement already satisfied: google-cloud-storage<3.0.0,>=1.32.0 in /usr/local/lib/python3.11/dist-packages (from google-cloud-aiplatform) (2.19.0)\n",
      "Requirement already satisfied: google-cloud-bigquery!=3.20.0,<4.0.0,>=1.15.0 in /usr/local/lib/python3.11/dist-packages (from google-cloud-aiplatform) (3.29.0)\n",
      "Requirement already satisfied: google-cloud-resource-manager<3.0.0,>=1.3.3 in /usr/local/lib/python3.11/dist-packages (from google-cloud-aiplatform) (1.14.2)\n",
      "Requirement already satisfied: shapely<3.0.0 in /usr/local/lib/python3.11/dist-packages (from google-cloud-aiplatform) (2.0.7)\n",
      "Requirement already satisfied: pydantic<3 in /usr/local/lib/python3.11/dist-packages (from google-cloud-aiplatform) (2.10.6)\n",
      "Requirement already satisfied: typing-extensions in /usr/local/lib/python3.11/dist-packages (from google-cloud-aiplatform) (4.12.2)\n",
      "Requirement already satisfied: docstring-parser<1 in /usr/local/lib/python3.11/dist-packages (from google-cloud-aiplatform) (0.16)\n",
      "Requirement already satisfied: googleapis-common-protos<2.0.0,>=1.56.2 in /usr/local/lib/python3.11/dist-packages (from google-api-core!=2.0.*,!=2.1.*,!=2.2.*,!=2.3.*,!=2.4.*,!=2.5.*,!=2.6.*,!=2.7.*,<3.0.0,>=1.34.1->google-api-core[grpc]!=2.0.*,!=2.1.*,!=2.2.*,!=2.3.*,!=2.4.*,!=2.5.*,!=2.6.*,!=2.7.*,<3.0.0,>=1.34.1->google-cloud-aiplatform) (1.69.2)\n",
      "Requirement already satisfied: requests<3.0.0,>=2.18.0 in /usr/local/lib/python3.11/dist-packages (from google-api-core!=2.0.*,!=2.1.*,!=2.2.*,!=2.3.*,!=2.4.*,!=2.5.*,!=2.6.*,!=2.7.*,<3.0.0,>=1.34.1->google-api-core[grpc]!=2.0.*,!=2.1.*,!=2.2.*,!=2.3.*,!=2.4.*,!=2.5.*,!=2.6.*,!=2.7.*,<3.0.0,>=1.34.1->google-cloud-aiplatform) (2.32.3)\n",
      "Requirement already satisfied: grpcio<2.0dev,>=1.33.2 in /usr/local/lib/python3.11/dist-packages (from google-api-core[grpc]!=2.0.*,!=2.1.*,!=2.2.*,!=2.3.*,!=2.4.*,!=2.5.*,!=2.6.*,!=2.7.*,<3.0.0,>=1.34.1->google-cloud-aiplatform) (1.71.0)\n",
      "Requirement already satisfied: grpcio-status<2.0.dev0,>=1.33.2 in /usr/local/lib/python3.11/dist-packages (from google-api-core[grpc]!=2.0.*,!=2.1.*,!=2.2.*,!=2.3.*,!=2.4.*,!=2.5.*,!=2.6.*,!=2.7.*,<3.0.0,>=1.34.1->google-cloud-aiplatform) (1.71.0)\n",
      "Requirement already satisfied: cachetools<6.0,>=2.0.0 in /usr/local/lib/python3.11/dist-packages (from google-auth<3.0.0,>=2.14.1->google-cloud-aiplatform) (5.5.2)\n",
      "Requirement already satisfied: pyasn1-modules>=0.2.1 in /usr/local/lib/python3.11/dist-packages (from google-auth<3.0.0,>=2.14.1->google-cloud-aiplatform) (0.4.1)\n",
      "Requirement already satisfied: rsa<5,>=3.1.4 in /usr/local/lib/python3.11/dist-packages (from google-auth<3.0.0,>=2.14.1->google-cloud-aiplatform) (4.9)\n",
      "Requirement already satisfied: google-cloud-core<3.0.0dev,>=2.4.1 in /usr/local/lib/python3.11/dist-packages (from google-cloud-bigquery!=3.20.0,<4.0.0,>=1.15.0->google-cloud-aiplatform) (2.4.3)\n",
      "Requirement already satisfied: google-resumable-media<3.0dev,>=2.0.0 in /usr/local/lib/python3.11/dist-packages (from google-cloud-bigquery!=3.20.0,<4.0.0,>=1.15.0->google-cloud-aiplatform) (2.7.2)\n",
      "Requirement already satisfied: python-dateutil<3.0dev,>=2.7.3 in /usr/local/lib/python3.11/dist-packages (from google-cloud-bigquery!=3.20.0,<4.0.0,>=1.15.0->google-cloud-aiplatform) (2.8.2)\n",
      "Requirement already satisfied: grpc-google-iam-v1<1.0.0,>=0.14.0 in /usr/local/lib/python3.11/dist-packages (from google-cloud-resource-manager<3.0.0,>=1.3.3->google-cloud-aiplatform) (0.14.2)\n",
      "Requirement already satisfied: google-crc32c<2.0dev,>=1.0 in /usr/local/lib/python3.11/dist-packages (from google-cloud-storage<3.0.0,>=1.32.0->google-cloud-aiplatform) (1.7.0)\n",
      "Requirement already satisfied: annotated-types>=0.6.0 in /usr/local/lib/python3.11/dist-packages (from pydantic<3->google-cloud-aiplatform) (0.7.0)\n",
      "Requirement already satisfied: pydantic-core==2.27.2 in /usr/local/lib/python3.11/dist-packages (from pydantic<3->google-cloud-aiplatform) (2.27.2)\n",
      "Requirement already satisfied: numpy<3,>=1.14 in /usr/local/lib/python3.11/dist-packages (from shapely<3.0.0->google-cloud-aiplatform) (2.0.2)\n",
      "Requirement already satisfied: pyasn1<0.7.0,>=0.4.6 in /usr/local/lib/python3.11/dist-packages (from pyasn1-modules>=0.2.1->google-auth<3.0.0,>=2.14.1->google-cloud-aiplatform) (0.6.1)\n",
      "Requirement already satisfied: six>=1.5 in /usr/local/lib/python3.11/dist-packages (from python-dateutil<3.0dev,>=2.7.3->google-cloud-bigquery!=3.20.0,<4.0.0,>=1.15.0->google-cloud-aiplatform) (1.17.0)\n",
      "Requirement already satisfied: charset-normalizer<4,>=2 in /usr/local/lib/python3.11/dist-packages (from requests<3.0.0,>=2.18.0->google-api-core!=2.0.*,!=2.1.*,!=2.2.*,!=2.3.*,!=2.4.*,!=2.5.*,!=2.6.*,!=2.7.*,<3.0.0,>=1.34.1->google-api-core[grpc]!=2.0.*,!=2.1.*,!=2.2.*,!=2.3.*,!=2.4.*,!=2.5.*,!=2.6.*,!=2.7.*,<3.0.0,>=1.34.1->google-cloud-aiplatform) (3.4.1)\n",
      "Requirement already satisfied: idna<4,>=2.5 in /usr/local/lib/python3.11/dist-packages (from requests<3.0.0,>=2.18.0->google-api-core!=2.0.*,!=2.1.*,!=2.2.*,!=2.3.*,!=2.4.*,!=2.5.*,!=2.6.*,!=2.7.*,<3.0.0,>=1.34.1->google-api-core[grpc]!=2.0.*,!=2.1.*,!=2.2.*,!=2.3.*,!=2.4.*,!=2.5.*,!=2.6.*,!=2.7.*,<3.0.0,>=1.34.1->google-cloud-aiplatform) (3.10)\n",
      "Requirement already satisfied: urllib3<3,>=1.21.1 in /usr/local/lib/python3.11/dist-packages (from requests<3.0.0,>=2.18.0->google-api-core!=2.0.*,!=2.1.*,!=2.2.*,!=2.3.*,!=2.4.*,!=2.5.*,!=2.6.*,!=2.7.*,<3.0.0,>=1.34.1->google-api-core[grpc]!=2.0.*,!=2.1.*,!=2.2.*,!=2.3.*,!=2.4.*,!=2.5.*,!=2.6.*,!=2.7.*,<3.0.0,>=1.34.1->google-cloud-aiplatform) (2.3.0)\n",
      "Requirement already satisfied: certifi>=2017.4.17 in /usr/local/lib/python3.11/dist-packages (from requests<3.0.0,>=2.18.0->google-api-core!=2.0.*,!=2.1.*,!=2.2.*,!=2.3.*,!=2.4.*,!=2.5.*,!=2.6.*,!=2.7.*,<3.0.0,>=1.34.1->google-api-core[grpc]!=2.0.*,!=2.1.*,!=2.2.*,!=2.3.*,!=2.4.*,!=2.5.*,!=2.6.*,!=2.7.*,<3.0.0,>=1.34.1->google-cloud-aiplatform) (2025.1.31)\n"
     ]
    }
   ],
   "source": [
    "# Installing the Required Libraries\n",
    "!pip install langchain\n",
    "!pip install chromadb\n",
    "!pip install google-cloud-bigquery[pandas]\n",
    "!pip install google-cloud-aiplatform"
   ]
  },
  {
   "cell_type": "code",
   "execution_count": 40,
   "metadata": {
    "executionInfo": {
     "elapsed": 47,
     "status": "ok",
     "timestamp": 1742912249633,
     "user": {
      "displayName": "Diana Kao",
      "userId": "15819315298964528389"
     },
     "user_tz": 240
    },
    "id": "1kdFBkS52D73"
   },
   "outputs": [],
   "source": [
    "# Configuring Google Cloud Project and Credentials\n",
    "VERTEX_PROJECT = \"financial-rag-to-sql\" # @param{type: \"string\"}\n",
    "VERTEX_REGION = \"us-central1\" # @param{type: \"string\"}\n",
    "\n",
    "BIGQUERY_DATASETS = [\"financial-rag-to-sql.Bank\"] # @param{type: \"string\"}\n",
    "BIGQUERY_PROJECT = [\"financial-rag-to-sql\"] # @param{type: \"string\"}"
   ]
  },
  {
   "cell_type": "code",
   "execution_count": 41,
   "metadata": {
    "colab": {
     "base_uri": "https://localhost:8080/"
    },
    "executionInfo": {
     "elapsed": 11082,
     "status": "ok",
     "timestamp": 1742912262975,
     "user": {
      "displayName": "Diana Kao",
      "userId": "15819315298964528389"
     },
     "user_tz": 240
    },
    "id": "k4H5ZxZ32LXP",
    "outputId": "0f5f5f52-12e5-426b-8f2b-552ef961140d"
   },
   "outputs": [
    {
     "name": "stdout",
     "output_type": "stream",
     "text": [
      "Updated property [core/project].\n"
     ]
    }
   ],
   "source": [
    "from google.colab import auth\n",
    "auth.authenticate_user()\n",
    "\n",
    "# Set the project ID\n",
    "!gcloud config set project financial-rag-to-sql\n",
    "\n",
    "# Initialize VertexAI with the correct project ID\n",
    "import vertexai\n",
    "vertexai.init(project=\"financial-rag-to-sql\", location=\"us-central1\")"
   ]
  },
  {
   "cell_type": "code",
   "execution_count": 42,
   "metadata": {
    "executionInfo": {
     "elapsed": 1081,
     "status": "ok",
     "timestamp": 1742912271858,
     "user": {
      "displayName": "Diana Kao",
      "userId": "15819315298964528389"
     },
     "user_tz": 240
    },
    "id": "6GMTqTLg2NeU"
   },
   "outputs": [],
   "source": [
    "from google.colab import auth\n",
    "from google.cloud import bigquery\n",
    "\n",
    "# Authenticate\n",
    "auth.authenticate_user()"
   ]
  },
  {
   "cell_type": "code",
   "execution_count": 43,
   "metadata": {
    "colab": {
     "base_uri": "https://localhost:8080/"
    },
    "executionInfo": {
     "elapsed": 849,
     "status": "ok",
     "timestamp": 1742912276097,
     "user": {
      "displayName": "Diana Kao",
      "userId": "15819315298964528389"
     },
     "user_tz": 240
    },
    "id": "bZ6mjxmM2btM",
    "outputId": "17b3cb85-3afe-49c0-f602-03591bca6327"
   },
   "outputs": [
    {
     "name": "stdout",
     "output_type": "stream",
     "text": [
      "Found 1 tables in dataset financial-rag-to-sql:Bank\n"
     ]
    }
   ],
   "source": [
    "# Building a Vector Database for Table Schema Storage\n",
    "# Connecting to Big Query using BQ client in python and fetching schema of tables.\n",
    "import json\n",
    "\n",
    "#Fetching Schemas of Tables\n",
    "\n",
    "bq_client = bigquery.Client(project=VERTEX_PROJECT)\n",
    "\n",
    "# Iterate through each dataset in BIGQUERY_DATASETS\n",
    "for dataset_id in BIGQUERY_DATASETS: # Use the original value of BIGQUERY_DATASETS\n",
    "    # Extract the dataset name from the dataset_id string, replacing spaces with underscores\n",
    "    project_name, dataset_name = dataset_id.split('.')\n",
    "    #dataset_name = dataset_id.split('.')[-1].replace(' ', '_') # Use dataset_name instead of BIGQUERY_DATASETS\n",
    "\n",
    "    dataset_ref = bigquery.DatasetReference(project_name, dataset_name)  # Use the dataset reference here\n",
    "\n",
    "    bq_tables = bq_client.list_tables(dataset_ref) # Use dataset_name here\n",
    "\n",
    "    schemas = []\n",
    "    for bq_table in bq_tables:\n",
    "        # **Change**: Access the first element of BIGQUERY_PROJECT to get the project ID as a string\n",
    "        t = bq_client.get_table(f\"{BIGQUERY_PROJECT[0]}.{dataset_name}.{bq_table.table_id}\")\n",
    "    # **Change**: Create a dictionary containing schema information\n",
    "    schema_data = {\n",
    "        \"table_name\": bq_table.table_id,\n",
    "        \"columns\": [{\"name\": f.name, \"type\": f.field_type} for f in t.schema]\n",
    "    }\n",
    "    # **Change**: Append the structured schema to the list\n",
    "    schemas.append(json.dumps(schema_data))\n",
    "\n",
    "print(f\"Found {len(schemas)} tables in dataset {BIGQUERY_PROJECT[0]}:{dataset_name}\")#import csv # Use dataset_name here"
   ]
  },
  {
   "cell_type": "code",
   "execution_count": 44,
   "metadata": {
    "colab": {
     "base_uri": "https://localhost:8080/"
    },
    "executionInfo": {
     "elapsed": 5357,
     "status": "ok",
     "timestamp": 1742912285109,
     "user": {
      "displayName": "Diana Kao",
      "userId": "15819315298964528389"
     },
     "user_tz": 240
    },
    "id": "3JQu_Rgg2ckh",
    "outputId": "3464b137-e8c9-4f89-bb26-821d5904315e"
   },
   "outputs": [
    {
     "name": "stdout",
     "output_type": "stream",
     "text": [
      "Requirement already satisfied: langchain-community in /usr/local/lib/python3.11/dist-packages (0.3.20)\n",
      "Requirement already satisfied: langchain-core<1.0.0,>=0.3.45 in /usr/local/lib/python3.11/dist-packages (from langchain-community) (0.3.48)\n",
      "Requirement already satisfied: langchain<1.0.0,>=0.3.21 in /usr/local/lib/python3.11/dist-packages (from langchain-community) (0.3.21)\n",
      "Requirement already satisfied: SQLAlchemy<3,>=1.4 in /usr/local/lib/python3.11/dist-packages (from langchain-community) (2.0.39)\n",
      "Requirement already satisfied: requests<3,>=2 in /usr/local/lib/python3.11/dist-packages (from langchain-community) (2.32.3)\n",
      "Requirement already satisfied: PyYAML>=5.3 in /usr/local/lib/python3.11/dist-packages (from langchain-community) (6.0.2)\n",
      "Requirement already satisfied: aiohttp<4.0.0,>=3.8.3 in /usr/local/lib/python3.11/dist-packages (from langchain-community) (3.11.14)\n",
      "Requirement already satisfied: tenacity!=8.4.0,<10,>=8.1.0 in /usr/local/lib/python3.11/dist-packages (from langchain-community) (9.0.0)\n",
      "Requirement already satisfied: dataclasses-json<0.7,>=0.5.7 in /usr/local/lib/python3.11/dist-packages (from langchain-community) (0.6.7)\n",
      "Requirement already satisfied: pydantic-settings<3.0.0,>=2.4.0 in /usr/local/lib/python3.11/dist-packages (from langchain-community) (2.8.1)\n",
      "Requirement already satisfied: langsmith<0.4,>=0.1.125 in /usr/local/lib/python3.11/dist-packages (from langchain-community) (0.3.18)\n",
      "Requirement already satisfied: httpx-sse<1.0.0,>=0.4.0 in /usr/local/lib/python3.11/dist-packages (from langchain-community) (0.4.0)\n",
      "Requirement already satisfied: numpy<3,>=1.26.2 in /usr/local/lib/python3.11/dist-packages (from langchain-community) (2.0.2)\n",
      "Requirement already satisfied: aiohappyeyeballs>=2.3.0 in /usr/local/lib/python3.11/dist-packages (from aiohttp<4.0.0,>=3.8.3->langchain-community) (2.6.1)\n",
      "Requirement already satisfied: aiosignal>=1.1.2 in /usr/local/lib/python3.11/dist-packages (from aiohttp<4.0.0,>=3.8.3->langchain-community) (1.3.2)\n",
      "Requirement already satisfied: attrs>=17.3.0 in /usr/local/lib/python3.11/dist-packages (from aiohttp<4.0.0,>=3.8.3->langchain-community) (25.3.0)\n",
      "Requirement already satisfied: frozenlist>=1.1.1 in /usr/local/lib/python3.11/dist-packages (from aiohttp<4.0.0,>=3.8.3->langchain-community) (1.5.0)\n",
      "Requirement already satisfied: multidict<7.0,>=4.5 in /usr/local/lib/python3.11/dist-packages (from aiohttp<4.0.0,>=3.8.3->langchain-community) (6.2.0)\n",
      "Requirement already satisfied: propcache>=0.2.0 in /usr/local/lib/python3.11/dist-packages (from aiohttp<4.0.0,>=3.8.3->langchain-community) (0.3.0)\n",
      "Requirement already satisfied: yarl<2.0,>=1.17.0 in /usr/local/lib/python3.11/dist-packages (from aiohttp<4.0.0,>=3.8.3->langchain-community) (1.18.3)\n",
      "Requirement already satisfied: marshmallow<4.0.0,>=3.18.0 in /usr/local/lib/python3.11/dist-packages (from dataclasses-json<0.7,>=0.5.7->langchain-community) (3.26.1)\n",
      "Requirement already satisfied: typing-inspect<1,>=0.4.0 in /usr/local/lib/python3.11/dist-packages (from dataclasses-json<0.7,>=0.5.7->langchain-community) (0.9.0)\n",
      "Requirement already satisfied: langchain-text-splitters<1.0.0,>=0.3.7 in /usr/local/lib/python3.11/dist-packages (from langchain<1.0.0,>=0.3.21->langchain-community) (0.3.7)\n",
      "Requirement already satisfied: pydantic<3.0.0,>=2.7.4 in /usr/local/lib/python3.11/dist-packages (from langchain<1.0.0,>=0.3.21->langchain-community) (2.10.6)\n",
      "Requirement already satisfied: jsonpatch<2.0,>=1.33 in /usr/local/lib/python3.11/dist-packages (from langchain-core<1.0.0,>=0.3.45->langchain-community) (1.33)\n",
      "Requirement already satisfied: packaging<25,>=23.2 in /usr/local/lib/python3.11/dist-packages (from langchain-core<1.0.0,>=0.3.45->langchain-community) (24.2)\n",
      "Requirement already satisfied: typing-extensions>=4.7 in /usr/local/lib/python3.11/dist-packages (from langchain-core<1.0.0,>=0.3.45->langchain-community) (4.12.2)\n",
      "Requirement already satisfied: httpx<1,>=0.23.0 in /usr/local/lib/python3.11/dist-packages (from langsmith<0.4,>=0.1.125->langchain-community) (0.28.1)\n",
      "Requirement already satisfied: orjson<4.0.0,>=3.9.14 in /usr/local/lib/python3.11/dist-packages (from langsmith<0.4,>=0.1.125->langchain-community) (3.10.15)\n",
      "Requirement already satisfied: requests-toolbelt<2.0.0,>=1.0.0 in /usr/local/lib/python3.11/dist-packages (from langsmith<0.4,>=0.1.125->langchain-community) (1.0.0)\n",
      "Requirement already satisfied: zstandard<0.24.0,>=0.23.0 in /usr/local/lib/python3.11/dist-packages (from langsmith<0.4,>=0.1.125->langchain-community) (0.23.0)\n",
      "Requirement already satisfied: python-dotenv>=0.21.0 in /usr/local/lib/python3.11/dist-packages (from pydantic-settings<3.0.0,>=2.4.0->langchain-community) (1.1.0)\n",
      "Requirement already satisfied: charset-normalizer<4,>=2 in /usr/local/lib/python3.11/dist-packages (from requests<3,>=2->langchain-community) (3.4.1)\n",
      "Requirement already satisfied: idna<4,>=2.5 in /usr/local/lib/python3.11/dist-packages (from requests<3,>=2->langchain-community) (3.10)\n",
      "Requirement already satisfied: urllib3<3,>=1.21.1 in /usr/local/lib/python3.11/dist-packages (from requests<3,>=2->langchain-community) (2.3.0)\n",
      "Requirement already satisfied: certifi>=2017.4.17 in /usr/local/lib/python3.11/dist-packages (from requests<3,>=2->langchain-community) (2025.1.31)\n",
      "Requirement already satisfied: greenlet!=0.4.17 in /usr/local/lib/python3.11/dist-packages (from SQLAlchemy<3,>=1.4->langchain-community) (3.1.1)\n",
      "Requirement already satisfied: anyio in /usr/local/lib/python3.11/dist-packages (from httpx<1,>=0.23.0->langsmith<0.4,>=0.1.125->langchain-community) (4.9.0)\n",
      "Requirement already satisfied: httpcore==1.* in /usr/local/lib/python3.11/dist-packages (from httpx<1,>=0.23.0->langsmith<0.4,>=0.1.125->langchain-community) (1.0.7)\n",
      "Requirement already satisfied: h11<0.15,>=0.13 in /usr/local/lib/python3.11/dist-packages (from httpcore==1.*->httpx<1,>=0.23.0->langsmith<0.4,>=0.1.125->langchain-community) (0.14.0)\n",
      "Requirement already satisfied: jsonpointer>=1.9 in /usr/local/lib/python3.11/dist-packages (from jsonpatch<2.0,>=1.33->langchain-core<1.0.0,>=0.3.45->langchain-community) (3.0.0)\n",
      "Requirement already satisfied: annotated-types>=0.6.0 in /usr/local/lib/python3.11/dist-packages (from pydantic<3.0.0,>=2.7.4->langchain<1.0.0,>=0.3.21->langchain-community) (0.7.0)\n",
      "Requirement already satisfied: pydantic-core==2.27.2 in /usr/local/lib/python3.11/dist-packages (from pydantic<3.0.0,>=2.7.4->langchain<1.0.0,>=0.3.21->langchain-community) (2.27.2)\n",
      "Requirement already satisfied: mypy-extensions>=0.3.0 in /usr/local/lib/python3.11/dist-packages (from typing-inspect<1,>=0.4.0->dataclasses-json<0.7,>=0.5.7->langchain-community) (1.0.0)\n",
      "Requirement already satisfied: sniffio>=1.1 in /usr/local/lib/python3.11/dist-packages (from anyio->httpx<1,>=0.23.0->langsmith<0.4,>=0.1.125->langchain-community) (1.3.1)\n"
     ]
    }
   ],
   "source": [
    "# Install the langchain-community package\n",
    "!pip install -U langchain-community"
   ]
  },
  {
   "cell_type": "code",
   "execution_count": 45,
   "metadata": {
    "colab": {
     "base_uri": "https://localhost:8080/"
    },
    "executionInfo": {
     "elapsed": 7577,
     "status": "ok",
     "timestamp": 1742912299197,
     "user": {
      "displayName": "Diana Kao",
      "userId": "15819315298964528389"
     },
     "user_tz": 240
    },
    "id": "sI1o2-WN2h4T",
    "outputId": "1241dcc5-8a5e-44f5-f3ee-f55dcd622774"
   },
   "outputs": [
    {
     "name": "stdout",
     "output_type": "stream",
     "text": [
      "Requirement already satisfied: langchain-google-vertexai in /usr/local/lib/python3.11/dist-packages (2.0.16)\n",
      "Requirement already satisfied: google-cloud-aiplatform<2.0.0,>=1.81.0 in /usr/local/lib/python3.11/dist-packages (from langchain-google-vertexai) (1.85.0)\n",
      "Requirement already satisfied: google-cloud-storage<3.0.0,>=2.18.0 in /usr/local/lib/python3.11/dist-packages (from langchain-google-vertexai) (2.19.0)\n",
      "Requirement already satisfied: httpx<0.29.0,>=0.28.0 in /usr/local/lib/python3.11/dist-packages (from langchain-google-vertexai) (0.28.1)\n",
      "Requirement already satisfied: httpx-sse<0.5.0,>=0.4.0 in /usr/local/lib/python3.11/dist-packages (from langchain-google-vertexai) (0.4.0)\n",
      "Requirement already satisfied: langchain-core<0.4,>=0.3.47 in /usr/local/lib/python3.11/dist-packages (from langchain-google-vertexai) (0.3.48)\n",
      "Requirement already satisfied: pydantic<3.0,>=2.9 in /usr/local/lib/python3.11/dist-packages (from langchain-google-vertexai) (2.10.6)\n",
      "Requirement already satisfied: google-api-core!=2.0.*,!=2.1.*,!=2.2.*,!=2.3.*,!=2.4.*,!=2.5.*,!=2.6.*,!=2.7.*,<3.0.0,>=1.34.1 in /usr/local/lib/python3.11/dist-packages (from google-api-core[grpc]!=2.0.*,!=2.1.*,!=2.2.*,!=2.3.*,!=2.4.*,!=2.5.*,!=2.6.*,!=2.7.*,<3.0.0,>=1.34.1->google-cloud-aiplatform<2.0.0,>=1.81.0->langchain-google-vertexai) (2.24.2)\n",
      "Requirement already satisfied: google-auth<3.0.0,>=2.14.1 in /usr/local/lib/python3.11/dist-packages (from google-cloud-aiplatform<2.0.0,>=1.81.0->langchain-google-vertexai) (2.38.0)\n",
      "Requirement already satisfied: proto-plus<2.0.0,>=1.22.3 in /usr/local/lib/python3.11/dist-packages (from google-cloud-aiplatform<2.0.0,>=1.81.0->langchain-google-vertexai) (1.26.1)\n",
      "Requirement already satisfied: protobuf!=4.21.0,!=4.21.1,!=4.21.2,!=4.21.3,!=4.21.4,!=4.21.5,<6.0.0,>=3.20.2 in /usr/local/lib/python3.11/dist-packages (from google-cloud-aiplatform<2.0.0,>=1.81.0->langchain-google-vertexai) (5.29.4)\n",
      "Requirement already satisfied: packaging>=14.3 in /usr/local/lib/python3.11/dist-packages (from google-cloud-aiplatform<2.0.0,>=1.81.0->langchain-google-vertexai) (24.2)\n",
      "Requirement already satisfied: google-cloud-bigquery!=3.20.0,<4.0.0,>=1.15.0 in /usr/local/lib/python3.11/dist-packages (from google-cloud-aiplatform<2.0.0,>=1.81.0->langchain-google-vertexai) (3.29.0)\n",
      "Requirement already satisfied: google-cloud-resource-manager<3.0.0,>=1.3.3 in /usr/local/lib/python3.11/dist-packages (from google-cloud-aiplatform<2.0.0,>=1.81.0->langchain-google-vertexai) (1.14.2)\n",
      "Requirement already satisfied: shapely<3.0.0 in /usr/local/lib/python3.11/dist-packages (from google-cloud-aiplatform<2.0.0,>=1.81.0->langchain-google-vertexai) (2.0.7)\n",
      "Requirement already satisfied: typing-extensions in /usr/local/lib/python3.11/dist-packages (from google-cloud-aiplatform<2.0.0,>=1.81.0->langchain-google-vertexai) (4.12.2)\n",
      "Requirement already satisfied: docstring-parser<1 in /usr/local/lib/python3.11/dist-packages (from google-cloud-aiplatform<2.0.0,>=1.81.0->langchain-google-vertexai) (0.16)\n",
      "Requirement already satisfied: google-cloud-core<3.0dev,>=2.3.0 in /usr/local/lib/python3.11/dist-packages (from google-cloud-storage<3.0.0,>=2.18.0->langchain-google-vertexai) (2.4.3)\n",
      "Requirement already satisfied: google-resumable-media>=2.7.2 in /usr/local/lib/python3.11/dist-packages (from google-cloud-storage<3.0.0,>=2.18.0->langchain-google-vertexai) (2.7.2)\n",
      "Requirement already satisfied: requests<3.0.0dev,>=2.18.0 in /usr/local/lib/python3.11/dist-packages (from google-cloud-storage<3.0.0,>=2.18.0->langchain-google-vertexai) (2.32.3)\n",
      "Requirement already satisfied: google-crc32c<2.0dev,>=1.0 in /usr/local/lib/python3.11/dist-packages (from google-cloud-storage<3.0.0,>=2.18.0->langchain-google-vertexai) (1.7.0)\n",
      "Requirement already satisfied: anyio in /usr/local/lib/python3.11/dist-packages (from httpx<0.29.0,>=0.28.0->langchain-google-vertexai) (4.9.0)\n",
      "Requirement already satisfied: certifi in /usr/local/lib/python3.11/dist-packages (from httpx<0.29.0,>=0.28.0->langchain-google-vertexai) (2025.1.31)\n",
      "Requirement already satisfied: httpcore==1.* in /usr/local/lib/python3.11/dist-packages (from httpx<0.29.0,>=0.28.0->langchain-google-vertexai) (1.0.7)\n",
      "Requirement already satisfied: idna in /usr/local/lib/python3.11/dist-packages (from httpx<0.29.0,>=0.28.0->langchain-google-vertexai) (3.10)\n",
      "Requirement already satisfied: h11<0.15,>=0.13 in /usr/local/lib/python3.11/dist-packages (from httpcore==1.*->httpx<0.29.0,>=0.28.0->langchain-google-vertexai) (0.14.0)\n",
      "Requirement already satisfied: langsmith<0.4,>=0.1.125 in /usr/local/lib/python3.11/dist-packages (from langchain-core<0.4,>=0.3.47->langchain-google-vertexai) (0.3.18)\n",
      "Requirement already satisfied: tenacity!=8.4.0,<10.0.0,>=8.1.0 in /usr/local/lib/python3.11/dist-packages (from langchain-core<0.4,>=0.3.47->langchain-google-vertexai) (9.0.0)\n",
      "Requirement already satisfied: jsonpatch<2.0,>=1.33 in /usr/local/lib/python3.11/dist-packages (from langchain-core<0.4,>=0.3.47->langchain-google-vertexai) (1.33)\n",
      "Requirement already satisfied: PyYAML>=5.3 in /usr/local/lib/python3.11/dist-packages (from langchain-core<0.4,>=0.3.47->langchain-google-vertexai) (6.0.2)\n",
      "Requirement already satisfied: annotated-types>=0.6.0 in /usr/local/lib/python3.11/dist-packages (from pydantic<3.0,>=2.9->langchain-google-vertexai) (0.7.0)\n",
      "Requirement already satisfied: pydantic-core==2.27.2 in /usr/local/lib/python3.11/dist-packages (from pydantic<3.0,>=2.9->langchain-google-vertexai) (2.27.2)\n",
      "Requirement already satisfied: googleapis-common-protos<2.0.0,>=1.56.2 in /usr/local/lib/python3.11/dist-packages (from google-api-core!=2.0.*,!=2.1.*,!=2.2.*,!=2.3.*,!=2.4.*,!=2.5.*,!=2.6.*,!=2.7.*,<3.0.0,>=1.34.1->google-api-core[grpc]!=2.0.*,!=2.1.*,!=2.2.*,!=2.3.*,!=2.4.*,!=2.5.*,!=2.6.*,!=2.7.*,<3.0.0,>=1.34.1->google-cloud-aiplatform<2.0.0,>=1.81.0->langchain-google-vertexai) (1.69.2)\n",
      "Requirement already satisfied: grpcio<2.0dev,>=1.33.2 in /usr/local/lib/python3.11/dist-packages (from google-api-core[grpc]!=2.0.*,!=2.1.*,!=2.2.*,!=2.3.*,!=2.4.*,!=2.5.*,!=2.6.*,!=2.7.*,<3.0.0,>=1.34.1->google-cloud-aiplatform<2.0.0,>=1.81.0->langchain-google-vertexai) (1.71.0)\n",
      "Requirement already satisfied: grpcio-status<2.0.dev0,>=1.33.2 in /usr/local/lib/python3.11/dist-packages (from google-api-core[grpc]!=2.0.*,!=2.1.*,!=2.2.*,!=2.3.*,!=2.4.*,!=2.5.*,!=2.6.*,!=2.7.*,<3.0.0,>=1.34.1->google-cloud-aiplatform<2.0.0,>=1.81.0->langchain-google-vertexai) (1.71.0)\n",
      "Requirement already satisfied: cachetools<6.0,>=2.0.0 in /usr/local/lib/python3.11/dist-packages (from google-auth<3.0.0,>=2.14.1->google-cloud-aiplatform<2.0.0,>=1.81.0->langchain-google-vertexai) (5.5.2)\n",
      "Requirement already satisfied: pyasn1-modules>=0.2.1 in /usr/local/lib/python3.11/dist-packages (from google-auth<3.0.0,>=2.14.1->google-cloud-aiplatform<2.0.0,>=1.81.0->langchain-google-vertexai) (0.4.1)\n",
      "Requirement already satisfied: rsa<5,>=3.1.4 in /usr/local/lib/python3.11/dist-packages (from google-auth<3.0.0,>=2.14.1->google-cloud-aiplatform<2.0.0,>=1.81.0->langchain-google-vertexai) (4.9)\n",
      "Requirement already satisfied: python-dateutil<3.0dev,>=2.7.3 in /usr/local/lib/python3.11/dist-packages (from google-cloud-bigquery!=3.20.0,<4.0.0,>=1.15.0->google-cloud-aiplatform<2.0.0,>=1.81.0->langchain-google-vertexai) (2.8.2)\n",
      "Requirement already satisfied: grpc-google-iam-v1<1.0.0,>=0.14.0 in /usr/local/lib/python3.11/dist-packages (from google-cloud-resource-manager<3.0.0,>=1.3.3->google-cloud-aiplatform<2.0.0,>=1.81.0->langchain-google-vertexai) (0.14.2)\n",
      "Requirement already satisfied: jsonpointer>=1.9 in /usr/local/lib/python3.11/dist-packages (from jsonpatch<2.0,>=1.33->langchain-core<0.4,>=0.3.47->langchain-google-vertexai) (3.0.0)\n",
      "Requirement already satisfied: orjson<4.0.0,>=3.9.14 in /usr/local/lib/python3.11/dist-packages (from langsmith<0.4,>=0.1.125->langchain-core<0.4,>=0.3.47->langchain-google-vertexai) (3.10.15)\n",
      "Requirement already satisfied: requests-toolbelt<2.0.0,>=1.0.0 in /usr/local/lib/python3.11/dist-packages (from langsmith<0.4,>=0.1.125->langchain-core<0.4,>=0.3.47->langchain-google-vertexai) (1.0.0)\n",
      "Requirement already satisfied: zstandard<0.24.0,>=0.23.0 in /usr/local/lib/python3.11/dist-packages (from langsmith<0.4,>=0.1.125->langchain-core<0.4,>=0.3.47->langchain-google-vertexai) (0.23.0)\n",
      "Requirement already satisfied: charset-normalizer<4,>=2 in /usr/local/lib/python3.11/dist-packages (from requests<3.0.0dev,>=2.18.0->google-cloud-storage<3.0.0,>=2.18.0->langchain-google-vertexai) (3.4.1)\n",
      "Requirement already satisfied: urllib3<3,>=1.21.1 in /usr/local/lib/python3.11/dist-packages (from requests<3.0.0dev,>=2.18.0->google-cloud-storage<3.0.0,>=2.18.0->langchain-google-vertexai) (2.3.0)\n",
      "Requirement already satisfied: numpy<3,>=1.14 in /usr/local/lib/python3.11/dist-packages (from shapely<3.0.0->google-cloud-aiplatform<2.0.0,>=1.81.0->langchain-google-vertexai) (2.0.2)\n",
      "Requirement already satisfied: sniffio>=1.1 in /usr/local/lib/python3.11/dist-packages (from anyio->httpx<0.29.0,>=0.28.0->langchain-google-vertexai) (1.3.1)\n",
      "Requirement already satisfied: pyasn1<0.7.0,>=0.4.6 in /usr/local/lib/python3.11/dist-packages (from pyasn1-modules>=0.2.1->google-auth<3.0.0,>=2.14.1->google-cloud-aiplatform<2.0.0,>=1.81.0->langchain-google-vertexai) (0.6.1)\n",
      "Requirement already satisfied: six>=1.5 in /usr/local/lib/python3.11/dist-packages (from python-dateutil<3.0dev,>=2.7.3->google-cloud-bigquery!=3.20.0,<4.0.0,>=1.15.0->google-cloud-aiplatform<2.0.0,>=1.81.0->langchain-google-vertexai) (1.17.0)\n"
     ]
    }
   ],
   "source": [
    "# Install the required package\n",
    "!pip install langchain-google-vertexai"
   ]
  },
  {
   "cell_type": "code",
   "execution_count": 46,
   "metadata": {
    "colab": {
     "base_uri": "https://localhost:8080/"
    },
    "executionInfo": {
     "elapsed": 10284,
     "status": "ok",
     "timestamp": 1742912319062,
     "user": {
      "displayName": "Diana Kao",
      "userId": "15819315298964528389"
     },
     "user_tz": 240
    },
    "id": "LLNgNVN42oPK",
    "outputId": "e246045f-25d6-46ca-e98c-c23957405134"
   },
   "outputs": [
    {
     "name": "stdout",
     "output_type": "stream",
     "text": [
      "Requirement already satisfied: langchain in /usr/local/lib/python3.11/dist-packages (0.3.21)\n",
      "Requirement already satisfied: google-cloud-aiplatform in /usr/local/lib/python3.11/dist-packages (1.85.0)\n",
      "Requirement already satisfied: pydantic in /usr/local/lib/python3.11/dist-packages (2.10.6)\n",
      "Requirement already satisfied: langchain-core<1.0.0,>=0.3.45 in /usr/local/lib/python3.11/dist-packages (from langchain) (0.3.48)\n",
      "Requirement already satisfied: langchain-text-splitters<1.0.0,>=0.3.7 in /usr/local/lib/python3.11/dist-packages (from langchain) (0.3.7)\n",
      "Requirement already satisfied: langsmith<0.4,>=0.1.17 in /usr/local/lib/python3.11/dist-packages (from langchain) (0.3.18)\n",
      "Requirement already satisfied: SQLAlchemy<3,>=1.4 in /usr/local/lib/python3.11/dist-packages (from langchain) (2.0.39)\n",
      "Requirement already satisfied: requests<3,>=2 in /usr/local/lib/python3.11/dist-packages (from langchain) (2.32.3)\n",
      "Requirement already satisfied: PyYAML>=5.3 in /usr/local/lib/python3.11/dist-packages (from langchain) (6.0.2)\n",
      "Requirement already satisfied: google-api-core!=2.0.*,!=2.1.*,!=2.2.*,!=2.3.*,!=2.4.*,!=2.5.*,!=2.6.*,!=2.7.*,<3.0.0,>=1.34.1 in /usr/local/lib/python3.11/dist-packages (from google-api-core[grpc]!=2.0.*,!=2.1.*,!=2.2.*,!=2.3.*,!=2.4.*,!=2.5.*,!=2.6.*,!=2.7.*,<3.0.0,>=1.34.1->google-cloud-aiplatform) (2.24.2)\n",
      "Requirement already satisfied: google-auth<3.0.0,>=2.14.1 in /usr/local/lib/python3.11/dist-packages (from google-cloud-aiplatform) (2.38.0)\n",
      "Requirement already satisfied: proto-plus<2.0.0,>=1.22.3 in /usr/local/lib/python3.11/dist-packages (from google-cloud-aiplatform) (1.26.1)\n",
      "Requirement already satisfied: protobuf!=4.21.0,!=4.21.1,!=4.21.2,!=4.21.3,!=4.21.4,!=4.21.5,<6.0.0,>=3.20.2 in /usr/local/lib/python3.11/dist-packages (from google-cloud-aiplatform) (5.29.4)\n",
      "Requirement already satisfied: packaging>=14.3 in /usr/local/lib/python3.11/dist-packages (from google-cloud-aiplatform) (24.2)\n",
      "Requirement already satisfied: google-cloud-storage<3.0.0,>=1.32.0 in /usr/local/lib/python3.11/dist-packages (from google-cloud-aiplatform) (2.19.0)\n",
      "Requirement already satisfied: google-cloud-bigquery!=3.20.0,<4.0.0,>=1.15.0 in /usr/local/lib/python3.11/dist-packages (from google-cloud-aiplatform) (3.29.0)\n",
      "Requirement already satisfied: google-cloud-resource-manager<3.0.0,>=1.3.3 in /usr/local/lib/python3.11/dist-packages (from google-cloud-aiplatform) (1.14.2)\n",
      "Requirement already satisfied: shapely<3.0.0 in /usr/local/lib/python3.11/dist-packages (from google-cloud-aiplatform) (2.0.7)\n",
      "Requirement already satisfied: typing-extensions in /usr/local/lib/python3.11/dist-packages (from google-cloud-aiplatform) (4.12.2)\n",
      "Requirement already satisfied: docstring-parser<1 in /usr/local/lib/python3.11/dist-packages (from google-cloud-aiplatform) (0.16)\n",
      "Requirement already satisfied: annotated-types>=0.6.0 in /usr/local/lib/python3.11/dist-packages (from pydantic) (0.7.0)\n",
      "Requirement already satisfied: pydantic-core==2.27.2 in /usr/local/lib/python3.11/dist-packages (from pydantic) (2.27.2)\n",
      "Requirement already satisfied: googleapis-common-protos<2.0.0,>=1.56.2 in /usr/local/lib/python3.11/dist-packages (from google-api-core!=2.0.*,!=2.1.*,!=2.2.*,!=2.3.*,!=2.4.*,!=2.5.*,!=2.6.*,!=2.7.*,<3.0.0,>=1.34.1->google-api-core[grpc]!=2.0.*,!=2.1.*,!=2.2.*,!=2.3.*,!=2.4.*,!=2.5.*,!=2.6.*,!=2.7.*,<3.0.0,>=1.34.1->google-cloud-aiplatform) (1.69.2)\n",
      "Requirement already satisfied: grpcio<2.0dev,>=1.33.2 in /usr/local/lib/python3.11/dist-packages (from google-api-core[grpc]!=2.0.*,!=2.1.*,!=2.2.*,!=2.3.*,!=2.4.*,!=2.5.*,!=2.6.*,!=2.7.*,<3.0.0,>=1.34.1->google-cloud-aiplatform) (1.71.0)\n",
      "Requirement already satisfied: grpcio-status<2.0.dev0,>=1.33.2 in /usr/local/lib/python3.11/dist-packages (from google-api-core[grpc]!=2.0.*,!=2.1.*,!=2.2.*,!=2.3.*,!=2.4.*,!=2.5.*,!=2.6.*,!=2.7.*,<3.0.0,>=1.34.1->google-cloud-aiplatform) (1.71.0)\n",
      "Requirement already satisfied: cachetools<6.0,>=2.0.0 in /usr/local/lib/python3.11/dist-packages (from google-auth<3.0.0,>=2.14.1->google-cloud-aiplatform) (5.5.2)\n",
      "Requirement already satisfied: pyasn1-modules>=0.2.1 in /usr/local/lib/python3.11/dist-packages (from google-auth<3.0.0,>=2.14.1->google-cloud-aiplatform) (0.4.1)\n",
      "Requirement already satisfied: rsa<5,>=3.1.4 in /usr/local/lib/python3.11/dist-packages (from google-auth<3.0.0,>=2.14.1->google-cloud-aiplatform) (4.9)\n",
      "Requirement already satisfied: google-cloud-core<3.0.0dev,>=2.4.1 in /usr/local/lib/python3.11/dist-packages (from google-cloud-bigquery!=3.20.0,<4.0.0,>=1.15.0->google-cloud-aiplatform) (2.4.3)\n",
      "Requirement already satisfied: google-resumable-media<3.0dev,>=2.0.0 in /usr/local/lib/python3.11/dist-packages (from google-cloud-bigquery!=3.20.0,<4.0.0,>=1.15.0->google-cloud-aiplatform) (2.7.2)\n",
      "Requirement already satisfied: python-dateutil<3.0dev,>=2.7.3 in /usr/local/lib/python3.11/dist-packages (from google-cloud-bigquery!=3.20.0,<4.0.0,>=1.15.0->google-cloud-aiplatform) (2.8.2)\n",
      "Requirement already satisfied: grpc-google-iam-v1<1.0.0,>=0.14.0 in /usr/local/lib/python3.11/dist-packages (from google-cloud-resource-manager<3.0.0,>=1.3.3->google-cloud-aiplatform) (0.14.2)\n",
      "Requirement already satisfied: google-crc32c<2.0dev,>=1.0 in /usr/local/lib/python3.11/dist-packages (from google-cloud-storage<3.0.0,>=1.32.0->google-cloud-aiplatform) (1.7.0)\n",
      "Requirement already satisfied: tenacity!=8.4.0,<10.0.0,>=8.1.0 in /usr/local/lib/python3.11/dist-packages (from langchain-core<1.0.0,>=0.3.45->langchain) (9.0.0)\n",
      "Requirement already satisfied: jsonpatch<2.0,>=1.33 in /usr/local/lib/python3.11/dist-packages (from langchain-core<1.0.0,>=0.3.45->langchain) (1.33)\n",
      "Requirement already satisfied: httpx<1,>=0.23.0 in /usr/local/lib/python3.11/dist-packages (from langsmith<0.4,>=0.1.17->langchain) (0.28.1)\n",
      "Requirement already satisfied: orjson<4.0.0,>=3.9.14 in /usr/local/lib/python3.11/dist-packages (from langsmith<0.4,>=0.1.17->langchain) (3.10.15)\n",
      "Requirement already satisfied: requests-toolbelt<2.0.0,>=1.0.0 in /usr/local/lib/python3.11/dist-packages (from langsmith<0.4,>=0.1.17->langchain) (1.0.0)\n",
      "Requirement already satisfied: zstandard<0.24.0,>=0.23.0 in /usr/local/lib/python3.11/dist-packages (from langsmith<0.4,>=0.1.17->langchain) (0.23.0)\n",
      "Requirement already satisfied: charset-normalizer<4,>=2 in /usr/local/lib/python3.11/dist-packages (from requests<3,>=2->langchain) (3.4.1)\n",
      "Requirement already satisfied: idna<4,>=2.5 in /usr/local/lib/python3.11/dist-packages (from requests<3,>=2->langchain) (3.10)\n",
      "Requirement already satisfied: urllib3<3,>=1.21.1 in /usr/local/lib/python3.11/dist-packages (from requests<3,>=2->langchain) (2.3.0)\n",
      "Requirement already satisfied: certifi>=2017.4.17 in /usr/local/lib/python3.11/dist-packages (from requests<3,>=2->langchain) (2025.1.31)\n",
      "Requirement already satisfied: numpy<3,>=1.14 in /usr/local/lib/python3.11/dist-packages (from shapely<3.0.0->google-cloud-aiplatform) (2.0.2)\n",
      "Requirement already satisfied: greenlet!=0.4.17 in /usr/local/lib/python3.11/dist-packages (from SQLAlchemy<3,>=1.4->langchain) (3.1.1)\n",
      "Requirement already satisfied: anyio in /usr/local/lib/python3.11/dist-packages (from httpx<1,>=0.23.0->langsmith<0.4,>=0.1.17->langchain) (4.9.0)\n",
      "Requirement already satisfied: httpcore==1.* in /usr/local/lib/python3.11/dist-packages (from httpx<1,>=0.23.0->langsmith<0.4,>=0.1.17->langchain) (1.0.7)\n",
      "Requirement already satisfied: h11<0.15,>=0.13 in /usr/local/lib/python3.11/dist-packages (from httpcore==1.*->httpx<1,>=0.23.0->langsmith<0.4,>=0.1.17->langchain) (0.14.0)\n",
      "Requirement already satisfied: jsonpointer>=1.9 in /usr/local/lib/python3.11/dist-packages (from jsonpatch<2.0,>=1.33->langchain-core<1.0.0,>=0.3.45->langchain) (3.0.0)\n",
      "Requirement already satisfied: pyasn1<0.7.0,>=0.4.6 in /usr/local/lib/python3.11/dist-packages (from pyasn1-modules>=0.2.1->google-auth<3.0.0,>=2.14.1->google-cloud-aiplatform) (0.6.1)\n",
      "Requirement already satisfied: six>=1.5 in /usr/local/lib/python3.11/dist-packages (from python-dateutil<3.0dev,>=2.7.3->google-cloud-bigquery!=3.20.0,<4.0.0,>=1.15.0->google-cloud-aiplatform) (1.17.0)\n",
      "Requirement already satisfied: sniffio>=1.1 in /usr/local/lib/python3.11/dist-packages (from anyio->httpx<1,>=0.23.0->langsmith<0.4,>=0.1.17->langchain) (1.3.1)\n"
     ]
    }
   ],
   "source": [
    "# Installing pydantic ensuring data integrity and type safety when dealing with structured data.\n",
    "!pip install --upgrade langchain google-cloud-aiplatform \"pydantic\""
   ]
  },
  {
   "cell_type": "code",
   "execution_count": 47,
   "metadata": {
    "colab": {
     "base_uri": "https://localhost:8080/"
    },
    "executionInfo": {
     "elapsed": 6467,
     "status": "ok",
     "timestamp": 1742912328451,
     "user": {
      "displayName": "Diana Kao",
      "userId": "15819315298964528389"
     },
     "user_tz": 240
    },
    "id": "_ulSLUn_2qWs",
    "outputId": "23444845-9a49-45dd-966f-2293e3a41d89"
   },
   "outputs": [
    {
     "name": "stdout",
     "output_type": "stream",
     "text": [
      "No need to clean the vector store\n",
      "The vector store has 1 documents\n"
     ]
    }
   ],
   "source": [
    "from langchain_google_vertexai import VertexAIEmbeddings\n",
    "from langchain.vectorstores import Chroma\n",
    "from langchain.llms import VertexAI\n",
    "\n",
    "embeddings = VertexAIEmbeddings(model_name=\"textembedding-gecko@003\", project=VERTEX_PROJECT, location=VERTEX_REGION)\n",
    "try: # Avoid duplicated documents\n",
    "  vector_store.delete_collection()\n",
    "except:\n",
    "  print(\"No need to clean the vector store\")\n",
    "vector_store = Chroma.from_texts(schemas, embedding=embeddings,persist_directory='./data')\n",
    "n_docs = len(vector_store.get()['ids'])\n",
    "retriever = vector_store.as_retriever(search_kwargs={'k': 2})\n",
    "print(f\"The vector store has {n_docs} documents\")"
   ]
  },
  {
   "cell_type": "code",
   "execution_count": 48,
   "metadata": {
    "executionInfo": {
     "elapsed": 40,
     "status": "ok",
     "timestamp": 1742913475611,
     "user": {
      "displayName": "Diana Kao",
      "userId": "15819315298964528389"
     },
     "user_tz": 240
    },
    "id": "xoeDkELb2tWe"
   },
   "outputs": [],
   "source": [
    "# Instantiating LLM Models for SQL Query, Interpretation, and Agent Chains\n",
    "# 3 LLM models for the 3 different chains are instantiated:\n",
    "# First model is Query Model, which is responsible for generating SQL query based on input and table schema retrieved from vector db similar to input.\n",
    "# For this “gemini-2.0-flash-001” model is used.\n",
    "# The other 2 models are default LLM models in ChatVertexAI, which is “gemini-1.5-flash-001”.\n",
    "\n",
    "from langchain_google_vertexai import ChatVertexAI\n",
    "from langchain.llms import VertexAI\n",
    "\n",
    "ChatVertexAI.model_rebuild()\n",
    "#query_model = ChatVertexAI(model_name=\"codechat-bison@001\", project=\"northern-symbol-452916-m0\", location=VERTEX_REGION, max_output_tokens=1000)\n",
    "query_model = ChatVertexAI(model_name=\"gemini-2.0-flash-001\", project=VERTEX_PROJECT, location=VERTEX_REGION, max_output_tokens=1000)\n",
    "interpret_data_model = ChatVertexAI(max_output_tokens=1000, model_name=\"gemini-2.0-flash-001\")\n",
    "agent_model = ChatVertexAI(max_output_tokens=1024, model_name=\"gemini-2.0-flash-001\")"
   ]
  },
  {
   "cell_type": "code",
   "execution_count": 49,
   "metadata": {
    "executionInfo": {
     "elapsed": 4,
     "status": "ok",
     "timestamp": 1742913478111,
     "user": {
      "displayName": "Diana Kao",
      "userId": "15819315298964528389"
     },
     "user_tz": 240
    },
    "id": "hytsVYzq2xXI"
   },
   "outputs": [],
   "source": [
    "# SQL prompt used to generate the SQL query for the input.\n",
    "\n",
    "SQL_PROMPT = \"\"\"You are a SQL and BigQuery expert.\n",
    "\n",
    "Your job is to create a query for BigQuery in SQL.\n",
    "\n",
    "The following JSON object contains the schema of the table used for a query. It has the following format:\n",
    "\n",
    "{context}\n",
    "\n",
    "Create a BigQuery SQL query for the following user input, using the above table.\n",
    "And Use only columns mentioned in schema for the SQL query\n",
    "\n",
    "The user and the agent have done this conversation so far:\n",
    "{chat_history}\n",
    "\n",
    "Follow these restrictions strictly:\n",
    "- Only return the SQL code.\n",
    "- Do not add backticks or any markup. Only write the query as output. NOTHING ELSE.\n",
    "- In FROM, always use the full table path, using `{project}` as project and `{dataset}` as dataset.\n",
    "- Always transform country names to full uppercase. For instance, if the country is Japan, you should use JAPAN in the query.\n",
    "\n",
    "User input: {question}\n",
    "\n",
    "SQL query:\n",
    "\"\"\""
   ]
  },
  {
   "cell_type": "code",
   "execution_count": 50,
   "metadata": {
    "executionInfo": {
     "elapsed": 23,
     "status": "ok",
     "timestamp": 1742913481439,
     "user": {
      "displayName": "Diana Kao",
      "userId": "15819315298964528389"
     },
     "user_tz": 240
    },
    "id": "R0OMfxsN3N15"
   },
   "outputs": [],
   "source": [
    "# Define a function which will retrieve relevant documents i.e schemas for the input.\n",
    "\n",
    "from langchain.schema.vectorstore import VectorStoreRetriever\n",
    "def get_documents(retriever: VectorStoreRetriever, question: str) -> str:\n",
    "  # Return only the first document\n",
    "  output = \"\"\n",
    "  for d in retriever.get_relevant_documents(question):\n",
    "    output += d.page_content\n",
    "    output += \"\\n\"\n",
    "    return output"
   ]
  },
  {
   "cell_type": "code",
   "execution_count": 51,
   "metadata": {
    "executionInfo": {
     "elapsed": 27,
     "status": "ok",
     "timestamp": 1742913484568,
     "user": {
      "displayName": "Diana Kao",
      "userId": "15819315298964528389"
     },
     "user_tz": 240
    },
    "id": "65Vk9GUj3U4F"
   },
   "outputs": [],
   "source": [
    "# Define the LLM chain using Langchain expression language syntax.\n",
    "# Note prompt is defined with 5 placeholder variables and\n",
    "# later a partial prompt is defined by filling in the 2 placeholder variables project\n",
    "# and dataset.\n",
    "# The rest of the variables will get populated with incoming request dictionary consisting of\n",
    "# input, chat history, and the context variable is populated form the function defined\n",
    "# above get_documents.\n",
    "\n",
    "from operator import itemgetter\n",
    "from langchain.prompts import PromptTemplate\n",
    "from langchain.schema import StrOutputParser\n",
    "\n",
    "prompt_template = PromptTemplate(\n",
    "    input_variables=[\"context\", \"chat_history\", \"question\", \"project\", \"dataset\"],\n",
    "    template=SQL_PROMPT)\n",
    "\n",
    "# **Change**: Extract only the dataset name from BIGQUERY_DATASETS\n",
    "dataset_name = BIGQUERY_DATASETS[0].split('.')[-1]\n",
    "\n",
    "partial_prompt = prompt_template.partial(project=BIGQUERY_PROJECT,\n",
    "                                         dataset=dataset_name) # **Change**: Use dataset_name here\n",
    "\n",
    "# Input will be like {\"input\": \"SOME_QUESTION\", \"chat_history\": \"HISTORY\"}\n",
    "docs = {\"context\": lambda x: get_documents(retriever, x['input'])}\n",
    "question = {\"question\": itemgetter(\"input\")}\n",
    "chat_history = {\"chat_history\": itemgetter(\"chat_history\")}\n",
    "query_chain = docs | question | chat_history | partial_prompt | query_model\n",
    "query = query_chain | StrOutputParser()\n"
   ]
  },
  {
   "cell_type": "code",
   "execution_count": 52,
   "metadata": {
    "colab": {
     "base_uri": "https://localhost:8080/"
    },
    "executionInfo": {
     "elapsed": 1952,
     "status": "ok",
     "timestamp": 1742913489396,
     "user": {
      "displayName": "Diana Kao",
      "userId": "15819315298964528389"
     },
     "user_tz": 240
    },
    "id": "vTPPhrbY3X7e",
    "outputId": "e7d62d6a-910d-4333-bb30-2ad0d6db8275"
   },
   "outputs": [
    {
     "name": "stdout",
     "output_type": "stream",
     "text": [
      "\u001b[32;1m\u001b[1;3m[chain/start]\u001b[0m \u001b[1m[chain:RunnableSequence] Entering Chain run with input:\n",
      "\u001b[0m{\n",
      "  \"input\": \"Bank's responsibility for checks\",\n",
      "  \"chat_history\": \"\"\n",
      "}\n",
      "\u001b[32;1m\u001b[1;3m[chain/start]\u001b[0m \u001b[1m[chain:RunnableSequence > chain:RunnableParallel<context,question,chat_history>] Entering Chain run with input:\n",
      "\u001b[0m{\n",
      "  \"input\": \"Bank's responsibility for checks\",\n",
      "  \"chat_history\": \"\"\n",
      "}\n",
      "\u001b[32;1m\u001b[1;3m[chain/start]\u001b[0m \u001b[1m[chain:RunnableSequence > chain:RunnableParallel<context,question,chat_history> > chain:RunnableLambda] Entering Chain run with input:\n",
      "\u001b[0m{\n",
      "  \"input\": \"Bank's responsibility for checks\",\n",
      "  \"chat_history\": \"\"\n",
      "}\n",
      "\u001b[32;1m\u001b[1;3m[chain/start]\u001b[0m \u001b[1m[chain:RunnableSequence > chain:RunnableParallel<context,question,chat_history> > chain:RunnableLambda] Entering Chain run with input:\n",
      "\u001b[0m{\n",
      "  \"input\": \"Bank's responsibility for checks\",\n",
      "  \"chat_history\": \"\"\n",
      "}\n",
      "\u001b[36;1m\u001b[1;3m[chain/end]\u001b[0m \u001b[1m[chain:RunnableSequence > chain:RunnableParallel<context,question,chat_history> > chain:RunnableLambda] [8ms] Exiting Chain run with output:\n",
      "\u001b[0m{\n",
      "  \"output\": \"Bank's responsibility for checks\"\n",
      "}\n",
      "\u001b[32;1m\u001b[1;3m[chain/start]\u001b[0m \u001b[1m[chain:RunnableSequence > chain:RunnableParallel<context,question,chat_history> > chain:RunnableLambda] Entering Chain run with input:\n",
      "\u001b[0m{\n",
      "  \"input\": \"Bank's responsibility for checks\",\n",
      "  \"chat_history\": \"\"\n",
      "}\n",
      "\u001b[36;1m\u001b[1;3m[chain/end]\u001b[0m \u001b[1m[chain:RunnableSequence > chain:RunnableParallel<context,question,chat_history> > chain:RunnableLambda] [4ms] Exiting Chain run with output:\n",
      "\u001b[0m{\n",
      "  \"output\": \"\"\n",
      "}\n"
     ]
    },
    {
     "name": "stderr",
     "output_type": "stream",
     "text": [
      "<ipython-input-50-17d072034cb2>:7: LangChainDeprecationWarning: The method `BaseRetriever.get_relevant_documents` was deprecated in langchain-core 0.1.46 and will be removed in 1.0. Use :meth:`~invoke` instead.\n",
      "  for d in retriever.get_relevant_documents(question):\n",
      "WARNING:chromadb.segment.impl.vector.local_persistent_hnsw:Number of requested results 2 is greater than number of elements in index 1, updating n_results = 1\n"
     ]
    },
    {
     "name": "stdout",
     "output_type": "stream",
     "text": [
      "\u001b[36;1m\u001b[1;3m[chain/end]\u001b[0m \u001b[1m[chain:RunnableSequence > chain:RunnableParallel<context,question,chat_history> > chain:RunnableLambda] [766ms] Exiting Chain run with output:\n",
      "\u001b[0m{\n",
      "  \"output\": \"{\\\"table_name\\\": \\\"HDFC\\\", \\\"columns\\\": [{\\\"name\\\": \\\"string_field_0\\\", \\\"type\\\": \\\"STRING\\\"}, {\\\"name\\\": \\\"string_field_1\\\", \\\"type\\\": \\\"STRING\\\"}, {\\\"name\\\": \\\"string_field_2\\\", \\\"type\\\": \\\"STRING\\\"}]}\\n\"\n",
      "}\n",
      "\u001b[36;1m\u001b[1;3m[chain/end]\u001b[0m \u001b[1m[chain:RunnableSequence > chain:RunnableParallel<context,question,chat_history>] [768ms] Exiting Chain run with output:\n",
      "\u001b[0m{\n",
      "  \"context\": \"{\\\"table_name\\\": \\\"HDFC\\\", \\\"columns\\\": [{\\\"name\\\": \\\"string_field_0\\\", \\\"type\\\": \\\"STRING\\\"}, {\\\"name\\\": \\\"string_field_1\\\", \\\"type\\\": \\\"STRING\\\"}, {\\\"name\\\": \\\"string_field_2\\\", \\\"type\\\": \\\"STRING\\\"}]}\\n\",\n",
      "  \"question\": \"Bank's responsibility for checks\",\n",
      "  \"chat_history\": \"\"\n",
      "}\n",
      "\u001b[32;1m\u001b[1;3m[chain/start]\u001b[0m \u001b[1m[chain:RunnableSequence > prompt:PromptTemplate] Entering Prompt run with input:\n",
      "\u001b[0m{\n",
      "  \"context\": \"{\\\"table_name\\\": \\\"HDFC\\\", \\\"columns\\\": [{\\\"name\\\": \\\"string_field_0\\\", \\\"type\\\": \\\"STRING\\\"}, {\\\"name\\\": \\\"string_field_1\\\", \\\"type\\\": \\\"STRING\\\"}, {\\\"name\\\": \\\"string_field_2\\\", \\\"type\\\": \\\"STRING\\\"}]}\\n\",\n",
      "  \"question\": \"Bank's responsibility for checks\",\n",
      "  \"chat_history\": \"\"\n",
      "}\n",
      "\u001b[36;1m\u001b[1;3m[chain/end]\u001b[0m \u001b[1m[chain:RunnableSequence > prompt:PromptTemplate] [1ms] Exiting Prompt run with output:\n",
      "\u001b[0m[outputs]\n",
      "\u001b[32;1m\u001b[1;3m[llm/start]\u001b[0m \u001b[1m[chain:RunnableSequence > llm:ChatVertexAI] Entering LLM run with input:\n",
      "\u001b[0m{\n",
      "  \"prompts\": [\n",
      "    \"Human: You are a SQL and BigQuery expert.\\n\\nYour job is to create a query for BigQuery in SQL.\\n\\nThe following JSON object contains the schema of the table used for a query. It has the following format:\\n\\n{\\\"table_name\\\": \\\"HDFC\\\", \\\"columns\\\": [{\\\"name\\\": \\\"string_field_0\\\", \\\"type\\\": \\\"STRING\\\"}, {\\\"name\\\": \\\"string_field_1\\\", \\\"type\\\": \\\"STRING\\\"}, {\\\"name\\\": \\\"string_field_2\\\", \\\"type\\\": \\\"STRING\\\"}]}\\n\\n\\nCreate a BigQuery SQL query for the following user input, using the above table.\\nAnd Use only columns mentioned in schema for the SQL query\\n\\nThe user and the agent have done this conversation so far:\\n\\n\\nFollow these restrictions strictly:\\n- Only return the SQL code.\\n- Do not add backticks or any markup. Only write the query as output. NOTHING ELSE.\\n- In FROM, always use the full table path, using `['financial-rag-to-sql']` as project and `Bank` as dataset.\\n- Always transform country names to full uppercase. For instance, if the country is Japan, you should use JAPAN in the query.\\n\\nUser input: Bank's responsibility for checks\\n\\nSQL query:\"\n",
      "  ]\n",
      "}\n",
      "\u001b[36;1m\u001b[1;3m[llm/end]\u001b[0m \u001b[1m[chain:RunnableSequence > llm:ChatVertexAI] [1.14s] Exiting LLM run with output:\n",
      "\u001b[0m{\n",
      "  \"generations\": [\n",
      "    [\n",
      "      {\n",
      "        \"text\": \"```sql\\nSELECT\\n    string_field_0,\\n    string_field_1,\\n    string_field_2\\nFROM\\n    `financial-rag-to-sql.Bank.HDFC`\\nWHERE string_field_0 LIKE '%check%'\\nOR string_field_1 LIKE '%check%'\\nOR string_field_2 LIKE '%check%'\\n\\n```\",\n",
      "        \"generation_info\": {\n",
      "          \"is_blocked\": false,\n",
      "          \"safety_ratings\": [],\n",
      "          \"usage_metadata\": {\n",
      "            \"prompt_token_count\": 262,\n",
      "            \"candidates_token_count\": 80,\n",
      "            \"total_token_count\": 342,\n",
      "            \"prompt_tokens_details\": [\n",
      "              {\n",
      "                \"modality\": 1,\n",
      "                \"token_count\": 262\n",
      "              }\n",
      "            ],\n",
      "            \"candidates_tokens_details\": [\n",
      "              {\n",
      "                \"modality\": 1,\n",
      "                \"token_count\": 80\n",
      "              }\n",
      "            ],\n",
      "            \"cached_content_token_count\": 0,\n",
      "            \"cache_tokens_details\": []\n",
      "          },\n",
      "          \"finish_reason\": \"STOP\",\n",
      "          \"avg_logprobs\": -0.045135438442230225\n",
      "        },\n",
      "        \"type\": \"ChatGeneration\",\n",
      "        \"message\": {\n",
      "          \"lc\": 1,\n",
      "          \"type\": \"constructor\",\n",
      "          \"id\": [\n",
      "            \"langchain\",\n",
      "            \"schema\",\n",
      "            \"messages\",\n",
      "            \"AIMessage\"\n",
      "          ],\n",
      "          \"kwargs\": {\n",
      "            \"content\": \"```sql\\nSELECT\\n    string_field_0,\\n    string_field_1,\\n    string_field_2\\nFROM\\n    `financial-rag-to-sql.Bank.HDFC`\\nWHERE string_field_0 LIKE '%check%'\\nOR string_field_1 LIKE '%check%'\\nOR string_field_2 LIKE '%check%'\\n\\n```\",\n",
      "            \"response_metadata\": {\n",
      "              \"is_blocked\": false,\n",
      "              \"safety_ratings\": [],\n",
      "              \"usage_metadata\": {\n",
      "                \"prompt_token_count\": 262,\n",
      "                \"candidates_token_count\": 80,\n",
      "                \"total_token_count\": 342,\n",
      "                \"prompt_tokens_details\": [\n",
      "                  {\n",
      "                    \"modality\": 1,\n",
      "                    \"token_count\": 262\n",
      "                  }\n",
      "                ],\n",
      "                \"candidates_tokens_details\": [\n",
      "                  {\n",
      "                    \"modality\": 1,\n",
      "                    \"token_count\": 80\n",
      "                  }\n",
      "                ],\n",
      "                \"cached_content_token_count\": 0,\n",
      "                \"cache_tokens_details\": []\n",
      "              },\n",
      "              \"finish_reason\": \"STOP\",\n",
      "              \"avg_logprobs\": -0.045135438442230225,\n",
      "              \"model_name\": \"gemini-2.0-flash-001\"\n",
      "            },\n",
      "            \"type\": \"ai\",\n",
      "            \"id\": \"run-7c6139c9-fc62-4324-90a8-521dce43a5b9-0\",\n",
      "            \"usage_metadata\": {\n",
      "              \"input_tokens\": 262,\n",
      "              \"output_tokens\": 80,\n",
      "              \"total_tokens\": 342\n",
      "            },\n",
      "            \"tool_calls\": [],\n",
      "            \"invalid_tool_calls\": []\n",
      "          }\n",
      "        }\n",
      "      }\n",
      "    ]\n",
      "  ],\n",
      "  \"llm_output\": null,\n",
      "  \"run\": null,\n",
      "  \"type\": \"LLMResult\"\n",
      "}\n",
      "\u001b[32;1m\u001b[1;3m[chain/start]\u001b[0m \u001b[1m[chain:RunnableSequence > parser:StrOutputParser] Entering Parser run with input:\n",
      "\u001b[0m[inputs]\n",
      "\u001b[36;1m\u001b[1;3m[chain/end]\u001b[0m \u001b[1m[chain:RunnableSequence > parser:StrOutputParser] [1ms] Exiting Parser run with output:\n",
      "\u001b[0m{\n",
      "  \"output\": \"```sql\\nSELECT\\n    string_field_0,\\n    string_field_1,\\n    string_field_2\\nFROM\\n    `financial-rag-to-sql.Bank.HDFC`\\nWHERE string_field_0 LIKE '%check%'\\nOR string_field_1 LIKE '%check%'\\nOR string_field_2 LIKE '%check%'\\n\\n```\"\n",
      "}\n",
      "\u001b[36;1m\u001b[1;3m[chain/end]\u001b[0m \u001b[1m[chain:RunnableSequence] [1.92s] Exiting Chain run with output:\n",
      "\u001b[0m{\n",
      "  \"output\": \"```sql\\nSELECT\\n    string_field_0,\\n    string_field_1,\\n    string_field_2\\nFROM\\n    `financial-rag-to-sql.Bank.HDFC`\\nWHERE string_field_0 LIKE '%check%'\\nOR string_field_1 LIKE '%check%'\\nOR string_field_2 LIKE '%check%'\\n\\n```\"\n",
      "}\n",
      "```sql\n",
      "SELECT\n",
      "    string_field_0,\n",
      "    string_field_1,\n",
      "    string_field_2\n",
      "FROM\n",
      "    `financial-rag-to-sql.Bank.HDFC`\n",
      "WHERE string_field_0 LIKE '%check%'\n",
      "OR string_field_1 LIKE '%check%'\n",
      "OR string_field_2 LIKE '%check%'\n",
      "\n",
      "```\n"
     ]
    }
   ],
   "source": [
    "# Test the chain using CallBack Handler of Langchain which will show each step of chain execution in detail.\n",
    "from langchain.callbacks.tracers import ConsoleCallbackHandler\n",
    "# Example\n",
    "x = {\"input\": \"Bank's responsibility for checks\", \"chat_history\": \"\"}\n",
    "print(query.invoke(x, config={'callbacks': [ConsoleCallbackHandler()]}))"
   ]
  },
  {
   "cell_type": "code",
   "execution_count": 53,
   "metadata": {
    "executionInfo": {
     "elapsed": 86,
     "status": "ok",
     "timestamp": 1742913492612,
     "user": {
      "displayName": "Diana Kao",
      "userId": "15819315298964528389"
     },
     "user_tz": 240
    },
    "id": "604rtLSo3cAT"
   },
   "outputs": [],
   "source": [
    "# Refine the SQL Chain Output for Interpretation\n",
    "from langchain.output_parsers import ResponseSchema, StructuredOutputParser\n",
    "from langchain.schema.runnable import RunnableLambda\n",
    "\n",
    "#Refine the Chain output to include other variables in output in dictionary format\n",
    "def _dict_to_json(x: dict) -> str:\n",
    "  return \"```\\n\" + json.dumps(x) + \"\\n```\"\n",
    "\n",
    "query_response_schema = [\n",
    "    ResponseSchema(name=\"query\", description=\"SQL query to solve the user question.\"),\n",
    "    ResponseSchema(name=\"question\", description=\"Question asked by the user.\"),\n",
    "    ResponseSchema(name=\"context\", description=\"Documents retrieved from the vector store.\")\n",
    "  ]\n",
    "query_output_parser = StructuredOutputParser.from_response_schemas(query_response_schema)\n",
    "query_output_json = docs | question | {\"query\": query} | RunnableLambda(_dict_to_json) | StrOutputParser()\n",
    "query_output = query_output_json | query_output_parser"
   ]
  },
  {
   "cell_type": "code",
   "execution_count": 54,
   "metadata": {
    "colab": {
     "base_uri": "https://localhost:8080/"
    },
    "executionInfo": {
     "elapsed": 929,
     "status": "ok",
     "timestamp": 1742913496204,
     "user": {
      "displayName": "Diana Kao",
      "userId": "15819315298964528389"
     },
     "user_tz": 240
    },
    "id": "aY7tdK8R3ctV",
    "outputId": "47053ee6-0a19-44b7-b109-13aa1d4a2114"
   },
   "outputs": [
    {
     "name": "stderr",
     "output_type": "stream",
     "text": [
      "WARNING:chromadb.segment.impl.vector.local_persistent_hnsw:Number of requested results 2 is greater than number of elements in index 1, updating n_results = 1\n",
      "WARNING:chromadb.segment.impl.vector.local_persistent_hnsw:Number of requested results 2 is greater than number of elements in index 1, updating n_results = 1\n"
     ]
    }
   ],
   "source": [
    "# Example\n",
    "x = {\"input\": \"A transaction fee of 2.5% (Minimum $50) (excluding Infinia) would be levied on the amount withdrawn and would be billed to the Card member in the next statement.\", \"chat_history\": \"\"}\n",
    "output = query_output.invoke(x)  # Output is now a dictionary, input for the next chain"
   ]
  },
  {
   "cell_type": "code",
   "execution_count": 55,
   "metadata": {
    "executionInfo": {
     "elapsed": 13,
     "status": "ok",
     "timestamp": 1742913499655,
     "user": {
      "displayName": "Diana Kao",
      "userId": "15819315298964528389"
     },
     "user_tz": 240
    },
    "id": "DKufjkHr3rbJ"
   },
   "outputs": [],
   "source": [
    "# Building the Interpret Chain for Query Results\n",
    "INTERPRET_PROMPT = \"\"\"You are a BigQuery expert. You are also expert in extracting data from CSV.\n",
    "\n",
    "The following paragraph describes the schema of the table used for a query. It is encoded in JSON format.\n",
    "\n",
    "{context}\n",
    "\n",
    "A user asked this question:\n",
    "{question}\n",
    "\n",
    "To find the answer, the following SQL query was run in BigQuery:\n",
    "```\n",
    "{query}\n",
    "```\n",
    "\n",
    "The result of that query was the following table in CSV format:\n",
    "```\n",
    "{result}\n",
    "```\n",
    "\n",
    "Based on those results, provide a brief answer to the user question.\n",
    "\n",
    "Follow these restrictions strictly:\n",
    "- Do not add any explanation about how the answer is obtained, just write the answer.\n",
    "- Extract any value related to the answer only from the result of the query. Do not use any other data source.\n",
    "- Just write the answer, omit the question from your answer, this is a chat, just provide the answer.\n",
    "- If you cannot find the answer in the result, do not make up any data, just say \"I cannot find the answer\"\n",
    "\"\"\""
   ]
  },
  {
   "cell_type": "code",
   "execution_count": 56,
   "metadata": {
    "executionInfo": {
     "elapsed": 18,
     "status": "ok",
     "timestamp": 1742913502059,
     "user": {
      "displayName": "Diana Kao",
      "userId": "15819315298964528389"
     },
     "user_tz": 240
    },
    "id": "f50c_W4H3tuM"
   },
   "outputs": [],
   "source": [
    "# ipython-input-85-5ddc3857d1c0\n",
    "from google.cloud import bigquery\n",
    "import google.api_core  # Import the necessary module\n",
    "\n",
    "def clean_query(query: str):\n",
    "    # Remove potential leading/trailing spaces and 'sql' keyword\n",
    "    query = query.strip().replace(\"sql\", \"\").strip()\n",
    "    # Remove leading/trailing backticks and unnecessary characters\n",
    "    cleaned_query = query.strip('`').replace(\" ,\", \",\").replace(\",,\", \",\")\n",
    "    return cleaned_query\n",
    "\n",
    "\n",
    "def get_bq_csv(bq_client: bigquery.Client, query: str) -> str:\n",
    "    cleaned_query = clean_query(query)  # Call clean_query to pre-process the query\n",
    "\n",
    "    # Extract dataset and table from query\n",
    "    try:\n",
    "        from_clause = query.split(\"FROM\")[1].strip()\n",
    "        parts = from_clause.split(\".\")\n",
    "        dataset_name = parts[0].strip().strip(\"`\").strip()\n",
    "        table_name = parts[1].strip().strip(\"`\").strip()\n",
    "\n",
    "        # Check if table_name is 'Triples' and if so, replace it with 'Triples_raw_schema'\n",
    "        # or a correct table name\n",
    "        if table_name == 'Triples':\n",
    "            table_name = 'Triples_raw_schema'  # or some other specific table name or table id\n",
    "            print(f\"Table name changed to: {table_name}\")  # Print the changed table name\n",
    "\n",
    "    except IndexError:\n",
    "        print(\"Error: Unable to extract dataset and table names from the query.\")\n",
    "        return \"\"\n",
    "\n",
    "    if not cleaned_query or cleaned_query.isspace():\n",
    "        print(\"Warning: Empty or whitespace-only query generated.\")\n",
    "        return \"\"\n",
    "\n",
    "    print(\"Generated SQL Query:\", cleaned_query)\n",
    "\n",
    "    # Construct the full table path using the project ID, dataset name, and table name\n",
    "    full_table_path = f\"{BIGQUERY_PROJECT[0]}.{dataset_name}.{table_name}\"\n",
    "\n",
    "    # Execute the query\n",
    "    try:\n",
    "        df = bq_client.query(cleaned_query, location=\"us-central1\").to_dataframe()\n",
    "        return df.to_csv(index=False)\n",
    "    except google.api_core.exceptions.Forbidden as e: # Now 'google' is defined\n",
    "        print(f\"Error: Access denied to table '{full_table_path}'. Please check permissions.\")\n",
    "        print(f\"Original error message: {e}\")\n",
    "        return \"\""
   ]
  },
  {
   "cell_type": "code",
   "execution_count": 57,
   "metadata": {
    "executionInfo": {
     "elapsed": 41,
     "status": "ok",
     "timestamp": 1742913505439,
     "user": {
      "displayName": "Diana Kao",
      "userId": "15819315298964528389"
     },
     "user_tz": 240
    },
    "id": "DtE_qNYQ3xse"
   },
   "outputs": [],
   "source": [
    "# Define two functions, one is clean_query – this will clean the SQL query of apostrophes and other unnecessary characters\n",
    "# and the other is get_bq_csv –  this will run the cleaned SQL query in Big Query and get the output table in CSV format.\n",
    "# Get the output of the previous chain\n",
    "\n",
    "query = {\"query\": itemgetter(\"query\")}\n",
    "context = {\"context\": itemgetter(\"context\")}\n",
    "question = {\"question\": itemgetter(\"question\")}\n",
    "#cleaned_query = {\"result\": lambda x: clean_query(x[\"query\"])}\n",
    "query_result = {\"result\": lambda x: get_bq_csv(bq_client, x[\"query\"])}\n",
    "\n",
    "prompt = PromptTemplate(\n",
    "    input_variables=[\"question\", \"query\", \"result\", \"context\"],\n",
    "    template=INTERPRET_PROMPT)\n",
    "\n",
    "run_bq_chain = context | question | query | query_result | prompt\n",
    "run_bq_result = run_bq_chain | interpret_data_model | StrOutputParser()"
   ]
  },
  {
   "cell_type": "code",
   "execution_count": 73,
   "metadata": {
    "colab": {
     "base_uri": "https://localhost:8080/"
    },
    "executionInfo": {
     "elapsed": 2699,
     "status": "ok",
     "timestamp": 1742914141871,
     "user": {
      "displayName": "Diana Kao",
      "userId": "15819315298964528389"
     },
     "user_tz": 240
    },
    "id": "uC1RO4fL3z6I",
    "outputId": "70cd5aa3-a647-4845-95b1-a8205765ecc2"
   },
   "outputs": [
    {
     "name": "stderr",
     "output_type": "stream",
     "text": [
      "WARNING:chromadb.segment.impl.vector.local_persistent_hnsw:Number of requested results 2 is greater than number of elements in index 1, updating n_results = 1\n",
      "WARNING:chromadb.segment.impl.vector.local_persistent_hnsw:Number of requested results 2 is greater than number of elements in index 1, updating n_results = 1\n",
      "WARNING:chromadb.segment.impl.vector.local_persistent_hnsw:Number of requested results 2 is greater than number of elements in index 1, updating n_results = 1\n",
      "WARNING:chromadb.segment.impl.vector.local_persistent_hnsw:Number of requested results 2 is greater than number of elements in index 1, updating n_results = 1\n"
     ]
    },
    {
     "name": "stdout",
     "output_type": "stream",
     "text": [
      "Output of query_output.invoke(x): {'context': '{\"table_name\": \"HDFC\", \"columns\": [{\"name\": \"string_field_0\", \"type\": \"STRING\"}, {\"name\": \"string_field_1\", \"type\": \"STRING\"}, {\"name\": \"string_field_2\", \"type\": \"STRING\"}]}\\n', 'question': 'A transaction fee of 2.5% (Minimum $50) (excluding Infinia) would be levied on theamount withdrawn and would be billed to the Card member in the next statement.', 'query': \"```sql\\nSELECT string_field_0, string_field_1, string_field_2 FROM `financial-rag-to-sql.Bank.HDFC` WHERE string_field_2 LIKE '%transaction fee%' AND string_field_2 LIKE '%2.5%' AND string_field_2 LIKE '%Minimum $50%' AND string_field_2 LIKE '%excluding Infinia%';\\n```\"}\n",
      "Generated SQL Query: \n",
      "SELECT string_field_0, string_field_1, string_field_2 FROM `financial-rag-to-.Bank.HDFC` WHERE UPPER(string_field_2) LIKE '%TRANSACTION FEE%' AND UPPER(string_field_2) LIKE '%2.5%' AND UPPER(string_field_2) LIKE '%$50%' AND UPPER(string_field_2) NOT LIKE '%INFINIA%';\n",
      "\n",
      "Error: Access denied to table 'financial-rag-to-sql.financial-rag-to-sql.Bank'. Please check permissions.\n",
      "Original error message: 403 Access Denied: Table financial-rag-to-:Bank.HDFC: User does not have permission to query table financial-rag-to-:Bank.HDFC, or perhaps it does not exist.; reason: accessDenied, message: Access Denied: Table financial-rag-to-:Bank.HDFC: User does not have permission to query table financial-rag-to-:Bank.HDFC, or perhaps it does not exist.\n",
      "\n",
      "Location: us-central1\n",
      "Job ID: b1a57e80-7b3a-4420-8d40-256a86aab3a1\n",
      "\n"
     ]
    }
   ],
   "source": [
    "# Example\n",
    "x = {\"input\": \"A transaction fee of 2.5% (Minimum $50) (excluding Infinia) would be levied on the\"+\n",
    "\"amount withdrawn and would be billed to the Card member in the next statement.\",\"chat_history\": \"\"}\n",
    "print(\"Output of query_output.invoke(x):\", query_output.invoke(x))\n",
    "final_response = run_bq_result.invoke(query_output.invoke(x))"
   ]
  },
  {
   "cell_type": "code",
   "execution_count": 81,
   "metadata": {
    "executionInfo": {
     "elapsed": 8,
     "status": "ok",
     "timestamp": 1742914531183,
     "user": {
      "displayName": "Diana Kao",
      "userId": "15819315298964528389"
     },
     "user_tz": 240
    },
    "id": "FwQ5SVLk314f"
   },
   "outputs": [],
   "source": [
    "# Implement the Agent Chain for Dynamic Query Routing\n",
    "# Build the final chain - the Agent Chain. When there is an input, it decides whether to utilise the SQL query tool or to answer it directly.\n",
    "# Basically, it sends user queries to various tools according to the work that must be completed in order to answer the input.\n",
    "# Define an agent_memory, agent prompt, and tool funtion.\n",
    "\n",
    "from langchain.memory import ConversationBufferWindowMemory\n",
    "\n",
    "agent_memory = ConversationBufferWindowMemory(\n",
    "    memory_key=\"chat_history\",\n",
    "    k=10,\n",
    "    return_messages=True)"
   ]
  },
  {
   "cell_type": "code",
   "execution_count": 82,
   "metadata": {
    "executionInfo": {
     "elapsed": 2,
     "status": "ok",
     "timestamp": 1742914532803,
     "user": {
      "displayName": "Diana Kao",
      "userId": "15819315298964528389"
     },
     "user_tz": 240
    },
    "id": "T2MRiqvw35DZ"
   },
   "outputs": [],
   "source": [
    "AGENT_PROMPT = \"\"\"You are a very powerful assistant that can answer questions using BigQuery.\n",
    "\n",
    "You can invoke the tool user_question_tool to answer questions using BigQuery.\n",
    "\n",
    "Always use the tools to try to answer the questions. Use the chat history for context. Never try to use any other external information.\n",
    "\n",
    "Assume that the user may write with misspellings, fix the spelling of the user before passing the question to any tool.\n",
    "\n",
    "Don't mention what tool you have used in your answer.\n",
    "\"\"\""
   ]
  },
  {
   "cell_type": "code",
   "execution_count": 83,
   "metadata": {
    "executionInfo": {
     "elapsed": 5,
     "status": "ok",
     "timestamp": 1742914535173,
     "user": {
      "displayName": "Diana Kao",
      "userId": "15819315298964528389"
     },
     "user_tz": 240
    },
    "id": "KjjZFkHV37NU"
   },
   "outputs": [],
   "source": [
    "from langchain.tools import tool\n",
    "from langchain.callbacks.tracers import ConsoleCallbackHandler\n",
    "\n",
    "@tool\n",
    "def user_question_tool(question) -> str:\n",
    "  \"\"\"Useful to answer natural language questions from users using BigQuery.\"\"\"\n",
    "  config={'callbacks': [ConsoleCallbackHandler()]}\n",
    "  config = {}\n",
    "  memory = agent_memory.buffer_as_str.strip()\n",
    "  question = {\"input\": question, \"chat_history\": memory}\n",
    "  query = query_output.invoke(question, config=config)\n",
    "  print(\"\\n\\n******************\\n\\n\")\n",
    "  print(query['query'])\n",
    "  print(\"\\n\\n******************\\n\\n\")\n",
    "  result = run_bq_result.invoke(query, config=config)\n",
    "  return result.strip()"
   ]
  },
  {
   "cell_type": "code",
   "execution_count": 84,
   "metadata": {
    "executionInfo": {
     "elapsed": 5,
     "status": "ok",
     "timestamp": 1742914537320,
     "user": {
      "displayName": "Diana Kao",
      "userId": "15819315298964528389"
     },
     "user_tz": 240
    },
    "id": "-G3rhVm939Yu"
   },
   "outputs": [],
   "source": [
    "# Bring together all the main components of agent and initialize the agent.\n",
    "from langchain.agents import AgentType, initialize_agent, AgentExecutor\n",
    "\n",
    "agent_kwargs = {\"system_message\": AGENT_PROMPT}\n",
    "agent_tools = [user_question_tool]\n",
    "\n",
    "agent_memory.clear()\n",
    "\n",
    "agent = initialize_agent(\n",
    "    tools=agent_tools,\n",
    "    llm=agent_model,\n",
    "    agent=AgentType.CHAT_CONVERSATIONAL_REACT_DESCRIPTION,\n",
    "    memory=agent_memory,\n",
    "    agent_kwargs=agent_kwargs, # Fixed the typo here from agent_kwgards to agent_kwargs\n",
    "    max_iterations=5,\n",
    "    early_stopping_method='generate',\n",
    "    verbose=True)"
   ]
  },
  {
   "cell_type": "code",
   "execution_count": 85,
   "metadata": {
    "colab": {
     "base_uri": "https://localhost:8080/"
    },
    "executionInfo": {
     "elapsed": 967,
     "status": "ok",
     "timestamp": 1742914540504,
     "user": {
      "displayName": "Diana Kao",
      "userId": "15819315298964528389"
     },
     "user_tz": 240
    },
    "id": "pA7Xko6-4A3E",
    "outputId": "d30386ae-b34f-437b-80d3-980399f9f1a1"
   },
   "outputs": [
    {
     "name": "stdout",
     "output_type": "stream",
     "text": [
      "\n",
      "\n",
      "\u001b[1m> Entering new AgentExecutor chain...\u001b[0m\n",
      "\u001b[32;1m\u001b[1;3m```json\n",
      "{\n",
      "    \"action\": \"Final Answer\",\n",
      "    \"action_input\": \"This describes a transaction fee structure. A 2.5% fee (with a minimum of $50) will be charged on withdrawals, excluding Infinia cardholders. This fee will appear on the card member's next statement.\"\n",
      "}\n",
      "```\u001b[0m\n",
      "\n",
      "\u001b[1m> Finished chain.\u001b[0m\n"
     ]
    },
    {
     "data": {
      "text/plain": [
       "{'input': 'A transaction fee of 2.5% (Minimum $50) (excluding Infinia) would be levied on the amount withdrawn and would be billed to the Card member in the next statement.',\n",
       " 'chat_history': [],\n",
       " 'output': \"This describes a transaction fee structure. A 2.5% fee (with a minimum of $50) will be charged on withdrawals, excluding Infinia cardholders. This fee will appear on the card member's next statement.\"}"
      ]
     },
     "execution_count": 85,
     "metadata": {},
     "output_type": "execute_result"
    }
   ],
   "source": [
    "q = \"A transaction fee of 2.5% (Minimum $50) (excluding Infinia) would be levied on the amount withdrawn and would be billed to the Card member in the next statement.\"\n",
    "agent.invoke(q)"
   ]
  }
 ],
 "metadata": {
  "colab": {
   "authorship_tag": "ABX9TyMEhLPIgizi7ZFdKgdVvvUV",
   "provenance": []
  },
  "kernelspec": {
   "display_name": "Python 3",
   "name": "python3"
  },
  "language_info": {
   "name": "python"
  },
  "widgets": {
   "application/vnd.jupyter.widget-state+json": {
    "1b465a75c3324cf8ae32e2df351b19eb": {
     "model_module": "@jupyter-widgets/base",
     "model_module_version": "1.2.0",
     "model_name": "LayoutModel",
     "state": {
      "_model_module": "@jupyter-widgets/base",
      "_model_module_version": "1.2.0",
      "_model_name": "LayoutModel",
      "_view_count": null,
      "_view_module": "@jupyter-widgets/base",
      "_view_module_version": "1.2.0",
      "_view_name": "LayoutView",
      "align_content": null,
      "align_items": null,
      "align_self": null,
      "border": null,
      "bottom": null,
      "display": null,
      "flex": null,
      "flex_flow": null,
      "grid_area": null,
      "grid_auto_columns": null,
      "grid_auto_flow": null,
      "grid_auto_rows": null,
      "grid_column": null,
      "grid_gap": null,
      "grid_row": null,
      "grid_template_areas": null,
      "grid_template_columns": null,
      "grid_template_rows": null,
      "height": null,
      "justify_content": null,
      "justify_items": null,
      "left": null,
      "margin": null,
      "max_height": null,
      "max_width": null,
      "min_height": null,
      "min_width": null,
      "object_fit": null,
      "object_position": null,
      "order": null,
      "overflow": null,
      "overflow_x": null,
      "overflow_y": null,
      "padding": null,
      "right": null,
      "top": null,
      "visibility": null,
      "width": null
     }
    },
    "36639dc6b41c4d76a61d08ab0818a9b1": {
     "model_module": "@jupyter-widgets/controls",
     "model_module_version": "1.5.0",
     "model_name": "HTMLModel",
     "state": {
      "_dom_classes": [],
      "_model_module": "@jupyter-widgets/controls",
      "_model_module_version": "1.5.0",
      "_model_name": "HTMLModel",
      "_view_count": null,
      "_view_module": "@jupyter-widgets/controls",
      "_view_module_version": "1.5.0",
      "_view_name": "HTMLView",
      "description": "",
      "description_tooltip": null,
      "layout": "IPY_MODEL_1b465a75c3324cf8ae32e2df351b19eb",
      "placeholder": "​",
      "style": "IPY_MODEL_5ea21fb2446147bca1e962a3cb4ca1c9",
      "value": " 7/7 [00:00&lt;00:00, 292.13it/s]"
     }
    },
    "398a56e9fbb04f8180d9a02499b729b8": {
     "model_module": "@jupyter-widgets/controls",
     "model_module_version": "1.5.0",
     "model_name": "FloatProgressModel",
     "state": {
      "_dom_classes": [],
      "_model_module": "@jupyter-widgets/controls",
      "_model_module_version": "1.5.0",
      "_model_name": "FloatProgressModel",
      "_view_count": null,
      "_view_module": "@jupyter-widgets/controls",
      "_view_module_version": "1.5.0",
      "_view_name": "ProgressView",
      "bar_style": "success",
      "description": "",
      "description_tooltip": null,
      "layout": "IPY_MODEL_5828ee7c4e644f8890eed61cefb7d333",
      "max": 7,
      "min": 0,
      "orientation": "horizontal",
      "style": "IPY_MODEL_5a0eaa8cb0f541018d2f347109ea60bf",
      "value": 7
     }
    },
    "571336ed807440fea550d75aea2a0731": {
     "model_module": "@jupyter-widgets/controls",
     "model_module_version": "1.5.0",
     "model_name": "HTMLModel",
     "state": {
      "_dom_classes": [],
      "_model_module": "@jupyter-widgets/controls",
      "_model_module_version": "1.5.0",
      "_model_name": "HTMLModel",
      "_view_count": null,
      "_view_module": "@jupyter-widgets/controls",
      "_view_module_version": "1.5.0",
      "_view_name": "HTMLView",
      "description": "",
      "description_tooltip": null,
      "layout": "IPY_MODEL_9953aeb42e6e465b9fa8cff1074ab29d",
      "placeholder": "​",
      "style": "IPY_MODEL_d5ba51f7141e4b4baec411851d3b7d3c",
      "value": "Fetching 7 files: 100%"
     }
    },
    "5828ee7c4e644f8890eed61cefb7d333": {
     "model_module": "@jupyter-widgets/base",
     "model_module_version": "1.2.0",
     "model_name": "LayoutModel",
     "state": {
      "_model_module": "@jupyter-widgets/base",
      "_model_module_version": "1.2.0",
      "_model_name": "LayoutModel",
      "_view_count": null,
      "_view_module": "@jupyter-widgets/base",
      "_view_module_version": "1.2.0",
      "_view_name": "LayoutView",
      "align_content": null,
      "align_items": null,
      "align_self": null,
      "border": null,
      "bottom": null,
      "display": null,
      "flex": null,
      "flex_flow": null,
      "grid_area": null,
      "grid_auto_columns": null,
      "grid_auto_flow": null,
      "grid_auto_rows": null,
      "grid_column": null,
      "grid_gap": null,
      "grid_row": null,
      "grid_template_areas": null,
      "grid_template_columns": null,
      "grid_template_rows": null,
      "height": null,
      "justify_content": null,
      "justify_items": null,
      "left": null,
      "margin": null,
      "max_height": null,
      "max_width": null,
      "min_height": null,
      "min_width": null,
      "object_fit": null,
      "object_position": null,
      "order": null,
      "overflow": null,
      "overflow_x": null,
      "overflow_y": null,
      "padding": null,
      "right": null,
      "top": null,
      "visibility": null,
      "width": null
     }
    },
    "5a0eaa8cb0f541018d2f347109ea60bf": {
     "model_module": "@jupyter-widgets/controls",
     "model_module_version": "1.5.0",
     "model_name": "ProgressStyleModel",
     "state": {
      "_model_module": "@jupyter-widgets/controls",
      "_model_module_version": "1.5.0",
      "_model_name": "ProgressStyleModel",
      "_view_count": null,
      "_view_module": "@jupyter-widgets/base",
      "_view_module_version": "1.2.0",
      "_view_name": "StyleView",
      "bar_color": null,
      "description_width": ""
     }
    },
    "5ea21fb2446147bca1e962a3cb4ca1c9": {
     "model_module": "@jupyter-widgets/controls",
     "model_module_version": "1.5.0",
     "model_name": "DescriptionStyleModel",
     "state": {
      "_model_module": "@jupyter-widgets/controls",
      "_model_module_version": "1.5.0",
      "_model_name": "DescriptionStyleModel",
      "_view_count": null,
      "_view_module": "@jupyter-widgets/base",
      "_view_module_version": "1.2.0",
      "_view_name": "StyleView",
      "description_width": ""
     }
    },
    "9953aeb42e6e465b9fa8cff1074ab29d": {
     "model_module": "@jupyter-widgets/base",
     "model_module_version": "1.2.0",
     "model_name": "LayoutModel",
     "state": {
      "_model_module": "@jupyter-widgets/base",
      "_model_module_version": "1.2.0",
      "_model_name": "LayoutModel",
      "_view_count": null,
      "_view_module": "@jupyter-widgets/base",
      "_view_module_version": "1.2.0",
      "_view_name": "LayoutView",
      "align_content": null,
      "align_items": null,
      "align_self": null,
      "border": null,
      "bottom": null,
      "display": null,
      "flex": null,
      "flex_flow": null,
      "grid_area": null,
      "grid_auto_columns": null,
      "grid_auto_flow": null,
      "grid_auto_rows": null,
      "grid_column": null,
      "grid_gap": null,
      "grid_row": null,
      "grid_template_areas": null,
      "grid_template_columns": null,
      "grid_template_rows": null,
      "height": null,
      "justify_content": null,
      "justify_items": null,
      "left": null,
      "margin": null,
      "max_height": null,
      "max_width": null,
      "min_height": null,
      "min_width": null,
      "object_fit": null,
      "object_position": null,
      "order": null,
      "overflow": null,
      "overflow_x": null,
      "overflow_y": null,
      "padding": null,
      "right": null,
      "top": null,
      "visibility": null,
      "width": null
     }
    },
    "c0e77d99dc0d4ca9868662169d67f676": {
     "model_module": "@jupyter-widgets/base",
     "model_module_version": "1.2.0",
     "model_name": "LayoutModel",
     "state": {
      "_model_module": "@jupyter-widgets/base",
      "_model_module_version": "1.2.0",
      "_model_name": "LayoutModel",
      "_view_count": null,
      "_view_module": "@jupyter-widgets/base",
      "_view_module_version": "1.2.0",
      "_view_name": "LayoutView",
      "align_content": null,
      "align_items": null,
      "align_self": null,
      "border": null,
      "bottom": null,
      "display": null,
      "flex": null,
      "flex_flow": null,
      "grid_area": null,
      "grid_auto_columns": null,
      "grid_auto_flow": null,
      "grid_auto_rows": null,
      "grid_column": null,
      "grid_gap": null,
      "grid_row": null,
      "grid_template_areas": null,
      "grid_template_columns": null,
      "grid_template_rows": null,
      "height": null,
      "justify_content": null,
      "justify_items": null,
      "left": null,
      "margin": null,
      "max_height": null,
      "max_width": null,
      "min_height": null,
      "min_width": null,
      "object_fit": null,
      "object_position": null,
      "order": null,
      "overflow": null,
      "overflow_x": null,
      "overflow_y": null,
      "padding": null,
      "right": null,
      "top": null,
      "visibility": null,
      "width": null
     }
    },
    "d5ba51f7141e4b4baec411851d3b7d3c": {
     "model_module": "@jupyter-widgets/controls",
     "model_module_version": "1.5.0",
     "model_name": "DescriptionStyleModel",
     "state": {
      "_model_module": "@jupyter-widgets/controls",
      "_model_module_version": "1.5.0",
      "_model_name": "DescriptionStyleModel",
      "_view_count": null,
      "_view_module": "@jupyter-widgets/base",
      "_view_module_version": "1.2.0",
      "_view_name": "StyleView",
      "description_width": ""
     }
    },
    "f683ac7fb45a4c08b7014be535b9ce68": {
     "model_module": "@jupyter-widgets/controls",
     "model_module_version": "1.5.0",
     "model_name": "HBoxModel",
     "state": {
      "_dom_classes": [],
      "_model_module": "@jupyter-widgets/controls",
      "_model_module_version": "1.5.0",
      "_model_name": "HBoxModel",
      "_view_count": null,
      "_view_module": "@jupyter-widgets/controls",
      "_view_module_version": "1.5.0",
      "_view_name": "HBoxView",
      "box_style": "",
      "children": [
       "IPY_MODEL_571336ed807440fea550d75aea2a0731",
       "IPY_MODEL_398a56e9fbb04f8180d9a02499b729b8",
       "IPY_MODEL_36639dc6b41c4d76a61d08ab0818a9b1"
      ],
      "layout": "IPY_MODEL_c0e77d99dc0d4ca9868662169d67f676"
     }
    }
   }
  }
 },
 "nbformat": 4,
 "nbformat_minor": 0
}
